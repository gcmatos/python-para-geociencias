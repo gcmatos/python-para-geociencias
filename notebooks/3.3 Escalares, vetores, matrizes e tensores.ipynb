{
 "cells": [
  {
   "cell_type": "markdown",
   "metadata": {},
   "source": [
    "[![Open In Colab](https://colab.research.google.com/assets/colab-badge.svg)](https://colab.research.google.com/github/gcmatos/python-para-geociencias/blob/master/notebooks/3.3%20Escalares%2C%20vetores%2C%20matrizes%20e%20tensores.ipynb)\n",
    "\n",
    "Ctrl/Cmd + click para abrir em uma nova aba do navegador web e utilizar o Google Colab para rodar o tutorial."
   ]
  },
  {
   "cell_type": "markdown",
   "metadata": {
    "colab_type": "text",
    "id": "PkHcQWntfJuk"
   },
   "source": [
    "# Escalares, vetores, matrizes e tensores\n",
    "\n",
    "__O que iremos aprender__\n",
    "- Características de escalares, vetores, matrizes e tensores\n",
    "- Operações vetoriais básicas em Numpy e TensorFlow"
   ]
  },
  {
   "cell_type": "markdown",
   "metadata": {
    "colab_type": "text",
    "id": "Y0Z4j1PmaICN"
   },
   "source": [
    "## Configuração de ambiente"
   ]
  },
  {
   "cell_type": "code",
   "execution_count": 0,
   "metadata": {
    "colab": {},
    "colab_type": "code",
    "id": "pbnrCIbQZR_o"
   },
   "outputs": [],
   "source": [
    "import numpy as np\n",
    "import tensorflow as tf"
   ]
  },
  {
   "cell_type": "code",
   "execution_count": 0,
   "metadata": {
    "colab": {},
    "colab_type": "code",
    "id": "pfD3aP4UEGVa"
   },
   "outputs": [],
   "source": [
    "# Mdo de execução Eager\n",
    "tf.enable_eager_execution()"
   ]
  },
  {
   "cell_type": "code",
   "execution_count": 0,
   "metadata": {
    "colab": {},
    "colab_type": "code",
    "id": "cI_6N9WsnTpx"
   },
   "outputs": [],
   "source": [
    "# Sessão interativa\n",
    "tf.InteractiveSession()"
   ]
  },
  {
   "cell_type": "markdown",
   "metadata": {
    "colab_type": "text",
    "id": "it6fmTvaGVY2"
   },
   "source": [
    "## Introdução\n",
    "\n",
    "Em álgebra linear computacional, temos os seguintes objetos:\n",
    "\n",
    "- Escalares são valores únicos numéricos\n",
    "\n",
    "- Vetores são arranjos 1D\n",
    "\n",
    "- Matrizes são arranjos 2D\n",
    "\n",
    "- Tensores são arranjos multidimensionais \n",
    "\n",
    "Estes elementos matemáticos são representados em Python como objetos formados por arranjos numéricos dos tipos:\n",
    "- **`numpy.array`** \n",
    "- ** `tensorflow.Tensor`**"
   ]
  },
  {
   "cell_type": "markdown",
   "metadata": {
    "colab_type": "text",
    "id": "lLUbaffUNSC2"
   },
   "source": [
    "## Objetos e arranjos"
   ]
  },
  {
   "cell_type": "markdown",
   "metadata": {
    "colab_type": "text",
    "id": "daTlDOSdHdjI"
   },
   "source": [
    "![scalar-vector-matrix-tensor](https://hadrienj.github.io/assets/images/2.1/scalar-vector-matrix-tensor.png)\n",
    "\n",
    "Objetos metamáticos da álgebra linear."
   ]
  },
  {
   "cell_type": "markdown",
   "metadata": {
    "colab_type": "text",
    "id": "Si7dH8DiU1f3"
   },
   "source": [
    "__Tabela de geometrias e descrição de objetos de ágebra linear__"
   ]
  },
  {
   "cell_type": "markdown",
   "metadata": {
    "colab_type": "text",
    "id": "IUcf5QFemwOO"
   },
   "source": [
    "Objetos | Nomenclatura | Geometria | Descrição\n",
    "--- | ---\n",
    "Escalar | $b$ | $1$ | Valores únicos numéricos\n",
    "Vetor | $x_{n}$ | $ \\begin{bmatrix}x_{1} & x_{2} & \\cdots & x_{n}\\\\ \\end{bmatrix} $ | Arranjos 1D\n",
    "Matriz | $A_{m, n}$ | $ \\begin{bmatrix} \n",
    "                                     A_{1,1} & A_{1,2} & \\cdots & A_{1,n} \\\\ \n",
    "                                     A_{2,1} & A_{2,2} & \\cdots & A_{2,n} \\\\ \n",
    "                                     \\vdots  &  \\vdots  & \\ddots & \\vdots  \\\\ \n",
    "                                     A_{m,1} & A_{m,2} & \\cdots & A_{m,n} \n",
    "                                     \\end{bmatrix} $ | Arranjos 2D"
   ]
  },
  {
   "cell_type": "markdown",
   "metadata": {
    "colab_type": "text",
    "id": "CfzsZcQzlqzt"
   },
   "source": [
    "Tensores são estruturas multimensionais que serão representadas neste tutorial seguindo a nomenclatura abaixo:\n",
    "\n",
    "$A_{(i, j, k)} = \\begin{bmatrix}\n",
    "A_{1, 1, 1} & A_{1, 2, 1} \\\\\n",
    "A_{2, 1, 1} & A_{2, 2, 1}\n",
    "\\end{bmatrix}, \n",
    "\\cdots,\n",
    "\\begin{bmatrix}\n",
    "A_{1, 1, 2} & A_{1, 2, k} \\\\\n",
    "A_{2, 1, 2} & A_{2, 2, k}\n",
    "\\end{bmatrix}$"
   ]
  },
  {
   "cell_type": "markdown",
   "metadata": {
    "colab_type": "text",
    "id": "Zx4RRd5ttplh"
   },
   "source": [
    "## Dimensões"
   ]
  },
  {
   "cell_type": "markdown",
   "metadata": {
    "colab_type": "text",
    "id": "KZIzwCkxT4rf"
   },
   "source": [
    "![](https://www.cc.gatech.edu/~san37/img/dl/tensor.png)"
   ]
  },
  {
   "cell_type": "markdown",
   "metadata": {
    "colab_type": "text",
    "id": "22RsYbSYNeGx"
   },
   "source": [
    "## Coordenadas"
   ]
  },
  {
   "cell_type": "markdown",
   "metadata": {
    "colab_type": "text",
    "id": "47oa_lSqMftp"
   },
   "source": [
    "![](https://i.stack.imgur.com/RWBqx.png)\n",
    "\n",
    "Sistema de coordenadas em 3 dimensões (x, y, z). Esta é a nomenclatura de índices tensoriais utilizada por bibliotecas como Numpy, Scipy e TensorFlow."
   ]
  },
  {
   "cell_type": "markdown",
   "metadata": {
    "colab_type": "text",
    "id": "I5Ee7n_lI7ld"
   },
   "source": [
    "## Numpy"
   ]
  },
  {
   "cell_type": "markdown",
   "metadata": {
    "colab_type": "text",
    "id": "NfylP88oJaXY"
   },
   "source": [
    "### Vetor"
   ]
  },
  {
   "cell_type": "markdown",
   "metadata": {
    "colab_type": "text",
    "id": "cLd1UkVyB2xj"
   },
   "source": [
    "Vetores no Numpy são arranjos 1D de números como este exemplo abaixo: \n",
    "\n",
    "$x_i=\n",
    "    \\begin{bmatrix}\n",
    "    x_{1}&x_{2}&x_{3}&x_{4}\n",
    "    \\end{bmatrix}$\n",
    "\n",
    "`x = array([0, 1, 2, 3])`"
   ]
  },
  {
   "cell_type": "code",
   "execution_count": 0,
   "metadata": {
    "colab": {},
    "colab_type": "code",
    "id": "jGD3o3V2JRHW"
   },
   "outputs": [],
   "source": [
    "# Criar vetor\n",
    "\n",
    "x = np.array([1, 2, 3, 4])\n",
    "# x = np.arange(10)\n",
    "# x = np.random.randn(5)\n",
    "\n",
    "x"
   ]
  },
  {
   "cell_type": "code",
   "execution_count": 0,
   "metadata": {
    "colab": {},
    "colab_type": "code",
    "id": "jYLZ1pD4SPCS"
   },
   "outputs": [],
   "source": [
    "# Forma\n",
    "x.shape"
   ]
  },
  {
   "cell_type": "code",
   "execution_count": 0,
   "metadata": {
    "colab": {},
    "colab_type": "code",
    "id": "C_4gHdN6Sc06"
   },
   "outputs": [],
   "source": [
    "# Comprimento\n",
    "len(x)\n",
    "# x.size"
   ]
  },
  {
   "cell_type": "code",
   "execution_count": 0,
   "metadata": {
    "colab": {},
    "colab_type": "code",
    "id": "LChGhPbPA1pq"
   },
   "outputs": [],
   "source": [
    "# Dimensão\n",
    "x.ndim"
   ]
  },
  {
   "cell_type": "markdown",
   "metadata": {
    "colab_type": "text",
    "id": "mAxhAuRaLOR9"
   },
   "source": [
    "### Matriz"
   ]
  },
  {
   "cell_type": "markdown",
   "metadata": {
    "colab_type": "text",
    "id": "ltb7_tbt6hOD"
   },
   "source": [
    "A matriz abaixo pode ser represesntada como um `numpy.array`\n",
    "\n",
    "$ A_{m, n} = \\begin{bmatrix}\n",
    "                       A_{1,1} & A_{1,2} & A_{1,3} \\\\ \n",
    "                       A_{2,1} & A_{2,2} & A_{2,3} \\\\ \n",
    "                       A_{3,1} & A_{3,2} & A_{3,3} \n",
    "                       \\end{bmatrix} $"
   ]
  },
  {
   "cell_type": "code",
   "execution_count": 0,
   "metadata": {
    "colab": {},
    "colab_type": "code",
    "id": "u3qTX5tsJRBy"
   },
   "outputs": [],
   "source": [
    "# Matriz acima representada como numpy.array\n",
    "A = np.array([[11, 12, 13],\n",
    "              [21, 22, 23],\n",
    "              [31, 32, 33]])\n",
    "A"
   ]
  },
  {
   "cell_type": "code",
   "execution_count": 0,
   "metadata": {
    "colab": {},
    "colab_type": "code",
    "id": "x95Nj14T9SZd"
   },
   "outputs": [],
   "source": [
    "# Propriedades da matriz\n",
    "A.shape, A.size, A.ndim"
   ]
  },
  {
   "cell_type": "code",
   "execution_count": 0,
   "metadata": {
    "colab": {},
    "colab_type": "code",
    "id": "BHAEVG_oSqWT"
   },
   "outputs": [],
   "source": [
    "# Transformar vetor em matriz\n",
    "x = np.arange(10)\n",
    "\n",
    "x.reshape(2, 5)"
   ]
  },
  {
   "cell_type": "markdown",
   "metadata": {
    "colab_type": "text",
    "id": "CJ8a542ILR9l"
   },
   "source": [
    "### Tensor\n",
    "No Numpy, tensores são representados por estruturas do tipo *N-dimentional array *(`ndarray`)."
   ]
  },
  {
   "cell_type": "markdown",
   "metadata": {
    "colab_type": "text",
    "id": "DFvho3Ne6yGY"
   },
   "source": [
    "O tensor abaixo pode ser representado por um numpy array\n",
    "\n",
    "$ A_{(i, j, k)} = \\begin{bmatrix}\n",
    "                                  A_{1, 1, 1} & A_{1, 2, 1} \\\\\n",
    "                                  A_{2, 1, 1} & A_{2, 2, 1}\n",
    "                                  \\end{bmatrix},\n",
    "                                  \\begin{bmatrix}\n",
    "                                  A_{1, 1, 2} & A_{1, 2, k} \\\\\n",
    "                                  A_{2, 1, 2} & A_{2, 2, k}\n",
    "                                  \\end{bmatrix},\n",
    "                                  \\begin{bmatrix}\n",
    "                                  A_{1, 1, 3} & A_{1, 2, 3} \\\\\n",
    "                                  A_{2, 1, 3} & A_{2, 2, 3}\n",
    "                                  \\end{bmatrix}$"
   ]
  },
  {
   "cell_type": "code",
   "execution_count": 0,
   "metadata": {
    "colab": {},
    "colab_type": "code",
    "id": "QPoGi3X_JQ_R"
   },
   "outputs": [],
   "source": [
    "# Tensor acima como numpy array\n",
    "T = np.array([[[111, 121], \n",
    "               [211, 221]], \n",
    "              [[112, 122], \n",
    "               [212, 222]], \n",
    "              [[113, 123], \n",
    "               [213, 223]]])\n",
    "T"
   ]
  },
  {
   "cell_type": "code",
   "execution_count": 0,
   "metadata": {
    "colab": {},
    "colab_type": "code",
    "id": "uIs0iAMp2I3V"
   },
   "outputs": [],
   "source": [
    "# Propriedades do tensor\n",
    "T.shape, T.size, T.ndim"
   ]
  },
  {
   "cell_type": "code",
   "execution_count": 0,
   "metadata": {
    "colab": {},
    "colab_type": "code",
    "id": "C-e_Ie4x2-xF"
   },
   "outputs": [],
   "source": [
    "# Transformar vetor em tensor\n",
    "v = np.arange(64)\n",
    "\n",
    "v.shape = (4, 4, 4)\n",
    "# T = v.reshape(4, 8, 2)\n",
    "\n",
    "v"
   ]
  },
  {
   "cell_type": "code",
   "execution_count": 0,
   "metadata": {
    "colab": {},
    "colab_type": "code",
    "id": "AS2QnfNL3Ul2"
   },
   "outputs": [],
   "source": [
    "# Criar tensores de zeros\n",
    "T = np.zeros((3, 2, 2))\n",
    "T.ndim"
   ]
  },
  {
   "cell_type": "markdown",
   "metadata": {
    "colab_type": "text",
    "id": "Ul2Pcp-2Jw4Q"
   },
   "source": [
    "### Operações com vetores, matrizes e tensores"
   ]
  },
  {
   "cell_type": "markdown",
   "metadata": {
    "colab_type": "text",
    "id": "3hhEiPKPHNMy"
   },
   "source": [
    "#### Transposição\n",
    "$A_{m, n}^{\\text{T}} = A_{n, m}$ "
   ]
  },
  {
   "cell_type": "code",
   "execution_count": 0,
   "metadata": {
    "colab": {},
    "colab_type": "code",
    "id": "NHXk6SuIJ2HD"
   },
   "outputs": [],
   "source": [
    "A = np.array([[1, 2], [3, 4], [5, 6]])\n",
    "A"
   ]
  },
  {
   "cell_type": "code",
   "execution_count": 0,
   "metadata": {
    "colab": {},
    "colab_type": "code",
    "id": "0IBk_o7NJ2FB"
   },
   "outputs": [],
   "source": [
    "A_t = A.T\n",
    "A_t"
   ]
  },
  {
   "cell_type": "code",
   "execution_count": 0,
   "metadata": {
    "colab": {},
    "colab_type": "code",
    "id": "bTfG3ai-J2C5"
   },
   "outputs": [],
   "source": [
    "A.shape, A_t.shape"
   ]
  },
  {
   "cell_type": "markdown",
   "metadata": {
    "colab_type": "text",
    "id": "UKFuHSizkppZ"
   },
   "source": [
    "#### Rearranjo"
   ]
  },
  {
   "cell_type": "markdown",
   "metadata": {
    "colab_type": "text",
    "id": "vAVsSvhIc4k4"
   },
   "source": [
    "![](http://backtobazics.com/wp-content/uploads/2018/08/numpy-reshape-examples.jpg)"
   ]
  },
  {
   "cell_type": "code",
   "execution_count": 0,
   "metadata": {
    "colab": {},
    "colab_type": "code",
    "id": "kQWYiiGekswM"
   },
   "outputs": [],
   "source": [
    "a = np.zeros((2, 2))\n",
    "b = np.ones((2, 2))\n",
    "b"
   ]
  },
  {
   "cell_type": "code",
   "execution_count": 0,
   "metadata": {
    "colab": {},
    "colab_type": "code",
    "id": "o6EgP-NnlBqf"
   },
   "outputs": [],
   "source": [
    "np.sum(b, axis=1)"
   ]
  },
  {
   "cell_type": "code",
   "execution_count": 0,
   "metadata": {
    "colab": {},
    "colab_type": "code",
    "id": "EtUtWJOWlRsr"
   },
   "outputs": [],
   "source": [
    "np.reshape(a, (1, 4))\n",
    "# a.shape = (1, 4)\n",
    "a"
   ]
  },
  {
   "cell_type": "markdown",
   "metadata": {
    "colab_type": "text",
    "id": "_igwbaQcHwWp"
   },
   "source": [
    "#### Adição de matrizes e operações com escalares\n",
    "$A_{m, n} + B_{m, n} = C_{m, n}$\n",
    "\n",
    "$D = E + a$\n",
    "\n",
    "$D = E \\times a$"
   ]
  },
  {
   "cell_type": "code",
   "execution_count": 0,
   "metadata": {
    "colab": {},
    "colab_type": "code",
    "id": "-zwZw9JRHy3J"
   },
   "outputs": [],
   "source": [
    "A = np.array([[1, 2], [3, 4], [5, 6]])\n",
    "A"
   ]
  },
  {
   "cell_type": "code",
   "execution_count": 0,
   "metadata": {
    "colab": {},
    "colab_type": "code",
    "id": "qIfkr58IHy0M"
   },
   "outputs": [],
   "source": [
    "B = np.array([[2, 5], [7, 4], [4, 3]])\n",
    "B"
   ]
  },
  {
   "cell_type": "code",
   "execution_count": 0,
   "metadata": {
    "colab": {},
    "colab_type": "code",
    "id": "uirZbiqyizKs"
   },
   "outputs": [],
   "source": [
    "# Soma matriz e escalar\n",
    "A + 1"
   ]
  },
  {
   "cell_type": "code",
   "execution_count": 0,
   "metadata": {
    "colab": {},
    "colab_type": "code",
    "id": "-IHi653Nsgia"
   },
   "outputs": [],
   "source": [
    "A * 5"
   ]
  },
  {
   "cell_type": "code",
   "execution_count": 0,
   "metadata": {
    "colab": {},
    "colab_type": "code",
    "id": "FRBG3p-uLYuU"
   },
   "outputs": [],
   "source": [
    "# Soma entre duas matrizes de mesmo formato\n",
    "C = A + B\n",
    "C"
   ]
  },
  {
   "cell_type": "markdown",
   "metadata": {
    "colab_type": "text",
    "id": "Fql65tYDIE71"
   },
   "source": [
    "#### Broadcasting\n",
    "\n",
    "Broadcasting é o método Numpy que permite operações entre arranjos com geometrias incompatíveis.\n"
   ]
  },
  {
   "cell_type": "markdown",
   "metadata": {
    "colab_type": "text",
    "id": "oYfUAgae4tqY"
   },
   "source": [
    "![](http://www.astroml.org/_images/fig_broadcast_visual_1.png)"
   ]
  },
  {
   "cell_type": "markdown",
   "metadata": {
    "colab_type": "text",
    "id": "yS1aBqkwQwCU"
   },
   "source": [
    "#### Multiplicação de matrizes e vetores\n",
    "\n",
    "Dadas duas matrizes $ A $ de geometria $ m \\times n $ e $ B $ de geometria $ n \\times p $, o produto $ C $ terá geometria $ m \\times p $. \n",
    "\n",
    "O produto entre matrizes segue a seguinte convensão:\n",
    "\n",
    "$ C = AB $\n",
    "\n",
    "$ C_{i,j} = \\sum_{k} A_{i, k} B_{k, j} $\n",
    "\n",
    "O produto resultado da multiplicação entre cada um dos elementos das matrizes é chamado produto Hadamard e é denominado pela nomenclatura:\n",
    "\n",
    "$ A \\bigodot B $"
   ]
  },
  {
   "cell_type": "markdown",
   "metadata": {
    "colab_type": "text",
    "id": "ZTg_ez_JCwm9"
   },
   "source": [
    "![](https://hadrienj.github.io/assets/images/2.2/dot-product.png)\n",
    "\n",
    " $ A \\times B = C $ \n",
    " \n",
    "Multiplicação de matrizes (*dot product*)"
   ]
  },
  {
   "cell_type": "code",
   "execution_count": 0,
   "metadata": {
    "colab": {},
    "colab_type": "code",
    "id": "c-Ox3ue4Q2hF"
   },
   "outputs": [],
   "source": [
    "A = np.arange(9).reshape((3, 3))\n",
    "A, A.shape"
   ]
  },
  {
   "cell_type": "code",
   "execution_count": 0,
   "metadata": {
    "colab": {},
    "colab_type": "code",
    "id": "zHD1XMB7zaMs"
   },
   "outputs": [],
   "source": [
    "b = np.arange(3)\n",
    "b, b.shape"
   ]
  },
  {
   "cell_type": "code",
   "execution_count": 0,
   "metadata": {
    "colab": {},
    "colab_type": "code",
    "id": "QxR8TVAnQ2L7"
   },
   "outputs": [],
   "source": [
    "# Broadcasting\n",
    "A * b"
   ]
  },
  {
   "cell_type": "code",
   "execution_count": 0,
   "metadata": {
    "colab": {},
    "colab_type": "code",
    "id": "TouEUq2nzFDc"
   },
   "outputs": [],
   "source": [
    "# Element-wise multiplication\n",
    "np.multiply(A, b)"
   ]
  },
  {
   "cell_type": "code",
   "execution_count": 0,
   "metadata": {
    "colab": {},
    "colab_type": "code",
    "id": "CsfcUnZqzvka"
   },
   "outputs": [],
   "source": [
    "# Multiplicação matricial\n",
    "np.matmul(A, b)"
   ]
  },
  {
   "cell_type": "code",
   "execution_count": 0,
   "metadata": {
    "colab": {},
    "colab_type": "code",
    "id": "ZfPssdajYw9D"
   },
   "outputs": [],
   "source": [
    "# Dot product\n",
    "np.dot(A, b)\n",
    "# np.dot(b, A)\n",
    "# A.dot(b)"
   ]
  },
  {
   "cell_type": "markdown",
   "metadata": {
    "colab_type": "text",
    "id": "-mWiLnW7vZOx"
   },
   "source": [
    "#### Produtos tensoriais\n",
    "\n",
    "$ C = A \\bigotimes B $ *tensor product*\n",
    "\n",
    "$ C = A \\cdot B $ *tensor dot product* \n",
    "\n",
    "$ C = A : B $ * (default) tensor double contraction* "
   ]
  },
  {
   "cell_type": "markdown",
   "metadata": {
    "colab_type": "text",
    "id": "OXl1QWYrUf-Z"
   },
   "source": [
    "__Exemplos convencionais:__"
   ]
  },
  {
   "cell_type": "code",
   "execution_count": 0,
   "metadata": {
    "colab": {},
    "colab_type": "code",
    "id": "PCjoIaptvcSY"
   },
   "outputs": [],
   "source": [
    "A = np.array([1, 2])\n",
    "B = np.array([3, 4])\n",
    "\n",
    "C = np.tensordot(A, B, axes=0)\n",
    "# C = np.tensordot(A, B, axes=1)\n",
    "# C = np.tensordot(A, B, axes=2)\n",
    "\n",
    "C"
   ]
  },
  {
   "cell_type": "code",
   "execution_count": 0,
   "metadata": {
    "colab": {},
    "colab_type": "code",
    "id": "5VBS2wZdVnPc"
   },
   "outputs": [],
   "source": [
    "A = np.zeros((3, 2, 2))\n",
    "B = np.ones((2, 2))\n",
    "\n",
    "C = np.tensordot(A, B, axes=0)\n",
    "# C = np.tensordot(A, B, axes=1)\n",
    "# C = np.tensordot(A, B, axes=2)\n",
    "\n",
    "C, C.shape"
   ]
  },
  {
   "cell_type": "markdown",
   "metadata": {
    "colab_type": "text",
    "id": "xsWvcFIoUJcR"
   },
   "source": [
    "__Exemplo não convencional:__"
   ]
  },
  {
   "cell_type": "code",
   "execution_count": 0,
   "metadata": {
    "colab": {},
    "colab_type": "code",
    "id": "H2Ny1Z6_R6cF"
   },
   "outputs": [],
   "source": [
    "A = np.array(range(1, 9))\n",
    "A.shape = (2, 2, 2)\n",
    "A"
   ]
  },
  {
   "cell_type": "code",
   "execution_count": 0,
   "metadata": {
    "colab": {},
    "colab_type": "code",
    "id": "CWwGX9_TSQRn"
   },
   "outputs": [],
   "source": [
    "B = np.array(('a', 'b', 'c', 'd'), dtype=object)\n",
    "B.shape = (2, 2)\n",
    "B"
   ]
  },
  {
   "cell_type": "code",
   "execution_count": 0,
   "metadata": {
    "colab": {},
    "colab_type": "code",
    "id": "MUtGgW4XSiVd"
   },
   "outputs": [],
   "source": [
    "# Double-contraction\n",
    "np.tensordot(A, B)"
   ]
  },
  {
   "cell_type": "code",
   "execution_count": 0,
   "metadata": {
    "colab": {},
    "colab_type": "code",
    "id": "RSfJ0edrTT-U"
   },
   "outputs": [],
   "source": [
    "# Tensor dot product\n",
    "np.tensordot(A, B, axes=1)"
   ]
  },
  {
   "cell_type": "code",
   "execution_count": 0,
   "metadata": {
    "colab": {},
    "colab_type": "code",
    "id": "StMlKT1MTook"
   },
   "outputs": [],
   "source": [
    "# Tensor product\n",
    "np.tensordot(A, B, axes=0)"
   ]
  },
  {
   "cell_type": "markdown",
   "metadata": {
    "colab_type": "text",
    "id": "ZluzL8nEeW5a"
   },
   "source": [
    "#### Normal"
   ]
  },
  {
   "cell_type": "code",
   "execution_count": 0,
   "metadata": {
    "colab": {},
    "colab_type": "code",
    "id": "05jxSsCvhh29"
   },
   "outputs": [],
   "source": [
    "# A = np.ones((3, 3))\n",
    "A = np.array(range(1, 10))\n",
    "A.shape = (3, 3)\n",
    "A"
   ]
  },
  {
   "cell_type": "code",
   "execution_count": 0,
   "metadata": {
    "colab": {},
    "colab_type": "code",
    "id": "YHGF3E5_8Nm5"
   },
   "outputs": [],
   "source": [
    "# Diagonal\n",
    "A.diagonal()"
   ]
  },
  {
   "cell_type": "code",
   "execution_count": 0,
   "metadata": {
    "colab": {},
    "colab_type": "code",
    "id": "2urx0rtphh6C"
   },
   "outputs": [],
   "source": [
    "# Trace operator\n",
    "# A.trace()\n",
    "np.trace(A)"
   ]
  },
  {
   "cell_type": "code",
   "execution_count": 0,
   "metadata": {
    "colab": {},
    "colab_type": "code",
    "id": "9DHYL00fkJL2"
   },
   "outputs": [],
   "source": [
    "# Magnitude\n",
    "np.linalg.norm(A)"
   ]
  },
  {
   "cell_type": "markdown",
   "metadata": {
    "colab_type": "text",
    "id": "EohxOYlctZf2"
   },
   "source": [
    "#### Determinante"
   ]
  },
  {
   "cell_type": "code",
   "execution_count": 0,
   "metadata": {
    "colab": {},
    "colab_type": "code",
    "id": "i-QCtkQsH5xn"
   },
   "outputs": [],
   "source": [
    "# A = np.array([[0, 1], [1, 0]])\n",
    "A = np.identity(3)\n",
    "A"
   ]
  },
  {
   "cell_type": "code",
   "execution_count": 0,
   "metadata": {
    "colab": {},
    "colab_type": "code",
    "id": "ojaxVedtqkyt"
   },
   "outputs": [],
   "source": [
    "# Determinante\n",
    "np.linalg.det(A)"
   ]
  },
  {
   "cell_type": "code",
   "execution_count": 0,
   "metadata": {
    "colab": {},
    "colab_type": "code",
    "id": "aoLZ_hQoqkvN"
   },
   "outputs": [],
   "source": [
    "B = [[2, 0], \n",
    "     [0, 2]]\n",
    "\n",
    "np.linalg.det(B)"
   ]
  },
  {
   "cell_type": "code",
   "execution_count": 0,
   "metadata": {
    "colab": {},
    "colab_type": "code",
    "id": "UUNu82Bzs_Ys"
   },
   "outputs": [],
   "source": [
    "C = [[-1, 0], [0, 1]]\n",
    "\n",
    "np.linalg.det(C)"
   ]
  },
  {
   "cell_type": "markdown",
   "metadata": {
    "colab_type": "text",
    "id": "fzH9Gp2hJSS2"
   },
   "source": [
    "## TensorFlow"
   ]
  },
  {
   "cell_type": "markdown",
   "metadata": {
    "colab_type": "text",
    "id": "Nl6y-gKteXda"
   },
   "source": [
    "### Graph"
   ]
  },
  {
   "cell_type": "code",
   "execution_count": 0,
   "metadata": {
    "colab": {},
    "colab_type": "code",
    "id": "nKzle6hgeig5"
   },
   "outputs": [],
   "source": [
    "a = tf.constant(3.0, dtype=tf.float32)\n",
    "b = tf.constant(4.0)\n",
    "\n",
    "total = a + b\n",
    "\n",
    "print(a)\n",
    "print(b)\n",
    "print(total)"
   ]
  },
  {
   "cell_type": "markdown",
   "metadata": {
    "colab_type": "text",
    "id": "9IB_MPhbf3U5"
   },
   "source": [
    "### Sessão"
   ]
  },
  {
   "cell_type": "code",
   "execution_count": 0,
   "metadata": {
    "colab": {},
    "colab_type": "code",
    "id": "ISsSiYcmf5Hw"
   },
   "outputs": [],
   "source": [
    "sess = tf.Session()\n",
    "print(sess.run(total))"
   ]
  },
  {
   "cell_type": "code",
   "execution_count": 0,
   "metadata": {
    "colab": {},
    "colab_type": "code",
    "id": "63lje10bgFfO"
   },
   "outputs": [],
   "source": [
    "print(sess.run({'ab':(a, b), 'total':total}))"
   ]
  },
  {
   "cell_type": "code",
   "execution_count": 0,
   "metadata": {
    "colab": {},
    "colab_type": "code",
    "id": "PBHZ3-sEgSvg"
   },
   "outputs": [],
   "source": [
    "vec = tf.random_uniform(shape=(3,))\n",
    "out1 = vec + 1\n",
    "out2 = vec + 2\n",
    "\n",
    "print(sess.run(vec))\n",
    "print(sess.run(vec))\n",
    "print(sess.run((out1, out2)))"
   ]
  },
  {
   "cell_type": "markdown",
   "metadata": {
    "colab_type": "text",
    "id": "YSIk7BOtbYKS"
   },
   "source": [
    "### Manipulação de tensores"
   ]
  },
  {
   "cell_type": "markdown",
   "metadata": {
    "colab_type": "text",
    "id": "ExSAwKU1jigV"
   },
   "source": [
    "#### Adição"
   ]
  },
  {
   "cell_type": "code",
   "execution_count": 0,
   "metadata": {
    "colab": {},
    "colab_type": "code",
    "id": "xjpuuh2RbciC"
   },
   "outputs": [],
   "source": [
    "with tf.Graph().as_default():\n",
    "\n",
    "    primes = tf.constant([2, 3, 5, 7, 11, 13], dtype=tf.int32)\n",
    "\n",
    "    ones = tf.ones([6], dtype=tf.int32)\n",
    "\n",
    "    just_beyond_primes = tf.add(primes, ones)\n",
    "\n",
    "    with tf.Session() as sess:\n",
    "        print(just_beyond_primes.eval())"
   ]
  },
  {
   "cell_type": "markdown",
   "metadata": {
    "colab_type": "text",
    "id": "deZbsvEkkOxv"
   },
   "source": [
    "#### Formas"
   ]
  },
  {
   "cell_type": "code",
   "execution_count": 0,
   "metadata": {
    "colab": {},
    "colab_type": "code",
    "id": "TRmc2xGIkQb6"
   },
   "outputs": [],
   "source": [
    "with tf.Graph().as_default():\n",
    "\n",
    "    scalar = tf.zeros([])\n",
    "\n",
    "    vector = tf.zeros([3])\n",
    "\n",
    "    matrix = tf.zeros([2, 3])\n",
    "    \n",
    "    with tf.Session() as sess:\n",
    "        print('escalar tem forma', scalar.get_shape(), 'e valor:\\n', scalar.eval())\n",
    "        print('vector tem forma', vector.get_shape(), 'e valores:\\n', vector.eval())\n",
    "        print('matriz tem forma', matrix.get_shape(), 'e valores:\\n', matrix.eval())\n"
   ]
  },
  {
   "cell_type": "markdown",
   "metadata": {
    "colab_type": "text",
    "id": "rEmwTmJhk1II"
   },
   "source": [
    "#### Broadcasting"
   ]
  },
  {
   "cell_type": "code",
   "execution_count": 0,
   "metadata": {
    "colab": {},
    "colab_type": "code",
    "id": "evuxl1AFk3qX"
   },
   "outputs": [],
   "source": [
    "with tf.Graph().as_default():\n",
    "    \n",
    "    primes = tf.constant([2, 3, 5, 7, 11, 13], dtype=tf.int32)\n",
    "\n",
    "    ones = tf.constant(1, dtype=tf.int32)\n",
    "\n",
    "    just_beyond_primes = tf.add(primes, ones)\n",
    "\n",
    "    with tf.Session() as sess:\n",
    "        print(just_beyond_primes.eval())"
   ]
  },
  {
   "cell_type": "markdown",
   "metadata": {
    "colab_type": "text",
    "id": "5ebEs3WAlbzV"
   },
   "source": [
    "#### Multiplicação"
   ]
  },
  {
   "cell_type": "code",
   "execution_count": 0,
   "metadata": {
    "colab": {},
    "colab_type": "code",
    "id": "TGbO_p2CmBhf"
   },
   "outputs": [],
   "source": [
    "with tf.Graph().as_default():\n",
    "    x = tf.constant([[5, 2, 4, 3], [5, 1, 6, -2], [-1, 3, -1, -2]],\n",
    "                  dtype=tf.int32)\n",
    "\n",
    "    y = tf.constant([[2, 2], [3, 5], [4, 5], [1, 6]], dtype=tf.int32)\n",
    "\n",
    "    matrix_multiply_result = tf.matmul(x, y)\n",
    "\n",
    "    with tf.Session() as sess:\n",
    "        print(matrix_multiply_result.eval())"
   ]
  },
  {
   "cell_type": "markdown",
   "metadata": {
    "colab_type": "text",
    "id": "J9tnX-VtmMem"
   },
   "source": [
    "#### Rearranjo"
   ]
  },
  {
   "cell_type": "code",
   "execution_count": 0,
   "metadata": {
    "colab": {},
    "colab_type": "code",
    "id": "vBuyAg6gmQxp"
   },
   "outputs": [],
   "source": [
    "with tf.Graph().as_default():\n",
    "    matrix = tf.constant([[1,2], [3,4], [5,6], [7,8],\n",
    "                        [9,10], [11,12], [13, 14], [15,16]], dtype=tf.int32)\n",
    "\n",
    "    reshaped_2x8_matrix = tf.reshape(matrix, [2,8])\n",
    "\n",
    "    reshaped_4x4_matrix = tf.reshape(matrix, [4,4])\n",
    "    \n",
    "    reshaped_2x2x4_tensor = tf.reshape(matrix, [2,2,4])\n",
    "\n",
    "    with tf.Session() as sess:\n",
    "        print(\"Original matrix (8x2):\")\n",
    "        print(matrix.eval())\n",
    "        print(\"Reshaped matrix (2x8):\")\n",
    "        print(reshaped_2x8_matrix.eval())\n",
    "        print(\"Reshaped matrix (4x4):\")\n",
    "        print(reshaped_4x4_matrix.eval())\n",
    "        print(\"Reshaped 3-D tensor (2x2x4):\")\n",
    "        print(reshaped_2x2x4_tensor.eval())"
   ]
  },
  {
   "cell_type": "markdown",
   "metadata": {
    "colab_type": "text",
    "id": "gxosfHG7J26G"
   },
   "source": [
    "### Variáveis"
   ]
  },
  {
   "cell_type": "code",
   "execution_count": 0,
   "metadata": {
    "colab": {},
    "colab_type": "code",
    "id": "Er4TcSLTneyA"
   },
   "outputs": [],
   "source": [
    "g = tf.Graph()\n",
    "\n",
    "with g.as_default():\n",
    "    v = tf.Variable([3])\n",
    "    w = tf.Variable(tf.random_normal([1], mean=1.0, stddev=0.35))"
   ]
  },
  {
   "cell_type": "code",
   "execution_count": 0,
   "metadata": {
    "colab": {},
    "colab_type": "code",
    "id": "DJzM9qwln1qN"
   },
   "outputs": [],
   "source": [
    "with g.as_default():\n",
    "    with tf.Session() as sess:\n",
    "        initialization = tf.global_variables_initializer()\n",
    "        sess.run(initialization)\n",
    "        print(v.eval())\n",
    "        print(w.eval())"
   ]
  },
  {
   "cell_type": "code",
   "execution_count": 0,
   "metadata": {
    "colab": {},
    "colab_type": "code",
    "id": "F2sqnTLKoHEF"
   },
   "outputs": [],
   "source": [
    "with g.as_default():\n",
    "    with tf.Session() as sess:\n",
    "        sess.run(tf.global_variables_initializer())\n",
    "        print(w.eval())\n",
    "        print(w.eval())\n",
    "        print(w.eval())"
   ]
  },
  {
   "cell_type": "code",
   "execution_count": 0,
   "metadata": {
    "colab": {},
    "colab_type": "code",
    "id": "-aHZ1RUsoTIp"
   },
   "outputs": [],
   "source": [
    "with g.as_default():\n",
    "    with tf.Session() as sess:\n",
    "        \n",
    "        sess.run(tf.global_variables_initializer())\n",
    "        print(v.eval())\n",
    "\n",
    "        assignment = tf.assign(v, [7])\n",
    "        print(v.eval())\n",
    "\n",
    "        sess.run(assignment)\n",
    "        print(v.eval())"
   ]
  },
  {
   "cell_type": "code",
   "execution_count": 0,
   "metadata": {
    "colab": {},
    "colab_type": "code",
    "id": "rIpyYmu-4zGQ"
   },
   "outputs": [],
   "source": [
    "W1 = tf.ones((2, 2))\n",
    "\n",
    "W2 = tf.Variable(tf.zeros((2, 2)), name='weights')\n",
    "\n",
    "R = tf.Variable(tf.random_normal((2, 2)), name='random_weights')"
   ]
  },
  {
   "cell_type": "code",
   "execution_count": 0,
   "metadata": {
    "colab": {},
    "colab_type": "code",
    "id": "xvaiJXsouMwZ"
   },
   "outputs": [],
   "source": [
    "with tf.Session() as sess:\n",
    "    sess.run(tf.global_variables_initializer())\n",
    "    print(sess.run(W1))\n",
    "    print(sess.run(W2))\n",
    "    print(sess.run(R))"
   ]
  },
  {
   "cell_type": "markdown",
   "metadata": {
    "colab_type": "text",
    "id": "a2QNUeBpqGLG"
   },
   "source": [
    "### Sessão interativa"
   ]
  },
  {
   "cell_type": "code",
   "execution_count": 0,
   "metadata": {
    "colab": {},
    "colab_type": "code",
    "id": "7I2IFjvejYe9"
   },
   "outputs": [],
   "source": [
    "# Sessão interativa\n",
    "tf.InteractiveSession()"
   ]
  },
  {
   "cell_type": "code",
   "execution_count": 0,
   "metadata": {
    "colab": {},
    "colab_type": "code",
    "id": "FGehSq8fqc1Y"
   },
   "outputs": [],
   "source": [
    "# Soma entre dois escalares\n",
    "a = tf.constant(5.0)\n",
    "b = tf.constant(6.0)\n",
    "c = a + b\n",
    "c.eval()"
   ]
  },
  {
   "cell_type": "code",
   "execution_count": 0,
   "metadata": {
    "colab": {},
    "colab_type": "code",
    "id": "mi5sA6MhmLz_"
   },
   "outputs": [],
   "source": [
    "a = tf.zeros((2, 2))\n",
    "b = tf.ones((2, 2))\n",
    "# b\n",
    "b.eval()"
   ]
  },
  {
   "cell_type": "code",
   "execution_count": 0,
   "metadata": {
    "colab": {},
    "colab_type": "code",
    "id": "Ch1O9mO1oMJQ"
   },
   "outputs": [],
   "source": [
    "# Forma\n",
    "b.get_shape()"
   ]
  },
  {
   "cell_type": "code",
   "execution_count": 0,
   "metadata": {
    "colab": {},
    "colab_type": "code",
    "id": "IaL0db7gmLxE"
   },
   "outputs": [],
   "source": [
    "# Redução\n",
    "tf.reduce_sum(b, reduction_indices=1).eval()"
   ]
  },
  {
   "cell_type": "code",
   "execution_count": 0,
   "metadata": {
    "colab": {},
    "colab_type": "code",
    "id": "vYpihKaPr0Kc"
   },
   "outputs": [],
   "source": [
    "# Multiplicação entre tensores\n",
    "tf.matmul(a, b).eval()"
   ]
  },
  {
   "cell_type": "code",
   "execution_count": 0,
   "metadata": {
    "colab": {},
    "colab_type": "code",
    "id": "IlMUVn9boRuF"
   },
   "outputs": [],
   "source": [
    "# Rearranjo\n",
    "tf.reshape(a, (1, 4)).eval()"
   ]
  },
  {
   "cell_type": "markdown",
   "metadata": {
    "colab_type": "text",
    "id": "xOqNdcQCVoqL"
   },
   "source": [
    "__Referências__\n",
    "\n",
    "- [Numpy and TensorFlow - Stanford Lessons](https://cs224d.stanford.edu/lectures/CS224d-Lecture7.pdf)\n",
    "\n",
    "- [Introduction to Tensors for Machine Learning - Blog](https://machinelearningmastery.com/introduction-to-tensors-for-machine-learning/)\n",
    "\n",
    "- [Linear Algebra - Deep Learning Book](http://www.deeplearningbook.org/contents/linear_algebra.html)\n",
    "\n",
    "- [Linear Algebra - KDnuggets Blog](https://www.kdnuggets.com/2018/05/wtf-tensor.html)\n",
    "\n",
    "- [LaTeX cheat sheet](https://wch.github.io/latexsheet/)\n",
    "\n",
    "- [LaTeX matrix generator](https://jasonwarta.com/latex.html)\n",
    "\n",
    "- [LaTeX Wiki](https://en.wikibooks.org/wiki/LaTeX/Mathematics)\n",
    "\n",
    "- [Numpy Array Reshape Examples](http://backtobazics.com/python/python-reshaping-numpy-array-examples/)\n",
    "\n",
    "- [TensorFlow low-level API](https://www.tensorflow.org/guide/low_level_intro)"
   ]
  }
 ],
 "metadata": {
  "colab": {
   "name": "3.3 Escalares, vetores, matrizes e tensores (em construcao).ipynb",
   "provenance": [],
   "toc_visible": true,
   "version": "0.3.2"
  },
  "kernelspec": {
   "display_name": "tensorflow",
   "language": "python",
   "name": "tensorflow"
  },
  "language_info": {
   "codemirror_mode": {
    "name": "ipython",
    "version": 3
   },
   "file_extension": ".py",
   "mimetype": "text/x-python",
   "name": "python",
   "nbconvert_exporter": "python",
   "pygments_lexer": "ipython3",
   "version": "3.6.7"
  },
  "toc": {
   "base_numbering": "3.3",
   "nav_menu": {},
   "number_sections": true,
   "sideBar": true,
   "skip_h1_title": false,
   "title_cell": "Table of Contents",
   "title_sidebar": "Contents",
   "toc_cell": false,
   "toc_position": {
    "height": "calc(100% - 180px)",
    "left": "10px",
    "top": "150px",
    "width": "288px"
   },
   "toc_section_display": true,
   "toc_window_display": true
  },
  "varInspector": {
   "cols": {
    "lenName": 16,
    "lenType": 16,
    "lenVar": 40
   },
   "kernels_config": {
    "python": {
     "delete_cmd_postfix": "",
     "delete_cmd_prefix": "del ",
     "library": "var_list.py",
     "varRefreshCmd": "print(var_dic_list())"
    },
    "r": {
     "delete_cmd_postfix": ") ",
     "delete_cmd_prefix": "rm(",
     "library": "var_list.r",
     "varRefreshCmd": "cat(var_dic_list()) "
    }
   },
   "types_to_exclude": [
    "module",
    "function",
    "builtin_function_or_method",
    "instance",
    "_Feature"
   ],
   "window_display": false
  }
 },
 "nbformat": 4,
 "nbformat_minor": 1
}
