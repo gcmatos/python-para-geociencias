{
 "cells": [
  {
   "cell_type": "markdown",
   "metadata": {},
   "source": [
    "[![Open In Colab](https://colab.research.google.com/assets/colab-badge.svg)](https://colab.research.google.com/github/gcmatos/python-para-geociencias/blob/master/notebooks/1.2%20Primeiros%20passos%20em%20Python.ipynb)\n",
    "\n",
    "Ctrl/Cmd + click para abrir em uma nova aba do navegador web e utilizar o Google Colab para rodar o tutorial."
   ]
  },
  {
   "cell_type": "markdown",
   "metadata": {
    "colab_type": "text",
    "id": "Nina3sR__XOE"
   },
   "source": [
    "# Primeiros passos em Python\n",
    "__O que iremos aprender__\n",
    "- Semântica da linguagem (indentação e formatação de códigos Python)\n",
    "- Criação e manipulação de objetos\n",
    "- Operadores e expressões lógicas (`if, elif, else, for, while`)\n",
    "- Namespace e Scope\n",
    "- Funções"
   ]
  },
  {
   "cell_type": "markdown",
   "metadata": {},
   "source": [
    "## Introdução"
   ]
  },
  {
   "cell_type": "markdown",
   "metadata": {
    "colab_type": "text",
    "id": "w0TNRJiH_2Ue"
   },
   "source": [
    "### Estilo da linguagem\n",
    "\n",
    "Abaixo estão dois importantes aspectos da linguagem, publicado no [PEP20](https://www.python.org/dev/peps/pep-0020/), que tem como objetivo principal simplificar tarefas que eram antes consideradas complexas em outras linguagens de programação. O poema _Zen of Python_ trata de exemplificar em palavras os pricípios básicos do estilo da formatação e o _Easter Egg_\n",
    "mostra um exemplo da simplicidade da linguagem para importar um pacote de funções ou de dados para uma sessão de análise de dados ou de desenvolvimento."
   ]
  },
  {
   "cell_type": "code",
   "execution_count": null,
   "metadata": {
    "colab": {},
    "colab_type": "code",
    "id": "CVmUOEaC1Usi"
   },
   "outputs": [],
   "source": [
    "import this"
   ]
  },
  {
   "cell_type": "markdown",
   "metadata": {
    "colab_type": "text",
    "id": "zM5NqYjxAw-9"
   },
   "source": [
    "### Checando versão e `$PYTHONPATH`\n",
    "\n",
    "Para iniciar uma seção de análise, é importante conhecer os seguintes parâmetros:\n",
    "- Diretório de instalação\n",
    "- Versão\n",
    "\n",
    "Os comandos para verificar tais parâmetros serão inseridos no terminal Linux, onde este notebook está rodando, através do símbolo `\"!\"` no início da linha. Comandos como `!which python` serão passados diretamente para o terminal, não ativando nada no Python."
   ]
  },
  {
   "cell_type": "code",
   "execution_count": null,
   "metadata": {
    "colab": {},
    "colab_type": "code",
    "id": "TB9LEgkBAKtV"
   },
   "outputs": [],
   "source": [
    "# $PYTHONPATH\n",
    "!which python"
   ]
  },
  {
   "cell_type": "code",
   "execution_count": null,
   "metadata": {
    "colab": {},
    "colab_type": "code",
    "id": "uxty97VgAkgT"
   },
   "outputs": [],
   "source": [
    "# Versão\n",
    "!python -V"
   ]
  },
  {
   "cell_type": "markdown",
   "metadata": {
    "colab_type": "text",
    "id": "S-sMQ5FXFrI5"
   },
   "source": [
    "### Primeiros comandos em Python\n",
    "Esta linguagem é simples pois é do tipo interpretada, não sendo necessário compilação como em Java e C. Aqui neste notebook, cada célula de código gera um output, permitindo que possamos avaliar o andamento da análise passo à passo. Isso é uma característica das sessões iPython, que são muito comuns no meio científico, pois permite avaliar o andamento da análise e facilita a colaboração e o compartilhamento de conhecimento."
   ]
  },
  {
   "cell_type": "markdown",
   "metadata": {
    "colab_type": "text",
    "id": "x6SJOYJixO8d"
   },
   "source": [
    "__Exemplos:__\n",
    "\n",
    "1) Imprimir a frase Hello, World! utilizando a função `print()`, obter ajuda com a função `help()` e verificar o tipo de objeto com a função `type()`."
   ]
  },
  {
   "cell_type": "code",
   "execution_count": null,
   "metadata": {
    "colab": {},
    "colab_type": "code",
    "id": "g7S5akptABe3"
   },
   "outputs": [],
   "source": [
    "# Imprimir a frase Hello, World!\n",
    "print(\"Hello, World!\")"
   ]
  },
  {
   "cell_type": "code",
   "execution_count": null,
   "metadata": {
    "colab": {},
    "colab_type": "code",
    "id": "RfQGQ7P5OFzd"
   },
   "outputs": [],
   "source": [
    "# Imprimir a frase Hello, World!\n",
    "frase = \"Hello, World!\"\n",
    "print(frase)"
   ]
  },
  {
   "cell_type": "code",
   "execution_count": null,
   "metadata": {
    "colab": {},
    "colab_type": "code",
    "id": "KMdl8s_wFlHW"
   },
   "outputs": [],
   "source": [
    "# Ajuda sobre a função print()\n",
    "# help(print)\n",
    "print?"
   ]
  },
  {
   "cell_type": "markdown",
   "metadata": {
    "colab_type": "text",
    "id": "sVMG9r7WvQBz"
   },
   "source": [
    "2) Importar um determinado item de uma biblioteca Python e imprimir o valor do objeto importado."
   ]
  },
  {
   "cell_type": "code",
   "execution_count": null,
   "metadata": {
    "colab": {},
    "colab_type": "code",
    "id": "VWZi4XTvvDGu"
   },
   "outputs": [],
   "source": [
    "%whos"
   ]
  },
  {
   "cell_type": "code",
   "execution_count": null,
   "metadata": {
    "colab": {},
    "colab_type": "code",
    "id": "yIc5S3qfvJfs"
   },
   "outputs": [],
   "source": [
    "print(pi)"
   ]
  },
  {
   "cell_type": "code",
   "execution_count": null,
   "metadata": {
    "colab": {},
    "colab_type": "code",
    "id": "q0W2bRb8KH5J"
   },
   "outputs": [],
   "source": [
    "# Importa pi do pacote math\n",
    "from math import pi\n",
    "# Imprime pi\n",
    "# print(pi)\n",
    "pi"
   ]
  },
  {
   "cell_type": "markdown",
   "metadata": {
    "colab_type": "text",
    "id": "jfYa9cSyzkl1"
   },
   "source": [
    "3) Cálculo fatorial utilizando fução disponível na biblioteca `math`\n",
    "\n",
    "> $5! = 5 * 4 * 3 * 2 * 1 = 120$"
   ]
  },
  {
   "cell_type": "code",
   "execution_count": null,
   "metadata": {
    "colab": {},
    "colab_type": "code",
    "id": "kfGmvfhnzgwR"
   },
   "outputs": [],
   "source": [
    "# Importar função factorial()\n",
    "from math import factorial\n",
    "from math import pi\n",
    "# Calcular 5!\n",
    "factorial(5)"
   ]
  },
  {
   "cell_type": "code",
   "execution_count": null,
   "metadata": {
    "colab": {},
    "colab_type": "code",
    "id": "b26mvefwzP8R"
   },
   "outputs": [],
   "source": [
    "import math"
   ]
  },
  {
   "cell_type": "code",
   "execution_count": null,
   "metadata": {
    "colab": {},
    "colab_type": "code",
    "id": "IaALoqr0yyFv"
   },
   "outputs": [],
   "source": [
    "math.factorial(3)"
   ]
  },
  {
   "cell_type": "markdown",
   "metadata": {
    "colab_type": "text",
    "id": "TZeGIcSdvdeA"
   },
   "source": [
    "A função abaixo `whos` é um recurso do Colab notebook, que serve para checar as variáveis que estão carregadas na sessão Python."
   ]
  },
  {
   "cell_type": "markdown",
   "metadata": {
    "colab_type": "text",
    "id": "PVqNGVP424kL"
   },
   "source": [
    "## Objetos em Python\n",
    "\n",
    "Estruturas de dados são abstrações matemáticas da forma como os computadores armazenam e organizam a informação. Para acessar e trabalhar com dados em Python é preciso compreender as varáveis como objetos, que pertencem à uma determinada classe e possuem propriedades e métodos específicos. Dados em Python são tratados como objetos, assim como escalares e funções.\n",
    "\n",
    "Em Python é possível declarar objetos sem especificar o tipo (classe). Trata-se de uma linguagem dinâmica. Isso pode ser verificado nos exemplos abaixo, onde apenas digitamos os valores e o sistema reconhece as classes automaticamente \\o/\n",
    "\n",
    "Classes primitivas de objetos:\n",
    "- **int** (números inteiros)\n",
    "- **float** (números reais em computação)\n",
    "- **str** (texto/string)\n",
    "- **bool** (Boolean True/False)\n",
    "\n",
    "Classes compostas (estruturas de dados)\n",
    "- **list** (listas de objetos mutável)\n",
    "- **tuple** (objetos imutáveis)\n",
    "- **dict** (dicionários)\n",
    "- **set** (conjuntos de valores únicos em uma lista)\n",
    "\n",
    "Neste notebook trataremos apenas das classes de dados primitivas e abordaremos as classes compostas no próximo notebook [1.4 Estruturas de dados em Python](https://colab.research.google.com/drive/1GiTFcq_jtfMsCsqa5-6TuDOsYxKDFmNI)"
   ]
  },
  {
   "cell_type": "markdown",
   "metadata": {
    "colab_type": "text",
    "id": "5Kh7ExDNIslS"
   },
   "source": [
    "__Utilizando as funções `type()` e `id()`__"
   ]
  },
  {
   "cell_type": "code",
   "execution_count": null,
   "metadata": {
    "colab": {},
    "colab_type": "code",
    "id": "sQt4rAxmOazr"
   },
   "outputs": [],
   "source": [
    "a = 1\n",
    "b = 1"
   ]
  },
  {
   "cell_type": "code",
   "execution_count": null,
   "metadata": {
    "colab": {},
    "colab_type": "code",
    "id": "Bh4R6S-rSuYK"
   },
   "outputs": [],
   "source": [
    "type(a)"
   ]
  },
  {
   "cell_type": "code",
   "execution_count": null,
   "metadata": {
    "colab": {},
    "colab_type": "code",
    "id": "qK_sa5YvStp6"
   },
   "outputs": [],
   "source": [
    "id(a), id(b)\n",
    "# a is b\n",
    "# a == b"
   ]
  },
  {
   "cell_type": "markdown",
   "metadata": {
    "colab_type": "text",
    "id": "tbp4omytyx3g"
   },
   "source": [
    "### Números\n",
    "Números são objetos imutáveis que podem ser inteiros ou reais contínuos e que aceitam oprações aritméticas como soma, subtração, divisão, etc. Abaixo alguns exemplos de operações com a sintaxe utilizada pelo Python."
   ]
  },
  {
   "cell_type": "markdown",
   "metadata": {
    "colab_type": "text",
    "id": "zZARjvrMZ-MN"
   },
   "source": [
    "__Inteiros (`int`)__\n",
    "\n",
    "Os números inteiros podem ser positivos, negativos ou zero.\n",
    "Qualquer divisão (`/`) entre dois números inteiros que não resulte em um quociente inteiro, resultará em um número Real (**`float`**)."
   ]
  },
  {
   "cell_type": "code",
   "execution_count": null,
   "metadata": {
    "colab": {},
    "colab_type": "code",
    "id": "68ApJUIgxTI2"
   },
   "outputs": [],
   "source": [
    "# Soma\n",
    "2 + 2"
   ]
  },
  {
   "cell_type": "code",
   "execution_count": null,
   "metadata": {
    "colab": {},
    "colab_type": "code",
    "id": "suAoRMkxzs4j"
   },
   "outputs": [],
   "source": [
    "# Divisão\n",
    "17 / 3"
   ]
  },
  {
   "cell_type": "code",
   "execution_count": null,
   "metadata": {
    "colab": {},
    "colab_type": "code",
    "id": "3ypkMv1b0A8j"
   },
   "outputs": [],
   "source": [
    "# Quociente da divisão\n",
    "17 // 3"
   ]
  },
  {
   "cell_type": "code",
   "execution_count": null,
   "metadata": {
    "colab": {},
    "colab_type": "code",
    "id": "HAq_rlc_0zB7"
   },
   "outputs": [],
   "source": [
    "# Resto da divisão\n",
    "17 % 3"
   ]
  },
  {
   "cell_type": "code",
   "execution_count": null,
   "metadata": {
    "colab": {},
    "colab_type": "code",
    "id": "_V3jW6CZ2C3-"
   },
   "outputs": [],
   "source": [
    "# Multiplicação\n",
    "5 * 2"
   ]
  },
  {
   "cell_type": "code",
   "execution_count": null,
   "metadata": {
    "colab": {},
    "colab_type": "code",
    "id": "YQ6Cc5gC2J6b"
   },
   "outputs": [],
   "source": [
    "# Potência\n",
    "5 ** 2"
   ]
  },
  {
   "cell_type": "code",
   "execution_count": null,
   "metadata": {
    "colab": {},
    "colab_type": "code",
    "id": "WiHmLywD8ti9"
   },
   "outputs": [],
   "source": [
    "# Equações\n",
    "(50 - 5 * 6) / 4"
   ]
  },
  {
   "cell_type": "markdown",
   "metadata": {
    "colab_type": "text",
    "id": "T7_kO_4Qbub-"
   },
   "source": [
    "__Reais (`float`)__\n",
    "\n",
    "Números reais são representados em computação por números do tipo *double precision floating-point*.\n",
    "[Wikipedia](https://en.wikipedia.org/wiki/Double-precision_floating-point_format)\n"
   ]
  },
  {
   "cell_type": "code",
   "execution_count": null,
   "metadata": {
    "colab": {},
    "colab_type": "code",
    "id": "UE6HfgNZeAtR"
   },
   "outputs": [],
   "source": [
    "# Declarar um número Real\n",
    "x = 1.5\n",
    "x"
   ]
  },
  {
   "cell_type": "code",
   "execution_count": null,
   "metadata": {
    "colab": {},
    "colab_type": "code",
    "id": "q9A8N6RpdtNB"
   },
   "outputs": [],
   "source": [
    "# Calcular a área do círculo\n",
    "pi = 3.14\n",
    "raio = 4.5\n",
    "area = pi * (raio ** 2)\n",
    "area"
   ]
  },
  {
   "cell_type": "markdown",
   "metadata": {
    "colab_type": "text",
    "id": "c807XcoYzBpj"
   },
   "source": [
    "### _Boolean_\n",
    "Números booleanos são uma subclasse de números inteiros que assumem apenas os valores True (1) ou False (0). Esta classe de objetos pdoe ser utilizada para realizar testes lógicos e filtrar dados."
   ]
  },
  {
   "cell_type": "code",
   "execution_count": null,
   "metadata": {
    "colab": {},
    "colab_type": "code",
    "id": "z6XTcx4NgDdw"
   },
   "outputs": [],
   "source": [
    "# Declarar valores booleanos\n",
    "t = True\n",
    "f = False\n",
    "t, f"
   ]
  },
  {
   "cell_type": "code",
   "execution_count": null,
   "metadata": {
    "colab": {},
    "colab_type": "code",
    "id": "Q86tfOaQgY1W"
   },
   "outputs": [],
   "source": [
    "int(True), int(False)"
   ]
  },
  {
   "cell_type": "code",
   "execution_count": null,
   "metadata": {
    "colab": {},
    "colab_type": "code",
    "id": "onrP2kkKhB3P"
   },
   "outputs": [],
   "source": [
    "# Testes lógicos\n",
    "1 > 2"
   ]
  },
  {
   "cell_type": "code",
   "execution_count": null,
   "metadata": {
    "colab": {},
    "colab_type": "code",
    "id": "F7ZcSvn4LPfz"
   },
   "outputs": [],
   "source": [
    "1 == 1"
   ]
  },
  {
   "cell_type": "code",
   "execution_count": null,
   "metadata": {
    "colab": {},
    "colab_type": "code",
    "id": "zV4V3T9FzAhI"
   },
   "outputs": [],
   "source": [
    "largura = 10.0\n",
    "comprimento = 5.0\n",
    "\n",
    "print(largura == comprimento)"
   ]
  },
  {
   "cell_type": "code",
   "execution_count": null,
   "metadata": {
    "colab": {},
    "colab_type": "code",
    "id": "nVublBVFguQF"
   },
   "outputs": [],
   "source": [
    "# Operações com inteiros e booleanos\n",
    "1 + True"
   ]
  },
  {
   "cell_type": "markdown",
   "metadata": {
    "colab_type": "text",
    "id": "nmweGsI5w_0B"
   },
   "source": [
    "### _Strings_\n",
    "Textos (*Strings*) em Python são objetos  imutáveis compostos por sequências de caracteres que podem ser formatados com métodos e funções, e que são acessados da mesma forma como é feito com uma lista, utilizando fatiamento por índices.\n",
    "\n",
    "Strings permitem realizar operações como:\n",
    "- Imprimir \n",
    "- Indexar\n",
    "- Reordenar\n",
    "- Formatar (placeholders e format())"
   ]
  },
  {
   "cell_type": "markdown",
   "metadata": {
    "colab_type": "text",
    "id": "XVXIp3c3dLjS"
   },
   "source": [
    "__Imprimir *strings*__"
   ]
  },
  {
   "cell_type": "code",
   "execution_count": null,
   "metadata": {
    "colab": {},
    "colab_type": "code",
    "id": "4LVTr3EuU6M9"
   },
   "outputs": [],
   "source": [
    "'hello'"
   ]
  },
  {
   "cell_type": "code",
   "execution_count": null,
   "metadata": {
    "colab": {},
    "colab_type": "code",
    "id": "YXtDh1fKU9KR"
   },
   "outputs": [],
   "source": [
    "\"Hello\""
   ]
  },
  {
   "cell_type": "code",
   "execution_count": null,
   "metadata": {
    "colab": {},
    "colab_type": "code",
    "id": "6FWWzK5PU-5k"
   },
   "outputs": [],
   "source": [
    "'I don't like that'"
   ]
  },
  {
   "cell_type": "code",
   "execution_count": null,
   "metadata": {
    "colab": {},
    "colab_type": "code",
    "id": "8CoymJEsKMYZ"
   },
   "outputs": [],
   "source": [
    "# Declarar objeto\n",
    "frase = \"Hello, World!\"\n",
    "# Verificar tipo de objeto\n",
    "type(frase)"
   ]
  },
  {
   "cell_type": "code",
   "execution_count": null,
   "metadata": {
    "colab": {},
    "colab_type": "code",
    "id": "bNNBfgheKjbS"
   },
   "outputs": [],
   "source": [
    "# Comprimento da lista de caracteres (str)\n",
    "len(frase)"
   ]
  },
  {
   "cell_type": "code",
   "execution_count": null,
   "metadata": {
    "colab": {},
    "colab_type": "code",
    "id": "AbIZoilvGi3X"
   },
   "outputs": [],
   "source": [
    "# Imprimir texto com print()\n",
    "print('UFPE é massa!')"
   ]
  },
  {
   "cell_type": "code",
   "execution_count": null,
   "metadata": {
    "colab": {},
    "colab_type": "code",
    "id": "INjbvWtryxb7"
   },
   "outputs": [],
   "source": [
    "# Concatenar strings\n",
    "a = 'A '\n",
    "b = 'cidade '\n",
    "c = 'não '\n",
    "d = 'pára '\n",
    "e = '...'\n",
    "\n",
    "print(a + b + c + d + e)"
   ]
  },
  {
   "cell_type": "code",
   "execution_count": null,
   "metadata": {
    "colab": {},
    "colab_type": "code",
    "id": "67RTSBPgsDFJ"
   },
   "outputs": [],
   "source": [
    "letra = 'k'\n",
    "10 * letra"
   ]
  },
  {
   "cell_type": "code",
   "execution_count": null,
   "metadata": {
    "colab": {},
    "colab_type": "code",
    "id": "BpasL_lgdjy0"
   },
   "outputs": [],
   "source": [
    "# Imprimir com tabulação e pular linha\n",
    "print('\"A cidade não pára\\n A cidade só cresce\\n O de cima sobe\\n E o de baixo desce\"\\n\\nChico Science - A Cidade (1994)')"
   ]
  },
  {
   "cell_type": "markdown",
   "metadata": {
    "colab_type": "text",
    "id": "JvBjVJssqANt"
   },
   "source": [
    "__Indexação de _string___\n",
    "\n",
    "A indexação e fatiamento de *strings* é feita com a seguinte sintaxe:\n",
    "\n",
    "```python\n",
    "sequencia[inicio:fim:passo]\n",
    "```"
   ]
  },
  {
   "cell_type": "code",
   "execution_count": null,
   "metadata": {
    "colab": {},
    "colab_type": "code",
    "id": "589aCnTsql_G"
   },
   "outputs": [],
   "source": [
    "sequencia = \"abcdefgh\""
   ]
  },
  {
   "cell_type": "code",
   "execution_count": null,
   "metadata": {
    "colab": {},
    "colab_type": "code",
    "id": "EejlEJcGrhB5"
   },
   "outputs": [],
   "source": [
    "len(sequencia)"
   ]
  },
  {
   "cell_type": "code",
   "execution_count": null,
   "metadata": {
    "colab": {},
    "colab_type": "code",
    "id": "BYQ93oy1qtTx"
   },
   "outputs": [],
   "source": [
    "# Imprimir a letra 'a'\n",
    "sequencia[0]"
   ]
  },
  {
   "cell_type": "code",
   "execution_count": null,
   "metadata": {
    "colab": {},
    "colab_type": "code",
    "id": "PIrRzfDKqyYZ"
   },
   "outputs": [],
   "source": [
    "sequencia[1]"
   ]
  },
  {
   "cell_type": "code",
   "execution_count": null,
   "metadata": {
    "colab": {},
    "colab_type": "code",
    "id": "AU-jboPBq6Ty"
   },
   "outputs": [],
   "source": [
    "sequencia[0:7]"
   ]
  },
  {
   "cell_type": "code",
   "execution_count": null,
   "metadata": {
    "colab": {},
    "colab_type": "code",
    "id": "Ph7nPmcdraP0"
   },
   "outputs": [],
   "source": [
    "sequencia[0:8]"
   ]
  },
  {
   "cell_type": "code",
   "execution_count": null,
   "metadata": {
    "colab": {},
    "colab_type": "code",
    "id": "ini6DC_3rkie"
   },
   "outputs": [],
   "source": [
    "sequencia[0:8:2]"
   ]
  },
  {
   "cell_type": "code",
   "execution_count": null,
   "metadata": {
    "colab": {},
    "colab_type": "code",
    "id": "YdJyi8jfrpHt"
   },
   "outputs": [],
   "source": [
    "sequencia[-1]"
   ]
  },
  {
   "cell_type": "markdown",
   "metadata": {
    "colab_type": "text",
    "id": "tbQAybJ9sYFO"
   },
   "source": [
    "__Exemplo:__\n",
    "\n",
    "Extrair apenas o número do ponto de mapeamento (XX-100)."
   ]
  },
  {
   "cell_type": "code",
   "execution_count": null,
   "metadata": {
    "colab": {},
    "colab_type": "code",
    "id": "4FllZ4AhsWsv"
   },
   "outputs": [],
   "source": [
    "# Declarar o ponto\n",
    "ponto = 'XX-100'\n",
    "# Extrair o número\n",
    "ponto[3:]"
   ]
  },
  {
   "cell_type": "markdown",
   "metadata": {
    "colab_type": "text",
    "id": "0a4EV59mthBB"
   },
   "source": [
    "__Reordenamento__\n",
    "\n",
    "Caso seja necessário imprimir o texto na ordem inversa, basta utilizar a sintaxe abaixo."
   ]
  },
  {
   "cell_type": "code",
   "execution_count": null,
   "metadata": {
    "colab": {},
    "colab_type": "code",
    "id": "5Cxqojfut5q1"
   },
   "outputs": [],
   "source": [
    "# Reordenar 'string'\n",
    "sequencia[::-1]"
   ]
  },
  {
   "cell_type": "markdown",
   "metadata": {
    "colab_type": "text",
    "id": "CMQi-idrugZi"
   },
   "source": [
    "__Formatação__\n",
    "\n",
    "A formatação com strings pode ser realizada de duas formas:\n",
    "- Utilizando *placeholders* (%)\n",
    "- Utilizando a função Python 3.x format()"
   ]
  },
  {
   "cell_type": "code",
   "execution_count": null,
   "metadata": {
    "colab": {},
    "colab_type": "code",
    "id": "yvpz5-cqwa5J"
   },
   "outputs": [],
   "source": [
    "# Declarar variáveis\n",
    "x, y = 'Gabriel', 40\n",
    "print(\"%s tem %d anos.\" % (x, y))"
   ]
  },
  {
   "cell_type": "code",
   "execution_count": null,
   "metadata": {
    "colab": {},
    "colab_type": "code",
    "id": "DLKaTwkhx8qR"
   },
   "outputs": [],
   "source": [
    "# Atenção ao utilizar placeholders\n",
    "print('O resultado é %s' % 3.75)\n",
    "print('O resultado é %d' % 3.75) "
   ]
  },
  {
   "cell_type": "code",
   "execution_count": null,
   "metadata": {
    "colab": {},
    "colab_type": "code",
    "id": "2Vd--UfrcBpM"
   },
   "outputs": [],
   "source": [
    "# Função format()\n",
    "\"Escrevo alguma coisa, {}\".format(\"mas não digo nada.\")"
   ]
  },
  {
   "cell_type": "code",
   "execution_count": null,
   "metadata": {
    "colab": {},
    "colab_type": "code",
    "id": "TXKJ3uvayYT7"
   },
   "outputs": [],
   "source": [
    "# Imprimir variáveis com format()\n",
    "\"{x} tem {y} anos.\".format(x='Gabriel', y=40)"
   ]
  },
  {
   "cell_type": "code",
   "execution_count": null,
   "metadata": {
    "colab": {},
    "colab_type": "code",
    "id": "AbqDQw861MYP"
   },
   "outputs": [],
   "source": [
    "# Imprimir números reais com precisão formatada\n",
    "pi = 3.141592653589793\n",
    "print('pi = {0:1.2f}'.format(pi))"
   ]
  },
  {
   "cell_type": "markdown",
   "metadata": {
    "colab_type": "text",
    "id": "YaSg9yAVzj10"
   },
   "source": [
    "__Exemplo:__\n",
    "\n",
    "Abaixo vemos um exemplo com quatro diferentes classes de objetos descritas com a função `type()`:\n",
    "\n",
    "\n",
    "*   Números inteiros (_Integer_)\n",
    "*   Números reais contínuos (_Floating_)\n",
    "*   Lógicos ou booleanos (_True / False_)\n",
    "*   _String_\n",
    "\n"
   ]
  },
  {
   "cell_type": "code",
   "execution_count": null,
   "metadata": {
    "colab": {},
    "colab_type": "code",
    "id": "tTVZKdmUjwTd"
   },
   "outputs": [],
   "source": [
    "# Declarar objetos\n",
    "x = 1\n",
    "y = 1.0\n",
    "z = True\n",
    "a = 'a'\n",
    "\n",
    "# Imprimir as classes dos objetos\n",
    "print(' x é {}\\n y é {}\\n z é {}\\n a é {}'.format(type(x), \n",
    "                                                  type(y), \n",
    "                                                  type(z), \n",
    "                                                  type(a)))"
   ]
  },
  {
   "cell_type": "markdown",
   "metadata": {
    "colab_type": "text",
    "id": "Ax-lb4AiCms8"
   },
   "source": [
    "## Declarar objetos (variávies)\n",
    "\n",
    "Regras para declarar variáveis:\n",
    "* Nomes não podem começar com números\n",
    "* Nomes não contém espaços, usar **_**\n",
    "* Nomes não podem conter os símbulos:\n",
    "\n",
    "      :'\",<>/?|\\!@#%^&*~-+\n",
    "       \n",
    "* Recomendável seguir as boas práticas segundo a norma [PEP8](https://www.python.org/dev/peps/pep-0008/#function-and-variable-names) que diz nomes de objetos são em letras minúsculas e separados por *underscore* **_**\n",
    "* Evitar usar palavras chave das bibliotecas Python nativas (built-in) como `list` e `str`\n",
    "* Evitar caracteres únicos como `l`, `O` e `I`, pois podem ser confundidos com `1` e `0`"
   ]
  },
  {
   "cell_type": "markdown",
   "metadata": {
    "colab_type": "text",
    "id": "cainkvfKgPL-"
   },
   "source": [
    "### Python `name` e `namespace`"
   ]
  },
  {
   "cell_type": "code",
   "execution_count": null,
   "metadata": {
    "colab": {},
    "colab_type": "code",
    "id": "P_nq2WxQum7n"
   },
   "outputs": [],
   "source": [
    "# Checando o namespace\n",
    "%whos"
   ]
  },
  {
   "cell_type": "code",
   "execution_count": null,
   "metadata": {
    "colab": {},
    "colab_type": "code",
    "id": "L_z8-hF0ggf4"
   },
   "outputs": [],
   "source": [
    "# Declarar uma nova variável (novo name) no namespace\n",
    "n = 3\n",
    "print(n)"
   ]
  },
  {
   "cell_type": "code",
   "execution_count": null,
   "metadata": {
    "colab": {},
    "colab_type": "code",
    "id": "rvLJd9_XhTzq"
   },
   "outputs": [],
   "source": [
    "# Erro de namespace ao tentar imprimir variável inexistente\n",
    "outra_variavel"
   ]
  },
  {
   "cell_type": "markdown",
   "metadata": {
    "colab_type": "text",
    "id": "Af9_8RmI7t68"
   },
   "source": [
    "__Exemplo:__\n",
    "\n",
    "A forma como o Python administra os objetos e valores no `namespace` é otimizada, onde dois ou mais objetos podem compartilhar dados.\n",
    "\n",
    "No exemplo abaixo, dois objetos (`lista_a`, `lista_b`) compartilham a mesma lista de valores `[1, 2, 3]`."
   ]
  },
  {
   "cell_type": "code",
   "execution_count": null,
   "metadata": {
    "colab": {},
    "colab_type": "code",
    "id": "ZZsBf_c-6TEw"
   },
   "outputs": [],
   "source": [
    "# Declarar uma lista\n",
    "lista_a = [1, 2, 3]\n",
    "# Apontar outro objeto para a mesma lista\n",
    "lista_b = lista_a\n",
    "# Adicionar um elemento à list_a\n",
    "lista_a.append(4)\n",
    "# Verificar a lista_b\n",
    "print(lista_b)"
   ]
  },
  {
   "cell_type": "markdown",
   "metadata": {
    "colab_type": "text",
    "id": "m9WdNuB6FTjn"
   },
   "source": [
    "### Declaração dinâmica\n",
    "Em Python, as variáveis podem sofrer alterações dinâmicas enquanto digitamos. Um objeto (variável) pode ser modificada para outros valores e outras classes, bastando que as mesmas sejam declaradas novamente."
   ]
  },
  {
   "cell_type": "code",
   "execution_count": null,
   "metadata": {
    "colab": {},
    "colab_type": "code",
    "id": "thmZipATEFGD"
   },
   "outputs": [],
   "source": [
    "# Declarar objeto\n",
    "objeto = 10\n",
    "objeto, type(objeto), id(objeto)"
   ]
  },
  {
   "cell_type": "code",
   "execution_count": null,
   "metadata": {
    "colab": {},
    "colab_type": "code",
    "id": "khE18t1GGCIZ"
   },
   "outputs": [],
   "source": [
    "# Declarar novo valor para o objeto\n",
    "objeto = 'abcd'\n",
    "objeto, type(objeto), id(objeto)"
   ]
  },
  {
   "cell_type": "code",
   "execution_count": null,
   "metadata": {
    "colab": {},
    "colab_type": "code",
    "id": "oE8F4PLqh_Lr"
   },
   "outputs": [],
   "source": [
    "# Checar namespace\n",
    "%whos"
   ]
  },
  {
   "cell_type": "markdown",
   "metadata": {
    "colab_type": "text",
    "id": "EDluj60S_BQr"
   },
   "source": [
    "### Declaração dinâmica com operações aritméticas"
   ]
  },
  {
   "cell_type": "code",
   "execution_count": null,
   "metadata": {
    "colab": {},
    "colab_type": "code",
    "id": "PaMtjdbVGW9V"
   },
   "outputs": [],
   "source": [
    "# Declarar uma variável com um valor inteiro\n",
    "a = 1\n",
    "a"
   ]
  },
  {
   "cell_type": "code",
   "execution_count": null,
   "metadata": {
    "colab": {},
    "colab_type": "code",
    "id": "BHIofukKG10B"
   },
   "outputs": [],
   "source": [
    "# Declarar a mesma variável alterando seu valor a partir da soma\n",
    "a += 1\n",
    "a"
   ]
  },
  {
   "cell_type": "code",
   "execution_count": null,
   "metadata": {
    "colab": {},
    "colab_type": "code",
    "id": "ZvK_FKubG3vg"
   },
   "outputs": [],
   "source": [
    "# Declarar a mesma variável alterando seu valor a partir da multiplicação\n",
    "a *= 2\n",
    "a"
   ]
  },
  {
   "cell_type": "markdown",
   "metadata": {
    "colab_type": "text",
    "id": "C0hza9uI3YWS"
   },
   "source": [
    "## Operadores binários\n",
    "\n",
    "\n"
   ]
  },
  {
   "cell_type": "markdown",
   "metadata": {
    "colab_type": "text",
    "id": "z33jrVOaR9Q4"
   },
   "source": [
    "### Tabela de operadores aritméticos\n",
    "Na tabela abaixo, sendo as variáveis inteiras  (`int`) ou reais (`float`) `a` e `b`\n",
    "\n",
    "Operador | Nome | descrição\n",
    "--- | ---\n",
    " `a + b` | Adição | Soma de `a` com `b`\n",
    " `a - b` | Subtração | Subtrai o valor de `b` de `a`\n",
    " `a * b` | Multiplicação | Multiplica o valor de `a` pelo valor de  `b`\n",
    " `a / b` | Divisão real | Retorna o quociente fracionado da divisão de `a` por `b`\n",
    " `a // b` | Divisão inteira | Retorna o quociente inteiro da divisão de `a` por `b`\n",
    " `a % b` | Resto da divisão inteira | Retorna o resto da divisão de `a` por `b`\n",
    " `a ** b` | Potência | Retorna o valor de `a` elevado a potência de `b`\n",
    " `-a` | Negativo | Converte o valor de `a` em número negativo\n",
    " `+a` | Postivo | Converte o valor de `a` em número positivo\n",
    " \n",
    " "
   ]
  },
  {
   "cell_type": "markdown",
   "metadata": {
    "colab_type": "text",
    "id": "_XUhqrxGSAvB"
   },
   "source": [
    "__Exemplos:__"
   ]
  },
  {
   "cell_type": "code",
   "execution_count": null,
   "metadata": {
    "colab": {},
    "colab_type": "code",
    "id": "Vx5wW-f4SDWR"
   },
   "outputs": [],
   "source": [
    "# Utilizar operadores aritméticos com perênteses\n",
    "(4 + 8) * (6.5 - 3)"
   ]
  },
  {
   "cell_type": "code",
   "execution_count": null,
   "metadata": {
    "colab": {},
    "colab_type": "code",
    "id": "OAv_XMHJSulN"
   },
   "outputs": [],
   "source": [
    "# Adicionar o valor 8 à soma anterior e fazer divisão real por 6\n",
    "((4 + 8) * (6.5 - 3) + 8) / 6"
   ]
  },
  {
   "cell_type": "code",
   "execution_count": null,
   "metadata": {
    "colab": {},
    "colab_type": "code",
    "id": "SrVbVcKpTGTB"
   },
   "outputs": [],
   "source": [
    "# Fazer divisão \"inteira\"\n",
    "((4 + 8) * (6.5 - 3) + 8) // 6"
   ]
  },
  {
   "cell_type": "code",
   "execution_count": null,
   "metadata": {
    "colab": {},
    "colab_type": "code",
    "id": "PMC5im6aTmr9"
   },
   "outputs": [],
   "source": [
    "# Encontrar o resto da divisão inteira\n",
    "((4 + 8) * (6.5 - 3) + 8) % 6"
   ]
  },
  {
   "cell_type": "markdown",
   "metadata": {
    "colab_type": "text",
    "id": "95H3xabsR4bj"
   },
   "source": [
    "### Tabela de operadores de comparação\n",
    "Na tabela abaixo, sendo `a = 1` e `b = 2`\n",
    "\n",
    "Simbologia | Descrição | Exemplo | Boolean\n",
    "--- | ---\n",
    " `==` | Verifica se os valores são iguais | `a == b` | `False`\n",
    " `!=` | Verifica se os valores são diferentes | `a != b` | `True`\n",
    " `>` | Verifica se um valor é maior | `a > b` | `False`\n",
    " `<` | Verifica se um valor menor | `a < b` | `True`\n",
    " `>=` | Verifica se um valor é maior ou igual | `a >= b` | `False`\n",
    " `<=` | Verifica se um valor é menor ou igual | `a <= b` | `True`\n",
    "`is` | Verifica se o valor é o mesmo entre duas variáveis | `a is b` | `False`\n",
    "`is not` | Verifica se o valor de uma variável não é igual ao de outra | `a is not b` | `True`\n"
   ]
  },
  {
   "cell_type": "markdown",
   "metadata": {
    "colab_type": "text",
    "id": "uB3Z4FhJIgcP"
   },
   "source": [
    "__Exemplos:__"
   ]
  },
  {
   "cell_type": "code",
   "execution_count": null,
   "metadata": {
    "colab": {},
    "colab_type": "code",
    "id": "dTpVpp38KBTN"
   },
   "outputs": [],
   "source": [
    "# Declarar duas variáveis\n",
    "a = 1\n",
    "b = 2"
   ]
  },
  {
   "cell_type": "code",
   "execution_count": null,
   "metadata": {
    "colab": {},
    "colab_type": "code",
    "id": "FwH3c79IMXtZ"
   },
   "outputs": [],
   "source": [
    "# Verificar se a e b são iguais\n",
    "a == b"
   ]
  },
  {
   "cell_type": "code",
   "execution_count": null,
   "metadata": {
    "colab": {},
    "colab_type": "code",
    "id": "oM7tG9VmMY_5"
   },
   "outputs": [],
   "source": [
    "# Verificar se a e b são diferentes\n",
    "a != b"
   ]
  },
  {
   "cell_type": "code",
   "execution_count": null,
   "metadata": {
    "colab": {},
    "colab_type": "code",
    "id": "ty3jBKQiMamZ"
   },
   "outputs": [],
   "source": [
    "# Verificar se a é maior que b\n",
    "a > b"
   ]
  },
  {
   "cell_type": "code",
   "execution_count": null,
   "metadata": {
    "colab": {},
    "colab_type": "code",
    "id": "uEar1hZ5MchQ"
   },
   "outputs": [],
   "source": [
    "# Verificar se a é menor que b\n",
    "a < b"
   ]
  },
  {
   "cell_type": "code",
   "execution_count": null,
   "metadata": {
    "colab": {},
    "colab_type": "code",
    "id": "aoPrPorzMd_X"
   },
   "outputs": [],
   "source": [
    "# Verificar se a é maior ou igual a b\n",
    "a >= b"
   ]
  },
  {
   "cell_type": "code",
   "execution_count": null,
   "metadata": {
    "colab": {},
    "colab_type": "code",
    "id": "ut0sW_G4Mgw2"
   },
   "outputs": [],
   "source": [
    "# Verificar se a é menor ou igual a b\n",
    "a <= b"
   ]
  },
  {
   "cell_type": "code",
   "execution_count": null,
   "metadata": {
    "colab": {},
    "colab_type": "code",
    "id": "AqzZ0bODGtyl"
   },
   "outputs": [],
   "source": [
    "# Verificar se a é b\n",
    "a is b"
   ]
  },
  {
   "cell_type": "code",
   "execution_count": null,
   "metadata": {
    "colab": {},
    "colab_type": "code",
    "id": "myTWoumEKADu"
   },
   "outputs": [],
   "source": [
    "# Apontar o valor b para a\n",
    "a = b\n",
    "a is b"
   ]
  },
  {
   "cell_type": "code",
   "execution_count": null,
   "metadata": {
    "colab": {},
    "colab_type": "code",
    "id": "hoWJK55OGvye"
   },
   "outputs": [],
   "source": [
    "# Verificar se a não é b\n",
    "a is not b"
   ]
  },
  {
   "cell_type": "code",
   "execution_count": null,
   "metadata": {
    "colab": {},
    "colab_type": "code",
    "id": "kOK0xFtHJQx7"
   },
   "outputs": [],
   "source": [
    "# Declarar a como nula e verificar condição\n",
    "a = None\n",
    "a is None"
   ]
  },
  {
   "cell_type": "markdown",
   "metadata": {
    "colab_type": "text",
    "id": "6zL62_ooc8g5"
   },
   "source": [
    "## Expressões condicionais (controle de fluxo)\n",
    "Dois fatores fundamentais para se utilizar expressões condicionais em Python:\n",
    "- Identação (4 espaços ou 1 tabulação)\n",
    "- Consistência lógica"
   ]
  },
  {
   "cell_type": "markdown",
   "metadata": {
    "colab_type": "text",
    "id": "JrdoTeLvdPgz"
   },
   "source": [
    "### `if, elif, else`\n",
    "```python\n",
    "if condition1:\n",
    "    indentedBlockForTrueCondition1\n",
    "elif condition2:\n",
    "    indentedBlockForTrueCondition2\n",
    "else:\n",
    "    indentedBlockForEachConditionFalse\n",
    "```\n"
   ]
  },
  {
   "cell_type": "code",
   "execution_count": null,
   "metadata": {
    "colab": {},
    "colab_type": "code",
    "id": "kqncSOy6dPo2"
   },
   "outputs": [],
   "source": [
    "# Exemplo com if\n",
    "if True:\n",
    "    print('Verdadeiro!')"
   ]
  },
  {
   "cell_type": "code",
   "execution_count": null,
   "metadata": {
    "colab": {},
    "colab_type": "code",
    "id": "mTZu8JSNv4IX"
   },
   "outputs": [],
   "source": [
    "# Exemplo com else\n",
    "if a == b:\n",
    "    print('a é igual a b')\n",
    "else:\n",
    "    print('a não é igual a b')\n",
    "    "
   ]
  },
  {
   "cell_type": "code",
   "execution_count": null,
   "metadata": {
    "colab": {},
    "colab_type": "code",
    "id": "RAK8g9qUxA2g"
   },
   "outputs": [],
   "source": [
    "# Exemplo com elif\n",
    "if a == b:\n",
    "    print('a é igual b')\n",
    "elif a > b:\n",
    "    print('a é maior que b')\n",
    "else:\n",
    "    print('a é menor que b')"
   ]
  },
  {
   "cell_type": "markdown",
   "metadata": {
    "colab_type": "text",
    "id": "_CLgrjORdbG9"
   },
   "source": [
    "### `for`\n",
    "```python\n",
    "for item in data:\n",
    "    indentedBlock\n",
    "```"
   ]
  },
  {
   "cell_type": "code",
   "execution_count": null,
   "metadata": {
    "colab": {},
    "colab_type": "code",
    "id": "-9EcDO-Tdcum"
   },
   "outputs": [],
   "source": [
    "# Criar lista com números inteiros de 1 à 5\n",
    "lista = [1, 2, 3, 4, 5]"
   ]
  },
  {
   "cell_type": "code",
   "execution_count": null,
   "metadata": {
    "colab": {},
    "colab_type": "code",
    "id": "RSqqfLy4dfWe"
   },
   "outputs": [],
   "source": [
    "# Criar iteração para imprimir cada item com for\n",
    "for item in lista:\n",
    "    print(item)"
   ]
  },
  {
   "cell_type": "code",
   "execution_count": null,
   "metadata": {
    "colab": {},
    "colab_type": "code",
    "id": "srSus8IW7rq6"
   },
   "outputs": [],
   "source": [
    "# Criar iteração para somar valores aos itens da lista com for\n",
    "for i in lista:\n",
    "    i = i + 1\n",
    "\n",
    "print(lista)"
   ]
  },
  {
   "cell_type": "code",
   "execution_count": null,
   "metadata": {
    "colab": {},
    "colab_type": "code",
    "id": "iCS_sIYE7_EH"
   },
   "outputs": [],
   "source": [
    "# Somar\n",
    "for i in lista:\n",
    "    i += 1\n",
    "    \n",
    "print(lista)"
   ]
  },
  {
   "cell_type": "code",
   "execution_count": null,
   "metadata": {
    "colab": {},
    "colab_type": "code",
    "id": "30qCfkAFC9s5"
   },
   "outputs": [],
   "source": [
    "# Checar números em uma lista e imprimir apenas os ímpares\n",
    "for n in range(20):\n",
    "    # checar se n é par\n",
    "    if n % 2 == 0:\n",
    "        continue\n",
    "    # Imprimir n se for impar\n",
    "    print(n)"
   ]
  },
  {
   "cell_type": "markdown",
   "metadata": {
    "colab_type": "text",
    "id": "_wxmgPbhBS0U"
   },
   "source": [
    "### `while`\n",
    "```python\n",
    "while condition:\n",
    "    indentedBlock\n",
    "```\n",
    "O `while`loop em Python é mais próximo da linguagem natural, como por ememplor:\n",
    "> \"While your tea is too hot, add a chip of ice.\""
   ]
  },
  {
   "cell_type": "code",
   "execution_count": null,
   "metadata": {
    "colab": {},
    "colab_type": "code",
    "id": "c1XuzBaOBWoh"
   },
   "outputs": [],
   "source": [
    "# Adicionar 2 a variável i a cada passo, a partir de i = 4 enquanto i < 9\n",
    "i = 4 \n",
    "while i < 9:\n",
    "    print(i)\n",
    "    i = i + 2\n"
   ]
  },
  {
   "cell_type": "markdown",
   "metadata": {
    "colab_type": "text",
    "id": "Q3PGy-DOK-GL"
   },
   "source": [
    "## Métodos e atributos de objetos\n",
    "Objetos em Python contêm atributos e podem ser modificados através de métodos, que são funções que são inerentes de cada classe de objeto.\n"
   ]
  },
  {
   "cell_type": "code",
   "execution_count": null,
   "metadata": {
    "colab": {},
    "colab_type": "code",
    "id": "U4nkK3IO4tMA"
   },
   "outputs": [],
   "source": [
    "string = \"UFPE\""
   ]
  },
  {
   "cell_type": "code",
   "execution_count": null,
   "metadata": {
    "colab": {},
    "colab_type": "code",
    "id": "OA_DUbd1Fl0x"
   },
   "outputs": [],
   "source": [
    "dir(string)"
   ]
  },
  {
   "cell_type": "code",
   "execution_count": null,
   "metadata": {
    "colab": {},
    "colab_type": "code",
    "id": "5I4tTMoUHZO5"
   },
   "outputs": [],
   "source": [
    "# Buscando ajuda sobre um método de string com a função help()\n",
    "help(string.split)"
   ]
  },
  {
   "cell_type": "code",
   "execution_count": null,
   "metadata": {
    "colab": {},
    "colab_type": "code",
    "id": "ADfI38StHjm8"
   },
   "outputs": [],
   "source": [
    "# Testar o método lower\n",
    "string.lower()"
   ]
  },
  {
   "cell_type": "code",
   "execution_count": null,
   "metadata": {
    "colab": {},
    "colab_type": "code",
    "id": "_nqhHpliHyUa"
   },
   "outputs": [],
   "source": [
    "# Buscando ajuda com ?\n",
    "string.join?"
   ]
  },
  {
   "cell_type": "code",
   "execution_count": null,
   "metadata": {
    "colab": {},
    "colab_type": "code",
    "id": "8lFWZHLwJIX4"
   },
   "outputs": [],
   "source": [
    "# Criar string com pontos de campo aglomerados em uma sequencia de strings\n",
    "pontos = \"PT-01,PT-02,PT-03\"\n",
    "# Criar lista separar pontos de campo com \",\"\n",
    "lista_de_pontos = pontos.split(\",\")\n",
    "print(lista_de_pontos)"
   ]
  },
  {
   "cell_type": "code",
   "execution_count": null,
   "metadata": {
    "colab": {},
    "colab_type": "code",
    "id": "aaXKD0lcJKFN"
   },
   "outputs": [],
   "source": [
    "# Declarar uma variável numérica\n",
    "numero = 10\n",
    "numero.bit_length()"
   ]
  },
  {
   "cell_type": "markdown",
   "metadata": {
    "colab_type": "text",
    "id": "c_6lb8ueMI3O"
   },
   "source": [
    "### Funções nativas (Built-in)\n",
    "\n",
    "Funções em Python são objetos que recebem argumentos para realizar tarefas como, cálculos aritméticos, transformações de variáveis, etc.\n",
    "\n",
    "Funções são uma forma eficiente de otimizar códigos."
   ]
  },
  {
   "cell_type": "markdown",
   "metadata": {
    "colab_type": "text",
    "id": "sVVoHIn7i-M9"
   },
   "source": [
    "__Exemplos:__\n",
    "\n",
    "- `print()`\n",
    "- `help()`\n",
    "- `dir()`\n",
    "- ..."
   ]
  },
  {
   "cell_type": "markdown",
   "metadata": {
    "colab_type": "text",
    "id": "-EW7NE1mij7W"
   },
   "source": [
    "### *User-defined functions (UDFs)*\n",
    "UDFs são funções criadas pelo usuário para ajudá-lo a resolver problemas específicos. Estas funções recebem muitas vezes o nome de *helper functions*.\n",
    "\n",
    "Funções precisam ser declaradas com o comando `def` como no exemplo abaixo:\n",
    "\n",
    "```python\n",
    "def hello():\n",
    "    '''\n",
    "    Docstring (documentação)\n",
    "    '''\n",
    "    return print(\"Hello, World!\")  \n",
    "```\n",
    "\n",
    "`Docstrings` são textos que documentam a função, descrevendo o objetivo da função, os parâmetros (argumentos) e variáveis de entrada (input) e a saída (output)."
   ]
  },
  {
   "cell_type": "code",
   "execution_count": null,
   "metadata": {
    "colab": {},
    "colab_type": "code",
    "id": "JSCaa0tdRYgK"
   },
   "outputs": [],
   "source": [
    "def soma(a, b):\n",
    "    '''\n",
    "    Função para somar dois valores\n",
    "    \n",
    "    input: a, b\n",
    "    \n",
    "    output: soma a + b\n",
    "    '''\n",
    "    return a + b"
   ]
  },
  {
   "cell_type": "code",
   "execution_count": null,
   "metadata": {
    "colab": {},
    "colab_type": "code",
    "id": "53S8JhD4R5dz"
   },
   "outputs": [],
   "source": [
    "soma(1, 4)"
   ]
  },
  {
   "cell_type": "markdown",
   "metadata": {
    "colab_type": "text",
    "id": "FVx5PISvUz2l"
   },
   "source": [
    "Funções podem receber argumentos flexíveis, ao invés de variáveis fixas. Para utilizar este recurso é preciso declarar `*args` e/ou `**kwargs` como input, fazendo com que a quantidade de variáveis não seja limitada. ``"
   ]
  },
  {
   "cell_type": "code",
   "execution_count": null,
   "metadata": {
    "colab": {},
    "colab_type": "code",
    "id": "JaEdmv_8SoPr"
   },
   "outputs": [],
   "source": [
    "def soma_n_valores(*args):\n",
    "    return sum(args)"
   ]
  },
  {
   "cell_type": "code",
   "execution_count": null,
   "metadata": {
    "colab": {},
    "colab_type": "code",
    "id": "GM5FKe7xTSPn"
   },
   "outputs": [],
   "source": [
    "# Calcular soma de valores com a função soma_n_valores()\n",
    "soma_n_valores(1, 4, 5)"
   ]
  },
  {
   "cell_type": "code",
   "execution_count": null,
   "metadata": {
    "colab": {},
    "colab_type": "code",
    "id": "x8UkBuN2WK25"
   },
   "outputs": [],
   "source": [
    "def catch_all(*args, **kwargs):\n",
    "    '''\n",
    "    Função para coletar argumentos e imprimir\n",
    "    '''\n",
    "    print(\"args =\", args)\n",
    "    print(\"kwargs = \", kwargs)"
   ]
  },
  {
   "cell_type": "code",
   "execution_count": null,
   "metadata": {
    "colab": {},
    "colab_type": "code",
    "id": "DBukgaHPWO10"
   },
   "outputs": [],
   "source": [
    "catch_all(1, 2, 3, a=4, b=5)"
   ]
  },
  {
   "cell_type": "code",
   "execution_count": null,
   "metadata": {
    "colab": {},
    "colab_type": "code",
    "id": "bcTap-GEWwVR"
   },
   "outputs": [],
   "source": [
    "catch_all('a', keyword=2)"
   ]
  },
  {
   "cell_type": "code",
   "execution_count": null,
   "metadata": {
    "colab": {},
    "colab_type": "code",
    "id": "YVecvhpZWyDM"
   },
   "outputs": [],
   "source": [
    "inputs = (1, 2, 3)\n",
    "keywords = {'pi': 3.14}\n",
    "\n",
    "catch_all(*inputs, **keywords)"
   ]
  },
  {
   "cell_type": "markdown",
   "metadata": {
    "colab_type": "text",
    "id": "Ouh7DqQPIJRO"
   },
   "source": [
    "__Exemplos:__\n",
    "\n",
    "Limpar os nomes dos pontos coletados em campo removendo os caracteres errados e formatando os prefixos dos pontos para upper case."
   ]
  },
  {
   "cell_type": "code",
   "execution_count": null,
   "metadata": {
    "colab": {},
    "colab_type": "code",
    "id": "6ewCe1CyIf2Y"
   },
   "outputs": [],
   "source": [
    "# Declarar uma lista com pontos de campo\n",
    "pontos_de_campo = ['PT-01!#   ', '  pt-02  ', '  Pt?-03 ']"
   ]
  },
  {
   "cell_type": "code",
   "execution_count": null,
   "metadata": {
    "colab": {},
    "colab_type": "code",
    "id": "CnDHSBMOIVSc"
   },
   "outputs": [],
   "source": [
    "def clean_strings(strings):\n",
    "    '''\n",
    "    Função para limpar e formatar valores em uma lista de pontos de campo\n",
    "    \n",
    "    input: lista com os pontos de campo\n",
    "    \n",
    "    output: lista com os valores limpos e formatados\n",
    "    '''\n",
    "    import re\n",
    "    result = []\n",
    "    for value in strings:\n",
    "        value = value.strip()\n",
    "        value = re.sub('[!#?]', '', value)\n",
    "        value = value.upper()\n",
    "        result.append(value)\n",
    "    return result"
   ]
  },
  {
   "cell_type": "code",
   "execution_count": null,
   "metadata": {
    "colab": {},
    "colab_type": "code",
    "id": "rjUu2f-FJ5yN"
   },
   "outputs": [],
   "source": [
    "# Aplicar a função criada na lista de pontos\n",
    "clean_strings(pontos_de_campo)"
   ]
  },
  {
   "cell_type": "markdown",
   "metadata": {
    "colab_type": "text",
    "id": "FYEwqYuQSvxy"
   },
   "source": [
    "Em geologia estrutural uma tarefa essencial para se computar com ângulos é necessário converter graus em radianos. Podemos criar uma helper function para conversão de unidades."
   ]
  },
  {
   "cell_type": "code",
   "execution_count": null,
   "metadata": {
    "colab": {},
    "colab_type": "code",
    "id": "zjsEjEdqZmub"
   },
   "outputs": [],
   "source": [
    "def deg2rad(x):\n",
    "    ''' \n",
    "    Função para converter graus em radianos\n",
    "\n",
    "    input: ângulo em graus\n",
    "\n",
    "    output: ângulo em radianos\n",
    "    \n",
    "    requisito: from math import pi\n",
    "    \n",
    "    '''\n",
    "    from math import pi\n",
    "    \n",
    "    return x * pi / 180"
   ]
  },
  {
   "cell_type": "code",
   "execution_count": null,
   "metadata": {
    "colab": {},
    "colab_type": "code",
    "id": "0cSFL1xXDbUQ"
   },
   "outputs": [],
   "source": [
    "deg2rad?"
   ]
  },
  {
   "cell_type": "code",
   "execution_count": null,
   "metadata": {
    "colab": {},
    "colab_type": "code",
    "id": "IU0wmpA_ZqAl"
   },
   "outputs": [],
   "source": [
    "# Converter graus em radianos\n",
    "deg2rad(90)"
   ]
  },
  {
   "cell_type": "markdown",
   "metadata": {
    "colab_type": "text",
    "id": "3gfsKyTtkEZs"
   },
   "source": [
    "### Funções anônimas (*lambda*)\n",
    "Funções lambda não são definidas com `def` como as UDFs."
   ]
  },
  {
   "cell_type": "code",
   "execution_count": null,
   "metadata": {
    "colab": {},
    "colab_type": "code",
    "id": "5WjXNQS5XAqz"
   },
   "outputs": [],
   "source": [
    "add = lambda x, y: x + y\n",
    "\n",
    "add(1, 2)"
   ]
  },
  {
   "cell_type": "code",
   "execution_count": null,
   "metadata": {
    "colab": {},
    "colab_type": "code",
    "id": "Swc_tPdAXgMp"
   },
   "outputs": [],
   "source": [
    "double = lambda x: x * 2\n",
    "\n",
    "double(5)"
   ]
  },
  {
   "cell_type": "markdown",
   "metadata": {
    "colab_type": "text",
    "id": "awQUWrU_S0Cl"
   },
   "source": [
    "### *Namespaces*, *scope* e funçoes locais\n",
    "Funções podem ser definidas em global scope ou local."
   ]
  },
  {
   "cell_type": "code",
   "execution_count": null,
   "metadata": {
    "colab": {},
    "colab_type": "code",
    "id": "BUiKaDrefRMm"
   },
   "outputs": [],
   "source": [
    "# Apagar todas as variáveis\n",
    "%reset"
   ]
  },
  {
   "cell_type": "code",
   "execution_count": null,
   "metadata": {
    "colab": {},
    "colab_type": "code",
    "id": "k-tEFX5cTbmb"
   },
   "outputs": [],
   "source": [
    "def func():\n",
    "    '''\n",
    "    Função para criar lista com 5 números inteiros\n",
    "    '''\n",
    "    a = []\n",
    "    for i in range(5):\n",
    "        a.append(i)\n",
    "    return print(a)"
   ]
  },
  {
   "cell_type": "code",
   "execution_count": null,
   "metadata": {
    "colab": {},
    "colab_type": "code",
    "id": "WCe2SkHqdJnb"
   },
   "outputs": [],
   "source": [
    "# Rodar a função func()\n",
    "func()"
   ]
  },
  {
   "cell_type": "code",
   "execution_count": null,
   "metadata": {
    "colab": {},
    "colab_type": "code",
    "id": "3QVnG_9TfpPT"
   },
   "outputs": [],
   "source": [
    "# Checar namespace\n",
    "%whos"
   ]
  },
  {
   "cell_type": "code",
   "execution_count": null,
   "metadata": {
    "colab": {},
    "colab_type": "code",
    "id": "uchSw8e_dpSq"
   },
   "outputs": [],
   "source": [
    "print(a)"
   ]
  },
  {
   "cell_type": "code",
   "execution_count": null,
   "metadata": {
    "colab": {},
    "colab_type": "code",
    "id": "OOEScu3Zetdr"
   },
   "outputs": [],
   "source": [
    "# Declarar uma variável no escopo global\n",
    "a = []\n",
    "# Declarar função\n",
    "def func():\n",
    "    # Criar uma lista em escopo global\n",
    "    for i in range(5):\n",
    "        # Agregar valores à lista a\n",
    "        a.append(i)\n",
    "    return print(a)"
   ]
  },
  {
   "cell_type": "code",
   "execution_count": null,
   "metadata": {
    "colab": {},
    "colab_type": "code",
    "id": "zQqJBglJe8G2"
   },
   "outputs": [],
   "source": [
    "func()"
   ]
  },
  {
   "cell_type": "code",
   "execution_count": null,
   "metadata": {
    "colab": {},
    "colab_type": "code",
    "id": "ecB3S6SJe-HI"
   },
   "outputs": [],
   "source": [
    "%whos"
   ]
  },
  {
   "cell_type": "markdown",
   "metadata": {
    "colab_type": "text",
    "id": "vLCOT_E2B0Ph"
   },
   "source": [
    "### Utilizando funções para criar objetos\n",
    "Em Python é possível criar múltiplas variáveis com uma única função. Esse recurso é muito utilizado na ciência de dados, pois "
   ]
  },
  {
   "cell_type": "code",
   "execution_count": null,
   "metadata": {
    "colab": {},
    "colab_type": "code",
    "id": "lASL40YCB6ex"
   },
   "outputs": [],
   "source": [
    "def f():\n",
    "    '''\n",
    "    Função para criar 3 variáveis\n",
    "    '''\n",
    "    a = 5 \n",
    "    b = 6 \n",
    "    c = 7\n",
    "    return a, b, c"
   ]
  },
  {
   "cell_type": "code",
   "execution_count": null,
   "metadata": {
    "colab": {},
    "colab_type": "code",
    "id": "6UTY639ZCGnE"
   },
   "outputs": [],
   "source": [
    "a, b, c = f()\n",
    "a, b, c"
   ]
  },
  {
   "cell_type": "code",
   "execution_count": null,
   "metadata": {
    "colab": {},
    "colab_type": "code",
    "id": "GnR6K8VuGXDy"
   },
   "outputs": [],
   "source": [
    "valores = f()\n",
    "valores"
   ]
  },
  {
   "cell_type": "markdown",
   "metadata": {
    "colab_type": "text",
    "id": "T0Cq3-dqfA6_"
   },
   "source": [
    "__Referências__\n",
    "\n",
    "- [The Python Tutorial (Python.org)](https://docs.python.org/3.6/tutorial/index.html)\n",
    "- [Kaggle's Python Tutorial](https://www.kaggle.com/learn/python)\n",
    "- [Built-in Functions](https://docs.python.org/3/library/functions.html)"
   ]
  }
 ],
 "metadata": {
  "colab": {
   "name": "1.2 Primeiros passos em Python.ipynb",
   "provenance": [],
   "toc_visible": true,
   "version": "0.3.2"
  },
  "kernelspec": {
   "display_name": "py36",
   "language": "python",
   "name": "python36"
  },
  "language_info": {
   "codemirror_mode": {
    "name": "ipython",
    "version": 3
   },
   "file_extension": ".py",
   "mimetype": "text/x-python",
   "name": "python",
   "nbconvert_exporter": "python",
   "pygments_lexer": "ipython3",
   "version": "3.6.7"
  },
  "toc": {
   "base_numbering": "1.2",
   "nav_menu": {},
   "number_sections": true,
   "sideBar": true,
   "skip_h1_title": false,
   "title_cell": "Table of Contents",
   "title_sidebar": "Contents",
   "toc_cell": false,
   "toc_position": {
    "height": "calc(100% - 180px)",
    "left": "10px",
    "top": "150px",
    "width": "428.338px"
   },
   "toc_section_display": true,
   "toc_window_display": true
  },
  "varInspector": {
   "cols": {
    "lenName": 16,
    "lenType": 16,
    "lenVar": 40
   },
   "kernels_config": {
    "python": {
     "delete_cmd_postfix": "",
     "delete_cmd_prefix": "del ",
     "library": "var_list.py",
     "varRefreshCmd": "print(var_dic_list())"
    },
    "r": {
     "delete_cmd_postfix": ") ",
     "delete_cmd_prefix": "rm(",
     "library": "var_list.r",
     "varRefreshCmd": "cat(var_dic_list()) "
    }
   },
   "position": {
    "height": "140px",
    "left": "767px",
    "right": "20px",
    "top": "84px",
    "width": "331px"
   },
   "types_to_exclude": [
    "module",
    "function",
    "builtin_function_or_method",
    "instance",
    "_Feature"
   ],
   "window_display": false
  }
 },
 "nbformat": 4,
 "nbformat_minor": 1
}
