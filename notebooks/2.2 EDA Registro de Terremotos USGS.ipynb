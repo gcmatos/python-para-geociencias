{
 "cells": [
  {
   "cell_type": "markdown",
   "metadata": {},
   "source": [
    "[![Open In Colab](https://colab.research.google.com/assets/colab-badge.svg)](https://colab.research.google.com/github/gcmatos/python-para-geociencias/blob/master/notebooks/2.2%20EDA%20Registro%20de%20Terremotos%20USGS.ipynb)"
   ]
  },
  {
   "cell_type": "markdown",
   "metadata": {
    "colab_type": "text",
    "id": "PueFLiEqQMgm"
   },
   "source": [
    "# 2.2 Análise Exploratória de Dados\n",
    "## *Registro USGS de terremotos desde 1965*\n",
    "#### Fonte: [https://www.kaggle.com/usgs/earthquake-database](https://www.kaggle.com/usgs/earthquake-database)"
   ]
  },
  {
   "cell_type": "markdown",
   "metadata": {
    "colab_type": "text",
    "id": "toeVPPJ8BmIB"
   },
   "source": [
    "# Configuração de ambiente"
   ]
  },
  {
   "cell_type": "markdown",
   "metadata": {
    "colab_type": "text",
    "id": "AzJnQUjEI4TB"
   },
   "source": [
    "## Instalação de dependências"
   ]
  },
  {
   "cell_type": "code",
   "execution_count": 0,
   "metadata": {
    "colab": {},
    "colab_type": "code",
    "id": "MmaW34gmVDjs"
   },
   "outputs": [],
   "source": [
    "# Instalação do Basemap e dependências para dados geoespaciais\n",
    "!apt install proj-bin libproj-dev libgeos-dev\n",
    "!pip install https://github.com/matplotlib/basemap/archive/v1.1.0.tar.gz"
   ]
  },
  {
   "cell_type": "markdown",
   "metadata": {
    "colab_type": "text",
    "id": "fD-dqtYjMF0_"
   },
   "source": [
    "## Importar bibliotecas"
   ]
  },
  {
   "cell_type": "code",
   "execution_count": 0,
   "metadata": {
    "colab": {},
    "colab_type": "code",
    "id": "3-taCYz9QMgn"
   },
   "outputs": [],
   "source": [
    "# Processamento\n",
    "import numpy as np\n",
    "import pandas as pd\n",
    "from pandas import Series\n",
    "\n",
    "# Visualizacao\n",
    "import matplotlib.pyplot as plt\n",
    "from mpl_toolkits.basemap import Basemap\n",
    "import seaborn as sns\n",
    "\n",
    "# Filtrar alertas\n",
    "import warnings\n",
    "warnings.filterwarnings('ignore')"
   ]
  },
  {
   "cell_type": "code",
   "execution_count": 0,
   "metadata": {
    "colab": {},
    "colab_type": "code",
    "id": "rJ0YhCXfUAql"
   },
   "outputs": [],
   "source": [
    "# Matplotlib em células de códigos\n",
    "%matplotlib inline"
   ]
  },
  {
   "cell_type": "code",
   "execution_count": 0,
   "metadata": {
    "colab": {},
    "colab_type": "code",
    "id": "-JS7koDPDyaT"
   },
   "outputs": [],
   "source": [
    "# Matplotlib style\n",
    "plt.style.use('default')"
   ]
  },
  {
   "cell_type": "markdown",
   "metadata": {
    "colab_type": "text",
    "id": "sj-wf3vxCBqN"
   },
   "source": [
    "# Importação dos dados\n",
    "Subir o arquivo **`earthquakes-database.csv`**"
   ]
  },
  {
   "cell_type": "code",
   "execution_count": 0,
   "metadata": {
    "colab": {},
    "colab_type": "code",
    "id": "YUjDK9byJdf3"
   },
   "outputs": [],
   "source": [
    "earthquakes = pd.read_csv(\"earthquakes-database.csv\")"
   ]
  },
  {
   "cell_type": "markdown",
   "metadata": {
    "colab_type": "text",
    "id": "Wtp1q8p4IzIS"
   },
   "source": [
    "# Auditando dados\n",
    "\n",
    "> Colunas com datas foram reconhecidas como `pandas.to_datetime` durante a importação?\n",
    "\n",
    "> [Descrição das variáveis na USGS](https://earthquake.usgs.gov/data/comcat/data-eventterms.php)\n"
   ]
  },
  {
   "cell_type": "markdown",
   "metadata": {
    "colab_type": "text",
    "id": "rlko82vthzHF"
   },
   "source": [
    "Trata-se de uma série ou uma tabela de atributos?"
   ]
  },
  {
   "cell_type": "code",
   "execution_count": 0,
   "metadata": {
    "colab": {},
    "colab_type": "code",
    "id": "aBqpcfLXQMgx"
   },
   "outputs": [],
   "source": [
    "# earthquakes.head()\n",
    "# earthquakes.sample(5)\n",
    "earthquakes.tail()"
   ]
  },
  {
   "cell_type": "markdown",
   "metadata": {
    "colab_type": "text",
    "id": "dIBeMaiCh9GE"
   },
   "source": [
    "Quais são os nomes (*labels*) das variáveis (colunas)?\n"
   ]
  },
  {
   "cell_type": "code",
   "execution_count": 0,
   "metadata": {
    "colab": {},
    "colab_type": "code",
    "id": "7YGhpPafQMgv"
   },
   "outputs": [],
   "source": [
    "# earthquakes.columns\n",
    "\n",
    "for i in earthquakes.columns:\n",
    "    print(i)"
   ]
  },
  {
   "cell_type": "markdown",
   "metadata": {
    "colab_type": "text",
    "id": "1GbXe3iEiRCA"
   },
   "source": [
    "Resumo de informações sobre todas as variáveis presentes no dataset:"
   ]
  },
  {
   "cell_type": "code",
   "execution_count": 0,
   "metadata": {
    "colab": {},
    "colab_type": "code",
    "id": "YdPmJifl-2CF"
   },
   "outputs": [],
   "source": [
    "earthquakes.info()"
   ]
  },
  {
   "cell_type": "markdown",
   "metadata": {
    "colab_type": "text",
    "id": "aoBOoCSgiH3h"
   },
   "source": [
    "Resumo estatístico das variáveis numéricas:"
   ]
  },
  {
   "cell_type": "code",
   "execution_count": 0,
   "metadata": {
    "colab": {},
    "colab_type": "code",
    "id": "lnuNkVg1nCKQ"
   },
   "outputs": [],
   "source": [
    "earthquakes.describe()"
   ]
  },
  {
   "cell_type": "markdown",
   "metadata": {
    "colab_type": "text",
    "id": "tiXrvvIASxKq"
   },
   "source": [
    "## Valores nulos\n",
    "\n",
    "Como estão distribuidos os valores nulos no data set?"
   ]
  },
  {
   "cell_type": "code",
   "execution_count": 0,
   "metadata": {
    "colab": {},
    "colab_type": "code",
    "id": "TvMNF0mh-rja"
   },
   "outputs": [],
   "source": [
    "earthquakes.isnull().sum()"
   ]
  },
  {
   "cell_type": "markdown",
   "metadata": {
    "colab_type": "text",
    "id": "Fqm5ccTRBCqW"
   },
   "source": [
    "## Variáveis categóricas\n",
    "\n",
    "Como é a distribuição das variáveis categóricas?"
   ]
  },
  {
   "cell_type": "code",
   "execution_count": 0,
   "metadata": {
    "colab": {},
    "colab_type": "code",
    "id": "RxupqTw4B0rv"
   },
   "outputs": [],
   "source": [
    "earthquakes['Type'].value_counts()"
   ]
  },
  {
   "cell_type": "code",
   "execution_count": 0,
   "metadata": {
    "colab": {},
    "colab_type": "code",
    "id": "AV2zQZe1O0gy"
   },
   "outputs": [],
   "source": [
    "# Magnitude Type\n",
    "earthquakes['Magnitude Type'].value_counts()"
   ]
  },
  {
   "cell_type": "markdown",
   "metadata": {
    "colab_type": "text",
    "id": "Fs1Y0DuuAUH7"
   },
   "source": [
    "## Séries de tempo"
   ]
  },
  {
   "cell_type": "markdown",
   "metadata": {
    "colab_type": "text",
    "id": "zXd9XpfniZX2"
   },
   "source": [
    "As variáveis de tempo foram identificadas corretamente durante a importação?"
   ]
  },
  {
   "cell_type": "code",
   "execution_count": 0,
   "metadata": {
    "colab": {},
    "colab_type": "code",
    "id": "ZtXwQU8qAGcW"
   },
   "outputs": [],
   "source": [
    "earthquakes['Date'].dtype"
   ]
  },
  {
   "cell_type": "code",
   "execution_count": 0,
   "metadata": {
    "colab": {},
    "colab_type": "code",
    "id": "_u0LVVArCubL"
   },
   "outputs": [],
   "source": [
    "earthquakes['Time'].dtype"
   ]
  },
  {
   "cell_type": "markdown",
   "metadata": {
    "colab_type": "text",
    "id": "U96xpOEzig0P"
   },
   "source": [
    "É necessário transformar estas variáveis em `datetime`?"
   ]
  },
  {
   "cell_type": "code",
   "execution_count": 0,
   "metadata": {
    "colab": {},
    "colab_type": "code",
    "id": "dQqyUfDOCJXV"
   },
   "outputs": [],
   "source": [
    "earthquakes['Date'] = pd.to_datetime(earthquakes['Date'])"
   ]
  },
  {
   "cell_type": "markdown",
   "metadata": {
    "colab_type": "text",
    "id": "KCRnubgXisod"
   },
   "source": [
    "A variável 'Date' pode ser decomposta em uma nova variável 'Year' para realizarmos estatísticas por ano?"
   ]
  },
  {
   "cell_type": "code",
   "execution_count": 0,
   "metadata": {
    "colab": {},
    "colab_type": "code",
    "id": "B083JiYLCRsl"
   },
   "outputs": [],
   "source": [
    "# Criar coluna 'Year' a partir da coluna 'Date'\n",
    "earthquakes['Year'] = earthquakes['Date'].dt.year"
   ]
  },
  {
   "cell_type": "code",
   "execution_count": 0,
   "metadata": {
    "colab": {},
    "colab_type": "code",
    "id": "4oGpPEIoAZKk"
   },
   "outputs": [],
   "source": [
    "# Converter a coluna 'Time' em datetime\n",
    "earthquakes['Time'] = pd.to_datetime(earthquakes['Time'])"
   ]
  },
  {
   "cell_type": "markdown",
   "metadata": {
    "colab_type": "text",
    "id": "Y0_1z6ZIPScM"
   },
   "source": [
    "## Filtrar para visualização\n",
    "Filtrar os tipos de sismos para melhor visualizar os dados."
   ]
  },
  {
   "cell_type": "code",
   "execution_count": 0,
   "metadata": {
    "colab": {},
    "colab_type": "code",
    "id": "fkvXv1EtQMg4"
   },
   "outputs": [],
   "source": [
    "# Filtrando sismos tectônicos e geológicos\n",
    "earthquakes_geo = earthquakes[earthquakes['Type'] == 'Earthquake']"
   ]
  },
  {
   "cell_type": "code",
   "execution_count": 0,
   "metadata": {
    "colab": {},
    "colab_type": "code",
    "id": "nfYb0Fq6SnMt"
   },
   "outputs": [],
   "source": [
    "# Filtrar sismos nucleares\n",
    "nuclear_explosion = earthquakes[earthquakes['Type'] == 'Nuclear Explosion']"
   ]
  },
  {
   "cell_type": "markdown",
   "metadata": {
    "colab_type": "text",
    "id": "OplZpxDHQMg3"
   },
   "source": [
    "# Visualização\n"
   ]
  },
  {
   "cell_type": "markdown",
   "metadata": {
    "colab_type": "text",
    "id": "FIZFpyyaGn9R"
   },
   "source": [
    "## Pré-visualização"
   ]
  },
  {
   "cell_type": "markdown",
   "metadata": {
    "colab_type": "text",
    "id": "wZjVZhceKItC"
   },
   "source": [
    "Se plotarmos todas as variáveis de uma só vez, a visualização seria esclarecedora?"
   ]
  },
  {
   "cell_type": "code",
   "execution_count": 0,
   "metadata": {
    "colab": {},
    "colab_type": "code",
    "id": "RahgYz1AAqj8"
   },
   "outputs": [],
   "source": [
    "earthquakes.plot();"
   ]
  },
  {
   "cell_type": "markdown",
   "metadata": {
    "colab_type": "text",
    "id": "U4960lS7KivI"
   },
   "source": [
    "Podemos visualizar em apenas um gráfico todas as variáveis contínuas e suas relações para se ter um panorama das distribuições e correlações?"
   ]
  },
  {
   "cell_type": "code",
   "execution_count": 0,
   "metadata": {
    "colab": {},
    "colab_type": "code",
    "id": "1bM_JIcLvw99"
   },
   "outputs": [],
   "source": [
    "sns.pairplot(earthquakes, diag_kind='kde', plot_kws={'alpha': 0.2});"
   ]
  },
  {
   "cell_type": "markdown",
   "metadata": {
    "colab_type": "text",
    "id": "5OFSKSkR6a2x"
   },
   "source": [
    "## Distribuição de variáveis"
   ]
  },
  {
   "cell_type": "code",
   "execution_count": 0,
   "metadata": {
    "colab": {},
    "colab_type": "code",
    "id": "fjzFOXkqsswD"
   },
   "outputs": [],
   "source": [
    "def bar_plot(data):\n",
    "    series = pd.Series(data).value_counts().sort_index()\n",
    "    return series.plot(kind='bar')\n",
    "\n",
    "def line_plot(data):\n",
    "    series = pd.Series(data).value_counts().sort_index()\n",
    "    return series.plot()"
   ]
  },
  {
   "cell_type": "markdown",
   "metadata": {
    "colab_type": "text",
    "id": "VVlviemwDlpg"
   },
   "source": [
    "### Distribuição de valores nulos"
   ]
  },
  {
   "cell_type": "code",
   "execution_count": 0,
   "metadata": {
    "colab": {},
    "colab_type": "code",
    "id": "hl86QuDyS0c3"
   },
   "outputs": [],
   "source": [
    "earthquakes.isnull().sum().plot.barh();"
   ]
  },
  {
   "cell_type": "markdown",
   "metadata": {
    "colab_type": "text",
    "id": "cLJnxkblDz1T"
   },
   "source": [
    "### Variáveis contínuas"
   ]
  },
  {
   "cell_type": "markdown",
   "metadata": {
    "colab_type": "text",
    "id": "AAyQxsjbLMVC"
   },
   "source": [
    "Como é o histograma de distribuição de valores de magnitude, profundidade e etc.?"
   ]
  },
  {
   "cell_type": "code",
   "execution_count": 0,
   "metadata": {
    "colab": {},
    "colab_type": "code",
    "id": "CVg2ZJAHLnvk"
   },
   "outputs": [],
   "source": [
    "# Plotar histograma de Magnitude para sismos geológicos"
   ]
  },
  {
   "cell_type": "code",
   "execution_count": 0,
   "metadata": {
    "colab": {},
    "colab_type": "code",
    "id": "dlim-rO9MnJt"
   },
   "outputs": [],
   "source": [
    "# Plotar histograma de Magnitude para sismos nucleares"
   ]
  },
  {
   "cell_type": "code",
   "execution_count": 0,
   "metadata": {
    "colab": {},
    "colab_type": "code",
    "id": "9z5xsR1gXAS1"
   },
   "outputs": [],
   "source": [
    "earthquakes['Depth Seismic Stations'].hist();"
   ]
  },
  {
   "cell_type": "markdown",
   "metadata": {
    "colab_type": "text",
    "id": "i3tS4vFpFeL_"
   },
   "source": [
    "### Variação ao longo do tempo\n",
    "Como é a frequência do sismos ao longo do tempo?"
   ]
  },
  {
   "cell_type": "code",
   "execution_count": 0,
   "metadata": {
    "colab": {},
    "colab_type": "code",
    "id": "VwB0TdRgQMhZ"
   },
   "outputs": [],
   "source": [
    "# earthquakes_geo['Year'].value_counts().sort_index().plot()\n",
    "line_plot(earthquakes_geo['Year'])\n",
    "# Plot\n",
    "plt.ylabel(\"Frequência\")\n",
    "plt.title(\"Sismos por ano\")\n",
    "plt.show()"
   ]
  },
  {
   "cell_type": "markdown",
   "metadata": {
    "colab_type": "text",
    "id": "LT9HDpx6fsvY"
   },
   "source": [
    "Qual é o maior número de sismos?"
   ]
  },
  {
   "cell_type": "code",
   "execution_count": 0,
   "metadata": {
    "colab": {},
    "colab_type": "code",
    "id": "ATjmYGb3O-59"
   },
   "outputs": [],
   "source": [
    "earthquakes_geo['Year'].value_counts().max()"
   ]
  },
  {
   "cell_type": "markdown",
   "metadata": {
    "colab_type": "text",
    "id": "G622A-IkgC6h"
   },
   "source": [
    "Em qual ano se deu a maior ocorrência de terremotos?"
   ]
  },
  {
   "cell_type": "code",
   "execution_count": 0,
   "metadata": {
    "colab": {},
    "colab_type": "code",
    "id": "sliZvB9UgCNe"
   },
   "outputs": [],
   "source": [
    "earthquakes_geo['Year'].value_counts().idxmax()"
   ]
  },
  {
   "cell_type": "markdown",
   "metadata": {
    "colab_type": "text",
    "id": "BuSlreBzQMhd"
   },
   "source": [
    "Como é a distribuição de valores discretos de magnitude de sismos?\n"
   ]
  },
  {
   "cell_type": "code",
   "execution_count": 0,
   "metadata": {
    "colab": {},
    "colab_type": "code",
    "id": "KqNjaYPCQMhd"
   },
   "outputs": [],
   "source": [
    "magnitudes_roundup = np.around(earthquakes[\"Magnitude\"])\n",
    "magnitudes_roundup.value_counts().sort_index().plot.bar()\n",
    "plt.ylabel(\"Frequência\")\n",
    "plt.title(\"Magnitude\")\n",
    "plt.show()"
   ]
  },
  {
   "cell_type": "markdown",
   "metadata": {
    "colab_type": "text",
    "id": "H97fH1klhDt1"
   },
   "source": [
    "Como fica a distribuição de sismos de explosões nucleares ao longo do tempo?"
   ]
  },
  {
   "cell_type": "code",
   "execution_count": 0,
   "metadata": {
    "colab": {},
    "colab_type": "code",
    "id": "FmZn4jAIhDId"
   },
   "outputs": [],
   "source": [
    "# Plotar a variação de sismos nucleares no tmepo"
   ]
  },
  {
   "cell_type": "markdown",
   "metadata": {
    "colab_type": "text",
    "id": "JV1_nfcjg1vt"
   },
   "source": [
    "## Correlações entre variáveis"
   ]
  },
  {
   "cell_type": "markdown",
   "metadata": {
    "colab_type": "text",
    "id": "4CQ4IJgbOcj8"
   },
   "source": [
    "Como é a distribuição de sismos por profundidade?"
   ]
  },
  {
   "cell_type": "code",
   "execution_count": 0,
   "metadata": {
    "colab": {},
    "colab_type": "code",
    "id": "AKgJWPyJQMhf"
   },
   "outputs": [],
   "source": [
    "plt.scatter(earthquakes[\"Magnitude\"], earthquakes[\"Depth\"])\n",
    "plt.ylim(800, -50)\n",
    "plt.ylabel('Depth (km)')\n",
    "plt.xlabel('Magnitude')\n",
    "plt.show()"
   ]
  },
  {
   "cell_type": "markdown",
   "metadata": {
    "colab_type": "text",
    "id": "r4FiBq5W6BWO"
   },
   "source": [
    "## Distribuição geoespacial"
   ]
  },
  {
   "cell_type": "markdown",
   "metadata": {
    "colab_type": "text",
    "id": "eKOQIvg8UIgo"
   },
   "source": [
    "Como estão distribuídos os sismos do data set em termos de coordenadas geográficas?"
   ]
  },
  {
   "cell_type": "code",
   "execution_count": 0,
   "metadata": {
    "colab": {},
    "colab_type": "code",
    "id": "1Ey-PQCiQMg6"
   },
   "outputs": [],
   "source": [
    "m = Basemap(projection='mill', llcrnrlat=-80, urcrnrlat=80, llcrnrlon=-180, urcrnrlon=180, lat_ts=20, resolution='c')\n",
    "\n",
    "fig = plt.figure(figsize=(16, 24))\n",
    "\n",
    "longitudes_geo = earthquakes_geo[\"Longitude\"].tolist()\n",
    "latitudes_geo = earthquakes_geo[\"Latitude\"].tolist()\n",
    "\n",
    "a, b = m(longitudes_geo, latitudes_geo)\n",
    "\n",
    "plt.title(\"Sismos (verde)\")\n",
    "m.plot(a, b, \"o\", markersize = 3, color = 'green', alpha=0.2)\n",
    "\n",
    "m.drawcoastlines()\n",
    "m.drawcountries()\n",
    "m.fillcontinents(color='gray', lake_color='aqua')\n",
    "m.drawmapboundary()\n",
    "m.drawcountries()\n",
    "\n",
    "plt.show()"
   ]
  },
  {
   "cell_type": "code",
   "execution_count": 0,
   "metadata": {
    "colab": {},
    "colab_type": "code",
    "id": "a9pekD6iSbTT"
   },
   "outputs": [],
   "source": [
    "plt.close('all')"
   ]
  },
  {
   "cell_type": "markdown",
   "metadata": {
    "colab_type": "text",
    "id": "ODuhek_OQMg8"
   },
   "source": [
    "Como é a distribuição dos sismos por zonas de latitude norte, equatorial e sul?"
   ]
  },
  {
   "cell_type": "code",
   "execution_count": 0,
   "metadata": {
    "colab": {},
    "colab_type": "code",
    "id": "KhaFznMJQMg9"
   },
   "outputs": [],
   "source": [
    "def division(data):\n",
    "    \n",
    "    # Split\n",
    "    north_n = sum(data[\"Latitude\"] >= 30)\n",
    "    middle_n = sum(np.logical_and(data[\"Latitude\"] < 30, data[\"Latitude\"] > -30))\n",
    "    south_n = sum(data[\"Latitude\"] <= -30)\n",
    "    \n",
    "    # Sumário\n",
    "    total = north_n + middle_n + south_n\n",
    "    north_p = north_n / total * 100\n",
    "    middle_p = middle_n / total * 100\n",
    "    south_p = south_n / total * 100\n",
    "    \n",
    "    return [north_n, middle_n, south_n, north_p, middle_p, south_p]\n",
    "\n"
   ]
  },
  {
   "cell_type": "code",
   "execution_count": 0,
   "metadata": {
    "colab": {},
    "colab_type": "code",
    "id": "D_Zc_SJkICa4"
   },
   "outputs": [],
   "source": [
    "# Segmentar dados por zona\n",
    "earthquakes_geo_split = division(earthquakes_geo)\n",
    "\n",
    "# Criar dataframe e inserir dados de frequência\n",
    "earthquakes_geo_split_df = pd.DataFrame(earthquakes_geo_split[0:3],\n",
    "                                        index=['Norte', 'Equatorial', 'Sul'],\n",
    "                                        columns=['Frequência (n)'])\n",
    "\n",
    "# Inserir porcentagens no dataframe\n",
    "earthquakes_geo_split_df['Porcentagem (%)'] = earthquakes_geo_split[3:]\n",
    "\n",
    "# Visualizar\n",
    "earthquakes_geo_split_df.iloc[::-1, 1].plot.barh();"
   ]
  },
  {
   "cell_type": "markdown",
   "metadata": {
    "colab_type": "text",
    "id": "s3KBx_2_thLS"
   },
   "source": [
    "Como é a distribuição de sismos a partir de 2012?"
   ]
  },
  {
   "cell_type": "code",
   "execution_count": 0,
   "metadata": {
    "colab": {},
    "colab_type": "code",
    "id": "qsnbxwepQMhB"
   },
   "outputs": [],
   "source": [
    "# Filtrar sismos entre os anos de 2012 e 2016\n",
    "last_geo = earthquakes_geo[(earthquakes_geo[\"Year\"] >= 2012) & (earthquakes_geo[\"Year\"] <= 2016)]\n",
    "\n",
    "# Criar listas de lat&long\n",
    "longitudes_geo = last_geo[\"Longitude\"].tolist()\n",
    "latitudes_geo = last_geo[\"Latitude\"].tolist()\n",
    "\n",
    "m = Basemap(projection='mill', llcrnrlat=-80, urcrnrlat=80, llcrnrlon=-180, urcrnrlon=180, lat_ts=20, resolution='l')\n",
    "x, y = m(longitudes_geo, latitudes_geo)\n",
    "\n",
    "plt.figure(figsize=(16, 24))\n",
    "plt.title(\"Sismos (verde) entre 2012 e 2016\")\n",
    "\n",
    "m.plot(x, y, \"o\", markersize = 3, color = 'green')\n",
    "\n",
    "m.drawcoastlines()\n",
    "m.fillcontinents(color='gray', lake_color='aqua', alpha=0.6)\n",
    "m.drawmapboundary()\n",
    "m.drawcountries()\n",
    "\n",
    "plt.show()"
   ]
  }
 ],
 "metadata": {
  "colab": {
   "name": "2.2 EDA Registro de Terremotos USGS.ipynb",
   "provenance": [
    {
     "file_id": "1DlhK09MxlUtLxm5eU26CcGmDBpHK-0FD",
     "timestamp": 1536419475224
    }
   ],
   "toc_visible": true,
   "version": "0.3.2"
  },
  "kernelspec": {
   "display_name": "(base) Python 3.6",
   "language": "python",
   "name": "python3"
  },
  "language_info": {
   "codemirror_mode": {
    "name": "ipython",
    "version": 3
   },
   "file_extension": ".py",
   "mimetype": "text/x-python",
   "name": "python",
   "nbconvert_exporter": "python",
   "pygments_lexer": "ipython3",
   "version": "3.6.6"
  },
  "toc": {
   "base_numbering": 1,
   "nav_menu": {},
   "number_sections": false,
   "sideBar": true,
   "skip_h1_title": false,
   "title_cell": "Table of Contents",
   "title_sidebar": "Contents",
   "toc_cell": false,
   "toc_position": {},
   "toc_section_display": true,
   "toc_window_display": true
  },
  "varInspector": {
   "cols": {
    "lenName": 16,
    "lenType": 16,
    "lenVar": 40
   },
   "kernels_config": {
    "python": {
     "delete_cmd_postfix": "",
     "delete_cmd_prefix": "del ",
     "library": "var_list.py",
     "varRefreshCmd": "print(var_dic_list())"
    },
    "r": {
     "delete_cmd_postfix": ") ",
     "delete_cmd_prefix": "rm(",
     "library": "var_list.r",
     "varRefreshCmd": "cat(var_dic_list()) "
    }
   },
   "types_to_exclude": [
    "module",
    "function",
    "builtin_function_or_method",
    "instance",
    "_Feature"
   ],
   "window_display": false
  }
 },
 "nbformat": 4,
 "nbformat_minor": 1
}
