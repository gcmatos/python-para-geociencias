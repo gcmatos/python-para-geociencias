{
 "cells": [
  {
   "cell_type": "markdown",
   "metadata": {},
   "source": [
    "[![Open In Colab](https://colab.research.google.com/assets/colab-badge.svg)](https://colab.research.google.com/github/gcmatos/python-para-geociencias/blob/master/notebooks/1.1%20Primeiros%20passos%20no%20Colab.ipynb)\n",
    "\n",
    "Ctrl/Cmd + click para abrir em uma nova aba do navegador web e utilizar o Google Colab para rodar o tutorial."
   ]
  },
  {
   "cell_type": "markdown",
   "metadata": {
    "colab_type": "text",
    "id": "hXGlHhAgHiKA"
   },
   "source": [
    "# Primeiros passos no Colab\n",
    "__O que iremos aprender__\n",
    "- Básico de Jupyter/Colab notebooks\n",
    "- Comandos básicos Linux para administrar a máquina virtual\n",
    "- Utilizar code snippets disponíveis no Colab para auxiliar nas análises e configurações do notebook\n",
    "- Conhecer as magic functions do IPython"
   ]
  },
  {
   "cell_type": "markdown",
   "metadata": {
    "colab_type": "text",
    "id": "JyG45Qk3qQLS"
   },
   "source": [
    "## Células (**cells**)\n",
    "Colab notebooks são uma lista de células que contém texto explicativo ou códigos executáveis e seus respectivos *outputs*."
   ]
  },
  {
   "cell_type": "markdown",
   "metadata": {
    "colab_type": "text",
    "id": "KR921S_OQSHG"
   },
   "source": [
    "### Células de código (*code cells*)\n"
   ]
  },
  {
   "cell_type": "code",
   "execution_count": 1,
   "metadata": {
    "colab": {},
    "colab_type": "code",
    "id": "WUtu4316QSHL"
   },
   "outputs": [
    {
     "data": {
      "text/plain": [
       "10"
      ]
     },
     "execution_count": 1,
     "metadata": {},
     "output_type": "execute_result"
    }
   ],
   "source": [
    "a = 10\n",
    "a"
   ]
  },
  {
   "cell_type": "markdown",
   "metadata": {
    "colab_type": "text",
    "id": "Id6tDF1HQSHD"
   },
   "source": [
    "### Células de texto (*text cells*)\n",
    "Esta é uma **célula de texto**. \n",
    "Você pode editar esta célula usando **duplo-click** para editá-la.\n",
    "\n",
    "Utilize sintaxe [Markdown\n",
    "guide](/notebooks/markdown_guide.ipynb) para editar os textos."
   ]
  },
  {
   "cell_type": "markdown",
   "metadata": {
    "colab_type": "text",
    "id": "vqiuJQAnN3rA"
   },
   "source": [
    "### Células de equações (LaTeX)\n",
    "Células de texto aceitam liguagem [LaTeX](http://www.latex-project.org/) para escrever equações com notação matemática\n",
    "\n",
    "Para escrever fórmulas matemáticas basta utilizar pares de símbolos **\\$** no início e no final de cada equação.\n",
    "\n",
    "Por exemplo: `$\\sqrt{3x-1}+(1+x)^2$` \n",
    "> $\\sqrt{3x-1}+(1+x)^2.$\n"
   ]
  },
  {
   "cell_type": "markdown",
   "metadata": {
    "colab_type": "text",
    "id": "VEuCaGlaFasN"
   },
   "source": [
    "## Linux essencial\n",
    "Checar a estrutura de arquivos por linhas de comando, utilizando `!` para acessar o terminal Linux. "
   ]
  },
  {
   "cell_type": "markdown",
   "metadata": {
    "colab_type": "text",
    "id": "lt_t_36k7_9o"
   },
   "source": [
    "### Estrutura de arquivos"
   ]
  },
  {
   "cell_type": "code",
   "execution_count": 2,
   "metadata": {
    "colab": {},
    "colab_type": "code",
    "id": "UracMqhMzSv7"
   },
   "outputs": [
    {
     "name": "stdout",
     "output_type": "stream",
     "text": [
      "total 672\r\n",
      "-rw-------  1 gcmatos  staff  22636 Jul 23 20:41 1.1 Primeiros passos no Colab.ipynb\r\n",
      "-rw-------  1 gcmatos  staff  55205 Apr 15 09:45 1.2 Primeiros passos em Python.ipynb\r\n",
      "-rw-r--r--  1 gcmatos  staff  84016 Apr 16 17:54 1.3 Estruturas de dados em Python.ipynb\r\n",
      "-rw-r--r--  1 gcmatos  staff  49353 Apr 17 08:58 2.1 Importação e visualização de dados.ipynb\r\n",
      "-rw-r--r--  1 gcmatos  staff  23566 Apr 15 13:47 2.2 EDA Registro de Terremotos USGS.ipynb\r\n",
      "-rw-------  1 gcmatos  staff  40819 Jul 23 20:21 3.1 Limpeza e transformação de dados.ipynb\r\n",
      "-rw-------  1 gcmatos  staff  20305 Apr 15 13:47 3.2 EDA Erupções Vulcânicas do Holoceno.ipynb\r\n",
      "-rw-------  1 gcmatos  staff  36149 Apr 15 17:14 3.3 Escalares, vetores, matrizes e tensores.ipynb\r\n"
     ]
    }
   ],
   "source": [
    "# !pwd\n",
    "!ls -l"
   ]
  },
  {
   "cell_type": "code",
   "execution_count": 3,
   "metadata": {
    "colab": {},
    "colab_type": "code",
    "id": "emn0SnvTzUyZ"
   },
   "outputs": [
    {
     "name": "stdout",
     "output_type": "stream",
     "text": [
      "ls: /content/: No such file or directory\r\n"
     ]
    }
   ],
   "source": [
    "!ls /content/"
   ]
  },
  {
   "cell_type": "markdown",
   "metadata": {
    "colab_type": "text",
    "id": "_HgZgpk6y1E4"
   },
   "source": [
    "### Memória disponível na VM"
   ]
  },
  {
   "cell_type": "code",
   "execution_count": 4,
   "metadata": {
    "colab": {},
    "colab_type": "code",
    "id": "zwv78DfaZZCL"
   },
   "outputs": [
    {
     "name": "stdout",
     "output_type": "stream",
     "text": [
      "/bin/sh: free: command not found\r\n"
     ]
    }
   ],
   "source": [
    "!free -m"
   ]
  },
  {
   "cell_type": "markdown",
   "metadata": {
    "colab_type": "text",
    "id": "1QrHbEme8dAz"
   },
   "source": [
    "### Instalando softwares Linux"
   ]
  },
  {
   "cell_type": "code",
   "execution_count": 5,
   "metadata": {
    "colab": {},
    "colab_type": "code",
    "id": "q_6gM-omEtcq"
   },
   "outputs": [
    {
     "name": "stdout",
     "output_type": "stream",
     "text": [
      "Unable to locate an executable at \"/Library/Java/JavaVirtualMachines/jdk1.8.0_111.jdk/Contents/Home/bin/apt\" (-1)\n",
      "Unable to locate an executable at \"/Library/Java/JavaVirtualMachines/jdk1.8.0_111.jdk/Contents/Home/bin/apt\" (-1)\n"
     ]
    }
   ],
   "source": [
    "# Atualização do Ubuntu\n",
    "!apt update\n",
    "!apt upgrade"
   ]
  },
  {
   "cell_type": "code",
   "execution_count": 6,
   "metadata": {
    "colab": {},
    "colab_type": "code",
    "id": "PUrfS3U8zvdA"
   },
   "outputs": [
    {
     "name": "stdout",
     "output_type": "stream",
     "text": [
      "Unable to locate an executable at \"/Library/Java/JavaVirtualMachines/jdk1.8.0_111.jdk/Contents/Home/bin/apt\" (-1)\r\n"
     ]
    }
   ],
   "source": [
    "!apt install tree"
   ]
  },
  {
   "cell_type": "code",
   "execution_count": 7,
   "metadata": {
    "colab": {},
    "colab_type": "code",
    "id": "x4USpzVPE_kt"
   },
   "outputs": [
    {
     "name": "stdout",
     "output_type": "stream",
     "text": [
      "/bin/sh: tree: command not found\r\n"
     ]
    }
   ],
   "source": [
    "!tree /content/"
   ]
  },
  {
   "cell_type": "markdown",
   "metadata": {
    "colab_type": "text",
    "id": "2qWLyQVH_V-A"
   },
   "source": [
    "### Checar a versão do Python"
   ]
  },
  {
   "cell_type": "code",
   "execution_count": 8,
   "metadata": {
    "colab": {},
    "colab_type": "code",
    "id": "0jQ9T_X7puCT"
   },
   "outputs": [
    {
     "name": "stdout",
     "output_type": "stream",
     "text": [
      "Python 3.7.2\r\n"
     ]
    }
   ],
   "source": [
    "!python -V"
   ]
  },
  {
   "cell_type": "markdown",
   "metadata": {
    "colab_type": "text",
    "id": "gz9YhmtvGh00"
   },
   "source": [
    "## Code snippets (Colab notebooks)\n",
    "Utilizar code snippets como receitas para carregar arquivos na máquina virtual, plotar gráficos, instalar pacotes Python. Este recurso está disponível apenas para usuários do Colab. Os demais usuários de Jupyter notebooks não possuem esse recurso."
   ]
  },
  {
   "cell_type": "markdown",
   "metadata": {
    "colab_type": "text",
    "id": "_0UXYbvRSSE9"
   },
   "source": [
    "### Upload arquivos\n",
    "O *Upload* de arquivos pode ser feito de duas formas:\n",
    "- Pelo menu *Files* na barra lateral do notebook\n",
    "- Utilizando* code snippets*"
   ]
  },
  {
   "cell_type": "code",
   "execution_count": 9,
   "metadata": {
    "colab": {},
    "colab_type": "code",
    "id": "gKPBebz06my5"
   },
   "outputs": [],
   "source": [
    "# Uploading files from your local file system"
   ]
  },
  {
   "cell_type": "markdown",
   "metadata": {
    "colab_type": "text",
    "id": "nePRziCFO1hj"
   },
   "source": [
    "### Montar diretório Gdrive\n",
    "Montar um GDrive no Colab é útil quando se quer trabalhar com dados muito grandes, porém é necessário sempre remontá-lo quando reiniciar uma intância de VM Colab."
   ]
  },
  {
   "cell_type": "code",
   "execution_count": 10,
   "metadata": {
    "colab": {},
    "colab_type": "code",
    "id": "QJrX43Pf6Ql0"
   },
   "outputs": [],
   "source": [
    "# Mounting Google Drive in your VM"
   ]
  },
  {
   "cell_type": "markdown",
   "metadata": {
    "colab_type": "text",
    "id": "0qKpHKF47Vu8"
   },
   "source": [
    "### Intalação de softwares e bibliotecas Python"
   ]
  },
  {
   "cell_type": "code",
   "execution_count": 11,
   "metadata": {
    "scrolled": true
   },
   "outputs": [],
   "source": [
    "# # Exemplo de instalação do mplsteronet para plotar estereogramas\n",
    "# !pip install mplstereonet"
   ]
  },
  {
   "cell_type": "markdown",
   "metadata": {
    "colab_type": "text",
    "id": "L4GAZC-QQxHn"
   },
   "source": [
    "### Gráficos"
   ]
  },
  {
   "cell_type": "code",
   "execution_count": 12,
   "metadata": {
    "colab": {},
    "colab_type": "code",
    "id": "2HG9El2w6iwT"
   },
   "outputs": [],
   "source": [
    "# Adicionar gráfico"
   ]
  },
  {
   "cell_type": "code",
   "execution_count": 13,
   "metadata": {
    "colab": {},
    "colab_type": "code",
    "id": "austdaeFEY2A"
   },
   "outputs": [],
   "source": [
    "# # load an example dataset\n",
    "# from vega_datasets import data\n",
    "# cars = data.cars()\n",
    "\n",
    "# # plot the dataset, referencing dataframe column names\n",
    "# import altair as alt\n",
    "# alt.Chart(cars).mark_bar().encode(\n",
    "#   x='mean(Miles_per_Gallon)',\n",
    "#   y='Origin',\n",
    "#   color='Origin'\n",
    "# )"
   ]
  },
  {
   "cell_type": "code",
   "execution_count": 14,
   "metadata": {
    "colab": {},
    "colab_type": "code",
    "id": "Zvk1VWclEiH2"
   },
   "outputs": [],
   "source": [
    "# # load an example dataset\n",
    "# from vega_datasets import data\n",
    "# cars = data.cars()\n",
    "\n",
    "# import altair as alt\n",
    "\n",
    "# interval = alt.selection_interval()\n",
    "\n",
    "# points = alt.Chart(cars).mark_point().encode(\n",
    "#   x='Horsepower',\n",
    "#   y='Miles_per_Gallon',\n",
    "#   color=alt.condition(interval, 'Origin', alt.value('lightgray'))\n",
    "# ).properties(\n",
    "#   selection=interval\n",
    "# )\n",
    "\n",
    "# histogram = alt.Chart(cars).mark_bar().encode(\n",
    "#   x='count()',\n",
    "#   y='Origin',\n",
    "#   color='Origin'\n",
    "# ).transform_filter(interval)\n",
    "\n",
    "# points & histogram"
   ]
  },
  {
   "cell_type": "markdown",
   "metadata": {
    "colab_type": "text",
    "id": "1YHTXslsao5q"
   },
   "source": [
    "### Formulários"
   ]
  },
  {
   "cell_type": "code",
   "execution_count": 15,
   "metadata": {
    "colab": {},
    "colab_type": "code",
    "id": "Oi1DI3yEao5s"
   },
   "outputs": [],
   "source": [
    "# Adicionar formulário"
   ]
  },
  {
   "cell_type": "markdown",
   "metadata": {
    "colab_type": "text",
    "id": "tlja86i0sDxj"
   },
   "source": [
    "## Funções \"mágicas\" %\n"
   ]
  },
  {
   "cell_type": "code",
   "execution_count": 16,
   "metadata": {
    "colab": {},
    "colab_type": "code",
    "id": "Ga8pzrYGsIfI"
   },
   "outputs": [],
   "source": [
    "# Documentação do IPython\n",
    "%quickref"
   ]
  },
  {
   "cell_type": "code",
   "execution_count": 17,
   "metadata": {
    "colab": {},
    "colab_type": "code",
    "id": "n7fLRm63sicL"
   },
   "outputs": [],
   "source": [
    "# Documentação das magic fuctions\n",
    "%magic"
   ]
  },
  {
   "cell_type": "code",
   "execution_count": 18,
   "metadata": {
    "colab": {},
    "colab_type": "code",
    "id": "iXdrJCdg1iBO"
   },
   "outputs": [
    {
     "data": {
      "text/plain": [
       "'/Users/gcmatos/jupyter-notebooks/python-para-geociencias/notebooks'"
      ]
     },
     "execution_count": 18,
     "metadata": {},
     "output_type": "execute_result"
    }
   ],
   "source": [
    "# Identificar diretório de trabalho\n",
    "%pwd"
   ]
  },
  {
   "cell_type": "code",
   "execution_count": 19,
   "metadata": {
    "colab": {},
    "colab_type": "code",
    "id": "yZYRAaNu3eqB"
   },
   "outputs": [
    {
     "name": "stdout",
     "output_type": "stream",
     "text": [
      "1.1 Primeiros passos no Colab.ipynb\r\n",
      "1.2 Primeiros passos em Python.ipynb\r\n",
      "1.3 Estruturas de dados em Python.ipynb\r\n",
      "2.1 Importação e visualização de dados.ipynb\r\n",
      "2.2 EDA Registro de Terremotos USGS.ipynb\r\n",
      "3.1 Limpeza e transformação de dados.ipynb\r\n",
      "3.2 EDA Erupções Vulcânicas do Holoceno.ipynb\r\n",
      "3.3 Escalares, vetores, matrizes e tensores.ipynb\r\n"
     ]
    }
   ],
   "source": [
    "# Listar arquivos e diretórios do diretório de trabalho\n",
    "%ls"
   ]
  },
  {
   "cell_type": "code",
   "execution_count": 20,
   "metadata": {
    "colab": {},
    "colab_type": "code",
    "id": "OHVHp-n3wyjv"
   },
   "outputs": [
    {
     "name": "stdout",
     "output_type": "stream",
     "text": [
      "Hello, World!\n"
     ]
    }
   ],
   "source": [
    "# Rodar scripts\n",
    "%run ../data/hello-world.py"
   ]
  },
  {
   "cell_type": "code",
   "execution_count": 21,
   "metadata": {
    "colab": {},
    "colab_type": "code",
    "id": "jqelJTPHw2T7"
   },
   "outputs": [
    {
     "name": "stdout",
     "output_type": "stream",
     "text": [
      "Hello, World!\n",
      "CPU times: user 184 µs, sys: 95 µs, total: 279 µs\n",
      "Wall time: 214 µs\n"
     ]
    }
   ],
   "source": [
    "# Contar tempo de execução de comando apenas uma vez\n",
    "%time print(\"Hello, World!\")"
   ]
  },
  {
   "cell_type": "code",
   "execution_count": 22,
   "metadata": {
    "colab": {},
    "colab_type": "code",
    "id": "YeYGV7OUxHk6"
   },
   "outputs": [
    {
     "name": "stdout",
     "output_type": "stream",
     "text": [
      "233 ns ± 1.68 ns per loop (mean ± std. dev. of 7 runs, 1000000 loops each)\n"
     ]
    }
   ],
   "source": [
    "# Calcular a média de tempo de execução de códigos de tempo muito curto de execução\n",
    "%timeit range(1000)"
   ]
  },
  {
   "cell_type": "code",
   "execution_count": 23,
   "metadata": {
    "colab": {},
    "colab_type": "code",
    "id": "MotF8nXtxbJ2"
   },
   "outputs": [],
   "source": [
    "# Declarar uma variável\n",
    "variavel_a = 1\n",
    "variavel_b = 2"
   ]
  },
  {
   "cell_type": "code",
   "execution_count": 24,
   "metadata": {
    "colab": {},
    "colab_type": "code",
    "id": "6NJ8idJbxiDD"
   },
   "outputs": [
    {
     "name": "stdout",
     "output_type": "stream",
     "text": [
      "a\t autopep8\t json\t variavel_a\t variavel_b\t yapf_reformat\t \n"
     ]
    }
   ],
   "source": [
    "# Listar variáveis do namespace\n",
    "%who"
   ]
  },
  {
   "cell_type": "code",
   "execution_count": 25,
   "metadata": {
    "colab": {},
    "colab_type": "code",
    "id": "GiuGZXARxj5K"
   },
   "outputs": [
    {
     "data": {
      "text/plain": [
       "['a', 'autopep8', 'json', 'variavel_a', 'variavel_b', 'yapf_reformat']"
      ]
     },
     "execution_count": 25,
     "metadata": {},
     "output_type": "execute_result"
    }
   ],
   "source": [
    "# Lista de variáveis no formato Python list\n",
    "%who_ls"
   ]
  },
  {
   "cell_type": "code",
   "execution_count": 26,
   "metadata": {
    "colab": {},
    "colab_type": "code",
    "id": "Okxz301FxoFi"
   },
   "outputs": [
    {
     "name": "stdout",
     "output_type": "stream",
     "text": [
      "Variable        Type        Data/Info\n",
      "-------------------------------------\n",
      "a               int         10\n",
      "autopep8        module      <module 'autopep8' from '<...>te-packages/autopep8.py'>\n",
      "json            module      <module 'json' from '/Use<...>hon3.6/json/__init__.py'>\n",
      "variavel_a      int         1\n",
      "variavel_b      int         2\n",
      "yapf_reformat   function    <function yapf_reformat at 0x10deff730>\n"
     ]
    }
   ],
   "source": [
    "# Tabela de variáveis detalhada\n",
    "%whos"
   ]
  },
  {
   "cell_type": "code",
   "execution_count": 27,
   "metadata": {
    "colab": {},
    "colab_type": "code",
    "id": "saMc6ZzIx1Ny"
   },
   "outputs": [],
   "source": [
    "# Apagar variável do namespace\n",
    "%xdel variavel_a"
   ]
  },
  {
   "cell_type": "code",
   "execution_count": 28,
   "metadata": {
    "colab": {},
    "colab_type": "code",
    "id": "3IcopO5-tuCt"
   },
   "outputs": [
    {
     "name": "stdout",
     "output_type": "stream",
     "text": [
      "a = 10\n",
      "a\n",
      "# !pwd\n",
      "!ls -l\n",
      "!ls /content/\n",
      "!free -m\n",
      "# Atualização do Ubuntu\n",
      "!apt update\n",
      "!apt upgrade\n",
      "!apt install tree\n",
      "!tree /content/\n",
      "!python -V\n",
      "# Uploading files from your local file system\n",
      "# Mounting Google Drive in your VM\n",
      "# # Exemplo de instalação do mplsteronet para plotar estereogramas\n",
      "# !pip install mplstereonet\n",
      "# Adicionar gráfico\n",
      "# # load an example dataset\n",
      "# from vega_datasets import data\n",
      "# cars = data.cars()\n",
      "\n",
      "# # plot the dataset, referencing dataframe column names\n",
      "# import altair as alt\n",
      "# alt.Chart(cars).mark_bar().encode(\n",
      "#   x='mean(Miles_per_Gallon)',\n",
      "#   y='Origin',\n",
      "#   color='Origin'\n",
      "# )\n",
      "# # load an example dataset\n",
      "# from vega_datasets import data\n",
      "# cars = data.cars()\n",
      "\n",
      "# import altair as alt\n",
      "\n",
      "# interval = alt.selection_interval()\n",
      "\n",
      "# points = alt.Chart(cars).mark_point().encode(\n",
      "#   x='Horsepower',\n",
      "#   y='Miles_per_Gallon',\n",
      "#   color=alt.condition(interval, 'Origin', alt.value('lightgray'))\n",
      "# ).properties(\n",
      "#   selection=interval\n",
      "# )\n",
      "\n",
      "# histogram = alt.Chart(cars).mark_bar().encode(\n",
      "#   x='count()',\n",
      "#   y='Origin',\n",
      "#   color='Origin'\n",
      "# ).transform_filter(interval)\n",
      "\n",
      "# points & histogram\n",
      "# Adicionar formulário\n",
      "# Documentação do IPython\n",
      "%quickref\n",
      "# Documentação das magic fuctions\n",
      "%magic\n",
      "# Identificar diretório de trabalho\n",
      "%pwd\n",
      "# Listar arquivos e diretórios do diretório de trabalho\n",
      "%ls\n",
      "# Rodar scripts\n",
      "%run ../data/hello-world.py\n",
      "# Contar tempo de execução de comando apenas uma vez\n",
      "%time print(\"Hello, World!\")\n",
      "# Calcular a média de tempo de execução de códigos de tempo muito curto de execução\n",
      "%timeit range(1000)\n",
      "# Declarar uma variável\n",
      "variavel_a = 1\n",
      "variavel_b = 2\n",
      "# Listar variáveis do namespace\n",
      "%who\n",
      "# Lista de variáveis no formato Python list\n",
      "%who_ls\n",
      "# Tabela de variáveis detalhada\n",
      "%whos\n",
      "# Apagar variável do namespace\n",
      "%xdel variavel_a\n",
      "# Imprimir histórico de comandos\n",
      "%hist\n"
     ]
    }
   ],
   "source": [
    "# Imprimir histórico de comandos\n",
    "%hist"
   ]
  },
  {
   "cell_type": "code",
   "execution_count": 29,
   "metadata": {
    "colab": {},
    "colab_type": "code",
    "id": "qsRnywUPoRrt"
   },
   "outputs": [
    {
     "data": {
      "text/plain": [
       "'%.3f'"
      ]
     },
     "execution_count": 29,
     "metadata": {},
     "output_type": "execute_result"
    }
   ],
   "source": [
    "# Definir precisão de números reais (float)\n",
    "%precision 3"
   ]
  },
  {
   "cell_type": "code",
   "execution_count": 30,
   "metadata": {
    "colab": {},
    "colab_type": "code",
    "id": "8MNfpM3ToY6y"
   },
   "outputs": [
    {
     "data": {
      "text/plain": [
       "3.142"
      ]
     },
     "execution_count": 30,
     "metadata": {},
     "output_type": "execute_result"
    }
   ],
   "source": [
    "from math import pi\n",
    "pi"
   ]
  },
  {
   "cell_type": "markdown",
   "metadata": {
    "colab_type": "text",
    "id": "Dx2YrqZ0H4dt"
   },
   "source": [
    "__Referências__\n",
    "\n",
    "- [Linux Tutorial](https://www.shellscript.sh/)\n",
    "\n",
    "- [Overwiew of Colab features](https://colab.research.google.com/notebooks/basic_features_overview.ipynb)\n",
    "\n",
    "- [Markdown Guide](https://colab.research.google.com/notebooks/markdown_guide.ipynb)\n",
    "\n",
    "- [LaTeX Guide](http://www.docs.is.ed.ac.uk/skills/documents/3722/3722-2014.pdf)"
   ]
  }
 ],
 "metadata": {
  "colab": {
   "name": "1.1 Primeiros passos no Colab.ipynb",
   "provenance": [],
   "toc_visible": true,
   "version": "0.3.2"
  },
  "kernelspec": {
   "display_name": "py36",
   "language": "python",
   "name": "python36"
  },
  "language_info": {
   "codemirror_mode": {
    "name": "ipython",
    "version": 3
   },
   "file_extension": ".py",
   "mimetype": "text/x-python",
   "name": "python",
   "nbconvert_exporter": "python",
   "pygments_lexer": "ipython3",
   "version": "3.6.7"
  },
  "toc": {
   "base_numbering": "1.1",
   "nav_menu": {},
   "number_sections": true,
   "sideBar": true,
   "skip_h1_title": false,
   "title_cell": "Table of Contents",
   "title_sidebar": "Contents",
   "toc_cell": false,
   "toc_position": {},
   "toc_section_display": true,
   "toc_window_display": true
  },
  "varInspector": {
   "cols": {
    "lenName": 16,
    "lenType": 16,
    "lenVar": 40
   },
   "kernels_config": {
    "python": {
     "delete_cmd_postfix": "",
     "delete_cmd_prefix": "del ",
     "library": "var_list.py",
     "varRefreshCmd": "print(var_dic_list())"
    },
    "r": {
     "delete_cmd_postfix": ") ",
     "delete_cmd_prefix": "rm(",
     "library": "var_list.r",
     "varRefreshCmd": "cat(var_dic_list()) "
    }
   },
   "types_to_exclude": [
    "module",
    "function",
    "builtin_function_or_method",
    "instance",
    "_Feature"
   ],
   "window_display": false
  }
 },
 "nbformat": 4,
 "nbformat_minor": 1
}
