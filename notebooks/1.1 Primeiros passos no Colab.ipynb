{
 "cells": [
  {
   "cell_type": "markdown",
   "metadata": {
    "colab_type": "text",
    "id": "hXGlHhAgHiKA"
   },
   "source": [
    "# 1.1 Primeiros passos no Colab\n",
    "### O que iremos aprender\n",
    "- Básico de Jupyter/Colab notebooks\n",
    "- Comandos básicos Linux para administrar a máquina virtual\n",
    "- Utilizar code snippets disponíveis no Colab para auxiliar nas análises e configurações do notebook\n",
    "- Conhecer as magic functions do IPython"
   ]
  },
  {
   "cell_type": "markdown",
   "metadata": {
    "colab_type": "text",
    "id": "JyG45Qk3qQLS"
   },
   "source": [
    "# Células (*cells*)\n",
    "Colab notebooks são uma lista de células que contém texto explicativo ou códigos executáveis e seus respectivos *outputs*."
   ]
  },
  {
   "cell_type": "markdown",
   "metadata": {
    "colab_type": "text",
    "id": "KR921S_OQSHG"
   },
   "source": [
    "## Células de código (*code cells*)\n"
   ]
  },
  {
   "cell_type": "code",
   "execution_count": 0,
   "metadata": {
    "colab": {},
    "colab_type": "code",
    "id": "WUtu4316QSHL"
   },
   "outputs": [],
   "source": [
    "a = 10\n",
    "a"
   ]
  },
  {
   "cell_type": "markdown",
   "metadata": {
    "colab_type": "text",
    "id": "Id6tDF1HQSHD"
   },
   "source": [
    "## Células de texto (*text cells*)\n",
    "Esta é uma **célula de texto**. \n",
    "Você pode editar esta célula usando **duplo-click** para editá-la.\n",
    "\n",
    "Utilize sintaxe [Markdown\n",
    "guide](/notebooks/markdown_guide.ipynb) para editar os textos."
   ]
  },
  {
   "cell_type": "markdown",
   "metadata": {
    "colab_type": "text",
    "id": "vqiuJQAnN3rA"
   },
   "source": [
    "## Células de equações (LaTeX)\n",
    "Células de texto aceitam liguagem [LaTeX](http://www.latex-project.org/) para escrever equações com notação matemática\n",
    "\n",
    "Para escrever fórmulas matemáticas basta utilizar pares de símbolos **\\$** no início e no final de cada equação.\n",
    "\n",
    "Por exemplo: `$\\sqrt{3x-1}+(1+x)^2$` \n",
    "> $\\sqrt{3x-1}+(1+x)^2.$\n"
   ]
  },
  {
   "cell_type": "markdown",
   "metadata": {
    "colab_type": "text",
    "id": "VEuCaGlaFasN"
   },
   "source": [
    "# Linux essencial\n",
    "Checar a estrutura de arquivos por linhas de comando, utilizando `!` para acessar o terminal Linux. "
   ]
  },
  {
   "cell_type": "markdown",
   "metadata": {
    "colab_type": "text",
    "id": "lt_t_36k7_9o"
   },
   "source": [
    "## Estrutura de arquivos"
   ]
  },
  {
   "cell_type": "code",
   "execution_count": 0,
   "metadata": {
    "colab": {},
    "colab_type": "code",
    "id": "UracMqhMzSv7"
   },
   "outputs": [],
   "source": [
    "# !pwd\n",
    "!ls -l"
   ]
  },
  {
   "cell_type": "code",
   "execution_count": 0,
   "metadata": {
    "colab": {},
    "colab_type": "code",
    "id": "emn0SnvTzUyZ"
   },
   "outputs": [],
   "source": [
    "!ls /content/"
   ]
  },
  {
   "cell_type": "markdown",
   "metadata": {
    "colab_type": "text",
    "id": "_HgZgpk6y1E4"
   },
   "source": [
    "## Memória disponível na VM"
   ]
  },
  {
   "cell_type": "code",
   "execution_count": 0,
   "metadata": {
    "colab": {},
    "colab_type": "code",
    "id": "zwv78DfaZZCL"
   },
   "outputs": [],
   "source": [
    "!free -m"
   ]
  },
  {
   "cell_type": "markdown",
   "metadata": {
    "colab_type": "text",
    "id": "1QrHbEme8dAz"
   },
   "source": [
    "## Instalando softwares Linux"
   ]
  },
  {
   "cell_type": "code",
   "execution_count": 0,
   "metadata": {
    "colab": {},
    "colab_type": "code",
    "id": "q_6gM-omEtcq"
   },
   "outputs": [],
   "source": [
    "# Atualização do Ubuntu\n",
    "!apt update\n",
    "!apt upgrade"
   ]
  },
  {
   "cell_type": "code",
   "execution_count": 0,
   "metadata": {
    "colab": {},
    "colab_type": "code",
    "id": "PUrfS3U8zvdA"
   },
   "outputs": [],
   "source": [
    "!apt install tree"
   ]
  },
  {
   "cell_type": "code",
   "execution_count": 0,
   "metadata": {
    "colab": {},
    "colab_type": "code",
    "id": "x4USpzVPE_kt"
   },
   "outputs": [],
   "source": [
    "!tree /content/"
   ]
  },
  {
   "cell_type": "markdown",
   "metadata": {
    "colab_type": "text",
    "id": "2qWLyQVH_V-A"
   },
   "source": [
    "## Checar a versão do Python"
   ]
  },
  {
   "cell_type": "code",
   "execution_count": 0,
   "metadata": {
    "colab": {},
    "colab_type": "code",
    "id": "0jQ9T_X7puCT"
   },
   "outputs": [],
   "source": [
    "!python -V"
   ]
  },
  {
   "cell_type": "markdown",
   "metadata": {
    "colab_type": "text",
    "id": "gz9YhmtvGh00"
   },
   "source": [
    "# Code snippets\n",
    "Utilizar code snippets para carregar arquivos na máquina virtual, plotar gráficos, instalar pacotes Python"
   ]
  },
  {
   "cell_type": "markdown",
   "metadata": {
    "colab_type": "text",
    "id": "_0UXYbvRSSE9"
   },
   "source": [
    "## Upload arquivos\n",
    "O *Upload* de arquivos pode ser feito de duas formas:\n",
    "- Pelo menu *Files* na barra lateral do notebook\n",
    "- Utilizando* code snippets*"
   ]
  },
  {
   "cell_type": "code",
   "execution_count": 0,
   "metadata": {
    "colab": {},
    "colab_type": "code",
    "id": "gKPBebz06my5"
   },
   "outputs": [],
   "source": [
    "# Uploading files from your local file system"
   ]
  },
  {
   "cell_type": "markdown",
   "metadata": {
    "colab_type": "text",
    "id": "nePRziCFO1hj"
   },
   "source": [
    "## Montar diretório Gdrive\n",
    "Montar um GDrive no Colab é útil quando se quer trabalhar com dados muito grandes, porém é necessário sempre remontá-lo quando reiniciar uma intância de VM Colab."
   ]
  },
  {
   "cell_type": "code",
   "execution_count": 0,
   "metadata": {
    "colab": {},
    "colab_type": "code",
    "id": "QJrX43Pf6Ql0"
   },
   "outputs": [],
   "source": [
    "# Mounting Google Drive in your VM"
   ]
  },
  {
   "cell_type": "markdown",
   "metadata": {
    "colab_type": "text",
    "id": "0qKpHKF47Vu8"
   },
   "source": [
    "### Intalação de softwares e bibliotecas Python\n",
    "#### Instalação do Basemap via `pip` para plotar mapas com matplotlib"
   ]
  },
  {
   "cell_type": "code",
   "execution_count": 0,
   "metadata": {
    "colab": {},
    "colab_type": "code",
    "id": "MmaW34gmVDjs"
   },
   "outputs": [],
   "source": [
    "!apt install proj-bin libproj-dev libgeos-dev"
   ]
  },
  {
   "cell_type": "code",
   "execution_count": 0,
   "metadata": {
    "colab": {},
    "colab_type": "code",
    "id": "G2H_NRkCVakC"
   },
   "outputs": [],
   "source": [
    "!pip install https://github.com/matplotlib/basemap/archive/v1.1.0.tar.gz"
   ]
  },
  {
   "cell_type": "markdown",
   "metadata": {
    "colab_type": "text",
    "id": "6FJTOONO7aNH"
   },
   "source": [
    "#### Testando instalação do Basemap"
   ]
  },
  {
   "cell_type": "code",
   "execution_count": 0,
   "metadata": {
    "colab": {},
    "colab_type": "code",
    "id": "G8wE3mHvVyoX"
   },
   "outputs": [],
   "source": [
    "import numpy as np\n",
    "import matplotlib.pyplot as plt\n",
    "from mpl_toolkits.basemap import Basemap\n",
    "\n",
    "width = 28000000; lon_0 = -105; lat_0 = 40\n",
    "m = Basemap(width=width, height=width, projection='aeqd',\n",
    "            lat_0=lat_0, lon_0=lon_0)\n",
    "\n",
    "# fill background.\n",
    "m.drawmapboundary(fill_color='aqua')\n",
    "# draw coasts and fill continents.\n",
    "m.drawcoastlines(linewidth=0.5)\n",
    "m.fillcontinents(color='coral',lake_color='aqua')\n",
    "# 20 degree graticule.\n",
    "m.drawparallels(np.arange(-80,81,20))\n",
    "m.drawmeridians(np.arange(-180,180,20))\n",
    "# draw a black dot at the center.\n",
    "xpt, ypt = m(lon_0, lat_0)\n",
    "m.plot([xpt],[ypt],'ko')\n",
    "# draw the title.\n",
    "plt.title('Azimuthal Equidistant Projection')\n",
    "plt.show()\n"
   ]
  },
  {
   "cell_type": "markdown",
   "metadata": {
    "colab_type": "text",
    "id": "L4GAZC-QQxHn"
   },
   "source": [
    "### Gráficos"
   ]
  },
  {
   "cell_type": "code",
   "execution_count": 0,
   "metadata": {
    "colab": {},
    "colab_type": "code",
    "id": "2HG9El2w6iwT"
   },
   "outputs": [],
   "source": [
    "# Adicionar gráfico"
   ]
  },
  {
   "cell_type": "code",
   "execution_count": 0,
   "metadata": {
    "colab": {},
    "colab_type": "code",
    "id": "austdaeFEY2A"
   },
   "outputs": [],
   "source": [
    "# load an example dataset\n",
    "from vega_datasets import data\n",
    "cars = data.cars()\n",
    "\n",
    "# plot the dataset, referencing dataframe column names\n",
    "import altair as alt\n",
    "alt.Chart(cars).mark_bar().encode(\n",
    "  x='mean(Miles_per_Gallon)',\n",
    "  y='Origin',\n",
    "  color='Origin'\n",
    ")"
   ]
  },
  {
   "cell_type": "code",
   "execution_count": 0,
   "metadata": {
    "colab": {},
    "colab_type": "code",
    "id": "Zvk1VWclEiH2"
   },
   "outputs": [],
   "source": [
    "# load an example dataset\n",
    "from vega_datasets import data\n",
    "cars = data.cars()\n",
    "\n",
    "import altair as alt\n",
    "\n",
    "interval = alt.selection_interval()\n",
    "\n",
    "points = alt.Chart(cars).mark_point().encode(\n",
    "  x='Horsepower',\n",
    "  y='Miles_per_Gallon',\n",
    "  color=alt.condition(interval, 'Origin', alt.value('lightgray'))\n",
    ").properties(\n",
    "  selection=interval\n",
    ")\n",
    "\n",
    "histogram = alt.Chart(cars).mark_bar().encode(\n",
    "  x='count()',\n",
    "  y='Origin',\n",
    "  color='Origin'\n",
    ").transform_filter(interval)\n",
    "\n",
    "points & histogram"
   ]
  },
  {
   "cell_type": "markdown",
   "metadata": {
    "colab_type": "text",
    "id": "1YHTXslsao5q"
   },
   "source": [
    "### Formulários"
   ]
  },
  {
   "cell_type": "code",
   "execution_count": 0,
   "metadata": {
    "colab": {},
    "colab_type": "code",
    "id": "Oi1DI3yEao5s"
   },
   "outputs": [],
   "source": [
    "# Adicionar formulário"
   ]
  },
  {
   "cell_type": "markdown",
   "metadata": {
    "colab_type": "text",
    "id": "tlja86i0sDxj"
   },
   "source": [
    "# Funções \"mágicas\" %\n"
   ]
  },
  {
   "cell_type": "code",
   "execution_count": 0,
   "metadata": {
    "colab": {},
    "colab_type": "code",
    "id": "Ga8pzrYGsIfI"
   },
   "outputs": [],
   "source": [
    "# Documentação do IPython\n",
    "%quickref"
   ]
  },
  {
   "cell_type": "code",
   "execution_count": 0,
   "metadata": {
    "colab": {},
    "colab_type": "code",
    "id": "n7fLRm63sicL"
   },
   "outputs": [],
   "source": [
    "# Documentação das magic fuctions\n",
    "%magic"
   ]
  },
  {
   "cell_type": "code",
   "execution_count": 0,
   "metadata": {
    "colab": {},
    "colab_type": "code",
    "id": "iXdrJCdg1iBO"
   },
   "outputs": [],
   "source": [
    "# Identificar diretório de trabalho\n",
    "%pwd"
   ]
  },
  {
   "cell_type": "code",
   "execution_count": 0,
   "metadata": {
    "colab": {},
    "colab_type": "code",
    "id": "yZYRAaNu3eqB"
   },
   "outputs": [],
   "source": [
    "# Listar arquivos e diretórios do diretório de trabalho\n",
    "%ls"
   ]
  },
  {
   "cell_type": "code",
   "execution_count": 0,
   "metadata": {
    "colab": {},
    "colab_type": "code",
    "id": "OHVHp-n3wyjv"
   },
   "outputs": [],
   "source": [
    "# Rodar scripts\n",
    "%run hello_world.py"
   ]
  },
  {
   "cell_type": "code",
   "execution_count": 0,
   "metadata": {
    "colab": {},
    "colab_type": "code",
    "id": "jqelJTPHw2T7"
   },
   "outputs": [],
   "source": [
    "# Contar tempo de execução de comando apenas uma vez\n",
    "%time print(\"Hello, World!\")"
   ]
  },
  {
   "cell_type": "code",
   "execution_count": 0,
   "metadata": {
    "colab": {},
    "colab_type": "code",
    "id": "YeYGV7OUxHk6"
   },
   "outputs": [],
   "source": [
    "# Calcular a média de tempo de execução de códigos de tempo muito curto de execução\n",
    "%timeit range(1000)"
   ]
  },
  {
   "cell_type": "code",
   "execution_count": 0,
   "metadata": {
    "colab": {},
    "colab_type": "code",
    "id": "MotF8nXtxbJ2"
   },
   "outputs": [],
   "source": [
    "# Declarar uma variável\n",
    "variavel_a = 1\n",
    "variavel_b = 2"
   ]
  },
  {
   "cell_type": "code",
   "execution_count": 0,
   "metadata": {
    "colab": {},
    "colab_type": "code",
    "id": "6NJ8idJbxiDD"
   },
   "outputs": [],
   "source": [
    "# Listar variáveis do namespace\n",
    "%who"
   ]
  },
  {
   "cell_type": "code",
   "execution_count": 0,
   "metadata": {
    "colab": {},
    "colab_type": "code",
    "id": "GiuGZXARxj5K"
   },
   "outputs": [],
   "source": [
    "# Lista de variáveis no formato Python list\n",
    "%who_ls"
   ]
  },
  {
   "cell_type": "code",
   "execution_count": 0,
   "metadata": {
    "colab": {},
    "colab_type": "code",
    "id": "Okxz301FxoFi"
   },
   "outputs": [],
   "source": [
    "# Tabela de variáveis detalhada\n",
    "%whos"
   ]
  },
  {
   "cell_type": "code",
   "execution_count": 0,
   "metadata": {
    "colab": {},
    "colab_type": "code",
    "id": "saMc6ZzIx1Ny"
   },
   "outputs": [],
   "source": [
    "# Apagar variável do namespace\n",
    "%xdel variavel_a"
   ]
  },
  {
   "cell_type": "code",
   "execution_count": 0,
   "metadata": {
    "colab": {},
    "colab_type": "code",
    "id": "AtHIIBzNt0BN"
   },
   "outputs": [],
   "source": [
    "# Apagar todas as variáveis criadas na sessão\n",
    "%reset"
   ]
  },
  {
   "cell_type": "code",
   "execution_count": 0,
   "metadata": {
    "colab": {},
    "colab_type": "code",
    "id": "3IcopO5-tuCt"
   },
   "outputs": [],
   "source": [
    "# Imprimir histórico de comandos\n",
    "%hist"
   ]
  },
  {
   "cell_type": "code",
   "execution_count": 0,
   "metadata": {
    "colab": {},
    "colab_type": "code",
    "id": "qsRnywUPoRrt"
   },
   "outputs": [],
   "source": [
    "# Definir precisão de números reais (float)\n",
    "% precision 3"
   ]
  },
  {
   "cell_type": "code",
   "execution_count": 0,
   "metadata": {
    "colab": {},
    "colab_type": "code",
    "id": "8MNfpM3ToY6y"
   },
   "outputs": [],
   "source": [
    "from math import pi\n",
    "pi"
   ]
  },
  {
   "cell_type": "markdown",
   "metadata": {
    "colab_type": "text",
    "id": "Dx2YrqZ0H4dt"
   },
   "source": [
    "# Referências\n",
    "\n",
    "- [Linux Tutorial](https://www.shellscript.sh/)\n",
    "\n",
    "- [Overwiew of Colab features](https://colab.research.google.com/notebooks/basic_features_overview.ipynb)\n",
    "\n",
    "- [Markdown Guide](https://colab.research.google.com/notebooks/markdown_guide.ipynb)\n",
    "\n",
    "- [LaTeX Guide](http://www.docs.is.ed.ac.uk/skills/documents/3722/3722-2014.pdf)"
   ]
  }
 ],
 "metadata": {
  "colab": {
   "name": "1.1 Primeiros passos no Colab.ipynb",
   "provenance": [],
   "toc_visible": true,
   "version": "0.3.2"
  },
  "kernelspec": {
   "display_name": "(base) Python 3.6",
   "language": "python",
   "name": "python3"
  },
  "language_info": {
   "codemirror_mode": {
    "name": "ipython",
    "version": 3
   },
   "file_extension": ".py",
   "mimetype": "text/x-python",
   "name": "python",
   "nbconvert_exporter": "python",
   "pygments_lexer": "ipython3",
   "version": "3.6.6"
  },
  "toc": {
   "base_numbering": 1,
   "nav_menu": {},
   "number_sections": false,
   "sideBar": true,
   "skip_h1_title": false,
   "title_cell": "Table of Contents",
   "title_sidebar": "Contents",
   "toc_cell": false,
   "toc_position": {},
   "toc_section_display": true,
   "toc_window_display": true
  },
  "varInspector": {
   "cols": {
    "lenName": 16,
    "lenType": 16,
    "lenVar": 40
   },
   "kernels_config": {
    "python": {
     "delete_cmd_postfix": "",
     "delete_cmd_prefix": "del ",
     "library": "var_list.py",
     "varRefreshCmd": "print(var_dic_list())"
    },
    "r": {
     "delete_cmd_postfix": ") ",
     "delete_cmd_prefix": "rm(",
     "library": "var_list.r",
     "varRefreshCmd": "cat(var_dic_list()) "
    }
   },
   "types_to_exclude": [
    "module",
    "function",
    "builtin_function_or_method",
    "instance",
    "_Feature"
   ],
   "window_display": false
  }
 },
 "nbformat": 4,
 "nbformat_minor": 1
}
