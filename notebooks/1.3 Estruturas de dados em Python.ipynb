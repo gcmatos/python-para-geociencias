{
 "cells": [
  {
   "cell_type": "markdown",
   "metadata": {},
   "source": [
    "[![Open In Colab](https://colab.research.google.com/assets/colab-badge.svg)](https://colab.research.google.com/github/gcmatos/python-para-geociencias/blob/master/notebooks/1.3%20Estruturas%20de%20dados%20em%20Python.ipynb)\n",
    "\n",
    "Ctrl/Cmd + click para abrir em uma nova aba do navegador web e utilizar o Google Colab para rodar o tutorial."
   ]
  },
  {
   "cell_type": "markdown",
   "metadata": {
    "colab_type": "text",
    "id": "fbnm8VtYC2ED"
   },
   "source": [
    "# Estruturas de dados em Python\n",
    "\n",
    "__O que iremos aprender__\n",
    "- Estruturas de dados  nativas (*Built-in*)\n",
    "- Estruturas de dados externas (*e.g. Numpy, Pandas, GeoPandas, Files*)"
   ]
  },
  {
   "cell_type": "markdown",
   "metadata": {
    "colab_type": "text",
    "id": "Y0Z4j1PmaICN"
   },
   "source": [
    "## Configuração de ambiente\n",
    "Instalaçao e importação dos pacotes Python para o tutorial sobre estruturas de dados."
   ]
  },
  {
   "cell_type": "markdown",
   "metadata": {},
   "source": [
    "__Instalação de dependências__"
   ]
  },
  {
   "cell_type": "code",
   "execution_count": null,
   "metadata": {},
   "outputs": [],
   "source": [
    "# Instalar Pyproj\n",
    "!sudo apt-get install python-pyproj"
   ]
  },
  {
   "cell_type": "code",
   "execution_count": null,
   "metadata": {},
   "outputs": [],
   "source": [
    "# Instalar GeoPandas\n",
    "!pip install shapely fiona six geopandas"
   ]
  },
  {
   "cell_type": "markdown",
   "metadata": {},
   "source": [
    "__Importação das bibliotecas__"
   ]
  },
  {
   "cell_type": "code",
   "execution_count": null,
   "metadata": {
    "colab": {},
    "colab_type": "code",
    "id": "g562GU_RTzT8"
   },
   "outputs": [],
   "source": [
    "import numpy as np\n",
    "import pandas as pd\n",
    "import geopandas as gpd\n",
    "\n",
    "from pandas import Series\n",
    "from pandas import DataFrame\n",
    "from geopandas import GeoSeries\n",
    "from geopandas import GeoDataFrame\n",
    "from array import array\n",
    "from shapely.geometry import Point"
   ]
  },
  {
   "cell_type": "code",
   "execution_count": null,
   "metadata": {
    "colab": {},
    "colab_type": "code",
    "id": "lP-2H6rF5HAm"
   },
   "outputs": [],
   "source": [
    "# Utilizar Matplotlib no notebook\n",
    "%matplotlib inline\n",
    "# Ajustar a precisão de valores reais\n",
    "%precision 3\n",
    "# Reproduzir números aleatórios\n",
    "np.random.seed(1234)"
   ]
  },
  {
   "cell_type": "markdown",
   "metadata": {
    "colab_type": "text",
    "id": "PkHcQWntfJuk"
   },
   "source": [
    "## Modelo de dados\n",
    "> \"Objects are Python’s abstraction for data. All data in a Python program is represented by objects or by relations between objects.\" \n",
    "\n",
    "> [Modelo de dados em Python](https://python.readthedocs.io/en/latest/reference/datamodel.html)\n",
    "\n"
   ]
  },
  {
   "cell_type": "markdown",
   "metadata": {
    "colab_type": "text",
    "id": "DuAlm9NOyS8l"
   },
   "source": [
    "## Estruturas nativas *Built-in*\n",
    "\n",
    "As estruturas de dados primitivas do Python suporta diferentes tipos (classes) de variáveis, que podem ser:\n",
    "- Numéricas (_Integer, Floating_)\n",
    "- Lógica (_Boolean_)\n",
    "- Texto (_String_)\n",
    "\n",
    "Estruturas compostas em Python funcionam como _containers_ de dados, armazenando estruturas de dados primitivas. As estruturas que abordaremos neste *notebook* são:\n",
    "- _Arrays_\n",
    "- Listas\n",
    "- _Tuples_\n",
    "- _Sets_\n",
    "- Dicionários\n",
    "- Arquivos (_Files_)"
   ]
  },
  {
   "cell_type": "markdown",
   "metadata": {
    "colab_type": "text",
    "id": "OHRXkjm9WZvr"
   },
   "source": [
    "### *Tuples*\n",
    "Tuple é uma sequência de objetos imutável e de comprimento fixo. A forma mais simples de criar uma Tuple é declarando números seprados por vírgula, como no exemplo abaixo:\n",
    "\n",
    "```python\n",
    "In  [1]: tup = 1, 2, 3\n",
    "Out [1]: (1, 2, 3) \n",
    "```"
   ]
  },
  {
   "cell_type": "markdown",
   "metadata": {
    "colab_type": "text",
    "id": "t7tpuGqfRgLV"
   },
   "source": [
    "__Declarar *Tuples*__"
   ]
  },
  {
   "cell_type": "code",
   "execution_count": null,
   "metadata": {
    "colab": {},
    "colab_type": "code",
    "id": "Lnp33BHsWZWU"
   },
   "outputs": [],
   "source": [
    "# Criar uma tuple simples\n",
    "tup = 1, 2, 3\n",
    "tup"
   ]
  },
  {
   "cell_type": "code",
   "execution_count": null,
   "metadata": {
    "colab": {},
    "colab_type": "code",
    "id": "95iwtM3ROff_"
   },
   "outputs": [],
   "source": [
    "# Acessar valores por índice\n",
    "tup[0]"
   ]
  },
  {
   "cell_type": "code",
   "execution_count": null,
   "metadata": {
    "colab": {},
    "colab_type": "code",
    "id": "k9_ESARnOhmW"
   },
   "outputs": [],
   "source": [
    "# Tentar alterar um valor\n",
    "tup[0] = 0"
   ]
  },
  {
   "cell_type": "code",
   "execution_count": null,
   "metadata": {
    "colab": {},
    "colab_type": "code",
    "id": "Vj_ShoyIO5Zd"
   },
   "outputs": [],
   "source": [
    "# Multiplicação com Tuples\n",
    "tup * 2"
   ]
  },
  {
   "cell_type": "code",
   "execution_count": null,
   "metadata": {
    "colab": {},
    "colab_type": "code",
    "id": "jr9eL02gOIWt"
   },
   "outputs": [],
   "source": [
    "# Criar uma tuple aninhada em outra\n",
    "tup_nested = (4, 5), (6, 7, 8)\n",
    "tup_nested"
   ]
  },
  {
   "cell_type": "code",
   "execution_count": null,
   "metadata": {
    "colab": {},
    "colab_type": "code",
    "id": "5lYH_G5hPab2"
   },
   "outputs": [],
   "source": [
    "# Declarar variáveis com Tuples\n",
    "a, b, c = tup\n",
    "print(a, b, c)"
   ]
  },
  {
   "cell_type": "code",
   "execution_count": null,
   "metadata": {
    "colab": {},
    "colab_type": "code",
    "id": "upnTV3igSIkM"
   },
   "outputs": [],
   "source": [
    "# Tentar alterar tuple\n",
    "tup = tuple(['a', [1, 2], True])\n",
    "tup[2] = False"
   ]
  },
  {
   "cell_type": "code",
   "execution_count": null,
   "metadata": {
    "colab": {},
    "colab_type": "code",
    "id": "Lst7RNVlSOOT"
   },
   "outputs": [],
   "source": [
    "# Alterando objetos mutáveis aninhados em uma tuple\n",
    "tup[1].append(3)\n",
    "tup"
   ]
  },
  {
   "cell_type": "markdown",
   "metadata": {
    "colab_type": "text",
    "id": "hI4tIAB9RFa8"
   },
   "source": [
    "__Conversão para *Tuple*__\n",
    "\n",
    "Listas e demais objetos podem ser convertidos em Tuple através da função* built-in* `tuple()`."
   ]
  },
  {
   "cell_type": "code",
   "execution_count": null,
   "metadata": {
    "colab": {},
    "colab_type": "code",
    "id": "6PSPN194RPbl"
   },
   "outputs": [],
   "source": [
    "tuple([4, 0, 2])"
   ]
  },
  {
   "cell_type": "code",
   "execution_count": null,
   "metadata": {
    "colab": {},
    "colab_type": "code",
    "id": "utD4sCA5RLlx"
   },
   "outputs": [],
   "source": [
    "tup = tuple('string')\n",
    "tup"
   ]
  },
  {
   "cell_type": "markdown",
   "metadata": {
    "colab_type": "text",
    "id": "MPml_JuIP2-V"
   },
   "source": [
    "__Métodos para *Tuples*__"
   ]
  },
  {
   "cell_type": "code",
   "execution_count": null,
   "metadata": {
    "colab": {},
    "colab_type": "code",
    "id": "MR6p3GA-P8bV"
   },
   "outputs": [],
   "source": [
    "# Declarar Tuple com valores repetidos\n",
    "tup = 1, 2, 2, 2, 2, 3, 4, 5\n",
    "# Contar o número de vezes que ocorre um valor na Tuple\n",
    "tup.count(2)"
   ]
  },
  {
   "cell_type": "code",
   "execution_count": null,
   "metadata": {
    "colab": {},
    "colab_type": "code",
    "id": "RhLu9nXbQYpH"
   },
   "outputs": [],
   "source": [
    "# Checar o ídice de um determinado valor\n",
    "tup.index(5)"
   ]
  },
  {
   "cell_type": "markdown",
   "metadata": {
    "colab_type": "text",
    "id": "MfWgdF9sI-Cb"
   },
   "source": [
    "### *Lists*\n",
    "*[Python lists](https://docs.python.org/3.6/tutorial/datastructures.html)* são estruturas mutáveis de dados 1D que compreendem objetos de diferentes classes (números, texto, booleanos).\n",
    "\n",
    "Listas são declaradas utilizando as seguintes sintaxes:\n",
    "\n",
    "```python\n",
    "[x, y, z, ' texto', 1, 2, 3]\n",
    "```\n",
    "\n",
    "```python\n",
    "list(x, y, z, ' texto', 1, 2, 3)\n",
    "```"
   ]
  },
  {
   "cell_type": "markdown",
   "metadata": {
    "colab_type": "text",
    "id": "2jnCysgATPZ9"
   },
   "source": [
    "__Declarar listas__"
   ]
  },
  {
   "cell_type": "code",
   "execution_count": null,
   "metadata": {},
   "outputs": [],
   "source": [
    "list()"
   ]
  },
  {
   "cell_type": "code",
   "execution_count": null,
   "metadata": {
    "colab": {},
    "colab_type": "code",
    "id": "jvsM6mZHHeSP"
   },
   "outputs": [],
   "source": [
    "# Declarar uma lista vazia\n",
    "lista_vazia = []"
   ]
  },
  {
   "cell_type": "code",
   "execution_count": null,
   "metadata": {
    "colab": {},
    "colab_type": "code",
    "id": "X_cFdRAoXcdG"
   },
   "outputs": [],
   "source": [
    "# Criar lista com quatro números na ordem de 1 à 4\n",
    "minha_lista = [1, 2, 3, 4]\n",
    "# Imprimir lista\n",
    "print(minha_lista)"
   ]
  },
  {
   "cell_type": "code",
   "execution_count": null,
   "metadata": {
    "colab": {},
    "colab_type": "code",
    "id": "qQICNL8MH7Pk"
   },
   "outputs": [],
   "source": [
    "# Acessar o primeiro valor da lista\n",
    "minha_lista[0]"
   ]
  },
  {
   "cell_type": "code",
   "execution_count": null,
   "metadata": {
    "colab": {},
    "colab_type": "code",
    "id": "3TDAmG4lIDB0"
   },
   "outputs": [],
   "source": [
    "# Acessar os valores entre os índices 0 e 3, excluindo o 3\n",
    "minha_lista[0:3]"
   ]
  },
  {
   "cell_type": "code",
   "execution_count": null,
   "metadata": {
    "colab": {},
    "colab_type": "code",
    "id": "9Z-uBNOrXq5O"
   },
   "outputs": [],
   "source": [
    "# Criar lista com as palavras 'um', 'dois' e os números 1.0 e 2\n",
    "outra_lista = ['um', 'dois', 1.0, 2]\n",
    "# Imprimir lista sem a função print() - funciona apenas em IPython\n",
    "outra_lista"
   ]
  },
  {
   "cell_type": "code",
   "execution_count": null,
   "metadata": {
    "colab": {},
    "colab_type": "code",
    "id": "DAO7tajqIcwp"
   },
   "outputs": [],
   "source": [
    "outra_lista[1]"
   ]
  },
  {
   "cell_type": "markdown",
   "metadata": {
    "colab_type": "text",
    "id": "van-JfjmTthU"
   },
   "source": [
    "__Converter objetos em listas__"
   ]
  },
  {
   "cell_type": "code",
   "execution_count": null,
   "metadata": {
    "colab": {},
    "colab_type": "code",
    "id": "exSLlic1TwUu"
   },
   "outputs": [],
   "source": [
    "tup"
   ]
  },
  {
   "cell_type": "code",
   "execution_count": null,
   "metadata": {
    "colab": {},
    "colab_type": "code",
    "id": "BeOCSeWgTzLW"
   },
   "outputs": [],
   "source": [
    "list(tup)"
   ]
  },
  {
   "cell_type": "markdown",
   "metadata": {
    "colab_type": "text",
    "id": "YnUtLVmcTe1B"
   },
   "source": [
    "__Métodos para Listas__"
   ]
  },
  {
   "cell_type": "code",
   "execution_count": null,
   "metadata": {
    "colab": {},
    "colab_type": "code",
    "id": "Hevsk19XIotF"
   },
   "outputs": [],
   "source": [
    "# Concatenar valores a minha_lista\n",
    "minha_lista.append(5)\n",
    "# Imprimir minha lista\n",
    "minha_lista"
   ]
  },
  {
   "cell_type": "code",
   "execution_count": null,
   "metadata": {
    "colab": {},
    "colab_type": "code",
    "id": "x24tbwX5I1cv"
   },
   "outputs": [],
   "source": [
    "# Concatenar uma lista à minha_lista (nested lists)\n",
    "minha_lista.append([6, 7, 8, 9, 10])\n",
    "minha_lista"
   ]
  },
  {
   "cell_type": "code",
   "execution_count": null,
   "metadata": {
    "colab": {},
    "colab_type": "code",
    "id": "GGWesoh1JajX"
   },
   "outputs": [],
   "source": [
    "len(minha_lista)"
   ]
  },
  {
   "cell_type": "code",
   "execution_count": null,
   "metadata": {
    "colab": {},
    "colab_type": "code",
    "id": "LINFEFNKJfmX"
   },
   "outputs": [],
   "source": [
    "minha_lista[5]"
   ]
  },
  {
   "cell_type": "code",
   "execution_count": null,
   "metadata": {
    "colab": {},
    "colab_type": "code",
    "id": "QHiBMcnzJqbJ"
   },
   "outputs": [],
   "source": [
    "# Substituir valores em uma lista\n",
    "minha_lista.insert(5, 6)\n",
    "minha_lista"
   ]
  },
  {
   "cell_type": "code",
   "execution_count": null,
   "metadata": {
    "colab": {},
    "colab_type": "code",
    "id": "-ngYvoPSKC6j"
   },
   "outputs": [],
   "source": [
    "# Remover valores da minha_lista\n",
    "minha_lista.remove(6)\n",
    "minha_lista"
   ]
  },
  {
   "cell_type": "code",
   "execution_count": null,
   "metadata": {
    "colab": {},
    "colab_type": "code",
    "id": "QuzqkOJDKK2U"
   },
   "outputs": [],
   "source": [
    "# Remover índice 5 da minha_lista\n",
    "minha_lista.pop(5)"
   ]
  },
  {
   "cell_type": "code",
   "execution_count": null,
   "metadata": {
    "colab": {},
    "colab_type": "code",
    "id": "uyxNeq-bKoI2"
   },
   "outputs": [],
   "source": [
    "minha_lista"
   ]
  },
  {
   "cell_type": "code",
   "execution_count": null,
   "metadata": {
    "colab": {},
    "colab_type": "code",
    "id": "wHOJWxafK4dM"
   },
   "outputs": [],
   "source": [
    "# Ordenar itens em lista\n",
    "minha_lista.sort()\n",
    "minha_lista"
   ]
  },
  {
   "cell_type": "code",
   "execution_count": null,
   "metadata": {
    "colab": {},
    "colab_type": "code",
    "id": "ZosM6QCnLKRn"
   },
   "outputs": [],
   "source": [
    "# Inverter ordem de itens em listas\n",
    "minha_lista.reverse()\n",
    "minha_lista"
   ]
  },
  {
   "cell_type": "code",
   "execution_count": null,
   "metadata": {
    "colab": {},
    "colab_type": "code",
    "id": "N3cG4qbyVr4X"
   },
   "outputs": [],
   "source": [
    "# Testar a ocorrência de um valor em listas\n",
    "5 in minha_lista"
   ]
  },
  {
   "cell_type": "code",
   "execution_count": null,
   "metadata": {
    "colab": {},
    "colab_type": "code",
    "id": "FymLgdKSVxzD"
   },
   "outputs": [],
   "source": [
    "# Testar a ausência de um valor\n",
    "6 not in minha_lista"
   ]
  },
  {
   "cell_type": "markdown",
   "metadata": {
    "colab_type": "text",
    "id": "A6SBhy7NUtOt"
   },
   "source": [
    "__Fatiamento (*Slicing*)__\n",
    "O fatiamento será sempre realizado utilizando o índice da lista no formato:\n",
    "```python\n",
    "lista[inicio:fim:passo]\n",
    "```"
   ]
  },
  {
   "cell_type": "code",
   "execution_count": null,
   "metadata": {
    "colab": {},
    "colab_type": "code",
    "id": "dpS7OfxCVk_q"
   },
   "outputs": [],
   "source": [
    "# Declarar uma lista de valores\n",
    "seq = [0, 1, 2, 3, 4, 5, 6, 7, 8, 9]\n",
    "# Imprimir apenas os dois primeiros valores\n",
    "seq[0:2]"
   ]
  },
  {
   "cell_type": "code",
   "execution_count": null,
   "metadata": {
    "colab": {},
    "colab_type": "code",
    "id": "mNxr-Bw4WXiz"
   },
   "outputs": [],
   "source": [
    "# Imprimir até o índice 5\n",
    "seq[:6]"
   ]
  },
  {
   "cell_type": "code",
   "execution_count": null,
   "metadata": {
    "colab": {},
    "colab_type": "code",
    "id": "UH8dMpjZWjJ0"
   },
   "outputs": [],
   "source": [
    "# Imprimir a partir do índice 5\n",
    "seq[5:]"
   ]
  },
  {
   "cell_type": "code",
   "execution_count": null,
   "metadata": {
    "colab": {},
    "colab_type": "code",
    "id": "3iZzPzZAW_KP"
   },
   "outputs": [],
   "source": [
    "# Imprimir o último valor\n",
    "seq[-1]"
   ]
  },
  {
   "cell_type": "code",
   "execution_count": null,
   "metadata": {
    "colab": {},
    "colab_type": "code",
    "id": "wD9_-q11XGOq"
   },
   "outputs": [],
   "source": [
    "# Imprimir valores com passos de 2\n",
    "seq[::2]"
   ]
  },
  {
   "cell_type": "code",
   "execution_count": null,
   "metadata": {
    "colab": {},
    "colab_type": "code",
    "id": "gRcZryIrXXq8"
   },
   "outputs": [],
   "source": [
    "# Imprimir na ordem inversa\n",
    "seq[::-1]"
   ]
  },
  {
   "cell_type": "markdown",
   "metadata": {
    "colab_type": "text",
    "id": "YuB82XD226b3"
   },
   "source": [
    "### Dicionários (dict)\n",
    "Dicionários são estruturas de dados fundamentais, formadas por pares chave-valor (*key-value*), para desenvolvimento e análise de dados com Python. \n",
    "\n",
    "```python\n",
    "dicionario = {'key1' : 'value1', 'key2' : 'value2'}\n",
    "```"
   ]
  },
  {
   "cell_type": "markdown",
   "metadata": {
    "colab_type": "text",
    "id": "jGT7JqF1mK_f"
   },
   "source": [
    "__Declarar dicionários__"
   ]
  },
  {
   "cell_type": "code",
   "execution_count": null,
   "metadata": {
    "colab": {},
    "colab_type": "code",
    "id": "axoKAla4ijUy"
   },
   "outputs": [],
   "source": [
    "# Criar dicionário com dados de fácies e porosidade\n",
    "dicionario = {'facies' : ['A', 'A', 'B'], 'porosidade' : [0.2, 0.18, 0.01]}"
   ]
  },
  {
   "cell_type": "code",
   "execution_count": null,
   "metadata": {
    "colab": {},
    "colab_type": "code",
    "id": "EblTpd98lq9a"
   },
   "outputs": [],
   "source": [
    "type(dicionario)"
   ]
  },
  {
   "cell_type": "code",
   "execution_count": null,
   "metadata": {
    "colab": {},
    "colab_type": "code",
    "id": "ASr83FEDlEgA"
   },
   "outputs": [],
   "source": [
    "# Checar chaves (keys) do dicionário\n",
    "dicionario.keys()"
   ]
  },
  {
   "cell_type": "code",
   "execution_count": null,
   "metadata": {
    "colab": {},
    "colab_type": "code",
    "id": "RphoaNTFlaET"
   },
   "outputs": [],
   "source": [
    "# Valores do dicionário\n",
    "dicionario.values()"
   ]
  },
  {
   "cell_type": "code",
   "execution_count": null,
   "metadata": {
    "colab": {},
    "colab_type": "code",
    "id": "IebqAKXYmIbR"
   },
   "outputs": [],
   "source": [
    "# Criar dicionário a partir de sequências\n",
    "dict(enumerate(seq))"
   ]
  },
  {
   "cell_type": "code",
   "execution_count": null,
   "metadata": {
    "colab": {},
    "colab_type": "code",
    "id": "v3hMCjuJm2TF"
   },
   "outputs": [],
   "source": [
    "# Criar dicionário a apartir de duas sequencias\n",
    "seq1 = list(range(0, 5))\n",
    "seq2 = ['A', 'B', 'A', 'B', 'C', 'D']"
   ]
  },
  {
   "cell_type": "code",
   "execution_count": null,
   "metadata": {
    "colab": {},
    "colab_type": "code",
    "id": "v3hMCjuJm2TF"
   },
   "outputs": [],
   "source": [
    "# Concatenar listas com zip()\n",
    "concat_seq = list(zip(seq1, seq2))\n",
    "# Imprimir dicionário\n",
    "print(concat_seq)"
   ]
  },
  {
   "cell_type": "code",
   "execution_count": null,
   "metadata": {
    "colab": {},
    "colab_type": "code",
    "id": "v3hMCjuJm2TF"
   },
   "outputs": [],
   "source": [
    "# Transformar em dicionário\n",
    "dicionario = dict(concat_seq)\n",
    "# Imprimir dicionário\n",
    "print(dicionario)"
   ]
  },
  {
   "cell_type": "code",
   "execution_count": null,
   "metadata": {
    "colab": {},
    "colab_type": "code",
    "id": "n7i7YOA2pdL-"
   },
   "outputs": [],
   "source": [
    "# Acessar o valores das chaves utilizando índices\n",
    "dicionario[1]"
   ]
  },
  {
   "cell_type": "code",
   "execution_count": null,
   "metadata": {},
   "outputs": [],
   "source": [
    "a = dict(A=1, Z=-1)\n",
    "b = {'A': 1, 'Z': -1}\n",
    "c = dict(zip(['A', 'Z'], [1, -1]))\n",
    "d = dict([('A', 1), ('Z', -1)])\n",
    "e = dict({'Z': -1, 'A': 1})"
   ]
  },
  {
   "cell_type": "code",
   "execution_count": null,
   "metadata": {},
   "outputs": [],
   "source": [
    "a == b == c == d == e"
   ]
  },
  {
   "cell_type": "markdown",
   "metadata": {
    "colab_type": "text",
    "id": "YP5cJ3rsrQ0C"
   },
   "source": [
    "__*Hashability*__\n",
    "\n",
    "Checar se a estrutura de dados pode ser utilizada como chave em dicionários (*hashability*). \n",
    "\n",
    "Apenas estruturas imutávies como números (int, float), strings ou tuples podem ser utilizadas como `dict.keys`\n"
   ]
  },
  {
   "cell_type": "code",
   "execution_count": null,
   "metadata": {
    "colab": {},
    "colab_type": "code",
    "id": "Bh1Lk78Bqe6M"
   },
   "outputs": [],
   "source": [
    "# String podem ser utilizadas como keys\n",
    "hash('string')"
   ]
  },
  {
   "cell_type": "code",
   "execution_count": null,
   "metadata": {
    "colab": {},
    "colab_type": "code",
    "id": "aFtNTxj-quu_"
   },
   "outputs": [],
   "source": [
    "# Tuples podem ser utilizadas como dict.keys\n",
    "hash((1, 2, 3))"
   ]
  },
  {
   "cell_type": "code",
   "execution_count": null,
   "metadata": {
    "colab": {},
    "colab_type": "code",
    "id": "acvLzBnHqz2d"
   },
   "outputs": [],
   "source": [
    "# Listas não podem ser utilizadas como dict.keys pois são mutáveis\n",
    "hash([1, 2, 3, 4])"
   ]
  },
  {
   "cell_type": "markdown",
   "metadata": {
    "colab_type": "text",
    "id": "PRUqlM_AsmfE"
   },
   "source": [
    "### Conjuntos (Set)\n",
    "Sets são sequências desordenadas de objetos únicos. Esta classe de objeto aceita operações matemáticas de conjuntos como união, interseção e diferença.\n",
    "\n",
    "Dado um `set_a`\n",
    "\n",
    "\n",
    "\n",
    " \n",
    " "
   ]
  },
  {
   "cell_type": "markdown",
   "metadata": {
    "colab_type": "text",
    "id": "pODcm1GrPL4i"
   },
   "source": [
    "__Tabela de operações com conjuntos__\n"
   ]
  },
  {
   "cell_type": "markdown",
   "metadata": {
    "colab_type": "text",
    "id": "Vvbqr9cxPKGP"
   },
   "source": [
    "Operador | Descrição\n",
    "--- | ---\n",
    " `set_a.add(x)` | Adicionar elemento `x` ao `set_a`\n",
    "`set_a.remove(x)` | Remover elemento `x` do `set_a`\n",
    "`set_a.union(set_b)` | Elementos presentes no `set_a` e no `set_b`\n",
    " `set_a.intersection(set_b)` | Elementos presentes em ambos `set_a` e `set_b`\n",
    " `set_a.difference(set_b)` | Elementos que não estão no `set_b`\n",
    " `set_a.symmetric_difference(set_b)` | Elementos presentes no `set_a` e no `set_b`, mas não em ambos\n",
    "  `set_a.issubset(set_b)` | True se os elementos do `set_a` estão presentes no `set_b`\n",
    " `set_a.issuperset(set_b)` | True se os elementos do `set_b` estão contidos no `set_a`\n",
    "  `set_a.isdisjoint(set_b)` | True se não há elementos em comum entre `set_a` e `set_b`"
   ]
  },
  {
   "cell_type": "markdown",
   "metadata": {
    "colab_type": "text",
    "id": "hddQSY9kPUdV"
   },
   "source": [
    "__Operações com *Set*__"
   ]
  },
  {
   "cell_type": "code",
   "execution_count": null,
   "metadata": {
    "colab": {},
    "colab_type": "code",
    "id": "vZnCjOBSyPbm"
   },
   "outputs": [],
   "source": [
    "# Declarar dois sets\n",
    "set_a = set([2, 2, 2, 1, 3, 3])\n",
    "set_b = set([2, 2, 2, 2, 3, 4, 4, 4, 5, 6, 7, 8, 8, 8])"
   ]
  },
  {
   "cell_type": "code",
   "execution_count": null,
   "metadata": {
    "colab": {},
    "colab_type": "code",
    "id": "ytRMwTFUH4Uz"
   },
   "outputs": [],
   "source": [
    "set_a"
   ]
  },
  {
   "cell_type": "code",
   "execution_count": null,
   "metadata": {
    "colab": {},
    "colab_type": "code",
    "id": "Vy0l5z3ps_hA"
   },
   "outputs": [],
   "source": [
    "# União entre os sets\n",
    "set_a.union(set_b)\n",
    "# set_a.intersection(set_b)\n",
    "# set_a.difference(set_b)"
   ]
  },
  {
   "cell_type": "markdown",
   "metadata": {
    "colab_type": "text",
    "id": "eW6bVnQTYj2p"
   },
   "source": [
    "### Funções\n",
    "\n",
    "Funções sequenciais são funções nativas do Python que são utilizadas para gerar valores sequenciais de forma iterativa. Estas funções são muito utilizadas pois elas automatizam processos como:\n",
    "- Gerar sequências de objetos\n",
    "- Enumerar sequências de objetos\n",
    "- Reordenar sequências de valores\n",
    "- Concatenar sequências"
   ]
  },
  {
   "cell_type": "code",
   "execution_count": null,
   "metadata": {
    "colab": {},
    "colab_type": "code",
    "id": "5GjsrJPEhP6G"
   },
   "outputs": [],
   "source": [
    "# Intervalos de valores com range\n",
    "range(0, 10)"
   ]
  },
  {
   "cell_type": "code",
   "execution_count": null,
   "metadata": {
    "colab": {},
    "colab_type": "code",
    "id": "ETbpPbYSg564"
   },
   "outputs": [],
   "source": [
    "list(range(0, 10))"
   ]
  },
  {
   "cell_type": "code",
   "execution_count": null,
   "metadata": {
    "colab": {},
    "colab_type": "code",
    "id": "uWW0-SkCa10o"
   },
   "outputs": [],
   "source": [
    "# Declarar uma lista com range()\n",
    "seq = list(range(0, 10))\n",
    "# Tentar aplicar a função enumerate() diretamente na seq\n",
    "enumerate(seq)"
   ]
  },
  {
   "cell_type": "code",
   "execution_count": null,
   "metadata": {
    "colab": {},
    "colab_type": "code",
    "id": "N65xw677hjSv"
   },
   "outputs": [],
   "source": [
    "list(enumerate(seq))"
   ]
  },
  {
   "cell_type": "code",
   "execution_count": null,
   "metadata": {
    "colab": {},
    "colab_type": "code",
    "id": "l7N7P8p5ZgbD"
   },
   "outputs": [],
   "source": [
    "# enumerate\n",
    "for i, v in enumerate(seq):\n",
    "    print(i, v)\n",
    "#     break"
   ]
  },
  {
   "cell_type": "code",
   "execution_count": null,
   "metadata": {
    "colab": {},
    "colab_type": "code",
    "id": "6byHbt1PbnXj"
   },
   "outputs": [],
   "source": [
    "i, v"
   ]
  },
  {
   "cell_type": "code",
   "execution_count": null,
   "metadata": {
    "colab": {},
    "colab_type": "code",
    "id": "WtiulDehgh4s"
   },
   "outputs": [],
   "source": [
    "# Inverter ordem de listas\n",
    "list(reversed(seq))"
   ]
  },
  {
   "cell_type": "code",
   "execution_count": null,
   "metadata": {
    "colab": {},
    "colab_type": "code",
    "id": "qTSxuX6hf_1m"
   },
   "outputs": [],
   "source": [
    "# Inverter ordem com notação de slicing\n",
    "seq_inv = seq[::-1]\n",
    "seq_inv"
   ]
  },
  {
   "cell_type": "code",
   "execution_count": null,
   "metadata": {
    "colab": {},
    "colab_type": "code",
    "id": "2damPH0xcAFQ"
   },
   "outputs": [],
   "source": [
    "# Ordenar valores\n",
    "sorted(seq_inv)"
   ]
  },
  {
   "cell_type": "code",
   "execution_count": null,
   "metadata": {
    "colab": {},
    "colab_type": "code",
    "id": "AROR2616nHiA"
   },
   "outputs": [],
   "source": [
    "# Criar duas sequencias\n",
    "seq1 = list(range(0, 5))\n",
    "seq2 = ['A', 'B', 'A', 'B', 'C', 'D']\n",
    "# Concatenar listas com zip()\n",
    "list(zip(seq1, seq2))"
   ]
  },
  {
   "cell_type": "markdown",
   "metadata": {
    "colab_type": "text",
    "id": "XEZAbtLBdCR2"
   },
   "source": [
    "__Exemplo:__\n",
    "\n",
    "Um caso prático pode ser o caso de precisarmos criar uma lista com índices a partir de uma lista de valores. Nesse caso, criaremos uma lista `indices` e uma lista `valores` onde armazenaremos os objetos que serão criados com a função `enumerate()`."
   ]
  },
  {
   "cell_type": "code",
   "execution_count": null,
   "metadata": {
    "colab": {},
    "colab_type": "code",
    "id": "leT9UosqcadI"
   },
   "outputs": [],
   "source": [
    "# Criar duas listas\n",
    "indices = []\n",
    "valores = []\n",
    "\n",
    "# Iterar em objetos gerados pela função enumerate()\n",
    "for i, v in enumerate(seq):\n",
    "    indices.append(i)\n",
    "    valores.append(v)\n",
    "# Imprimir as listas\n",
    "print(indices, valores)"
   ]
  },
  {
   "cell_type": "code",
   "execution_count": null,
   "metadata": {
    "colab": {},
    "colab_type": "code",
    "id": "nn2Pwbbwd-Yc"
   },
   "outputs": [],
   "source": [
    "def criar_indices_de_lista(lista):\n",
    "    '''\n",
    "    Função para criar indices de uma lista de valores\n",
    "\n",
    "    input: [lista]\n",
    "\n",
    "    output: listas aninhadas [[indices], [valores]]\n",
    "    '''\n",
    "    # Criar duas listas\n",
    "    indices = []\n",
    "    valores = []\n",
    "\n",
    "    # Iterar em objetos gerados pela função enumerate()\n",
    "    for i, v in enumerate(lista):\n",
    "        indices.append(i)\n",
    "        valores.append(v)\n",
    "    # Imprimir as listas\n",
    "    return [indices, valores]"
   ]
  },
  {
   "cell_type": "code",
   "execution_count": null,
   "metadata": {
    "colab": {},
    "colab_type": "code",
    "id": "LlVj1KEtfVbN"
   },
   "outputs": [],
   "source": [
    "criar_indices_de_lista(seq)"
   ]
  },
  {
   "cell_type": "markdown",
   "metadata": {
    "colab_type": "text",
    "id": "so1rFmON2mBJ"
   },
   "source": [
    "## Arrays\n",
    "[Python arrays](https://docs.python.org/3.6/library/array.html) são semelhantes às listas, porém aceitam somente dados do mesmo tipo. Trata-se de um módulo Python utilizado para armazenar valores que sejam do mesmo tipo. Os tipos de valores são definidos no momento de criação do _Array_."
   ]
  },
  {
   "cell_type": "code",
   "execution_count": null,
   "metadata": {
    "colab": {},
    "colab_type": "code",
    "id": "oHEPMgv9xe9n"
   },
   "outputs": [],
   "source": [
    "arr = array('l', [1, 2, 3, 4, 5])\n",
    "print(arr, type(arr))"
   ]
  },
  {
   "cell_type": "code",
   "execution_count": null,
   "metadata": {
    "colab": {},
    "colab_type": "code",
    "id": "f4IVVj_G4flp"
   },
   "outputs": [],
   "source": [
    "tuple_1 = (1, 2, 3, 4)\n",
    "tuple_1[0] = 2"
   ]
  },
  {
   "cell_type": "markdown",
   "metadata": {
    "colab_type": "text",
    "id": "-a-ISiqnV1T8"
   },
   "source": [
    "## Estruturas _Numpy_\n",
    "\n",
    "[Numpy arrays](https://www.scipy-lectures.org/intro/numpy/array_object.html)* são arranjos 1D, 2D, 3D or nD de números interrrelacionados.\n",
    "\n",
    "A sintaxe padrão para importar `numpy`:\n",
    "\n",
    "```python\n",
    "import numpy as np\n",
    "```\n",
    "\n",
    "Os principais aspectos da biblioteca Numpy são:\n",
    "- `ndarrays` são estruturas eficientes, multimensionais e que permitem operações matemáticas vetorizadas\n",
    "- Funções matemáticas para programação rápida sem a necessidade de criar *loops*\n",
    "- Ferramentas para importar, ler e gravar dados em arquivos (.csv, .txt, etc.)\n",
    "- Funções de álgebra linear\n",
    "- Ferramentas de desenvolvimento e otimização em C, C++ e Fortran\n",
    "\n",
    "![](https://www.oreilly.com/library/view/elegant-scipy/9781491922927/assets/elsp_0105.png)"
   ]
  },
  {
   "cell_type": "markdown",
   "metadata": {
    "colab_type": "text",
    "id": "8YWnQjqxLc_0"
   },
   "source": [
    "### Arranjos *numpy* (`numpy.ndarray`)"
   ]
  },
  {
   "cell_type": "markdown",
   "metadata": {
    "colab_type": "text",
    "id": "LSMdBZhrpdTv"
   },
   "source": [
    "__Tabela de funções para declarar `ndarrays`__"
   ]
  },
  {
   "cell_type": "markdown",
   "metadata": {
    "colab_type": "text",
    "id": "BTaZtY2wOF2V"
   },
   "source": [
    "Operador | Descrição\n",
    "--- | ---\n",
    "`np.array` | Converte dados de entrada em `ndarray` estimando o tipo de dado criando cópia\n",
    "`np.asarray` | Converte dados de entrada em `ndarray` estimando o tipo de dado sem criar cópia\n",
    "`np.arange` | Gera sequencia de dados em formato `ndarray`\n",
    "`np.ones, ones_like` | Produz `ndarray` em n dimensões compostas de valores = 1\n",
    "`np.zeros, zeros_like` | Produz `ndarray` em n dimensões compostas de valores = 0\n",
    "`np.full` | Produz `ndarray` em n dimensões compostas de valores constantes\n",
    "`np.eye, zeros_like` | Produz matriz identidade\n",
    "`np.random.random` | Produz `ndarray` em n dimensões compostas de valores aleatórios"
   ]
  },
  {
   "cell_type": "code",
   "execution_count": null,
   "metadata": {
    "colab": {},
    "colab_type": "code",
    "id": "XL7TCXY_ibTE"
   },
   "outputs": [],
   "source": [
    "a = np.zeros ((2, 2))\n",
    "print(a)"
   ]
  },
  {
   "cell_type": "code",
   "execution_count": null,
   "metadata": {
    "colab": {},
    "colab_type": "code",
    "id": "M3fHw9b3jH9s"
   },
   "outputs": [],
   "source": [
    "print(a.shape)\n",
    "print(a.dtype)\n",
    "print(a.ndim)"
   ]
  },
  {
   "cell_type": "code",
   "execution_count": null,
   "metadata": {
    "colab": {},
    "colab_type": "code",
    "id": "A0Lw1y_LihJA"
   },
   "outputs": [],
   "source": [
    "b = np.ones((1, 2))\n",
    "print(b)"
   ]
  },
  {
   "cell_type": "code",
   "execution_count": null,
   "metadata": {
    "colab": {},
    "colab_type": "code",
    "id": "xBX8ab5ajKLf"
   },
   "outputs": [],
   "source": [
    "print(b.shape)\n",
    "print(b.dtype)\n",
    "print(b.ndim)"
   ]
  },
  {
   "cell_type": "code",
   "execution_count": null,
   "metadata": {
    "colab": {},
    "colab_type": "code",
    "id": "fcXSPIEDimAr"
   },
   "outputs": [],
   "source": [
    "c = np.full((2, 2), 7)\n",
    "print(c)"
   ]
  },
  {
   "cell_type": "code",
   "execution_count": null,
   "metadata": {
    "colab": {},
    "colab_type": "code",
    "id": "6u6rFSeojMzn"
   },
   "outputs": [],
   "source": [
    "print(c.shape)\n",
    "print(c.dtype)\n",
    "print(c.ndim)"
   ]
  },
  {
   "cell_type": "code",
   "execution_count": null,
   "metadata": {
    "colab": {},
    "colab_type": "code",
    "id": "qfXcRGEcirZl"
   },
   "outputs": [],
   "source": [
    "d = np.eye(2)\n",
    "print(d)"
   ]
  },
  {
   "cell_type": "code",
   "execution_count": null,
   "metadata": {
    "colab": {},
    "colab_type": "code",
    "id": "7usuFnXJjQJo"
   },
   "outputs": [],
   "source": [
    "print(d.shape)\n",
    "print(d.dtype)\n",
    "print(d.ndim)"
   ]
  },
  {
   "cell_type": "code",
   "execution_count": null,
   "metadata": {
    "colab": {},
    "colab_type": "code",
    "id": "bzJTIYBsiw_3"
   },
   "outputs": [],
   "source": [
    "e = np.random.random((2, 2))\n",
    "print(e)"
   ]
  },
  {
   "cell_type": "code",
   "execution_count": null,
   "metadata": {
    "colab": {},
    "colab_type": "code",
    "id": "Neh8RCXDjS98"
   },
   "outputs": [],
   "source": [
    "print(e.shape)\n",
    "print(e.dtype)\n",
    "print(e.ndim)"
   ]
  },
  {
   "cell_type": "markdown",
   "metadata": {
    "colab_type": "text",
    "id": "NL9H7E9GZ6Sw"
   },
   "source": [
    "__Indexação e fatiamento de ndarrays__"
   ]
  },
  {
   "cell_type": "code",
   "execution_count": null,
   "metadata": {
    "colab": {},
    "colab_type": "code",
    "id": "ygY5PPE3CZsv"
   },
   "outputs": [],
   "source": [
    "# Indexação e fatiamento em arranjos 1d\n",
    "arr = np.arange(10)\n",
    "arr"
   ]
  },
  {
   "cell_type": "code",
   "execution_count": null,
   "metadata": {
    "colab": {},
    "colab_type": "code",
    "id": "kga9jbPeCdwX"
   },
   "outputs": [],
   "source": [
    "arr[3]"
   ]
  },
  {
   "cell_type": "code",
   "execution_count": null,
   "metadata": {
    "colab": {},
    "colab_type": "code",
    "id": "EILazSS_aB95"
   },
   "outputs": [],
   "source": [
    "arr[:10]"
   ]
  },
  {
   "cell_type": "code",
   "execution_count": null,
   "metadata": {
    "colab": {},
    "colab_type": "code",
    "id": "iwpQB40uaymN"
   },
   "outputs": [],
   "source": [
    "arr[5:8] = 12\n",
    "arr"
   ]
  },
  {
   "cell_type": "code",
   "execution_count": null,
   "metadata": {
    "colab": {},
    "colab_type": "code",
    "id": "x8iBXXUqaj2s"
   },
   "outputs": [],
   "source": [
    "# Indexação e fatiamento em arranjos 2d\n",
    "arr2d = np.array([[1, 2, 3], [4, 5, 6], [7, 8, 9]])\n",
    "arr2d[2]"
   ]
  },
  {
   "cell_type": "code",
   "execution_count": null,
   "metadata": {
    "colab": {},
    "colab_type": "code",
    "id": "7eV2SDZhbIDv"
   },
   "outputs": [],
   "source": [
    "arr2d[0][2]"
   ]
  },
  {
   "cell_type": "code",
   "execution_count": null,
   "metadata": {
    "colab": {},
    "colab_type": "code",
    "id": "SRTA9MVUbM0j"
   },
   "outputs": [],
   "source": [
    "arr2d[0, 2]"
   ]
  },
  {
   "cell_type": "code",
   "execution_count": null,
   "metadata": {
    "colab": {},
    "colab_type": "code",
    "id": "SZsnC_5UbR_w"
   },
   "outputs": [],
   "source": [
    "# Indexação e fatiamento em arranjos 3d\n",
    "arr3d = np.array([[[1, 2, 3], [4, 5, 6]], [[7, 8, 9], [10, 11, 12]]])\n",
    "arr3d"
   ]
  },
  {
   "cell_type": "code",
   "execution_count": null,
   "metadata": {
    "colab": {},
    "colab_type": "code",
    "id": "qt_MHdFVbTDC"
   },
   "outputs": [],
   "source": [
    "arr3d[0]"
   ]
  },
  {
   "cell_type": "code",
   "execution_count": null,
   "metadata": {
    "colab": {},
    "colab_type": "code",
    "id": "TF4a9eb8biB8"
   },
   "outputs": [],
   "source": [
    "arr3d[0][1]"
   ]
  },
  {
   "cell_type": "code",
   "execution_count": null,
   "metadata": {
    "colab": {},
    "colab_type": "code",
    "id": "OCMTGJnicD0X"
   },
   "outputs": [],
   "source": [
    "arr3d[0][1][1]"
   ]
  },
  {
   "cell_type": "code",
   "execution_count": null,
   "metadata": {
    "colab": {},
    "colab_type": "code",
    "id": "iYZfTCm8cngO"
   },
   "outputs": [],
   "source": [
    "arr3d[:, 0][1][:2]"
   ]
  },
  {
   "cell_type": "markdown",
   "metadata": {
    "colab_type": "text",
    "id": "sb4mt66P94Kw"
   },
   "source": [
    "__Filtro booleano__"
   ]
  },
  {
   "cell_type": "code",
   "execution_count": null,
   "metadata": {
    "colab": {},
    "colab_type": "code",
    "id": "2m8LSBwxl6lh"
   },
   "outputs": [],
   "source": [
    "# Criar array 2d de números\n",
    "a = np.array([[1,2], [3, 4], [5, 6]])\n",
    "print(a)"
   ]
  },
  {
   "cell_type": "code",
   "execution_count": null,
   "metadata": {
    "colab": {},
    "colab_type": "code",
    "id": "HFv2XU2pmAie"
   },
   "outputs": [],
   "source": [
    "# Criar máscara de filtro booleano\n",
    "bool_idx = (a > 2)\n",
    "bool_idx"
   ]
  },
  {
   "cell_type": "code",
   "execution_count": null,
   "metadata": {
    "colab": {},
    "colab_type": "code",
    "id": "f8lDf7apBaX9"
   },
   "outputs": [],
   "source": [
    "# Filtrar números maiores que 2 com a máscara\n",
    "a[bool_idx]"
   ]
  },
  {
   "cell_type": "code",
   "execution_count": null,
   "metadata": {
    "colab": {},
    "colab_type": "code",
    "id": "GOE9oELZnQrG"
   },
   "outputs": [],
   "source": [
    "# Filtrar utilizando números maiores ou iguais a 2\n",
    "a[a >= 2]"
   ]
  },
  {
   "cell_type": "code",
   "execution_count": null,
   "metadata": {
    "colab": {},
    "colab_type": "code",
    "id": "RfRKw04n-fox"
   },
   "outputs": [],
   "source": [
    "# Criar ndarray de facies\n",
    "facies = np.array(['A', 'A', 'C', 'B', 'C', 'D', 'A'])\n",
    "facies"
   ]
  },
  {
   "cell_type": "code",
   "execution_count": null,
   "metadata": {
    "colab": {},
    "colab_type": "code",
    "id": "dHXmRhKdAzko"
   },
   "outputs": [],
   "source": [
    "# Filtrar somente a fácies A\n",
    "facies[(facies == 'A') | (facies == 'B')]"
   ]
  },
  {
   "cell_type": "markdown",
   "metadata": {
    "colab_type": "text",
    "id": "Zrs1vpt1YpuS"
   },
   "source": [
    "__Tipos de dados em arranjos__"
   ]
  },
  {
   "cell_type": "code",
   "execution_count": null,
   "metadata": {
    "colab": {},
    "colab_type": "code",
    "id": "e2oCLtRXYvav"
   },
   "outputs": [],
   "source": [
    "# Declarar dois ndarrays\n",
    "arr1 = np.array([1, 2, 3], dtype=np.float64)\n",
    "arr2 = np.array([1, 2, 3], dtype=np.int32)\n",
    "# Checar os tipos de dados\n",
    "print(arr1.dtype)\n",
    "print(arr2.dtype)"
   ]
  },
  {
   "cell_type": "code",
   "execution_count": null,
   "metadata": {
    "colab": {},
    "colab_type": "code",
    "id": "RRpGlDCLZRPO"
   },
   "outputs": [],
   "source": [
    "# Transformar tipos de unidades\n",
    "numeric_strings = np.array(['1.25', '-9.6', '42'], dtype=np.string_)\n",
    "numeric_strings.astype(float)"
   ]
  },
  {
   "cell_type": "code",
   "execution_count": null,
   "metadata": {
    "colab": {},
    "colab_type": "code",
    "id": "qhrXJXlzZcyR"
   },
   "outputs": [],
   "source": [
    "# Transformar tipo de unidade usando atributos de outros objetos numpy\n",
    "int_array = np.arange(10)\n",
    "calibers = np.array([.22, .270, .357, .380, .44, .50], dtype=np.float64)\n",
    "int_array.astype(calibers.dtype)"
   ]
  },
  {
   "cell_type": "markdown",
   "metadata": {
    "colab_type": "text",
    "id": "E4o46o_ygB0e"
   },
   "source": [
    "### Operações com ndarrays"
   ]
  },
  {
   "cell_type": "code",
   "execution_count": null,
   "metadata": {
    "colab": {},
    "colab_type": "code",
    "id": "X11JXw9NgF0b"
   },
   "outputs": [],
   "source": [
    "# Criar ndarray 2d\n",
    "arr2d = np.array([[1., 2., 3.], [4., 5., 6.]])\n",
    "arr2d"
   ]
  },
  {
   "cell_type": "code",
   "execution_count": null,
   "metadata": {
    "colab": {},
    "colab_type": "code",
    "id": "xFJCY41mt8lS"
   },
   "outputs": [],
   "source": [
    "# Somar um escalar a cada elemento\n",
    "arr2d + 1"
   ]
  },
  {
   "cell_type": "code",
   "execution_count": null,
   "metadata": {
    "colab": {},
    "colab_type": "code",
    "id": "VzpGBL1ZgVEk"
   },
   "outputs": [],
   "source": [
    "# Multiplicação de cada elemento por um escalar\n",
    "arr2d * 2"
   ]
  },
  {
   "cell_type": "markdown",
   "metadata": {
    "colab_type": "text",
    "id": "-noZmKZov0_c"
   },
   "source": [
    "__Transformação de ndarrays__"
   ]
  },
  {
   "cell_type": "code",
   "execution_count": null,
   "metadata": {
    "colab": {},
    "colab_type": "code",
    "id": "RqffVOA0v7bq"
   },
   "outputs": [],
   "source": [
    "# Reshape\n",
    "arr = np.arange(15).reshape(3, 5)\n",
    "arr"
   ]
  },
  {
   "cell_type": "code",
   "execution_count": null,
   "metadata": {
    "colab": {},
    "colab_type": "code",
    "id": "GhM5WaZ3wJYq"
   },
   "outputs": [],
   "source": [
    "# Transpor um ndarray\n",
    "arr.T"
   ]
  },
  {
   "cell_type": "markdown",
   "metadata": {
    "colab_type": "text",
    "id": "4O_EsEjbW_QX"
   },
   "source": [
    "__Funções universais (`ufunc`)__\n",
    "Estas `ufunc` são funções que agem em todos os elementos de um arranjo de números (ndarray) sem a necessidade de programar iterações. Com este recurso, é possível calcular médias, medianas, raiz quadrada, exponencial, etc. de forma rápida e simples."
   ]
  },
  {
   "cell_type": "markdown",
   "metadata": {
    "colab_type": "text",
    "id": "HSXNaejM0PUP"
   },
   "source": [
    "__*unary unfuncs*__"
   ]
  },
  {
   "cell_type": "code",
   "execution_count": null,
   "metadata": {
    "colab": {},
    "colab_type": "code",
    "id": "4Yhp7eghtITR"
   },
   "outputs": [],
   "source": [
    "# Criar ndarray 1d\n",
    "arr1d = np.arange(10)\n",
    "arr1d"
   ]
  },
  {
   "cell_type": "code",
   "execution_count": null,
   "metadata": {
    "colab": {},
    "colab_type": "code",
    "id": "YekP72rJvZ1b"
   },
   "outputs": [],
   "source": [
    "# Raiz quadrada de cada elemento\n",
    "np.sqrt(arr1d)"
   ]
  },
  {
   "cell_type": "code",
   "execution_count": null,
   "metadata": {
    "colab": {},
    "colab_type": "code",
    "id": "zv0BQRIzzMM2"
   },
   "outputs": [],
   "source": [
    "# Exponencial\n",
    "np.exp(arr1d)"
   ]
  },
  {
   "cell_type": "markdown",
   "metadata": {
    "colab_type": "text",
    "id": "xj2u2_-l0Wo0"
   },
   "source": [
    "__*binary ufuncs*__"
   ]
  },
  {
   "cell_type": "code",
   "execution_count": null,
   "metadata": {
    "colab": {},
    "colab_type": "code",
    "id": "9IHV7Jak0azf"
   },
   "outputs": [],
   "source": [
    "x = np.random.randn(8)\n",
    "x"
   ]
  },
  {
   "cell_type": "code",
   "execution_count": null,
   "metadata": {
    "colab": {},
    "colab_type": "code",
    "id": "DapYWHJ_03jK"
   },
   "outputs": [],
   "source": [
    "y = np.random.randn(8)\n",
    "y"
   ]
  },
  {
   "cell_type": "code",
   "execution_count": null,
   "metadata": {
    "colab": {},
    "colab_type": "code",
    "id": "yZGOCg4L0-8f"
   },
   "outputs": [],
   "source": [
    "# Máximo entre os x e y\n",
    "np.maximum(x, y)"
   ]
  },
  {
   "cell_type": "code",
   "execution_count": null,
   "metadata": {
    "colab": {},
    "colab_type": "code",
    "id": "_m9pF4lj1O82"
   },
   "outputs": [],
   "source": [
    "# Soma entre x e y por elemento\n",
    "np.add(x, y)"
   ]
  },
  {
   "cell_type": "markdown",
   "metadata": {
    "colab_type": "text",
    "id": "nWY8rBPT3y30"
   },
   "source": [
    "__Exemplo:__\n",
    "\n",
    "Precisamos avaliar a função $\\sqrt(x^2 + y^2)$\n",
    "em um grid de 1000x1000 valores."
   ]
  },
  {
   "cell_type": "code",
   "execution_count": null,
   "metadata": {
    "colab": {},
    "colab_type": "code",
    "id": "nz8aCnTI2atM"
   },
   "outputs": [],
   "source": [
    "# Criar um array 1d com 1000 valores regularmente espaçados\n",
    "points = np.arange(-5, 5, 0.01)\n",
    "points.shape"
   ]
  },
  {
   "cell_type": "code",
   "execution_count": null,
   "metadata": {
    "colab": {},
    "colab_type": "code",
    "id": "3-bRpe6J6bjD"
   },
   "outputs": [],
   "source": [
    "xs, ys = np.meshgrid(points, points)"
   ]
  },
  {
   "cell_type": "code",
   "execution_count": null,
   "metadata": {
    "colab": {},
    "colab_type": "code",
    "id": "jdt7ovry6lQ2"
   },
   "outputs": [],
   "source": [
    "xs.shape"
   ]
  },
  {
   "cell_type": "code",
   "execution_count": null,
   "metadata": {
    "colab": {},
    "colab_type": "code",
    "id": "U8q20Zf868aH"
   },
   "outputs": [],
   "source": [
    "z = np.sqrt(xs ** 2 + ys ** 2)"
   ]
  },
  {
   "cell_type": "code",
   "execution_count": null,
   "metadata": {
    "colab": {},
    "colab_type": "code",
    "id": "4mN48EJp7W_l"
   },
   "outputs": [],
   "source": [
    "import matplotlib.pyplot as plt\n",
    "%matplotlib inline\n",
    "\n",
    "plt.imshow(z, cmap=plt.cm.gray);\n",
    "plt.colorbar();\n",
    "plt.title(\"Imagem da equação $\\sqrt{x^2 + y^2}$ para um grid de valores\");"
   ]
  },
  {
   "cell_type": "markdown",
   "metadata": {
    "colab_type": "text",
    "id": "yw4GyzRhH2YA"
   },
   "source": [
    "### Métodos estatísticos e de conjunto"
   ]
  },
  {
   "cell_type": "code",
   "execution_count": null,
   "metadata": {
    "colab": {},
    "colab_type": "code",
    "id": "_gJmHPrtIKBI"
   },
   "outputs": [],
   "source": [
    "# Gerar dados com distribuição normal\n",
    "arr2d = np.random.randn(5, 4)\n",
    "arr2d"
   ]
  },
  {
   "cell_type": "code",
   "execution_count": null,
   "metadata": {
    "colab": {},
    "colab_type": "code",
    "id": "YaEBgBH5IXVQ"
   },
   "outputs": [],
   "source": [
    "# Média\n",
    "arr2d.mean() # np.mean(arr2d)"
   ]
  },
  {
   "cell_type": "code",
   "execution_count": null,
   "metadata": {
    "colab": {},
    "colab_type": "code",
    "id": "k06UHh6AJt2V"
   },
   "outputs": [],
   "source": [
    "# Média em colunas\n",
    "arr2d.mean(axis=1)"
   ]
  },
  {
   "cell_type": "code",
   "execution_count": null,
   "metadata": {
    "colab": {},
    "colab_type": "code",
    "id": "36r3t0paLx0x"
   },
   "outputs": [],
   "source": [
    "# Soma\n",
    "arr2d.sum()"
   ]
  },
  {
   "cell_type": "code",
   "execution_count": null,
   "metadata": {
    "colab": {},
    "colab_type": "code",
    "id": "v-PUunRPL40X"
   },
   "outputs": [],
   "source": [
    "# Soma em linhas\n",
    "arr2d.sum(0)"
   ]
  },
  {
   "cell_type": "code",
   "execution_count": null,
   "metadata": {
    "colab": {},
    "colab_type": "code",
    "id": "WXFnmfeyMos1"
   },
   "outputs": [],
   "source": [
    "arr2d = np.array([[0, 1, 2], [3, 4, 5], [6, 7, 8]])"
   ]
  },
  {
   "cell_type": "code",
   "execution_count": null,
   "metadata": {
    "colab": {},
    "colab_type": "code",
    "id": "vHTqigRyMRnh"
   },
   "outputs": [],
   "source": [
    "# Soma acumulativa\n",
    "arr2d.cumsum(0)"
   ]
  },
  {
   "cell_type": "markdown",
   "metadata": {
    "colab_type": "text",
    "id": "ZrwN7nJnORMX"
   },
   "source": [
    "__*Unique* e *Set*__"
   ]
  },
  {
   "cell_type": "code",
   "execution_count": null,
   "metadata": {
    "colab": {},
    "colab_type": "code",
    "id": "XlG4IcseOexA"
   },
   "outputs": [],
   "source": [
    "# Criar ndarray de facies\n",
    "facies = np.array(['A', 'A', 'C', 'B', 'C', 'D', 'A'])\n",
    "facies"
   ]
  },
  {
   "cell_type": "code",
   "execution_count": null,
   "metadata": {
    "colab": {},
    "colab_type": "code",
    "id": "UkzhQVeuOhlm"
   },
   "outputs": [],
   "source": [
    "# Valores únicos\n",
    "np.unique(facies)"
   ]
  },
  {
   "cell_type": "markdown",
   "metadata": {
    "colab_type": "text",
    "id": "ntZutm0bWEOX"
   },
   "source": [
    "## Estruturas Pandas\n",
    "[Pandas](https://pandas.pydata.org/) é uma biblioteca Python, construída sobre a estrutura do Numpy, que contém estruturas de dados de alto nível (*Series, DataFrame*) e ferramentas que facilitam a manipulação e a visualização de dados. \n",
    "\n",
    "Para começar a utilizar a biblioteca, a convenção utilizada é:\n",
    "\n",
    "```python\n",
    "import pandas as pd\n",
    "from pandas import Series\n",
    "from pandas import DataFrame\n",
    "```\n",
    "\n",
    "Características do pandas:\n",
    "- Estruturas de dados com eixos rotulados\n",
    "- Ferramentas para séries de tempo\n",
    "- Operações matemáticas podem ser passadas por rótulos de dados\n",
    "- Flexibilidade com valores ausentes\n",
    "- Recursos de bases de dados relacionais (SQL)\n",
    "\n",
    "As duas estruturas de dados principais do pandas são: *Series* e *DataFrame*, que podem ser visualizadas na figura abaixo:\n",
    "\n",
    "![](http://venus.ifca.unican.es/Rintro/_images/dataStructuresNew.png)"
   ]
  },
  {
   "cell_type": "markdown",
   "metadata": {
    "colab_type": "text",
    "id": "U7U_hlVs2bmh"
   },
   "source": [
    "### *Series*\n",
    "Séries pandas (`pandas.Series`) são arranjos 1D que contêm um campo com dados e um campo com índices."
   ]
  },
  {
   "cell_type": "code",
   "execution_count": null,
   "metadata": {
    "colab": {},
    "colab_type": "code",
    "id": "fYojLyvPO4Gb"
   },
   "outputs": [],
   "source": [
    "s = Series([4, 7, -5, 3])\n",
    "s"
   ]
  },
  {
   "cell_type": "code",
   "execution_count": null,
   "metadata": {
    "colab": {},
    "colab_type": "code",
    "id": "vEDaalsd3tWS"
   },
   "outputs": [],
   "source": [
    "s.values"
   ]
  },
  {
   "cell_type": "code",
   "execution_count": null,
   "metadata": {
    "colab": {},
    "colab_type": "code",
    "id": "jOj9pJYK3xEJ"
   },
   "outputs": [],
   "source": [
    "s.index"
   ]
  },
  {
   "cell_type": "code",
   "execution_count": null,
   "metadata": {
    "colab": {},
    "colab_type": "code",
    "id": "OUq5fM2K377v"
   },
   "outputs": [],
   "source": [
    "# Declarar uma série com índices rotulados\n",
    "s = Series([4, 7, -5, 3], index=['d', 'b', 'a', 'c'])\n",
    "s"
   ]
  },
  {
   "cell_type": "code",
   "execution_count": null,
   "metadata": {
    "colab": {},
    "colab_type": "code",
    "id": "1OmiMJpu4JbU"
   },
   "outputs": [],
   "source": [
    "# Acessar valores com índices rotulados\n",
    "s['d']"
   ]
  },
  {
   "cell_type": "code",
   "execution_count": null,
   "metadata": {
    "colab": {},
    "colab_type": "code",
    "id": "6mtDePWJ6sNo"
   },
   "outputs": [],
   "source": [
    "# Filtrar valores\n",
    "s[s > 0]"
   ]
  },
  {
   "cell_type": "code",
   "execution_count": null,
   "metadata": {
    "colab": {},
    "colab_type": "code",
    "id": "UEN3Zdna4l_a"
   },
   "outputs": [],
   "source": [
    "# Verificar a presença de um índice\n",
    "'a' in s"
   ]
  },
  {
   "cell_type": "code",
   "execution_count": null,
   "metadata": {
    "colab": {},
    "colab_type": "code",
    "id": "nkJ-eq084l1D"
   },
   "outputs": [],
   "source": [
    "# Declarar um dicionário\n",
    "states_dict = {'Ohio': 35000, 'Texas': 71000, 'Oregon': 16000, 'Utah': 5000}\n",
    "# Gerar séries a partir do dicionário\n",
    "states_series = Series(states_dict)\n",
    "states_series"
   ]
  },
  {
   "cell_type": "code",
   "execution_count": null,
   "metadata": {
    "colab": {},
    "colab_type": "code",
    "id": "9Vm1XPpx4lty"
   },
   "outputs": [],
   "source": [
    "states_series['Ohio'] = np.nan\n",
    "states_series"
   ]
  },
  {
   "cell_type": "code",
   "execution_count": null,
   "metadata": {
    "colab": {},
    "colab_type": "code",
    "id": "udR1siwfEMdo"
   },
   "outputs": [],
   "source": [
    "states_series.isnull() \n",
    "# pd.isnull(states_series)"
   ]
  },
  {
   "cell_type": "markdown",
   "metadata": {
    "colab_type": "text",
    "id": "3xXNmHRF2iDs"
   },
   "source": [
    "### *DataFrame*\n",
    "DataFrames (`pandas.DataFrame`) são estruturas de dados tabulares, assim como planilhas Excel (*spreadsheets*), que contêm uma ou mais colunas com índices e colunas representando campos com valores (variávies). Em DataFrames, as linhas são consideradas observações e as colunas são prorpiedades, variáveis ou feiçoes (*features*)."
   ]
  },
  {
   "cell_type": "markdown",
   "metadata": {
    "colab_type": "text",
    "id": "ZZPeGTklJb-E"
   },
   "source": [
    "__Construir DataFrame__"
   ]
  },
  {
   "cell_type": "code",
   "execution_count": null,
   "metadata": {
    "colab": {},
    "colab_type": "code",
    "id": "lvwzw9Xz2l10"
   },
   "outputs": [],
   "source": [
    "# Montar um DataFrame a partir de um dicionário\n",
    "data = {'state': ['Ohio', 'Ohio', 'Ohio', 'Nevada', 'Nevada'], \n",
    "        'year': [2000, 2001, 2002, 2001, 2002],\n",
    "        'pop': [1.5, 1.7, 3.6, 2.4, 2.9]}\n",
    "df = DataFrame(df)\n",
    "df"
   ]
  },
  {
   "cell_type": "code",
   "execution_count": null,
   "metadata": {
    "colab": {},
    "colab_type": "code",
    "id": "FWmxpC7QFaE9"
   },
   "outputs": [],
   "source": [
    "# Criar um DataFrame definindo colunas e índices\n",
    "df2 = DataFrame(data,\n",
    "                columns=['year', 'state', 'pop', 'debt'],\n",
    "                index=['one', 'two', 'three', 'four', 'five'])\n",
    "df2"
   ]
  },
  {
   "cell_type": "code",
   "execution_count": null,
   "metadata": {
    "colab": {},
    "colab_type": "code",
    "id": "757sGEPzM2OB"
   },
   "outputs": [],
   "source": [
    "# Criar DataFrame com nested dict\n",
    "pop = {'Nevada': {2001: 2.4, 2002: 2.9}, \n",
    "       'Ohio': {2000: 1.5, 2001: 1.7, 2002: 3.6}}\n",
    "df3 = DataFrame(pop)\n",
    "df3"
   ]
  },
  {
   "cell_type": "markdown",
   "metadata": {
    "colab_type": "text",
    "id": "Cmw6h0bEJif6"
   },
   "source": [
    "__Acessar colunas e linhas__"
   ]
  },
  {
   "cell_type": "code",
   "execution_count": null,
   "metadata": {
    "colab": {},
    "colab_type": "code",
    "id": "LhPlX7ZOJzSg"
   },
   "outputs": [],
   "source": [
    "# Acessar lista de colunas\n",
    "df2.columns"
   ]
  },
  {
   "cell_type": "code",
   "execution_count": null,
   "metadata": {
    "colab": {},
    "colab_type": "code",
    "id": "m1HSgg8RJUzr"
   },
   "outputs": [],
   "source": [
    "# Notação dict-like para acessar colunas\n",
    "df2['year']"
   ]
  },
  {
   "cell_type": "code",
   "execution_count": null,
   "metadata": {
    "colab": {},
    "colab_type": "code",
    "id": "2kZF9Q7UJzPb"
   },
   "outputs": [],
   "source": [
    "# Acessar linhas utilizando índice\n",
    "df2.loc['five']"
   ]
  },
  {
   "cell_type": "code",
   "execution_count": null,
   "metadata": {
    "colab": {},
    "colab_type": "code",
    "id": "oib3cIHfJzL9"
   },
   "outputs": [],
   "source": [
    "# Inserir valores em colunas\n",
    "df2['debt'] = 15.0\n",
    "df2"
   ]
  },
  {
   "cell_type": "code",
   "execution_count": null,
   "metadata": {
    "colab": {},
    "colab_type": "code",
    "id": "xHmgPgNtLeNV"
   },
   "outputs": [],
   "source": [
    "# Inserir valores em colunas\n",
    "df2['debt'] = np.arange(5)\n",
    "df2"
   ]
  },
  {
   "cell_type": "code",
   "execution_count": null,
   "metadata": {
    "colab": {},
    "colab_type": "code",
    "id": "g5wDEO-_Lp8b"
   },
   "outputs": [],
   "source": [
    "# Criar uma nova coluna\n",
    "df2['eastern'] = df2.state == 'Ohio'\n",
    "df2"
   ]
  },
  {
   "cell_type": "code",
   "execution_count": null,
   "metadata": {
    "colab": {},
    "colab_type": "code",
    "id": "8ms-6PyrMa0L"
   },
   "outputs": [],
   "source": [
    "del df2['eastern']\n",
    "df2"
   ]
  },
  {
   "cell_type": "markdown",
   "metadata": {
    "colab_type": "text",
    "id": "g5WkFCodOXVq"
   },
   "source": [
    "__Funcionalidades__\n",
    "\n",
    "Algumas das principais funcionalidades da bilioteca pandas são:\n",
    "- Reindexar\n",
    "- Remover elementos\n",
    "- Indexar, selecionar e filtrar\n",
    "- Operações aritméticas\n",
    "- Alinhamento de dados\n",
    "- Aplicação de funções\n",
    "- Ordenamento e ranqueamento\n"
   ]
  },
  {
   "cell_type": "markdown",
   "metadata": {
    "colab_type": "text",
    "id": "nKzo_uM-U0aw"
   },
   "source": [
    "__Reindexar__"
   ]
  },
  {
   "cell_type": "code",
   "execution_count": null,
   "metadata": {
    "colab": {},
    "colab_type": "code",
    "id": "W35k8QGbLp7B"
   },
   "outputs": [],
   "source": [
    "# Criar série com índices desordenados\n",
    "s = Series([4.5, 7.2, -5.3, 3.6], index=['d', 'b', 'a', 'c'])\n",
    "s"
   ]
  },
  {
   "cell_type": "code",
   "execution_count": null,
   "metadata": {
    "colab": {},
    "colab_type": "code",
    "id": "Y_yWN9g1Lp4o"
   },
   "outputs": [],
   "source": [
    "# Reindexar com valores nulos\n",
    "s2 = s.reindex(['a', 'b', 'c', 'd', 'e'])\n",
    "s2"
   ]
  },
  {
   "cell_type": "code",
   "execution_count": null,
   "metadata": {
    "colab": {},
    "colab_type": "code",
    "id": "adgTEprvYs65"
   },
   "outputs": [],
   "source": [
    "# Reindexar com valores constantes\n",
    "s2 = s.reindex(['a', 'b', 'c', 'd', 'e'], fill_value=0)\n",
    "s2"
   ]
  },
  {
   "cell_type": "code",
   "execution_count": null,
   "metadata": {
    "colab": {},
    "colab_type": "code",
    "id": "Vz6VlCaKLp2N"
   },
   "outputs": [],
   "source": [
    "# Criar série com íncices ausentes\n",
    "s3 = Series(['blue', 'purple', 'yellow'], index=[0, 2, 4])\n",
    "s3"
   ]
  },
  {
   "cell_type": "code",
   "execution_count": null,
   "metadata": {
    "colab": {},
    "colab_type": "code",
    "id": "KZa5qKU7Lpz3"
   },
   "outputs": [],
   "source": [
    "# Reindexar série com preenchimento do tipo forward-fill\n",
    "s4 = s3.reindex(range(6), method='ffill')\n",
    "s4"
   ]
  },
  {
   "cell_type": "code",
   "execution_count": null,
   "metadata": {
    "colab": {},
    "colab_type": "code",
    "id": "huCKGgvHY6Ki"
   },
   "outputs": [],
   "source": [
    "# Criar DataFrame\n",
    "df = DataFrame(np.arange(9).reshape((3, 3)), \n",
    "                  index=['a', 'c', 'd'], \n",
    "                  columns=['Ohio', 'Texas', 'California'])\n",
    "df"
   ]
  },
  {
   "cell_type": "code",
   "execution_count": null,
   "metadata": {
    "colab": {},
    "colab_type": "code",
    "id": "hJs6SoVsY6DL"
   },
   "outputs": [],
   "source": [
    "states = ['Texas', 'Utah', 'California']\n",
    "df.reindex(columns=states)"
   ]
  },
  {
   "cell_type": "code",
   "execution_count": null,
   "metadata": {
    "colab": {},
    "colab_type": "code",
    "id": "ctH40LwRc0bN"
   },
   "outputs": [],
   "source": [
    "# Alternativa para reindexar com rótulos (labels)\n",
    "df.reindex(index=['a', 'b', 'c', 'd'], columns=states)"
   ]
  },
  {
   "cell_type": "markdown",
   "metadata": {
    "colab_type": "text",
    "id": "aMwEh3eKd26t"
   },
   "source": [
    "__Remover elementos__"
   ]
  },
  {
   "cell_type": "code",
   "execution_count": null,
   "metadata": {
    "colab": {},
    "colab_type": "code",
    "id": "2u2tI9UJc0Y7"
   },
   "outputs": [],
   "source": [
    "s = Series(np.arange(5.), index=['a', 'b', 'c', 'd', 'e'])\n",
    "s"
   ]
  },
  {
   "cell_type": "code",
   "execution_count": null,
   "metadata": {
    "colab": {},
    "colab_type": "code",
    "id": "E47uvOCyc0KY"
   },
   "outputs": [],
   "source": [
    "# Remover valores por rótulos de índices\n",
    "s.drop('c')\n",
    "# s.drop(['a', 'c'])"
   ]
  },
  {
   "cell_type": "code",
   "execution_count": null,
   "metadata": {
    "colab": {},
    "colab_type": "code",
    "id": "w7MohG7xZTPX"
   },
   "outputs": [],
   "source": [
    "df = pd.DataFrame(np.arange(16).reshape((4, 4)),\n",
    "                    index=['Ohio', 'Colorado', 'Utah', 'New York'],\n",
    "                    columns=['one', 'two', 'three', 'four'])\n",
    "df"
   ]
  },
  {
   "cell_type": "code",
   "execution_count": null,
   "metadata": {
    "colab": {},
    "colab_type": "code",
    "id": "aRcVDyHSg6o4"
   },
   "outputs": [],
   "source": [
    "# Remover linhas por rótulo de índice\n",
    "df.drop(['Colorado', 'Ohio'])\n",
    "# data.drop('two', axis=1)\n",
    "# data.drop(['two', 'four'], axis='columns')"
   ]
  },
  {
   "cell_type": "markdown",
   "metadata": {
    "colab_type": "text",
    "id": "EcxyNdiPev4k"
   },
   "source": [
    "__Indexar, selecionar e filtrar__\n",
    "\n",
    "Estas operações são semelhantes às que vimos no Numpy, porém com pandas é possível fazer tudo utilizando os valores dos índices ao invés de usar números inteiros. Essa característica torna a manipulação de dados muito mais intuitiva para geocientistas, pois tratamos os campos de planilhas como propriedades físicas de rochas e nomenclaturas."
   ]
  },
  {
   "cell_type": "code",
   "execution_count": null,
   "metadata": {
    "colab": {},
    "colab_type": "code",
    "id": "nkyZxGozevpL"
   },
   "outputs": [],
   "source": [
    "s = Series(np.arange(4.), index=['a', 'b', 'c', 'd'])\n",
    "s"
   ]
  },
  {
   "cell_type": "code",
   "execution_count": null,
   "metadata": {
    "colab": {},
    "colab_type": "code",
    "id": "Y8Cz_kprevoV"
   },
   "outputs": [],
   "source": [
    "# Selecionar valores por rótulo de índice\n",
    "s['b']\n",
    "# s[['b', 'a', 'd']]\n",
    "# s.loc[['a', 'd']]"
   ]
  },
  {
   "cell_type": "code",
   "execution_count": null,
   "metadata": {
    "colab": {},
    "colab_type": "code",
    "id": "ZmDiyc80evg6"
   },
   "outputs": [],
   "source": [
    "# Fatiamento com rótulos de índices é diferente do padrão Python!\n",
    "s['b':'c']\n",
    "# s['b':'c'] = 5"
   ]
  },
  {
   "cell_type": "code",
   "execution_count": null,
   "metadata": {
    "colab": {},
    "colab_type": "code",
    "id": "Z4Knc9ENX6_i"
   },
   "outputs": [],
   "source": [
    "# Selecionar valores por índices inteiros\n",
    "s[1]\n",
    "# s[-1]\n",
    "# s[[1, 3]]\n",
    "# s.iloc[:2]"
   ]
  },
  {
   "cell_type": "code",
   "execution_count": null,
   "metadata": {
    "colab": {},
    "colab_type": "code",
    "id": "d1ja0bFwg6tl"
   },
   "outputs": [],
   "source": [
    "# Fatiamento por filtro booleano\n",
    "s[s > 2]"
   ]
  },
  {
   "cell_type": "code",
   "execution_count": null,
   "metadata": {
    "colab": {},
    "colab_type": "code",
    "id": "ofwPIh06g6rO"
   },
   "outputs": [],
   "source": [
    "df = pd.DataFrame(np.arange(16).reshape((4, 4)),\n",
    "                  index=['Ohio', 'Colorado', 'Utah', 'New York'],\n",
    "                  columns=['one', 'two', 'three', 'four'])\n",
    "df"
   ]
  },
  {
   "cell_type": "code",
   "execution_count": null,
   "metadata": {
    "colab": {},
    "colab_type": "code",
    "id": "soIreuvWY9pG"
   },
   "outputs": [],
   "source": [
    "# Selecionar colunas por rótulos\n",
    "df['two']\n",
    "df[['three', 'one']]"
   ]
  },
  {
   "cell_type": "code",
   "execution_count": null,
   "metadata": {
    "colab": {},
    "colab_type": "code",
    "id": "-YVLSHqKFaOj"
   },
   "outputs": [],
   "source": [
    "# Selecionar linhas por números inteiros\n",
    "df[2:3]\n",
    "# df[:3]"
   ]
  },
  {
   "cell_type": "code",
   "execution_count": null,
   "metadata": {
    "colab": {},
    "colab_type": "code",
    "id": "MEJNxbGFFaLn"
   },
   "outputs": [],
   "source": [
    "# Filtrar com máscara booleana\n",
    "df > 5\n",
    "# df[df['three'] > 5]"
   ]
  },
  {
   "cell_type": "code",
   "execution_count": null,
   "metadata": {
    "colab": {},
    "colab_type": "code",
    "id": "YxQzMB3GVXHY"
   },
   "outputs": [],
   "source": [
    "df.loc[:'Utah', 'two']\n",
    "# df.loc['Utah', ['two', 'three']]"
   ]
  },
  {
   "cell_type": "code",
   "execution_count": null,
   "metadata": {
    "colab": {},
    "colab_type": "code",
    "id": "eP3wxQBLFaJN"
   },
   "outputs": [],
   "source": [
    "# Selecionar por números inteiros\n",
    "df.iloc[2]\n",
    "# data.iloc[[1], [1, 2]]\n",
    "# data.iloc[[1, 2], [3, 0, 1]]\n",
    "# data.iloc[:, :3][data.three > 5]"
   ]
  },
  {
   "cell_type": "markdown",
   "metadata": {
    "colab_type": "text",
    "id": "dAxH_f2HLe02"
   },
   "source": [
    "__Tabela de indexação de *DataFrame*__\n",
    "\n",
    "Sumário de comandos para indexação, considerando um *DataFrame*  **`df`**\n",
    "\n",
    "Sintaxe | Descrição\n",
    "--- | ---\n",
    "`df[val]` | Selecionar uma ou mais colunas em um DataFrame por rótulos de colunas\n",
    "`df.loc[val]` | Selecionar linhas em um DataFrame por rótulos de índices\n",
    "`df.loc[:, val]` | Selecionar uma ou mais colunas por rótulos de colunas\n",
    "`df.loc[val1, val2]` | Selecionar colunas ou linhas por rótulos respectivos\n",
    "`df.iloc[where]` | Selecionar linhas por números inteiros\n",
    "`df.iloc[:, where]` | Selecionar colunas por números inteiros\n",
    "`df.iloc[where_i, where_j]` | Selecionar colunas por números inteiros\n",
    "`df.at[label_i, label_j]` | Selecionar linhas e colunas por rótulos\n",
    "`df.iat[i, j]` | Selecionar um valor escalar no df  por números inteiros\n",
    "`df.iloc[:, where]` | Selecionar colunas por números inteiros\n",
    "`get_value, set_value` | Selecionar valor escalar por rótulos de linha e coluna\n",
    "\n",
    "\n",
    "\n",
    "\n",
    "\n"
   ]
  },
  {
   "cell_type": "markdown",
   "metadata": {
    "colab_type": "text",
    "id": "-TDi9Ls4Slx9"
   },
   "source": [
    "__Operações matemáticas__"
   ]
  },
  {
   "cell_type": "code",
   "execution_count": null,
   "metadata": {
    "colab": {},
    "colab_type": "code",
    "id": "Ccym1Z2LFaD_"
   },
   "outputs": [],
   "source": [
    "s1 = pd.Series([7.3, -2.5, 3.4, 1.5], index=['a', 'c', 'd', 'e'])\n",
    "s1"
   ]
  },
  {
   "cell_type": "code",
   "execution_count": null,
   "metadata": {
    "colab": {},
    "colab_type": "code",
    "id": "bcKUBKwDSIfy"
   },
   "outputs": [],
   "source": [
    "s2 = pd.Series([-2.1, 3.6, -1.5, 4, 3.1], index=['a', 'c', 'e', 'f', 'g'])\n",
    "s2"
   ]
  },
  {
   "cell_type": "code",
   "execution_count": null,
   "metadata": {
    "colab": {},
    "colab_type": "code",
    "id": "F3SQFLl-SIbs"
   },
   "outputs": [],
   "source": [
    "# Adicionar valores respeitando os rótulos dos índices\n",
    "s1 + s2"
   ]
  },
  {
   "cell_type": "code",
   "execution_count": null,
   "metadata": {
    "colab": {},
    "colab_type": "code",
    "id": "WC79Mla9lGkB"
   },
   "outputs": [],
   "source": [
    "df1 = DataFrame(np.arange(12.).reshape((3, 4)), columns=list('abcd'))\n",
    "df1"
   ]
  },
  {
   "cell_type": "code",
   "execution_count": null,
   "metadata": {
    "colab": {},
    "colab_type": "code",
    "id": "Tp6wxVRhlU5Z"
   },
   "outputs": [],
   "source": [
    "df2 = DataFrame(np.arange(20.).reshape((4, 5)), columns=list('abcde'))\n",
    "df2"
   ]
  },
  {
   "cell_type": "code",
   "execution_count": null,
   "metadata": {
    "colab": {},
    "colab_type": "code",
    "id": "qFElKZ34lU1k"
   },
   "outputs": [],
   "source": [
    "df1 + df2"
   ]
  },
  {
   "cell_type": "code",
   "execution_count": null,
   "metadata": {
    "colab": {},
    "colab_type": "code",
    "id": "HSg7ahErlUxw"
   },
   "outputs": [],
   "source": [
    "df1.add(df2, fill_value=0)"
   ]
  },
  {
   "cell_type": "markdown",
   "metadata": {
    "colab_type": "text",
    "id": "_5yIwrQagqJH"
   },
   "source": [
    "__*Broadcasting*__\n",
    "\n",
    "Operações entre arranjos com dimenssões diferentes são resolvidas por *Broadcasting* no pandas."
   ]
  },
  {
   "cell_type": "markdown",
   "metadata": {
    "colab_type": "text",
    "id": "WfxRPfzPjOGo"
   },
   "source": [
    "![Broadcast](https://i.stack.imgur.com/JcKv1.png)"
   ]
  },
  {
   "cell_type": "code",
   "execution_count": null,
   "metadata": {
    "colab": {},
    "colab_type": "code",
    "id": "tTm5451ZSINT"
   },
   "outputs": [],
   "source": [
    "# Array 2D\n",
    "s = np.arange(12.).reshape((3, 4))\n",
    "arr"
   ]
  },
  {
   "cell_type": "code",
   "execution_count": null,
   "metadata": {
    "colab": {},
    "colab_type": "code",
    "id": "Bx1F6_mug5r1"
   },
   "outputs": [],
   "source": [
    "# Array 1D\n",
    "s[0]"
   ]
  },
  {
   "cell_type": "code",
   "execution_count": null,
   "metadata": {
    "colab": {},
    "colab_type": "code",
    "id": "ebW9cMIkg-DM"
   },
   "outputs": [],
   "source": [
    "# Subtrair por broadcasting\n",
    "s - s[0]"
   ]
  },
  {
   "cell_type": "markdown",
   "metadata": {
    "colab_type": "text",
    "id": "F-Egr77qmk74"
   },
   "source": [
    "__Aplicação de funções e mapeamento__\n",
    "\n",
    "As funções universais Numpy (`ufunc`) funcionam também com objetos pandas e podem ser aplicadas em linhas ou em colunas."
   ]
  },
  {
   "cell_type": "code",
   "execution_count": null,
   "metadata": {
    "colab": {},
    "colab_type": "code",
    "id": "8LvsVrlMhPey"
   },
   "outputs": [],
   "source": [
    "df = pd.DataFrame(np.random.randn(4, 3), columns=list('bde'),\n",
    "                     index=['Utah', 'Ohio', 'Texas', 'Oregon'])\n",
    "df"
   ]
  },
  {
   "cell_type": "code",
   "execution_count": null,
   "metadata": {
    "colab": {},
    "colab_type": "code",
    "id": "5e3zFPBDv9BC"
   },
   "outputs": [],
   "source": [
    "np.abs(df)"
   ]
  },
  {
   "cell_type": "code",
   "execution_count": null,
   "metadata": {
    "colab": {},
    "colab_type": "code",
    "id": "LoL2IKYUhPbZ"
   },
   "outputs": [],
   "source": [
    "# Aplicar função lambda em colunas\n",
    "f = lambda x: x.max() - x.min()"
   ]
  },
  {
   "cell_type": "code",
   "execution_count": null,
   "metadata": {
    "colab": {},
    "colab_type": "code",
    "id": "C32OiujyhPPr"
   },
   "outputs": [],
   "source": [
    "# Aplicar função em linhas ou colunas para gerar escalar\n",
    "# frame.apply(f)\n",
    "df.apply(f, axis='columns')"
   ]
  },
  {
   "cell_type": "code",
   "execution_count": null,
   "metadata": {
    "colab": {},
    "colab_type": "code",
    "id": "ktm_G1S5nl9L"
   },
   "outputs": [],
   "source": [
    "def f(x):\n",
    "    '''\n",
    "    Helper function para gerar pd.Series com sumário estatístico\n",
    "    \n",
    "    input: DataFrame name\n",
    "    \n",
    "    output: Series com min e max\n",
    "    '''    \n",
    "    return pd.Series([x.min(), x.max()], index=['min', 'max'])"
   ]
  },
  {
   "cell_type": "code",
   "execution_count": null,
   "metadata": {
    "colab": {},
    "colab_type": "code",
    "id": "tUMK8oNXnl5s"
   },
   "outputs": [],
   "source": [
    "# Aplicar função f(x) para gerar Series com sumários estatísticos\n",
    "# frame.apply(f)\n",
    "df.apply(f, axis='columns')\n"
   ]
  },
  {
   "cell_type": "code",
   "execution_count": null,
   "metadata": {
    "colab": {},
    "colab_type": "code",
    "id": "APDCGTdUnl1s"
   },
   "outputs": [],
   "source": [
    "# Função lambda para formatar a precisão de números float\n",
    "format = lambda x: '%.2f' % x"
   ]
  },
  {
   "cell_type": "code",
   "execution_count": null,
   "metadata": {
    "colab": {},
    "colab_type": "code",
    "id": "bnBjgcSxruWg"
   },
   "outputs": [],
   "source": [
    "# Aplicar a função lambda em todos os elementos do DataFrame\n",
    "df.applymap(format)"
   ]
  },
  {
   "cell_type": "code",
   "execution_count": null,
   "metadata": {
    "colab": {},
    "colab_type": "code",
    "id": "6hx02ScXruTX"
   },
   "outputs": [],
   "source": [
    "# Aplicar a função lambda nas linhas do DataFrame\n",
    "df['e'].map(format)"
   ]
  },
  {
   "cell_type": "markdown",
   "metadata": {
    "colab_type": "text",
    "id": "Jukm-EaqtJmd"
   },
   "source": [
    "__Ordenamento de objetos__"
   ]
  },
  {
   "cell_type": "code",
   "execution_count": null,
   "metadata": {
    "colab": {},
    "colab_type": "code",
    "id": "NfNrcLGvuOi7"
   },
   "outputs": [],
   "source": [
    "s = pd.Series(range(4), index=['d', 'a', 'b', 'c'])"
   ]
  },
  {
   "cell_type": "code",
   "execution_count": null,
   "metadata": {
    "colab": {},
    "colab_type": "code",
    "id": "2qSeleZ8uO4m"
   },
   "outputs": [],
   "source": [
    "# Ordenar Series por rótulo do índice\n",
    "s.sort_index()"
   ]
  },
  {
   "cell_type": "code",
   "execution_count": null,
   "metadata": {
    "colab": {},
    "colab_type": "code",
    "id": "5cdYUDwTuOto"
   },
   "outputs": [],
   "source": [
    "df = pd.DataFrame(np.arange(8).reshape((2, 4)),\n",
    "                     index=['three', 'one'],\n",
    "                     columns=['d', 'a', 'b', 'c'])\n",
    "df"
   ]
  },
  {
   "cell_type": "code",
   "execution_count": null,
   "metadata": {
    "colab": {},
    "colab_type": "code",
    "id": "lBo_MSRduOqK"
   },
   "outputs": [],
   "source": [
    "# Ordenar DataFrame por linhas ou colunas\n",
    "df.sort_index()\n",
    "# df.sort_index(axis=1)\n",
    "# df.sort_index(axis=1, ascending=False)"
   ]
  },
  {
   "cell_type": "code",
   "execution_count": null,
   "metadata": {
    "colab": {},
    "colab_type": "code",
    "id": "oQiCyFzCvBC_"
   },
   "outputs": [],
   "source": [
    "s = pd.Series([4, np.nan, 7, np.nan, -3, 2])\n",
    "s"
   ]
  },
  {
   "cell_type": "code",
   "execution_count": null,
   "metadata": {
    "colab": {},
    "colab_type": "code",
    "id": "hqJ4jtEevGpm"
   },
   "outputs": [],
   "source": [
    "# Ordenamento de Series com valores nulos\n",
    "s.sort_values()"
   ]
  },
  {
   "cell_type": "markdown",
   "metadata": {
    "colab_type": "text",
    "id": "Lud0SxoP0LdS"
   },
   "source": [
    "__Estatística descritiva__\n",
    "\n",
    "Objetos pandas contêm uma gama de métodos (funções) matemáticos e estatísticos que fornecem sumários estatísticos de forma rápida e direta sem a necessidade de construir iterações nos elementos de Series e DataFrame."
   ]
  },
  {
   "cell_type": "markdown",
   "metadata": {
    "colab_type": "text",
    "id": "w2yqmhNE_r1N"
   },
   "source": [
    "__Tabela de métodos de estatística descritiva__\n",
    "\n",
    "Comandos mais utilizados para geração de sumários estatísticos.\n",
    "\n",
    "Sintaxe | Descrição\n",
    "--- | ---\n",
    "`count` | Número de valores não nulos\n",
    "`describe` | Sumário estatístico de colunas com valores numéricos\n",
    "`min, max` | Valores mínimo e máximo\n",
    "`argmax, argmin` | Índices inteiros da localização de valores máximo e mínimo\n",
    "`idxmax, idxmin` | Rótulos dos índices de valores máximo e mínimo\n",
    "`sum` | Soma de valores\n",
    "`cumsum` | Soma acumulativa de valores\n",
    "`mean` | Média de valores\n",
    "`median` | Mediana de valores\n",
    "\n",
    "\n",
    "\n"
   ]
  },
  {
   "cell_type": "markdown",
   "metadata": {
    "colab_type": "text",
    "id": "IKEX3qU_1wjX"
   },
   "source": [
    "__Métodos de redução__"
   ]
  },
  {
   "cell_type": "code",
   "execution_count": null,
   "metadata": {
    "colab": {},
    "colab_type": "code",
    "id": "0vIZCqEF1wW6"
   },
   "outputs": [],
   "source": [
    "df = pd.DataFrame([[1.4, np.nan], [7.1, -4.5], [np.nan, np.nan], [0.75, -1.3]], \n",
    "                  index=['a', 'b', 'c', 'd'], \n",
    "                  columns=['one', 'two'])\n",
    "df"
   ]
  },
  {
   "cell_type": "code",
   "execution_count": null,
   "metadata": {
    "colab": {},
    "colab_type": "code",
    "id": "_t5kz4KI1wUm"
   },
   "outputs": [],
   "source": [
    "df.sum()\n",
    "# df.sum(axis='columns')\n",
    "# df.mean(axis='columns', skipna=False)\n",
    "# df.idxmax()\n",
    "# df.cumsum()\n",
    "# df.describe()"
   ]
  },
  {
   "cell_type": "markdown",
   "metadata": {
    "colab_type": "text",
    "id": "mRh-caj-B4oe"
   },
   "source": [
    "__Frequências de valores únicos__"
   ]
  },
  {
   "cell_type": "code",
   "execution_count": null,
   "metadata": {
    "colab": {},
    "colab_type": "code",
    "id": "AyOSVW4jCDwN"
   },
   "outputs": [],
   "source": [
    "s = pd.Series(['c', 'a', 'd', 'a', 'a', 'b', 'b', 'c', 'c'])\n",
    "s"
   ]
  },
  {
   "cell_type": "code",
   "execution_count": null,
   "metadata": {
    "colab": {},
    "colab_type": "code",
    "id": "7jsH2KlRCD0b"
   },
   "outputs": [],
   "source": [
    "# s.unique()\n",
    "# s.value_counts()\n",
    "pd.value_counts(s.values, sort=False)"
   ]
  },
  {
   "cell_type": "markdown",
   "metadata": {},
   "source": [
    "## Estruturas GeoPandas\n",
    "GeoPandas é uma biblioteca que utiliza recursos de manipulação para dados tabulares, como Pandas e para dados georreferenciados, como Shapely e Fiona, facilitando a análise de *shapefiles*."
   ]
  },
  {
   "cell_type": "markdown",
   "metadata": {},
   "source": [
    "### GeoSeries\n",
    "Objetos `geopandas.GeoSeries` são coleções de shapes, que podem ser dos tipos:\n",
    "\n",
    "- Points / Multi-Points\n",
    "- Lines / Multi-Lines\n",
    "- Polygons / Multi-Polygons\n",
    "\n",
    "Cada registro em um objeto `GeoSeries` pode conter um ou mais *shapes*."
   ]
  },
  {
   "cell_type": "markdown",
   "metadata": {},
   "source": [
    "__Exemplo:__\n",
    "\n",
    "Criar um objeto `GeoSeries` a partir de um dicionário Python, com o índice dos pontos `'name'` e as coodenadas `'lat', 'lon'`, e investigar seus atributos."
   ]
  },
  {
   "cell_type": "code",
   "execution_count": null,
   "metadata": {},
   "outputs": [],
   "source": [
    "# Criar dicionário de dados\n",
    "data = {'name': ['a', 'b', 'c'],\n",
    "        'lat': [45, 46, 47.5],\n",
    "        'lon': [-120, -121.2, -122.9]}\n",
    "# data"
   ]
  },
  {
   "cell_type": "code",
   "execution_count": null,
   "metadata": {},
   "outputs": [],
   "source": [
    "# Criar lista concatenada de valores de coordenadas\n",
    "geometry = [Point(xy) for xy in zip(data['lon'], data['lat'])]\n",
    "# geometry"
   ]
  },
  {
   "cell_type": "code",
   "execution_count": null,
   "metadata": {},
   "outputs": [],
   "source": [
    "# Criar GeoSeries a partir de lista com geometrias\n",
    "data_geo = GeoSeries(geometry, index=data['name'])\n",
    "# data_geo"
   ]
  },
  {
   "cell_type": "code",
   "execution_count": null,
   "metadata": {},
   "outputs": [],
   "source": [
    "# Acessar atributos\n",
    "# data_geo.geometry\n",
    "# data_geo.geom_type\n",
    "# data_geo.bounds\n",
    "# data_geo.total_bounds"
   ]
  },
  {
   "cell_type": "markdown",
   "metadata": {},
   "source": [
    "### GeoDataFrame\n",
    "Objetos do tipo `GeoDataFrame`, têm estrutura tabular, como um Pandas DataFrame, e contem um atributo do tipo `GeoSeries` denominado `geometry` com geometrias e coordenadas."
   ]
  },
  {
   "cell_type": "markdown",
   "metadata": {},
   "source": [
    "__Exemplo:__"
   ]
  },
  {
   "cell_type": "code",
   "execution_count": null,
   "metadata": {},
   "outputs": [],
   "source": [
    "df = DataFrame(data)\n",
    "df"
   ]
  },
  {
   "cell_type": "code",
   "execution_count": null,
   "metadata": {},
   "outputs": [],
   "source": [
    "# Criar geometria\n",
    "# geometry = [Point(xy) for xy in zip(df['lon'], df['lat'])]\n",
    "df['Coordinates'] = list(zip(df.lat, df.lon))\n",
    "df"
   ]
  },
  {
   "cell_type": "code",
   "execution_count": null,
   "metadata": {},
   "outputs": [],
   "source": [
    "df['Coordinates'] = df['Coordinates'].apply(Point)\n",
    "df"
   ]
  },
  {
   "cell_type": "code",
   "execution_count": null,
   "metadata": {},
   "outputs": [],
   "source": [
    "# Criar GeoDataFrame\n",
    "gdf = GeoDataFrame(df, geometry='Coordinates')\n",
    "gdf"
   ]
  },
  {
   "cell_type": "code",
   "execution_count": null,
   "metadata": {},
   "outputs": [],
   "source": [
    "gdf.plot(marker='*', color='green', markersize=50, figsize=(3, 3));"
   ]
  },
  {
   "cell_type": "markdown",
   "metadata": {
    "colab_type": "text",
    "id": "T0Cq3-dqfA6_"
   },
   "source": [
    "__Referências__\n",
    "\n",
    "- [Python Data Structures Tutorial (DataCamp)](https://www.datacamp.com/community/tutorials/data-structures-python#list)\n",
    "- [Python Numpy Tutorial (Stanford CS231n)](https://cs231n.github.io/python-numpy-tutorial/#numpy)\n",
    "- [Intro to Pandas Data Structures (Pandas Doc)](https://pandas.pydata.org/pandas-docs/stable/dsintro.html)\n",
    "- [Kaggle's Pandas Tutorial](https://www.kaggle.com/learn/pandas)\n",
    "- [GeoPandas](https://geopandas.readthedocs.io/en/latest/gallery/create_geopandas_from_pandas.html#sphx-glr-gallery-create-geopandas-from-pandas-py)\n"
   ]
  }
 ],
 "metadata": {
  "colab": {
   "name": "1.3 Estruturas de dados em Python.ipynb",
   "provenance": [],
   "toc_visible": true,
   "version": "0.3.2"
  },
  "kernelspec": {
   "display_name": "py36",
   "language": "python",
   "name": "python36"
  },
  "language_info": {
   "codemirror_mode": {
    "name": "ipython",
    "version": 3
   },
   "file_extension": ".py",
   "mimetype": "text/x-python",
   "name": "python",
   "nbconvert_exporter": "python",
   "pygments_lexer": "ipython3",
   "version": "3.6.7"
  },
  "toc": {
   "base_numbering": "1.3",
   "nav_menu": {},
   "number_sections": true,
   "sideBar": true,
   "skip_h1_title": false,
   "title_cell": "Table of Contents",
   "title_sidebar": "Contents",
   "toc_cell": false,
   "toc_position": {
    "height": "calc(100% - 180px)",
    "left": "10px",
    "top": "150px",
    "width": "304.656px"
   },
   "toc_section_display": true,
   "toc_window_display": true
  },
  "varInspector": {
   "cols": {
    "lenName": 16,
    "lenType": 16,
    "lenVar": 40
   },
   "kernels_config": {
    "python": {
     "delete_cmd_postfix": "",
     "delete_cmd_prefix": "del ",
     "library": "var_list.py",
     "varRefreshCmd": "print(var_dic_list())"
    },
    "r": {
     "delete_cmd_postfix": ") ",
     "delete_cmd_prefix": "rm(",
     "library": "var_list.r",
     "varRefreshCmd": "cat(var_dic_list()) "
    }
   },
   "position": {
    "height": "218.667px",
    "left": "561.667px",
    "right": "20px",
    "top": "120px",
    "width": "355.667px"
   },
   "types_to_exclude": [
    "module",
    "function",
    "builtin_function_or_method",
    "instance",
    "_Feature"
   ],
   "window_display": false
  }
 },
 "nbformat": 4,
 "nbformat_minor": 1
}
