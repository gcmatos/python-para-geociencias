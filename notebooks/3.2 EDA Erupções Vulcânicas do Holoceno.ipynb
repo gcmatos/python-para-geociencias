{
 "cells": [
  {
   "cell_type": "markdown",
   "metadata": {},
   "source": [
    "[![Open In Colab](https://colab.research.google.com/assets/colab-badge.svg)](https://colab.research.google.com/github/gcmatos/python-para-geociencias/blob/master/notebooks/3.2%20EDA%20Erupções%20Vulcânicas%20do%20Holoceno.ipynb)\n",
    "\n",
    "Ctrl/Cmd + click para abrir em uma nova aba do navegador web e utilizar o Google Colab para rodar o tutorial."
   ]
  },
  {
   "cell_type": "markdown",
   "metadata": {
    "colab_type": "text",
    "id": "pP9w4JN1QmwK"
   },
   "source": [
    "# Análise Exploratória de Dados\n",
    "__Vulcanismo no Holoceno do \"The Smithsonian Institution\"__\n",
    "\n",
    "Fonte: [https://www.kaggle.com/smithsonian/volcanic-eruptions](https://www.kaggle.com/smithsonian/volcanic-eruptions)\n",
    "\n"
   ]
  },
  {
   "cell_type": "markdown",
   "metadata": {
    "colab_type": "text",
    "id": "PueFLiEqQMgm"
   },
   "source": [
    "## Configuração de ambiente\n"
   ]
  },
  {
   "cell_type": "markdown",
   "metadata": {
    "colab_type": "text",
    "id": "AzJnQUjEI4TB"
   },
   "source": [
    "### Instalação de dependências"
   ]
  },
  {
   "cell_type": "code",
   "execution_count": 0,
   "metadata": {
    "colab": {},
    "colab_type": "code",
    "id": "MmaW34gmVDjs"
   },
   "outputs": [],
   "source": [
    "# Instalação do Basemap e dependências para dados geoespaciais\n",
    "!apt install proj-bin libproj-dev libgeos-dev\n",
    "!pip install https://github.com/matplotlib/basemap/archive/v1.1.0.tar.gz"
   ]
  },
  {
   "cell_type": "markdown",
   "metadata": {
    "colab_type": "text",
    "id": "fD-dqtYjMF0_"
   },
   "source": [
    "### Importar bibliotecas"
   ]
  },
  {
   "cell_type": "code",
   "execution_count": 0,
   "metadata": {
    "colab": {},
    "colab_type": "code",
    "id": "3-taCYz9QMgn"
   },
   "outputs": [],
   "source": [
    "import numpy as np\n",
    "import pandas as pd\n",
    "from pandas import Series\n",
    "\n",
    "%matplotlib inline\n",
    "import matplotlib.pyplot as plt\n",
    "from mpl_toolkits.basemap import Basemap\n",
    "import seaborn as sns\n",
    "\n",
    "import warnings\n",
    "warnings.filterwarnings('ignore')"
   ]
  },
  {
   "cell_type": "code",
   "execution_count": 0,
   "metadata": {
    "colab": {},
    "colab_type": "code",
    "id": "-JS7koDPDyaT"
   },
   "outputs": [],
   "source": [
    "# Matplotlib style\n",
    "plt.style.use('default')"
   ]
  },
  {
   "cell_type": "markdown",
   "metadata": {
    "colab_type": "text",
    "id": "l_2nz75FLyMW"
   },
   "source": [
    "### Subir arquivos\n",
    "Subir o arquivo **`volcanic-eruptions-database.csv`**\n"
   ]
  },
  {
   "cell_type": "code",
   "execution_count": 0,
   "metadata": {
    "colab": {},
    "colab_type": "code",
    "id": "1tUwPzEELmGh"
   },
   "outputs": [],
   "source": [
    "# Subir arquivo"
   ]
  },
  {
   "cell_type": "code",
   "execution_count": 0,
   "metadata": {
    "colab": {},
    "colab_type": "code",
    "id": "Ol5xMdVzP11y"
   },
   "outputs": [],
   "source": [
    "# Listar arquivos no diretório de trabalho\n",
    "%ls"
   ]
  },
  {
   "cell_type": "markdown",
   "metadata": {
    "colab_type": "text",
    "id": "sj-wf3vxCBqN"
   },
   "source": [
    "### Importação dos dados"
   ]
  },
  {
   "cell_type": "code",
   "execution_count": 0,
   "metadata": {
    "colab": {},
    "colab_type": "code",
    "id": "0mNxuzVJYdSf"
   },
   "outputs": [],
   "source": [
    "volcanoes = pd.read_csv(\"volcanic-eruptions-database.csv\")"
   ]
  },
  {
   "cell_type": "markdown",
   "metadata": {
    "colab_type": "text",
    "id": "Wtp1q8p4IzIS"
   },
   "source": [
    "## Auditando dados"
   ]
  },
  {
   "cell_type": "markdown",
   "metadata": {
    "colab_type": "text",
    "id": "j2EEYrJzf-1f"
   },
   "source": [
    "Trata-se de uma série ou uma tabela de atributos?"
   ]
  },
  {
   "cell_type": "code",
   "execution_count": 0,
   "metadata": {
    "colab": {},
    "colab_type": "code",
    "id": "NaEnz9LdQMgt"
   },
   "outputs": [],
   "source": [
    "volcanoes.head()\n",
    "# volcanoes.tail()"
   ]
  },
  {
   "cell_type": "markdown",
   "metadata": {
    "colab_type": "text",
    "id": "IPRPdt9If79S"
   },
   "source": [
    "Quais são os nomes (*labels*) das variáveis e dos índices?"
   ]
  },
  {
   "cell_type": "code",
   "execution_count": 0,
   "metadata": {
    "colab": {},
    "colab_type": "code",
    "id": "zSt1IhaogH4h"
   },
   "outputs": [],
   "source": [
    "volcanoes.columns"
   ]
  },
  {
   "cell_type": "markdown",
   "metadata": {
    "colab_type": "text",
    "id": "848TYfH05Tbi"
   },
   "source": [
    "> Que tipos de objetos o pandas reconheceu durante a importação dos dados?\n",
    "\n",
    "> Há variáveis numéricas e categóricas?\n",
    "\n",
    "> Colunas com datas foram reconhecidas como `pandas.to_datetime` durante a importação?"
   ]
  },
  {
   "cell_type": "code",
   "execution_count": 0,
   "metadata": {
    "colab": {},
    "colab_type": "code",
    "id": "BhYZ9qrz4X3U"
   },
   "outputs": [],
   "source": [
    "volcanoes.info()"
   ]
  },
  {
   "cell_type": "markdown",
   "metadata": {
    "colab_type": "text",
    "id": "T3tsdcfEga7S"
   },
   "source": [
    "Resumo estatístico das variáveis numéricas:"
   ]
  },
  {
   "cell_type": "code",
   "execution_count": 0,
   "metadata": {
    "colab": {},
    "colab_type": "code",
    "id": "DZpgUTjB-W3r"
   },
   "outputs": [],
   "source": [
    "volcanoes.describe()"
   ]
  },
  {
   "cell_type": "markdown",
   "metadata": {
    "colab_type": "text",
    "id": "F2zQVYQYlhza"
   },
   "source": [
    "### Variáveis categóricas"
   ]
  },
  {
   "cell_type": "markdown",
   "metadata": {
    "colab_type": "text",
    "id": "b9SPbfF3l72h"
   },
   "source": [
    "Como estão distribuídas as categorias das variáveis categóricas?"
   ]
  },
  {
   "cell_type": "code",
   "execution_count": 0,
   "metadata": {
    "colab": {},
    "colab_type": "code",
    "id": "U2EW7vXAlk1M"
   },
   "outputs": [],
   "source": [
    "volcanoes['Type'].value_counts()"
   ]
  },
  {
   "cell_type": "markdown",
   "metadata": {
    "colab_type": "text",
    "id": "epcKxDE5sstU"
   },
   "source": [
    "### Série de tempo\n",
    "Conferindo os valores de tempo informados na coluna 'Last Known Eruption'."
   ]
  },
  {
   "cell_type": "code",
   "execution_count": 0,
   "metadata": {
    "colab": {},
    "colab_type": "code",
    "id": "bAqe6J59sxLH"
   },
   "outputs": [],
   "source": [
    "# volcanoes['Last Known Eruption'].dtype\n",
    "volcanoes['Last Known Eruption'].sample(5)\n",
    "# volcanoes['Last Known Eruption'].replace({'Unknown': np.nan}, inplace=True)"
   ]
  },
  {
   "cell_type": "code",
   "execution_count": 0,
   "metadata": {
    "colab": {},
    "colab_type": "code",
    "id": "mg7Z7DAWsxPK"
   },
   "outputs": [],
   "source": [
    "# Separar os valores de tempo do período (BCE, CE)\n",
    "volcanoes[['Year', 'Period']] = volcanoes['Last Known Eruption'].str.split(' ', expand=True)"
   ]
  },
  {
   "cell_type": "code",
   "execution_count": 0,
   "metadata": {
    "colab": {},
    "colab_type": "code",
    "id": "X0FGVk3zjwvU"
   },
   "outputs": [],
   "source": [
    "volcanoes['Year'].sample(5)"
   ]
  },
  {
   "cell_type": "code",
   "execution_count": 0,
   "metadata": {
    "colab": {},
    "colab_type": "code",
    "id": "dRphV2aBy5TX"
   },
   "outputs": [],
   "source": [
    "volcanoes['Period'].unique()"
   ]
  },
  {
   "cell_type": "code",
   "execution_count": 0,
   "metadata": {
    "colab": {},
    "colab_type": "code",
    "id": "tio4dkMLz_in"
   },
   "outputs": [],
   "source": [
    "# Converter valores em números\n",
    "volcanoes['Year'] = pd.to_numeric(volcanoes['Year'])\n",
    "volcanoes['Year'].sample(5)"
   ]
  },
  {
   "cell_type": "code",
   "execution_count": 0,
   "metadata": {
    "colab": {},
    "colab_type": "code",
    "id": "rgTaF9q534KM"
   },
   "outputs": [],
   "source": [
    "# Converter valores de 'Year' para CE > 0, BCE < 0\n",
    "mask = volcanoes['Period'] == 'BCE'\n",
    "volcanoes['Year'][mask] = -volcanoes['Year']"
   ]
  },
  {
   "cell_type": "markdown",
   "metadata": {
    "colab_type": "text",
    "id": "OplZpxDHQMg3"
   },
   "source": [
    "## Visualização"
   ]
  },
  {
   "cell_type": "markdown",
   "metadata": {
    "colab_type": "text",
    "id": "KceAtN-vmYYd"
   },
   "source": [
    "### Pré-visualização"
   ]
  },
  {
   "cell_type": "code",
   "execution_count": 0,
   "metadata": {
    "colab": {},
    "colab_type": "code",
    "id": "CCDMgItoSonF"
   },
   "outputs": [],
   "source": [
    "volcanoes.plot();"
   ]
  },
  {
   "cell_type": "code",
   "execution_count": 0,
   "metadata": {
    "colab": {},
    "colab_type": "code",
    "id": "aI-gQxEcmeow"
   },
   "outputs": [],
   "source": [
    "sns.pairplot(volcanoes, diag_kind='kde', plot_kws={'alpha': 0.2});"
   ]
  },
  {
   "cell_type": "markdown",
   "metadata": {
    "colab_type": "text",
    "id": "pH8F-gkTG8rR"
   },
   "source": [
    "### Distribuição de variáveis contínuas"
   ]
  },
  {
   "cell_type": "code",
   "execution_count": 0,
   "metadata": {
    "colab": {},
    "colab_type": "code",
    "id": "gU8MCz8MHJeG"
   },
   "outputs": [],
   "source": [
    "volcanoes['Elevation (Meters)'].plot();"
   ]
  },
  {
   "cell_type": "code",
   "execution_count": 0,
   "metadata": {
    "colab": {},
    "colab_type": "code",
    "id": "7_7PX0mNKZ4-"
   },
   "outputs": [],
   "source": [
    "volcanoes['Elevation (Meters)'].plot.hist();"
   ]
  },
  {
   "cell_type": "code",
   "execution_count": 0,
   "metadata": {
    "colab": {},
    "colab_type": "code",
    "id": "m7qgQDNZr3BH"
   },
   "outputs": [],
   "source": [
    "volcanoes['Elevation (Meters)'].plot.hist();"
   ]
  },
  {
   "cell_type": "markdown",
   "metadata": {
    "colab_type": "text",
    "id": "SutDXSq0AI2p"
   },
   "source": [
    "### Variáveis categóricas"
   ]
  },
  {
   "cell_type": "code",
   "execution_count": 0,
   "metadata": {
    "colab": {},
    "colab_type": "code",
    "id": "fjzFOXkqsswD"
   },
   "outputs": [],
   "source": [
    "def bar_plot(data):\n",
    "    series = pd.Series(data).value_counts().sort_index()\n",
    "    return series.plot(kind='bar')\n",
    "\n",
    "\n",
    "def barh_plot(data):\n",
    "    series = pd.Series(data)\n",
    "    return series.value_counts().sort_index().plot.barh()\n",
    "\n",
    "\n",
    "def line_plot(data):\n",
    "    series = pd.Series(data).value_counts().sort_index()\n",
    "    return series.plot()"
   ]
  },
  {
   "cell_type": "markdown",
   "metadata": {
    "colab_type": "text",
    "id": "V47GftH6Fr3t"
   },
   "source": [
    "Qual é a distribuição anual de atividades vulcânicas neste data set? \n",
    "\n",
    "A variação observada é resultado da variação de atividade vulcânica no planeta ou é um efeito da amostragem?"
   ]
  },
  {
   "cell_type": "code",
   "execution_count": 0,
   "metadata": {
    "colab": {},
    "colab_type": "code",
    "id": "1U4HjgLJQMhF"
   },
   "outputs": [],
   "source": [
    "plt.figure(figsize=(12, 5))\n",
    "\n",
    "# line_plot(volcanoes[\"Year\"])\n",
    "# bar_plot(volcanoes[\"Year\"])\n",
    "\n",
    "plt.ylabel(\"Frequência\")\n",
    "plt.title(\"Atividade vulcânica\");"
   ]
  },
  {
   "cell_type": "code",
   "execution_count": 0,
   "metadata": {
    "colab": {},
    "colab_type": "code",
    "id": "WREl0SGgH17c"
   },
   "outputs": [],
   "source": [
    "plt.figure(figsize=(5, 10))\n",
    "\n",
    "volcanoes[\"Region\"].value_counts().sort_values().plot.barh()\n",
    "\n",
    "plt.ylabel(\"Região\")\n",
    "plt.title(\"Regiões com mais vulcanismo durante o Holoceno\");"
   ]
  },
  {
   "cell_type": "markdown",
   "metadata": {
    "colab_type": "text",
    "id": "N181t0u7QMhI"
   },
   "source": [
    "Qual é a distribuição de atividades vulcânicas por país? \n",
    "\n",
    "A diferença encontrada é um fator geológico ou de desenvolvimento científico?"
   ]
  },
  {
   "cell_type": "code",
   "execution_count": 0,
   "metadata": {
    "colab": {},
    "colab_type": "code",
    "id": "5a1LIiZhQMhJ"
   },
   "outputs": [],
   "source": [
    "plt.figure(figsize=(5, 25))\n",
    "\n",
    "volcanoes[\"Country\"].value_counts().sort_values().plot.barh()\n",
    "\n",
    "plt.ylabel(\"País\")\n",
    "plt.title(\"Atividade vulcânica por país\")\n",
    "plt.show()"
   ]
  },
  {
   "cell_type": "markdown",
   "metadata": {
    "colab_type": "text",
    "id": "mQ35IwQZpNk_"
   },
   "source": [
    "Quais são os tipos de evidências de vulcanismo neste dataset?"
   ]
  },
  {
   "cell_type": "code",
   "execution_count": 0,
   "metadata": {
    "colab": {},
    "colab_type": "code",
    "id": "4_V4fk0wQMhP"
   },
   "outputs": [],
   "source": [
    "volcanoes[\"Activity Evidence\"].value_counts().sort_values().plot.barh()\n",
    "plt.ylabel(\"Evidências\")\n",
    "plt.title(\"Evidência de atividade vulcânica\")\n",
    "plt.show()"
   ]
  },
  {
   "cell_type": "markdown",
   "metadata": {
    "colab_type": "text",
    "id": "AH94rsOzQMhR"
   },
   "source": [
    "Quais são os tipos de rochas dominantes no dataset?"
   ]
  },
  {
   "cell_type": "code",
   "execution_count": 0,
   "metadata": {
    "colab": {},
    "colab_type": "code",
    "id": "q4v8u9CwQMhS"
   },
   "outputs": [],
   "source": [
    "volcanoes[\"Dominant Rock Type\"].value_counts().sort_values().plot.barh()\n",
    "plt.ylabel(\"Tipos de rocha\")\n",
    "plt.title(\"Tipo de rocha dominante\")\n",
    "plt.show()"
   ]
  },
  {
   "cell_type": "markdown",
   "metadata": {
    "colab_type": "text",
    "id": "bYoN_BrAQMhU"
   },
   "source": [
    "Quais são os regimes tectônicos?"
   ]
  },
  {
   "cell_type": "code",
   "execution_count": 0,
   "metadata": {
    "colab": {},
    "colab_type": "code",
    "id": "cOWrZA-JQMhU"
   },
   "outputs": [],
   "source": [
    "volcanoes[\"Tectonic Setting\"].value_counts().sort_values().plot.barh()\n",
    "plt.ylabel(\"Regime tectônico\")\n",
    "plt.title(\"Regime tectônico\")\n",
    "plt.show()"
   ]
  },
  {
   "cell_type": "markdown",
   "metadata": {
    "colab_type": "text",
    "id": "X_Kczi9WANZl"
   },
   "source": [
    "### Distribuição espacial"
   ]
  },
  {
   "cell_type": "code",
   "execution_count": 0,
   "metadata": {
    "colab": {},
    "colab_type": "code",
    "id": "1Ey-PQCiQMg6"
   },
   "outputs": [],
   "source": [
    "fig = plt.figure(figsize=(12, 10))\n",
    "\n",
    "m = Basemap(projection='mill', llcrnrlat=-80, urcrnrlat=80, llcrnrlon=-180, \n",
    "            urcrnrlon=180, lat_ts=20, resolution='c')\n",
    "\n",
    "longitudes = np.array(volcanoes[\"Longitude\"])\n",
    "latitudes = np.array(volcanoes[\"Latitude\"])\n",
    "\n",
    "x, y = m(longitudes, latitudes)\n",
    "\n",
    "m.plot(x, y, \"o\", markersize = 5, color = 'red', alpha=0.5, label='Localização')\n",
    "\n",
    "# z = np.array(volcanoes['Elevation (Meters)'])\n",
    "# m.scatter(x, y, z, alpha=0.2, label='Elevação (m)')\n",
    "\n",
    "m.drawcoastlines()\n",
    "m.drawcountries()\n",
    "m.fillcontinents(color='gray', lake_color='aqua')\n",
    "m.drawmapboundary()\n",
    "m.drawcountries()\n",
    "\n",
    "plt.title(\"Erupções vulcânicas do Holoceno (vermelho)\")\n",
    "\n",
    "plt.show()"
   ]
  },
  {
   "cell_type": "code",
   "execution_count": 0,
   "metadata": {
    "colab": {},
    "colab_type": "code",
    "id": "wOcVrg_NndzG"
   },
   "outputs": [],
   "source": [
    "plt.close('all')"
   ]
  },
  {
   "cell_type": "markdown",
   "metadata": {
    "colab_type": "text",
    "id": "ODuhek_OQMg8"
   },
   "source": [
    "Como é a distribuição das erupções em relação à latitude? Há uma concentração maior na zona equatorial, no hemisfério norte ou no sul?"
   ]
  },
  {
   "cell_type": "code",
   "execution_count": 0,
   "metadata": {
    "colab": {},
    "colab_type": "code",
    "id": "qKnvz7yrtrTg"
   },
   "outputs": [],
   "source": [
    "def division(data):\n",
    "    \n",
    "    # Split\n",
    "    north_n = sum(data[\"Latitude\"] >= 30)\n",
    "    middle_n = sum(np.logical_and(data[\"Latitude\"] < 30, data[\"Latitude\"] > -30))\n",
    "    south_n = sum(data[\"Latitude\"] <= -30)\n",
    "    \n",
    "    # Sumário\n",
    "    total = north_n + middle_n + south_n\n",
    "    north_p = north_n / total * 100\n",
    "    middle_p = middle_n / total * 100\n",
    "    south_p = south_n / total * 100\n",
    "    \n",
    "    return [north_n, middle_n, south_n, north_p, middle_p, south_p]\n",
    "\n"
   ]
  },
  {
   "cell_type": "code",
   "execution_count": 0,
   "metadata": {
    "colab": {},
    "colab_type": "code",
    "id": "D_Zc_SJkICa4"
   },
   "outputs": [],
   "source": [
    "# Segmentar dados por zona\n",
    "volcanoes_split = division(volcanoes)\n",
    "\n",
    "# Criar dataframe e inserir dados de frequência\n",
    "volcanoes_split_df = pd.DataFrame(volcanoes_split[0:3],\n",
    "                                  index=['Norte', 'Equatorial', 'Sul'],\n",
    "                                  columns=['Frequência (n)'])\n",
    "\n",
    "# Inserir porcentagens no dataframe\n",
    "volcanoes_split_df['Porcentagem (%)'] = volcanoes_split[3:]\n",
    "\n",
    "# Visualizar\n",
    "volcanoes_split_df.iloc[::-1, 1].plot.barh();"
   ]
  },
  {
   "cell_type": "markdown",
   "metadata": {
    "colab_type": "text",
    "id": "CFMgQldbQMhA"
   },
   "source": [
    "Como é a distribuição a partir de 2012?"
   ]
  },
  {
   "cell_type": "code",
   "execution_count": 0,
   "metadata": {
    "colab": {},
    "colab_type": "code",
    "id": "qsnbxwepQMhB"
   },
   "outputs": [],
   "source": [
    "recent_active = volcanoes[(volcanoes[\"Last Known Eruption\"] >= '2012 CE') & (volcanoes[\"Last Known Eruption\"] <= '2016 CE')]\n",
    "\n",
    "longitudes = recent_active[\"Longitude\"].tolist()\n",
    "latitudes = recent_active[\"Latitude\"].tolist()\n",
    "\n",
    "m = Basemap(projection='mill', \n",
    "            llcrnrlat=-80, \n",
    "            urcrnrlat=80, \n",
    "            llcrnrlon=-180, \n",
    "            urcrnrlon=180, lat_ts=20, resolution='c')\n",
    "\n",
    "x, y = n(longitudes, latitudes)\n",
    "\n",
    "plt.figure(figsize=(12, 10))\n",
    "plt.title(\"Volcanoes (red) that were recently active and Earthquakes (green) in the last 5 years\")\n",
    "\n",
    "m.plot(x, y, \"o\", markersize = 5, color = 'red')\n",
    "m.drawcoastlines()\n",
    "m.fillcontinents(color='gray', lake_color='aqua')\n",
    "m.drawmapboundary()\n",
    "m.drawcountries()\n",
    "\n",
    "plt.show()"
   ]
  }
 ],
 "metadata": {
  "colab": {
   "name": "EDA Erupções Vulcânicas do Holoceno.ipynb",
   "provenance": [
    {
     "file_id": "1lJU-eiAmw76wY1gYsuPLiA2WMxRd4ZHG",
     "timestamp": 1536425316450
    },
    {
     "file_id": "1DlhK09MxlUtLxm5eU26CcGmDBpHK-0FD",
     "timestamp": 1536419475224
    }
   ],
   "toc_visible": true,
   "version": "0.3.2"
  },
  "kernelspec": {
   "display_name": "py36",
   "language": "python",
   "name": "python36"
  },
  "language_info": {
   "codemirror_mode": {
    "name": "ipython",
    "version": 3
   },
   "file_extension": ".py",
   "mimetype": "text/x-python",
   "name": "python",
   "nbconvert_exporter": "python",
   "pygments_lexer": "ipython3",
   "version": "3.6.7"
  },
  "toc": {
   "base_numbering": "3.2",
   "nav_menu": {},
   "number_sections": true,
   "sideBar": true,
   "skip_h1_title": false,
   "title_cell": "Table of Contents",
   "title_sidebar": "Contents",
   "toc_cell": false,
   "toc_position": {},
   "toc_section_display": true,
   "toc_window_display": true
  },
  "varInspector": {
   "cols": {
    "lenName": 16,
    "lenType": 16,
    "lenVar": 40
   },
   "kernels_config": {
    "python": {
     "delete_cmd_postfix": "",
     "delete_cmd_prefix": "del ",
     "library": "var_list.py",
     "varRefreshCmd": "print(var_dic_list())"
    },
    "r": {
     "delete_cmd_postfix": ") ",
     "delete_cmd_prefix": "rm(",
     "library": "var_list.r",
     "varRefreshCmd": "cat(var_dic_list()) "
    }
   },
   "types_to_exclude": [
    "module",
    "function",
    "builtin_function_or_method",
    "instance",
    "_Feature"
   ],
   "window_display": false
  }
 },
 "nbformat": 4,
 "nbformat_minor": 1
}
