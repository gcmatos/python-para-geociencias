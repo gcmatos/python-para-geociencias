{
 "cells": [
  {
   "cell_type": "markdown",
   "metadata": {},
   "source": [
    "[![Open In Colab](https://colab.research.google.com/assets/colab-badge.svg)](https://colab.research.google.com/github/gcmatos/python-para-geociencias/blob/master/notebooks/3.2%20EDA%20Erupções%20Vulcânicas%20do%20Holoceno.ipynb)\n",
    "\n",
    "Ctrl/Cmd + click para abrir em uma nova aba do navegador web e utilizar o Google Colab para rodar o tutorial."
   ]
  },
  {
   "cell_type": "markdown",
   "metadata": {
    "colab_type": "text",
    "id": "pP9w4JN1QmwK"
   },
   "source": [
    "# Análise Exploratória de Dados\n",
    "__Vulcanismo no Holoceno do \"The Smithsonian Institution\"__\n",
    "\n",
    "Fonte: [https://www.kaggle.com/smithsonian/volcanic-eruptions](https://www.kaggle.com/smithsonian/volcanic-eruptions)\n",
    "\n"
   ]
  },
  {
   "cell_type": "markdown",
   "metadata": {
    "colab_type": "text",
    "id": "PueFLiEqQMgm"
   },
   "source": [
    "## Configuração de ambiente\n"
   ]
  },
  {
   "cell_type": "markdown",
   "metadata": {
    "colab_type": "text",
    "id": "AzJnQUjEI4TB"
   },
   "source": [
    "### Instalação de dependências"
   ]
  },
  {
   "cell_type": "code",
   "execution_count": null,
   "metadata": {
    "colab": {},
    "colab_type": "code",
    "id": "MmaW34gmVDjs"
   },
   "outputs": [],
   "source": [
    "# Instalar GeoPandas e dependências\n",
    "!pip install shapely fiona six geopandas"
   ]
  },
  {
   "cell_type": "markdown",
   "metadata": {
    "colab_type": "text",
    "id": "fD-dqtYjMF0_"
   },
   "source": [
    "### Importar bibliotecas"
   ]
  },
  {
   "cell_type": "code",
   "execution_count": null,
   "metadata": {
    "colab": {},
    "colab_type": "code",
    "id": "3-taCYz9QMgn"
   },
   "outputs": [],
   "source": [
    "# Processamento\n",
    "import numpy as np\n",
    "import pandas as pd\n",
    "import geopandas as gpd\n",
    "import cartopy\n",
    "import cartopy.crs as ccrs\n",
    "from shapely.geometry import Point\n",
    "\n",
    "# Visualizacao\n",
    "import matplotlib.pyplot as plt\n",
    "import seaborn as sns\n",
    "\n",
    "# Filtrar alertas\n",
    "import warnings\n",
    "warnings.filterwarnings('ignore')"
   ]
  },
  {
   "cell_type": "code",
   "execution_count": null,
   "metadata": {},
   "outputs": [],
   "source": [
    "%matplotlib inline"
   ]
  },
  {
   "cell_type": "code",
   "execution_count": null,
   "metadata": {
    "colab": {},
    "colab_type": "code",
    "id": "-JS7koDPDyaT"
   },
   "outputs": [],
   "source": [
    "# Matplotlib style\n",
    "plt.style.use('default')"
   ]
  },
  {
   "cell_type": "markdown",
   "metadata": {
    "colab_type": "text",
    "id": "l_2nz75FLyMW"
   },
   "source": [
    "### Subir arquivos\n",
    "Subir o arquivo **`volcanic-eruptions-database.csv`**\n"
   ]
  },
  {
   "cell_type": "code",
   "execution_count": null,
   "metadata": {
    "colab": {},
    "colab_type": "code",
    "id": "1tUwPzEELmGh"
   },
   "outputs": [],
   "source": [
    "# Subir arquivo"
   ]
  },
  {
   "cell_type": "code",
   "execution_count": null,
   "metadata": {
    "colab": {},
    "colab_type": "code",
    "id": "Ol5xMdVzP11y"
   },
   "outputs": [],
   "source": [
    "# Listar arquivos no diretório de trabalho\n",
    "%ls"
   ]
  },
  {
   "cell_type": "markdown",
   "metadata": {
    "colab_type": "text",
    "id": "sj-wf3vxCBqN"
   },
   "source": [
    "### Importação dos dados"
   ]
  },
  {
   "cell_type": "code",
   "execution_count": null,
   "metadata": {
    "colab": {},
    "colab_type": "code",
    "id": "0mNxuzVJYdSf"
   },
   "outputs": [],
   "source": [
    "df = pd.read_csv(\"../dados/volcanic-eruptions-database.csv\")"
   ]
  },
  {
   "cell_type": "markdown",
   "metadata": {
    "colab_type": "text",
    "id": "Wtp1q8p4IzIS"
   },
   "source": [
    "## Auditando dados\n",
    "> [Descrição das variáveis no web site do Smithsonian Institution](https://volcano.si.edu/)"
   ]
  },
  {
   "cell_type": "markdown",
   "metadata": {
    "colab_type": "text",
    "id": "j2EEYrJzf-1f"
   },
   "source": [
    "Trata-se de uma série ou uma tabela de atributos?"
   ]
  },
  {
   "cell_type": "code",
   "execution_count": null,
   "metadata": {
    "colab": {},
    "colab_type": "code",
    "id": "NaEnz9LdQMgt"
   },
   "outputs": [],
   "source": [
    "df.head()\n",
    "# df.tail()"
   ]
  },
  {
   "cell_type": "markdown",
   "metadata": {
    "colab_type": "text",
    "id": "IPRPdt9If79S"
   },
   "source": [
    "Quais são os nomes (*labels*) das variáveis e dos índices?"
   ]
  },
  {
   "cell_type": "code",
   "execution_count": null,
   "metadata": {
    "colab": {},
    "colab_type": "code",
    "id": "zSt1IhaogH4h"
   },
   "outputs": [],
   "source": [
    "df.columns"
   ]
  },
  {
   "cell_type": "markdown",
   "metadata": {
    "colab_type": "text",
    "id": "848TYfH05Tbi"
   },
   "source": [
    "> Que tipos de objetos o pandas reconheceu durante a importação dos dados?\n",
    "\n",
    "> Há variáveis numéricas e categóricas?\n",
    "\n",
    "> Colunas com datas foram reconhecidas como `pandas.to_datetime` durante a importação?"
   ]
  },
  {
   "cell_type": "code",
   "execution_count": null,
   "metadata": {
    "colab": {},
    "colab_type": "code",
    "id": "BhYZ9qrz4X3U"
   },
   "outputs": [],
   "source": [
    "df.info()"
   ]
  },
  {
   "cell_type": "markdown",
   "metadata": {
    "colab_type": "text",
    "id": "T3tsdcfEga7S"
   },
   "source": [
    "Resumo estatístico das variáveis numéricas:"
   ]
  },
  {
   "cell_type": "code",
   "execution_count": null,
   "metadata": {
    "colab": {},
    "colab_type": "code",
    "id": "DZpgUTjB-W3r"
   },
   "outputs": [],
   "source": [
    "df.describe()"
   ]
  },
  {
   "cell_type": "markdown",
   "metadata": {},
   "source": [
    "### Valores nulos\n",
    "Como é a distribuição de valores nulos no dataset?"
   ]
  },
  {
   "cell_type": "code",
   "execution_count": null,
   "metadata": {},
   "outputs": [],
   "source": [
    "df.isnull().sum().sort_values()"
   ]
  },
  {
   "cell_type": "markdown",
   "metadata": {
    "colab_type": "text",
    "id": "F2zQVYQYlhza"
   },
   "source": [
    "### Variáveis categóricas"
   ]
  },
  {
   "cell_type": "markdown",
   "metadata": {
    "colab_type": "text",
    "id": "b9SPbfF3l72h"
   },
   "source": [
    "Como estão distribuídas as categorias das variáveis categóricas?"
   ]
  },
  {
   "cell_type": "code",
   "execution_count": null,
   "metadata": {
    "colab": {},
    "colab_type": "code",
    "id": "U2EW7vXAlk1M"
   },
   "outputs": [],
   "source": [
    "df['Type'].value_counts()"
   ]
  },
  {
   "cell_type": "markdown",
   "metadata": {
    "colab_type": "text",
    "id": "epcKxDE5sstU"
   },
   "source": [
    "### Série de tempo\n",
    "Conferindo os valores de tempo informados na coluna 'Last Known Eruption'."
   ]
  },
  {
   "cell_type": "code",
   "execution_count": null,
   "metadata": {
    "colab": {},
    "colab_type": "code",
    "id": "bAqe6J59sxLH"
   },
   "outputs": [],
   "source": [
    "df['Last Known Eruption'].dtype\n",
    "# df['Last Known Eruption'].sample(5)\n",
    "# df['Last Known Eruption'].replace({'Unknown': np.nan}, inplace=True)"
   ]
  },
  {
   "cell_type": "code",
   "execution_count": null,
   "metadata": {
    "colab": {},
    "colab_type": "code",
    "id": "mg7Z7DAWsxPK"
   },
   "outputs": [],
   "source": [
    "# Separar os valores de tempo do período (BCE, CE)\n",
    "df[['Year', 'Period']] = df['Last Known Eruption'].str.split(' ', expand=True)"
   ]
  },
  {
   "cell_type": "code",
   "execution_count": null,
   "metadata": {
    "colab": {},
    "colab_type": "code",
    "id": "X0FGVk3zjwvU"
   },
   "outputs": [],
   "source": [
    "df['Year'].sample(5)"
   ]
  },
  {
   "cell_type": "code",
   "execution_count": null,
   "metadata": {
    "colab": {},
    "colab_type": "code",
    "id": "dRphV2aBy5TX"
   },
   "outputs": [],
   "source": [
    "df['Period'].unique()"
   ]
  },
  {
   "cell_type": "code",
   "execution_count": null,
   "metadata": {
    "colab": {},
    "colab_type": "code",
    "id": "tio4dkMLz_in"
   },
   "outputs": [],
   "source": [
    "# Converter valores em números\n",
    "df['Year'] = pd.to_numeric(df['Year'])\n",
    "df['Year'].sample(5)"
   ]
  },
  {
   "cell_type": "code",
   "execution_count": null,
   "metadata": {
    "colab": {},
    "colab_type": "code",
    "id": "rgTaF9q534KM"
   },
   "outputs": [],
   "source": [
    "# Converter valores de 'Year' para CE > 0, BCE < 0\n",
    "mask = df['Period'] == 'BCE'\n",
    "df['Year'][mask] = -df['Year']"
   ]
  },
  {
   "cell_type": "markdown",
   "metadata": {},
   "source": [
    "### Converter DataFrame em GeoDataFrame\n",
    "\n",
    "Converter as colunas Latitude e Longitude em geometria `shapely` para converter o dataset em `GeoDataFrame`."
   ]
  },
  {
   "cell_type": "code",
   "execution_count": null,
   "metadata": {},
   "outputs": [],
   "source": [
    "# Criar coluna 'geometry' com lista concatenada de Lon e Lat\n",
    "df['geometry'] = list(zip(df.Longitude, df.Latitude))\n",
    "# Converter lista em objeto shapely.geometry.Point\n",
    "df['geometry'] = df['geometry'].apply(Point)\n",
    "# Converter DataFrame em GeoDataFrame\n",
    "gdf = gpd.GeoDataFrame(df, geometry='geometry')\n",
    "# Inserir código para sistema de coordenadas WGS84\n",
    "gdf.crs = {'init' :'epsg:4326'}"
   ]
  },
  {
   "cell_type": "markdown",
   "metadata": {
    "colab_type": "text",
    "id": "OplZpxDHQMg3"
   },
   "source": [
    "## Visualização"
   ]
  },
  {
   "cell_type": "markdown",
   "metadata": {
    "colab_type": "text",
    "id": "KceAtN-vmYYd"
   },
   "source": [
    "### Pré-visualização"
   ]
  },
  {
   "cell_type": "code",
   "execution_count": null,
   "metadata": {
    "colab": {},
    "colab_type": "code",
    "id": "CCDMgItoSonF"
   },
   "outputs": [],
   "source": [
    "# df.plot();\n",
    "gdf.plot();"
   ]
  },
  {
   "cell_type": "code",
   "execution_count": null,
   "metadata": {
    "colab": {},
    "colab_type": "code",
    "id": "aI-gQxEcmeow"
   },
   "outputs": [],
   "source": [
    "sns.pairplot(gdf, diag_kind='kde', plot_kws={'alpha': 0.2});"
   ]
  },
  {
   "cell_type": "markdown",
   "metadata": {},
   "source": [
    "### Valores nulos"
   ]
  },
  {
   "cell_type": "code",
   "execution_count": null,
   "metadata": {},
   "outputs": [],
   "source": [
    "# Plotar a soma ordenada dos valores nulos por variável\n",
    "gdf.isnull().sum().sort_values().plot.barh();"
   ]
  },
  {
   "cell_type": "markdown",
   "metadata": {
    "colab_type": "text",
    "id": "pH8F-gkTG8rR"
   },
   "source": [
    "### Variáveis contínuas"
   ]
  },
  {
   "cell_type": "code",
   "execution_count": null,
   "metadata": {},
   "outputs": [],
   "source": [
    "def line_plot(data):\n",
    "    '''Plotar série de valores ordenados em gráfico de linha'''\n",
    "    series = pd.Series(data).value_counts().sort_index()\n",
    "    return series.plot()\n",
    "\n",
    "\n",
    "def bar_plot(data):\n",
    "    '''Plotar série de valores ordenados em gráfico de barras'''\n",
    "    series = pd.Series(data).value_counts().sort_values()\n",
    "    return series.plot(kind='bar')\n",
    "\n",
    "\n",
    "def barh_plot(data):\n",
    "    '''Plotar série de valores ordenados em gráfico de barras'''\n",
    "    series = pd.Series(data).value_counts().sort_values()\n",
    "    return series.plot(kind='barh')"
   ]
  },
  {
   "cell_type": "code",
   "execution_count": null,
   "metadata": {
    "colab": {},
    "colab_type": "code",
    "id": "gU8MCz8MHJeG"
   },
   "outputs": [],
   "source": [
    "gdf['Elevation (Meters)'].plot();\n",
    "# line_plot(gdf['Elevation (Meters)']);"
   ]
  },
  {
   "cell_type": "code",
   "execution_count": null,
   "metadata": {
    "colab": {},
    "colab_type": "code",
    "id": "7_7PX0mNKZ4-"
   },
   "outputs": [],
   "source": [
    "gdf['Elevation (Meters)'].plot.hist();"
   ]
  },
  {
   "cell_type": "markdown",
   "metadata": {
    "colab_type": "text",
    "id": "SutDXSq0AI2p"
   },
   "source": [
    "### Variáveis categóricas"
   ]
  },
  {
   "cell_type": "markdown",
   "metadata": {
    "colab_type": "text",
    "id": "V47GftH6Fr3t"
   },
   "source": [
    "Qual é a distribuição anual de atividades vulcânicas neste data set? \n",
    "\n",
    "A variação observada é resultado da variação de atividade vulcânica no planeta ou é um efeito da amostragem?"
   ]
  },
  {
   "cell_type": "code",
   "execution_count": null,
   "metadata": {
    "colab": {},
    "colab_type": "code",
    "id": "1U4HjgLJQMhF"
   },
   "outputs": [],
   "source": [
    "plt.figure(figsize=(12, 5))\n",
    "\n",
    "line_plot(gdf[\"Year\"])\n",
    "# bar_plot(gdf[\"Year\"])\n",
    "\n",
    "plt.ylabel(\"Frequência\")\n",
    "plt.title(\"Atividade vulcânica\");"
   ]
  },
  {
   "cell_type": "code",
   "execution_count": null,
   "metadata": {
    "colab": {},
    "colab_type": "code",
    "id": "WREl0SGgH17c"
   },
   "outputs": [],
   "source": [
    "plt.figure(figsize=(5, 10))\n",
    "barh_plot(gdf[\"Region\"])\n",
    "# gdf[\"Region\"].value_counts().sort_values().plot.barh()\n",
    "plt.ylabel(\"Região\")\n",
    "plt.title(\"Regiões com mais vulcanismo durante o Holoceno\")"
   ]
  },
  {
   "cell_type": "markdown",
   "metadata": {
    "colab_type": "text",
    "id": "N181t0u7QMhI"
   },
   "source": [
    "Qual é a distribuição de atividades vulcânicas por país? \n",
    "\n",
    "A diferença encontrada é um fator geológico ou de desenvolvimento científico?"
   ]
  },
  {
   "cell_type": "code",
   "execution_count": null,
   "metadata": {
    "colab": {},
    "colab_type": "code",
    "id": "5a1LIiZhQMhJ"
   },
   "outputs": [],
   "source": [
    "plt.figure(figsize=(5, 25))\n",
    "barh_plot(gdf[\"Country\"])\n",
    "# gdf[\"Country\"].value_counts().sort_values().plot.barh()\n",
    "plt.ylabel(\"País\")\n",
    "plt.title(\"Atividade vulcânica por país\")\n",
    "plt.show()"
   ]
  },
  {
   "cell_type": "markdown",
   "metadata": {
    "colab_type": "text",
    "id": "mQ35IwQZpNk_"
   },
   "source": [
    "Quais são os tipos de evidências de vulcanismo neste dataset?"
   ]
  },
  {
   "cell_type": "code",
   "execution_count": null,
   "metadata": {
    "colab": {},
    "colab_type": "code",
    "id": "4_V4fk0wQMhP"
   },
   "outputs": [],
   "source": [
    "# gdf[\"Activity Evidence\"].value_counts().sort_values().plot.barh()\n",
    "barh_plot(gdf[\"Activity Evidence\"])\n",
    "plt.ylabel(\"Evidências\")\n",
    "plt.title(\"Evidência de atividade vulcânica\")\n",
    "plt.show()"
   ]
  },
  {
   "cell_type": "markdown",
   "metadata": {
    "colab_type": "text",
    "id": "AH94rsOzQMhR"
   },
   "source": [
    "Quais são os tipos de rochas dominantes no dataset?"
   ]
  },
  {
   "cell_type": "code",
   "execution_count": null,
   "metadata": {
    "colab": {},
    "colab_type": "code",
    "id": "q4v8u9CwQMhS"
   },
   "outputs": [],
   "source": [
    "# gdf[\"Dominant Rock Type\"].value_counts().sort_values().plot.barh()\n",
    "barh_plot(gdf[\"Dominant Rock Type\"])\n",
    "plt.ylabel(\"Tipos de rocha\")\n",
    "plt.title(\"Tipo de rocha dominante\")\n",
    "plt.show()"
   ]
  },
  {
   "cell_type": "markdown",
   "metadata": {
    "colab_type": "text",
    "id": "bYoN_BrAQMhU"
   },
   "source": [
    "Quais são os regimes tectônicos?"
   ]
  },
  {
   "cell_type": "code",
   "execution_count": null,
   "metadata": {
    "colab": {},
    "colab_type": "code",
    "id": "cOWrZA-JQMhU"
   },
   "outputs": [],
   "source": [
    "# gdf[\"Tectonic Setting\"].value_counts().sort_values().plot.barh()\n",
    "barh_plot(gdf[\"Tectonic Setting\"])\n",
    "plt.ylabel(\"Regime tectônico\")\n",
    "plt.title(\"Regime tectônico\")\n",
    "plt.show()"
   ]
  },
  {
   "cell_type": "markdown",
   "metadata": {},
   "source": [
    "### Correlações entre variáveis"
   ]
  },
  {
   "cell_type": "code",
   "execution_count": null,
   "metadata": {},
   "outputs": [],
   "source": [
    "# Calcular a matrix de correlação\n",
    "corr = gdf.corr()\n",
    "# Plotar a matriz de correlação\n",
    "corr.style.background_gradient(cmap='coolwarm').set_precision(2)"
   ]
  },
  {
   "cell_type": "markdown",
   "metadata": {
    "colab_type": "text",
    "id": "X_Kczi9WANZl"
   },
   "source": [
    "### Distribuição espacial"
   ]
  },
  {
   "cell_type": "code",
   "execution_count": null,
   "metadata": {},
   "outputs": [],
   "source": [
    "# Carregar o shape com os contornos dos países do GeoPandas.dataset\n",
    "world = gpd.read_file(gpd.datasets.get_path('naturalearth_lowres'))"
   ]
  },
  {
   "cell_type": "markdown",
   "metadata": {},
   "source": [
    "Como estão distribuídos as erupções vulcânicas em termos de coordenadas geográficas?"
   ]
  },
  {
   "cell_type": "code",
   "execution_count": null,
   "metadata": {},
   "outputs": [],
   "source": [
    "fig = plt.figure(figsize=(15, 6))\n",
    "# Criar instancia Cartopy\n",
    "ax = fig.add_subplot(1, 1, 1, projection=ccrs.PlateCarree())\n",
    "# Adicionar raster de terreno\n",
    "ax.stock_img()\n",
    "# Plotar os contornos dos países com GeoPandas\n",
    "world.plot(ax=ax, facecolor='none', linewidth=0.5, edgecolor='black')\n",
    "# Plotar os registros dos terremotos\n",
    "gdf.plot(ax=ax, color='red', markersize=10, alpha=0.4)\n",
    "plt.show()"
   ]
  },
  {
   "cell_type": "markdown",
   "metadata": {},
   "source": [
    "Qual é a frequencia de erupções vulcânicas por localidade?"
   ]
  },
  {
   "cell_type": "code",
   "execution_count": null,
   "metadata": {
    "scrolled": true
   },
   "outputs": [],
   "source": [
    "fig = plt.figure(figsize=(15, 6))\n",
    "# Criar instancia Cartopy\n",
    "ax = fig.add_subplot(1, 1, 1, projection=ccrs.PlateCarree())\n",
    "# Adicionar raster de terreno\n",
    "ax.stock_img()\n",
    "# Plotar os contornos dos países com GeoPandas\n",
    "world.plot(ax=ax, facecolor='none', linewidth=0.5, edgecolor='black')\n",
    "# Plotar os registros dos terremotos\n",
    "gdf.plot(\n",
    "    ax=ax, column='Number', markersize=10, alpha=0.4, cmap='hot', legend=True)\n",
    "plt.show()"
   ]
  }
 ],
 "metadata": {
  "colab": {
   "name": "EDA Erupções Vulcânicas do Holoceno.ipynb",
   "provenance": [
    {
     "file_id": "1lJU-eiAmw76wY1gYsuPLiA2WMxRd4ZHG",
     "timestamp": 1536425316450
    },
    {
     "file_id": "1DlhK09MxlUtLxm5eU26CcGmDBpHK-0FD",
     "timestamp": 1536419475224
    }
   ],
   "toc_visible": true,
   "version": "0.3.2"
  },
  "kernelspec": {
   "display_name": "py36",
   "language": "python",
   "name": "python36"
  },
  "language_info": {
   "codemirror_mode": {
    "name": "ipython",
    "version": 3
   },
   "file_extension": ".py",
   "mimetype": "text/x-python",
   "name": "python",
   "nbconvert_exporter": "python",
   "pygments_lexer": "ipython3",
   "version": "3.6.7"
  },
  "toc": {
   "base_numbering": "3.2",
   "nav_menu": {},
   "number_sections": true,
   "sideBar": true,
   "skip_h1_title": false,
   "title_cell": "Table of Contents",
   "title_sidebar": "Contents",
   "toc_cell": false,
   "toc_position": {},
   "toc_section_display": true,
   "toc_window_display": false
  },
  "varInspector": {
   "cols": {
    "lenName": 16,
    "lenType": 16,
    "lenVar": 40
   },
   "kernels_config": {
    "python": {
     "delete_cmd_postfix": "",
     "delete_cmd_prefix": "del ",
     "library": "var_list.py",
     "varRefreshCmd": "print(var_dic_list())"
    },
    "r": {
     "delete_cmd_postfix": ") ",
     "delete_cmd_prefix": "rm(",
     "library": "var_list.r",
     "varRefreshCmd": "cat(var_dic_list()) "
    }
   },
   "position": {
    "height": "193px",
    "left": "422px",
    "right": "20px",
    "top": "120px",
    "width": "388px"
   },
   "types_to_exclude": [
    "module",
    "function",
    "builtin_function_or_method",
    "instance",
    "_Feature"
   ],
   "window_display": false
  }
 },
 "nbformat": 4,
 "nbformat_minor": 1
}
