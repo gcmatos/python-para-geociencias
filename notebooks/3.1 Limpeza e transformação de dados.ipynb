{
 "cells": [
  {
   "cell_type": "markdown",
   "metadata": {},
   "source": [
    "[![Open In Colab](https://colab.research.google.com/assets/colab-badge.svg)](https://colab.research.google.com/github/gcmatos/python-para-geociencias/blob/master/notebooks/3.1%20Limpeza%20e%20transformação%20de%20dados.ipynb)\n",
    "\n",
    "Ctrl/Cmd + click para abrir em uma nova aba do navegador web e utilizar o Google Colab para rodar o tutorial."
   ]
  },
  {
   "cell_type": "markdown",
   "metadata": {
    "colab_type": "text",
    "id": "nY_rJZw-p9ph"
   },
   "source": [
    "# Limpeza e transformação de dados\n",
    "\n",
    "__O que iremos aprender__\n",
    "- Ferramentas para tratar valores nulos\n",
    "- Manipulação de dados\n",
    "- Operações de agrupamento\n",
    "- Gerar sumários estatísticos por grupos de dados"
   ]
  },
  {
   "cell_type": "markdown",
   "metadata": {
    "colab_type": "text",
    "id": "Y0Z4j1PmaICN"
   },
   "source": [
    "## Configuração de ambiente"
   ]
  },
  {
   "cell_type": "code",
   "execution_count": 0,
   "metadata": {
    "colab": {},
    "colab_type": "code",
    "id": "lp4S990vDyaP"
   },
   "outputs": [],
   "source": [
    "import numpy as np\n",
    "import pandas as pd"
   ]
  },
  {
   "cell_type": "code",
   "execution_count": 0,
   "metadata": {
    "colab": {},
    "colab_type": "code",
    "id": "qZ9FCAhyolz7"
   },
   "outputs": [],
   "source": [
    "# Números aleatórios\n",
    "np.random.seed(0)"
   ]
  },
  {
   "cell_type": "markdown",
   "metadata": {
    "colab_type": "text",
    "id": "hYH58JPYLB7N"
   },
   "source": [
    "## Limpeza de dados\n",
    "As tarefas de detecção e correção de registros inválidos em conjuntos de dados são conhecidas genericamente como tarefas de limpeza, que podem ser feitas de forma interativa (*e.g. *Excel) ou programática (*e.g. * R, Python). Estas falhas no registro podem ser causadas no momento da aquisição por defeitos em equipamentos ou por falhas humanas como erros de digitação."
   ]
  },
  {
   "cell_type": "markdown",
   "metadata": {
    "colab_type": "text",
    "id": "KjyJOOJwi0pv"
   },
   "source": [
    "### Valores nulos"
   ]
  },
  {
   "cell_type": "code",
   "execution_count": 0,
   "metadata": {
    "colab": {},
    "colab_type": "code",
    "id": "RHZFU4pUjgDR"
   },
   "outputs": [],
   "source": [
    "s = pd.Series([1, np.nan, 3.5, np.nan, 7])\n",
    "s"
   ]
  },
  {
   "cell_type": "code",
   "execution_count": 0,
   "metadata": {
    "colab": {},
    "colab_type": "code",
    "id": "nrPG_Nl61U6J"
   },
   "outputs": [],
   "source": [
    "# Total de valores nulos\n",
    "s.isnull().sum()"
   ]
  },
  {
   "cell_type": "code",
   "execution_count": 0,
   "metadata": {
    "colab": {},
    "colab_type": "code",
    "id": "CPKfULRgj2WJ"
   },
   "outputs": [],
   "source": [
    "# Remover valores nulos\n",
    "s.dropna()\n",
    "# s[s.notnull()]"
   ]
  },
  {
   "cell_type": "code",
   "execution_count": 0,
   "metadata": {
    "colab": {},
    "colab_type": "code",
    "id": "TUwOIM3Skg9u"
   },
   "outputs": [],
   "source": [
    "df = pd.DataFrame([[1., 6.5, 3.], \n",
    "                   [2., np.nan, np.nan],\n",
    "                   [np.nan, np.nan, np.nan], \n",
    "                   [np.nan, 7.5, 4]])\n",
    "df"
   ]
  },
  {
   "cell_type": "code",
   "execution_count": 0,
   "metadata": {
    "colab": {},
    "colab_type": "code",
    "id": "55MDYMvl1e9Z"
   },
   "outputs": [],
   "source": [
    "# Total de valores nulos por linhas ou por colunas\n",
    "df.isnull().sum()\n",
    "# df.isnull().sum(axis=1)"
   ]
  },
  {
   "cell_type": "code",
   "execution_count": 0,
   "metadata": {
    "colab": {},
    "colab_type": "code",
    "id": "1thzAWOZlCWV"
   },
   "outputs": [],
   "source": [
    "# Remoer valores nulos\n",
    "df.dropna()\n",
    "# df.dropna(axis=1)"
   ]
  },
  {
   "cell_type": "code",
   "execution_count": 0,
   "metadata": {
    "colab": {},
    "colab_type": "code",
    "id": "boVMkB-3le14"
   },
   "outputs": [],
   "source": [
    "# Substituir valores nulos por constantes\n",
    "# df.fillna(-9999)\n",
    "df.fillna(df.mean())"
   ]
  },
  {
   "cell_type": "markdown",
   "metadata": {
    "colab_type": "text",
    "id": "TgAuFAKVphug"
   },
   "source": [
    "### Substituir valores"
   ]
  },
  {
   "cell_type": "code",
   "execution_count": 0,
   "metadata": {
    "colab": {},
    "colab_type": "code",
    "id": "VZQJ_GH8plh5"
   },
   "outputs": [],
   "source": [
    "df = pd.Series([1., -999., 2., -999., -1000., 3.])\n",
    "df"
   ]
  },
  {
   "cell_type": "code",
   "execution_count": 0,
   "metadata": {
    "colab": {},
    "colab_type": "code",
    "id": "ktSvQFyEplm2"
   },
   "outputs": [],
   "source": [
    "df.replace(-999, np.nan)\n",
    "# df.replace([-999, -1000], np.nan)\n",
    "# df.replace([-999, -1000], [np.nan, 0])\n",
    "# df.replace({-999: np.nan, -1000: 0})"
   ]
  },
  {
   "cell_type": "markdown",
   "metadata": {
    "colab_type": "text",
    "id": "u-_JeYmHrKQV"
   },
   "source": [
    "### *Outliers*\n",
    "Registros de valores fora de limites pré-estabelecidos como aceitáveis são denomidados *outliers* e podem causar problemas em sumários estatísticos e modelos preditivos."
   ]
  },
  {
   "cell_type": "code",
   "execution_count": 0,
   "metadata": {
    "colab": {},
    "colab_type": "code",
    "id": "5Mq2Swuwrn6s"
   },
   "outputs": [],
   "source": [
    "df = pd.DataFrame(np.random.randn(1000, 4))\n",
    "df"
   ]
  },
  {
   "cell_type": "code",
   "execution_count": 0,
   "metadata": {
    "colab": {},
    "colab_type": "code",
    "id": "jndB6Du7p2dO"
   },
   "outputs": [],
   "source": [
    "df.describe()"
   ]
  },
  {
   "cell_type": "code",
   "execution_count": 0,
   "metadata": {
    "colab": {},
    "colab_type": "code",
    "id": "gEAehqAcrn4R"
   },
   "outputs": [],
   "source": [
    "# Selecionar valores fora do intervalo [-3, 3] em uma coluna\n",
    "col = df[2]\n",
    "col[np.abs(col) > 3]"
   ]
  },
  {
   "cell_type": "code",
   "execution_count": 0,
   "metadata": {
    "colab": {},
    "colab_type": "code",
    "id": "JvK7Nyw7rn17"
   },
   "outputs": [],
   "source": [
    "# Selecionar linhas com valores fora do intervato [-3, 3]\n",
    "df[(np.abs(df) > 3).any(1)]"
   ]
  },
  {
   "cell_type": "code",
   "execution_count": 0,
   "metadata": {
    "colab": {},
    "colab_type": "code",
    "id": "LYjQP9nQuSyo"
   },
   "outputs": [],
   "source": [
    "# Substituir valores fora do intervalo por valor constante com o mesmo sinal que o valor original\n",
    "df[np.abs(df) > 3] = np.sign(df) * 3\n",
    "# df[(np.abs(df) == 3).any(1)]"
   ]
  },
  {
   "cell_type": "markdown",
   "metadata": {
    "colab_type": "text",
    "id": "TyeRDj48wc_D"
   },
   "source": [
    "### Remover duplicatas"
   ]
  },
  {
   "cell_type": "code",
   "execution_count": 0,
   "metadata": {
    "colab": {},
    "colab_type": "code",
    "id": "ZAeQXPyGwhcb"
   },
   "outputs": [],
   "source": [
    "data = pd.DataFrame({'k1': ['one', 'two'] * 3 + ['two'],\n",
    "                     'k2': [1, 1, 2, 3, 3, 4, 4]})\n",
    "data"
   ]
  },
  {
   "cell_type": "code",
   "execution_count": 0,
   "metadata": {
    "colab": {},
    "colab_type": "code",
    "id": "w0GyTd_HwhTC"
   },
   "outputs": [],
   "source": [
    "data.duplicated()\n",
    "# data.drop_duplicates()\n",
    "# data.drop_duplicates(['k1'])\n",
    "# data.drop_duplicates(['k1', 'k2'], keep='first')"
   ]
  },
  {
   "cell_type": "markdown",
   "metadata": {
    "colab_type": "text",
    "id": "Mv6ATVyonV-O"
   },
   "source": [
    "## Transformação com funções de mapeamento\n"
   ]
  },
  {
   "cell_type": "markdown",
   "metadata": {
    "colab_type": "text",
    "id": "wkfxwjqZ4pE3"
   },
   "source": [
    "__Exemplo:__\n",
    "\n",
    "Para exemplificar a utilização da função `map()`, criamos um dataset que contém uma coluna com medidas de porosidade efetiva e outra com a litologia. Vamos criar uma nova coluna com a categoria 'rocktype', utilizando a função de mapeamento, que irá informar quais amostras são de rocha reservatório ou não reservatório."
   ]
  },
  {
   "cell_type": "code",
   "execution_count": 0,
   "metadata": {
    "colab": {},
    "colab_type": "code",
    "id": "O2C9n5AsnaRg"
   },
   "outputs": [],
   "source": [
    "data = pd.DataFrame({'rock': ['Sandstone', 'Sandstone', \n",
    "                              'Sandstone', 'Shale', 'Wackstone', \n",
    "                              'Siltstone', 'Sandstone', \n",
    "                              'Conglomerate', 'Limestone'],\n",
    "                     'porosity': [0.2, 0.25, 0.1, 0.03, 0.07, 0.08, 0.3, 0.15, 0.36]})\n",
    "data.head()"
   ]
  },
  {
   "cell_type": "code",
   "execution_count": 0,
   "metadata": {
    "colab": {},
    "colab_type": "code",
    "id": "On9OfyjJpGnH"
   },
   "outputs": [],
   "source": [
    "# Definir dicionário mapa de tipos de reservatório\n",
    "rock_type = {\n",
    "  'sandstone': 'reservoir',\n",
    "  'conglomerate': 'reservoir',\n",
    "  'siltstone': 'non-reservoir',\n",
    "  'wackstone': 'non-reservoir',\n",
    "  'limestone': 'reservoir',\n",
    "  'shale': 'non-reservoir'\n",
    "}"
   ]
  },
  {
   "cell_type": "code",
   "execution_count": 0,
   "metadata": {
    "colab": {},
    "colab_type": "code",
    "id": "WppZiDD80bge"
   },
   "outputs": [],
   "source": [
    "# Aplicar função diretamente nos elementos da coluna 'rock'\n",
    "data['rock'].str.lower().map(rock_type)\n",
    "# data['rock_type'] = data['rock'].map(rock_type)\n",
    "# data['rock_type'] = data['rock'].str.lower().map(rock_type)\n",
    "# data.head()"
   ]
  },
  {
   "cell_type": "code",
   "execution_count": 0,
   "metadata": {
    "colab": {},
    "colab_type": "code",
    "id": "KnEoz1tZqRRN"
   },
   "outputs": [],
   "source": [
    "# Outra forma de resolver o mapeamento de valores\n",
    "lowercased = data['rock'].str.lower()\n",
    "# lowercased\n",
    "\n",
    "# Criar nova coluna 'rock_type' com função map()\n",
    "data['rock_type'] = lowercased.map(rock_type)\n",
    "data.head()"
   ]
  },
  {
   "cell_type": "markdown",
   "metadata": {
    "colab_type": "text",
    "id": "_v1jqx5pssoI"
   },
   "source": [
    "## Discretização\n",
    "Objetos pandas podem ser discretizados em intervalos de valores com a função `pandas.cut`. Esta função cria uma variável do tipo `CategoricalDtype`"
   ]
  },
  {
   "cell_type": "markdown",
   "metadata": {
    "colab_type": "text",
    "id": "az_Ieggh5IP2"
   },
   "source": [
    "__Exemplo__\n",
    "\n",
    "Para exemplificar a utilização da função `pd.cut()`, vamos criar um dataset que contém uma lista com 100 mediadas de Gamma Ray (API). Em seguida iremos criar 4 categorias de representam intervalos de valores."
   ]
  },
  {
   "cell_type": "code",
   "execution_count": 0,
   "metadata": {
    "colab": {},
    "colab_type": "code",
    "id": "Wf7Nc9xvsw8d"
   },
   "outputs": [],
   "source": [
    "gamma = pd.DataFrame(abs(np.random.randn(100)) * 60, columns=['Gamma Ray'])\n",
    "# gamma.sample(5)\n",
    "gamma.plot.hist();"
   ]
  },
  {
   "cell_type": "code",
   "execution_count": 0,
   "metadata": {
    "colab": {},
    "colab_type": "code",
    "id": "chAOzdsD7N4P"
   },
   "outputs": [],
   "source": [
    "# Separar em grupos de intervalos regularmente espaçados\n",
    "gamma_cut = pd.cut(gamma['Gamma Ray'], 4)\n",
    "# gamma_cut = pd.cut(gamma['Gamma Ray'], 4, labels=['low', 'medium', 'high', 'extreme'])\n",
    "\n",
    "gamma_cut.head()\n",
    "# gamma_cut.dtype\n",
    "# pd.value_counts(gamma_cut)\n",
    "# gamma_cut.value_counts()\n",
    "# gamma_cut.values"
   ]
  },
  {
   "cell_type": "code",
   "execution_count": 0,
   "metadata": {
    "colab": {},
    "colab_type": "code",
    "id": "sM6IZESasw5q"
   },
   "outputs": [],
   "source": [
    "# Definir os intervalos de cutoff\n",
    "cutoff = [0, 50, 100, 150, 200]\n",
    "\n",
    "gamma_cut = pd.cut(gamma['Gamma Ray'], cutoff)\n",
    "\n",
    "# gamma_cut.head()\n",
    "# gamma_cut.dtype\n",
    "# gamma_cut.value_counts().plot(kind='barh')\n",
    "# gamma_cut.values"
   ]
  },
  {
   "cell_type": "code",
   "execution_count": 0,
   "metadata": {
    "colab": {},
    "colab_type": "code",
    "id": "inT4x14AzKQC"
   },
   "outputs": [],
   "source": [
    "# Particionar em quartil\n",
    "gamma_cut_q = pd.qcut(gamma['Gamma Ray'], 4)\n",
    "# gamma_cut_q = pd.qcut(gamma['Gamma Ray'], [0, 0.1, 0.5, 0.9, 1.])\n",
    "\n",
    "# gamma_cut_q.head()\n",
    "gamma_cut_q.value_counts()\n",
    "# gamma_cut_q.values"
   ]
  },
  {
   "cell_type": "markdown",
   "metadata": {
    "colab_type": "text",
    "id": "kNFExMPsLMYR"
   },
   "source": [
    "## Manipulação"
   ]
  },
  {
   "cell_type": "markdown",
   "metadata": {
    "colab_type": "text",
    "id": "qZaU_XSM2nib"
   },
   "source": [
    "### Hierarquia de índices\n",
    "Objetos pandas podem conter uma ou mais colunas com índices em diferentes níveis hierárquicos. Esse aspectos é extremamente útil para geociências, pois isso torna possível que sejam utilizadas colunas com coordenadas (x, y) e identificação de pontos como índices em planilhas de aquisição de dados."
   ]
  },
  {
   "cell_type": "code",
   "execution_count": 0,
   "metadata": {
    "colab": {},
    "colab_type": "code",
    "id": "r_y5XpkL2vDN"
   },
   "outputs": [],
   "source": [
    "s = pd.Series(np.random.randn(9),\n",
    "                 index=[['a', 'a', 'a', 'b', 'b', 'c', 'c', 'd', 'd'],\n",
    "                        [1, 2, 3, 1, 3, 1, 2, 2, 3]])\n",
    "s"
   ]
  },
  {
   "cell_type": "code",
   "execution_count": 0,
   "metadata": {
    "colab": {},
    "colab_type": "code",
    "id": "StUjTJ3t2vA_"
   },
   "outputs": [],
   "source": [
    "s.index"
   ]
  },
  {
   "cell_type": "code",
   "execution_count": 0,
   "metadata": {
    "colab": {},
    "colab_type": "code",
    "id": "jofwmq3v2u-g"
   },
   "outputs": [],
   "source": [
    "s['b']\n",
    "# data.loc[['b', 'd']]"
   ]
  },
  {
   "cell_type": "code",
   "execution_count": 0,
   "metadata": {
    "colab": {},
    "colab_type": "code",
    "id": "hx91F2eZ3gQk"
   },
   "outputs": [],
   "source": [
    "# Desmontar índice hierárquico\n",
    "s.unstack()"
   ]
  },
  {
   "cell_type": "markdown",
   "metadata": {
    "colab_type": "text",
    "id": "H-HRT-xQ_jUi"
   },
   "source": [
    "### Converter colunas em índices hierárquicos"
   ]
  },
  {
   "cell_type": "code",
   "execution_count": 0,
   "metadata": {
    "colab": {},
    "colab_type": "code",
    "id": "-lxNLQeQ41Eh"
   },
   "outputs": [],
   "source": [
    "df = pd.DataFrame({'a': range(7), 'b': range(7, 0, -1),\n",
    "                      'c': ['one', 'one', 'one', 'two', 'two',\n",
    "                            'two', 'two'],\n",
    "                      'd': [0, 1, 2, 0, 1, 2, 3]})\n",
    "df"
   ]
  },
  {
   "cell_type": "code",
   "execution_count": 0,
   "metadata": {
    "colab": {},
    "colab_type": "code",
    "id": "PfZ7FBdD5AT3"
   },
   "outputs": [],
   "source": [
    "df2 = df.set_index(['c', 'd'])\n",
    "# df2 = df.set_index(['c', 'd'], drop=False)\n",
    "df2"
   ]
  },
  {
   "cell_type": "code",
   "execution_count": 0,
   "metadata": {
    "colab": {},
    "colab_type": "code",
    "id": "d7Yjuupc5YQU"
   },
   "outputs": [],
   "source": [
    "df2.reset_index()"
   ]
  },
  {
   "cell_type": "markdown",
   "metadata": {
    "colab_type": "text",
    "id": "d-kkd4yXANaX"
   },
   "source": [
    "### Estatística por índices hiearárquicos\n"
   ]
  },
  {
   "cell_type": "markdown",
   "metadata": {
    "colab_type": "text",
    "id": "KswqMNJ9e0UP"
   },
   "source": [
    "__Exemplo:__\n"
   ]
  },
  {
   "cell_type": "code",
   "execution_count": 0,
   "metadata": {
    "colab": {},
    "colab_type": "code",
    "id": "z6gwoLdGAT8K"
   },
   "outputs": [],
   "source": [
    "# DataFrame de dados de fácies e rochas\n",
    "df = pd.DataFrame(np.arange(12).reshape((4, 3)),\n",
    "                     index=[['a', 'a', 'b', 'b'], [1, 2, 1, 2]],\n",
    "                     columns=[['facies1', 'facies1', 'facies2'],\n",
    "                              ['Sand', 'Shale', 'Limestone']])\n",
    "df"
   ]
  },
  {
   "cell_type": "code",
   "execution_count": 0,
   "metadata": {
    "colab": {},
    "colab_type": "code",
    "id": "Z_cN0GBUAT5u"
   },
   "outputs": [],
   "source": [
    "# Nomear índices\n",
    "df.index.names = ['point', 'sample']\n",
    "df.columns.names = ['Facies', 'Rock']\n",
    "df"
   ]
  },
  {
   "cell_type": "code",
   "execution_count": 0,
   "metadata": {
    "colab": {},
    "colab_type": "code",
    "id": "nBgyaLiDCYue"
   },
   "outputs": [],
   "source": [
    "df['facies2']"
   ]
  },
  {
   "cell_type": "code",
   "execution_count": 0,
   "metadata": {
    "colab": {},
    "colab_type": "code",
    "id": "ryxLdUMfDxeY"
   },
   "outputs": [],
   "source": [
    "df.sum(level= 'key1')\n",
    "# df.sum(level='Facies', axis=1)"
   ]
  },
  {
   "cell_type": "markdown",
   "metadata": {
    "colab_type": "text",
    "id": "U1qz02E_mMEU"
   },
   "source": [
    "## Combinar data sets\n",
    "Os dois métodos pandas para combinar objetos que serão tratados neste curso são:\n",
    "\n",
    "- **`pandas.concat`** empilha objetos pandas concatenando os mesmo ao longo de um eixo.\n",
    "\n",
    "- **`pandas.merge`** que conecta linhas em DataFrames baseados em uma ou mais chaves como em uma base realcional (SQL). \n"
   ]
  },
  {
   "cell_type": "markdown",
   "metadata": {
    "colab_type": "text",
    "id": "_8i888HEp_dX"
   },
   "source": [
    "### Tabela de opções de combinação relacional\n"
   ]
  },
  {
   "cell_type": "markdown",
   "metadata": {
    "colab_type": "text",
    "id": "cuAKziozqCLf"
   },
   "source": [
    "Método pd. merge| SQL | Descrição\n",
    "--- | ---\n",
    "how=`'inner'` | `INNER JOIN` | Combinar usando apenas chaves contidas (interseções) entre tabelas\n",
    "how=`'left'` | `LEFT OUTER JOIN` | Combinar usando apenas chaves contidas na tabela da esquerda\n",
    "how=`'right'` | `RIGHT OUTER JOIN` | Combinar usando apenas chaves contidas na tabela da direita\n",
    "how=`'outer'` | `FULL OUTER JOIN` | Combinar usando todas as chaves contidas nas tabelas"
   ]
  },
  {
   "cell_type": "markdown",
   "metadata": {
    "colab_type": "text",
    "id": "caQmDwAtRB0f"
   },
   "source": [
    "### `merge`"
   ]
  },
  {
   "cell_type": "code",
   "execution_count": 0,
   "metadata": {
    "colab": {},
    "colab_type": "code",
    "id": "bcCBvRpQMNk7"
   },
   "outputs": [],
   "source": [
    "left = pd.DataFrame({'key1': ['K0', 'K0', 'K1', 'K2'],\n",
    "                     'key2': ['K0', 'K1', 'K0', 'K1'],\n",
    "                     'A': ['A0', 'A1', 'A2', 'A3'],\n",
    "                     'B': ['B0', 'B1', 'B2', 'B3']})\n",
    "left"
   ]
  },
  {
   "cell_type": "code",
   "execution_count": 0,
   "metadata": {
    "colab": {},
    "colab_type": "code",
    "id": "Jo5bSFdbMt10"
   },
   "outputs": [],
   "source": [
    "right = pd.DataFrame({'key1': ['K0', 'K1', 'K1', 'K2'],\n",
    "                      'key2': ['K0', 'K0', 'K0', 'K0'],\n",
    "                      'C': ['C0', 'C1', 'C2', 'C3'],\n",
    "                      'D': ['D0', 'D1', 'D2', 'D3']})\n",
    "right"
   ]
  },
  {
   "cell_type": "code",
   "execution_count": 0,
   "metadata": {
    "colab": {},
    "colab_type": "code",
    "id": "UQWFoAj2MrpC"
   },
   "outputs": [],
   "source": [
    "pd.merge(left, right, on=['key1', 'key2'])\n",
    "# pd.merge(left, right, how='inner', on=['key1', 'key2'])"
   ]
  },
  {
   "cell_type": "markdown",
   "metadata": {
    "colab_type": "text",
    "id": "FrvTf5ELRGaK"
   },
   "source": [
    "### `concatenate`"
   ]
  },
  {
   "cell_type": "code",
   "execution_count": 0,
   "metadata": {
    "colab": {},
    "colab_type": "code",
    "id": "eYW7fsnEOt0Y"
   },
   "outputs": [],
   "source": [
    "s1 = pd.Series([0, 1], index=['a', 'b'])\n",
    "s2 = pd.Series([2, 3, 4], index=['c', 'd', 'e'])\n",
    "s3 = pd.Series([5, 6], index=['f', 'g'])"
   ]
  },
  {
   "cell_type": "code",
   "execution_count": 0,
   "metadata": {
    "colab": {},
    "colab_type": "code",
    "id": "nDavlM4-PMtF"
   },
   "outputs": [],
   "source": [
    "# COncatenar por eixo\n",
    "pd.concat([s1, s2, s3], axis=1)"
   ]
  },
  {
   "cell_type": "code",
   "execution_count": 0,
   "metadata": {
    "colab": {},
    "colab_type": "code",
    "id": "FiP9_BLdPMqo"
   },
   "outputs": [],
   "source": [
    "s4 = pd.concat([s1, s3])\n",
    "s4"
   ]
  },
  {
   "cell_type": "code",
   "execution_count": 0,
   "metadata": {
    "colab": {},
    "colab_type": "code",
    "id": "YoqXdwU9Pksf"
   },
   "outputs": [],
   "source": [
    "pd.concat([s1, s4], axis=1, join='inner')"
   ]
  },
  {
   "cell_type": "code",
   "execution_count": 0,
   "metadata": {
    "colab": {},
    "colab_type": "code",
    "id": "5DkavXr8QVMr"
   },
   "outputs": [],
   "source": [
    "pd.concat([s1, s4], axis=1, join_axes=[['a', 'c', 'b', 'e']])"
   ]
  },
  {
   "cell_type": "code",
   "execution_count": 0,
   "metadata": {
    "colab": {},
    "colab_type": "code",
    "id": "fMfFQ8sWUCTU"
   },
   "outputs": [],
   "source": [
    "df1 = pd.DataFrame(np.random.randn(3, 4), columns=['a', 'b', 'c', 'd'])\n",
    "df1"
   ]
  },
  {
   "cell_type": "code",
   "execution_count": 0,
   "metadata": {
    "colab": {},
    "colab_type": "code",
    "id": "pC3ZFvmMUEpa"
   },
   "outputs": [],
   "source": [
    "df2 = pd.DataFrame(np.random.randn(2, 3), columns=['b', 'd', 'a'])\n",
    "df2"
   ]
  },
  {
   "cell_type": "code",
   "execution_count": 0,
   "metadata": {
    "colab": {},
    "colab_type": "code",
    "id": "RTITQTEzT_KC"
   },
   "outputs": [],
   "source": [
    "# COncatenar ignorando índices\n",
    "pd.concat([df1, df2])\n",
    "# pd.concat([df1, df2], ignore_index=True)"
   ]
  },
  {
   "cell_type": "markdown",
   "metadata": {
    "colab_type": "text",
    "id": "RV1N3TB4nLy_"
   },
   "source": [
    "## Rearranjos e modificações\n",
    "\n",
    "Métodos:\n",
    "#### **`stack`** \n",
    "> Rotaciona (pivot) de colunas para linhas\n",
    "#### **`unstack`**\n",
    "> Rotaciona  (pivot) de linhas para colunas"
   ]
  },
  {
   "cell_type": "code",
   "execution_count": 0,
   "metadata": {
    "colab": {},
    "colab_type": "code",
    "id": "E726MlmQnU4O"
   },
   "outputs": [],
   "source": [
    "df = pd.DataFrame(np.arange(6).reshape((2, 3)),\n",
    "                  index=pd.Index(['A', 'B'], name='index'),\n",
    "                  columns=pd.Index(['one', 'two', 'three'],\n",
    "                  name='columns'))\n",
    "df"
   ]
  },
  {
   "cell_type": "code",
   "execution_count": 0,
   "metadata": {
    "colab": {},
    "colab_type": "code",
    "id": "lmeC4rPdnU1W"
   },
   "outputs": [],
   "source": [
    "df.stack()\n",
    "# df.stack().unstack()"
   ]
  },
  {
   "cell_type": "code",
   "execution_count": 0,
   "metadata": {
    "colab": {},
    "colab_type": "code",
    "id": "NxtNNa2MX7Su"
   },
   "outputs": [],
   "source": [
    "# Unstack com especificação de índices\n",
    "df_stacked = df.stack()\n",
    "\n",
    "df_stacked.unstack('index')"
   ]
  },
  {
   "cell_type": "markdown",
   "metadata": {
    "colab_type": "text",
    "id": "FnbsjqkSr7mL"
   },
   "source": [
    "# Agrupamento\n",
    "\n",
    "As principais operações de agrupamento são:\n",
    "- Fragmentar (split)\n",
    "- Estatísticas por subgrupo\n",
    "- Aplicação de métodos em grupos espeíficos dentro de uma tabela\n",
    "- Computar tabelas pivot"
   ]
  },
  {
   "cell_type": "markdown",
   "metadata": {
    "colab_type": "text",
    "id": "j95p_6-Ntwpc"
   },
   "source": [
    "![](https://i.stack.imgur.com/sgCn1.jpg)\n",
    "\n",
    "Exemplo de agrupamento com a metodologia *split-apply-combine* utilizando o método `groupby`."
   ]
  },
  {
   "cell_type": "markdown",
   "metadata": {
    "colab_type": "text",
    "id": "L20b5ZkItsIU"
   },
   "source": [
    "## GroupBy"
   ]
  },
  {
   "cell_type": "markdown",
   "metadata": {
    "colab_type": "text",
    "id": "AxS7YW-mzat1"
   },
   "source": [
    "### *split-apply-combine*"
   ]
  },
  {
   "cell_type": "code",
   "execution_count": 0,
   "metadata": {
    "colab": {},
    "colab_type": "code",
    "id": "UTnHWN28sQfa"
   },
   "outputs": [],
   "source": [
    "df = pd.DataFrame({'key1' : ['a', 'a', 'b', 'b', 'a'],\n",
    "                   'key2' : ['one', 'two', 'one', 'two', 'one'],\n",
    "                   'data1' : np.random.randn(5),\n",
    "                   'data2' : np.random.randn(5)})\n",
    "df"
   ]
  },
  {
   "cell_type": "code",
   "execution_count": 0,
   "metadata": {
    "colab": {},
    "colab_type": "code",
    "id": "nIkt_4aRsQcN"
   },
   "outputs": [],
   "source": [
    "# split\n",
    "grouped = df['data1'].groupby(df['key1'])\n",
    "# grouped\n",
    "\n",
    "# apply-combine\n",
    "grouped.mean()"
   ]
  },
  {
   "cell_type": "code",
   "execution_count": 0,
   "metadata": {
    "colab": {},
    "colab_type": "code",
    "id": "_LHeBWe_yUtL"
   },
   "outputs": [],
   "source": [
    "# split-apply-combine com múltiplas chaves\n",
    "means = df.groupby([df['key1'], df['key2']]).mean()\n",
    "# means = df['data1'].groupby([df['key1'], df['key2']]).mean()\n",
    "\n",
    "means"
   ]
  },
  {
   "cell_type": "code",
   "execution_count": 0,
   "metadata": {
    "colab": {},
    "colab_type": "code",
    "id": "apHj9LQtyTNS"
   },
   "outputs": [],
   "source": [
    "means.unstack()"
   ]
  },
  {
   "cell_type": "code",
   "execution_count": 0,
   "metadata": {
    "colab": {},
    "colab_type": "code",
    "id": "Z2uffcMT1g_1"
   },
   "outputs": [],
   "source": [
    "# Gerar DataFrame com GroupBy\n",
    "df_grouped = df.groupby(['key1', 'key2'])[['data2']].mean()\n",
    "type(df_grouped)"
   ]
  },
  {
   "cell_type": "code",
   "execution_count": 0,
   "metadata": {
    "colab": {},
    "colab_type": "code",
    "id": "s8IW8xEL1nGY"
   },
   "outputs": [],
   "source": [
    "# Gerar Series com GroupBy\n",
    "s_grouped = df.groupby(['key1', 'key2'])['data2'].mean()\n",
    "type(s_grouped)"
   ]
  },
  {
   "cell_type": "markdown",
   "metadata": {
    "colab_type": "text",
    "id": "yr3mtJxAzhJ8"
   },
   "source": [
    "### Iterações em grupos"
   ]
  },
  {
   "cell_type": "code",
   "execution_count": 0,
   "metadata": {
    "colab": {},
    "colab_type": "code",
    "id": "SJROZBSXzkvF"
   },
   "outputs": [],
   "source": [
    "for name, group in df.groupby('key1'):\n",
    "    print(name)\n",
    "    print(group)"
   ]
  },
  {
   "cell_type": "code",
   "execution_count": 0,
   "metadata": {
    "colab": {},
    "colab_type": "code",
    "id": "JlAULBst0GvR"
   },
   "outputs": [],
   "source": [
    "for (k1, k2), group in df.groupby(['key1', 'key2']):\n",
    "    print((k1, k2))\n",
    "    print(group)"
   ]
  },
  {
   "cell_type": "code",
   "execution_count": 0,
   "metadata": {
    "colab": {},
    "colab_type": "code",
    "id": "WGmjwVaZ0Pop"
   },
   "outputs": [],
   "source": [
    "df.dtypes"
   ]
  },
  {
   "cell_type": "code",
   "execution_count": 0,
   "metadata": {
    "colab": {},
    "colab_type": "code",
    "id": "mSlk19mR0VMy"
   },
   "outputs": [],
   "source": [
    "grouped = df.groupby(df.dtypes, axis=1)\n",
    "\n",
    "for dtype, group in grouped:\n",
    "    print(dtype)\n",
    "    print(group)"
   ]
  },
  {
   "cell_type": "markdown",
   "metadata": {
    "colab_type": "text",
    "id": "qWsUF1RB3_iz"
   },
   "source": [
    "### Agrupamento com dicionários de valores"
   ]
  },
  {
   "cell_type": "code",
   "execution_count": 0,
   "metadata": {
    "colab": {},
    "colab_type": "code",
    "id": "EBUN9Uy54Fj7"
   },
   "outputs": [],
   "source": [
    "df = pd.DataFrame(np.random.randn(5, 5),\n",
    "                      columns=['a', 'b', 'c', 'd', 'e'],\n",
    "                      index=['line 1', 'line 2', 'line 3', 'line 4', 'line 5'])\n",
    "df"
   ]
  },
  {
   "cell_type": "code",
   "execution_count": 0,
   "metadata": {
    "colab": {},
    "colab_type": "code",
    "id": "lEvrRvER5iL_"
   },
   "outputs": [],
   "source": [
    "facies = {'a': 'type 1', 'b': 'type 1', 'c': 'type 1',\n",
    "          'd': 'type 2', 'e': 'type 2'}"
   ]
  },
  {
   "cell_type": "code",
   "execution_count": 0,
   "metadata": {
    "colab": {},
    "colab_type": "code",
    "id": "qfrdXlKl6eDR"
   },
   "outputs": [],
   "source": [
    "# Agrupar por colunas\n",
    "df.groupby(facies, axis=1).mean()"
   ]
  },
  {
   "cell_type": "markdown",
   "metadata": {
    "colab_type": "text",
    "id": "ocTTOUxy7uKp"
   },
   "source": [
    "## Agregando valores\n",
    "Agregar valores significa gerar valores escalares a partir da redução de arranjos de números. Algumas das funções mais utilizadas para agregar valores são:\n",
    "- `sum` \n",
    "- `mean`\n",
    "- `median`\n",
    "- `min`, `max`"
   ]
  },
  {
   "cell_type": "code",
   "execution_count": 0,
   "metadata": {
    "colab": {},
    "colab_type": "code",
    "id": "XTgOy4XR6wgz"
   },
   "outputs": [],
   "source": [
    "df = pd.DataFrame({'key1' : ['a', 'a', 'b', 'b', 'a'],\n",
    "                   'key2' : ['one', 'two', 'one', 'two', 'one'],\n",
    "                   'data1' : np.random.randn(5),\n",
    "                   'data2' : np.random.randn(5)})\n",
    "df"
   ]
  },
  {
   "cell_type": "code",
   "execution_count": 0,
   "metadata": {
    "colab": {},
    "colab_type": "code",
    "id": "2jHe6olo8dcR"
   },
   "outputs": [],
   "source": [
    "# Agrupar por quantil\n",
    "df.groupby('key1')['data1'].quantile(0.9)"
   ]
  },
  {
   "cell_type": "code",
   "execution_count": 0,
   "metadata": {
    "colab": {},
    "colab_type": "code",
    "id": "T6_LlZUO85Gc"
   },
   "outputs": [],
   "source": [
    "# Agrupar usando funções\n",
    "\n",
    "def interval(arr):\n",
    "    return arr.max() - arr.min()\n",
    "\n",
    "\n",
    "df.groupby('key1').agg(interval)"
   ]
  },
  {
   "cell_type": "code",
   "execution_count": 0,
   "metadata": {
    "colab": {},
    "colab_type": "code",
    "id": "AXF5w7fh9i_2"
   },
   "outputs": [],
   "source": [
    "df.groupby('key1').describe()"
   ]
  },
  {
   "cell_type": "code",
   "execution_count": 0,
   "metadata": {
    "colab": {},
    "colab_type": "code",
    "id": "8Q9eB16DAvJy"
   },
   "outputs": [],
   "source": [
    "grouped = df.groupby('key1')\n",
    "# grouped = df.groupby('key1', as_index=False)\n",
    "# grouped = df.groupby('key1', group_keys=False)\n",
    "\n",
    "grouped.agg('mean')"
   ]
  },
  {
   "cell_type": "code",
   "execution_count": 0,
   "metadata": {
    "colab": {},
    "colab_type": "code",
    "id": "jTnw7FT8A7Rv"
   },
   "outputs": [],
   "source": [
    "grouped.agg(['mean', 'median', interval])"
   ]
  },
  {
   "cell_type": "markdown",
   "metadata": {
    "colab_type": "text",
    "id": "476PjOAFDiSN"
   },
   "source": [
    "## Tabelas Pivot e *cross-tabulations*\n",
    "Tabelas pivot geram sumários estatísticos e *cross-tabulations *geram sumários com frequências de valores."
   ]
  },
  {
   "cell_type": "code",
   "execution_count": 0,
   "metadata": {
    "colab": {},
    "colab_type": "code",
    "id": "j_yznTkaD3qT"
   },
   "outputs": [],
   "source": [
    "df"
   ]
  },
  {
   "cell_type": "code",
   "execution_count": 0,
   "metadata": {
    "colab": {},
    "colab_type": "code",
    "id": "8ZokBv2rBQbX"
   },
   "outputs": [],
   "source": [
    "# Utilizando tablea pivot\n",
    "df.pivot_table(index='key1')\n",
    "# df.pivot_table(index='key1', columns='key2')"
   ]
  },
  {
   "cell_type": "code",
   "execution_count": 0,
   "metadata": {
    "colab": {},
    "colab_type": "code",
    "id": "SIzM1nSuEBEA"
   },
   "outputs": [],
   "source": [
    "pd.crosstab(df.key1, df.key2, margins=True)"
   ]
  },
  {
   "cell_type": "markdown",
   "metadata": {
    "colab_type": "text",
    "id": "Dx2YrqZ0H4dt"
   },
   "source": [
    "# Referências\n",
    "\n",
    "- [Limpeza de dados](https://en.wikipedia.org/wiki/Data_cleansing)"
   ]
  }
 ],
 "metadata": {
  "colab": {
   "name": "3.1 Limpeza e transformação de dados.ipynb",
   "provenance": [],
   "toc_visible": true,
   "version": "0.3.2"
  },
  "kernelspec": {
   "display_name": "py36",
   "language": "python",
   "name": "python36"
  },
  "language_info": {
   "codemirror_mode": {
    "name": "ipython",
    "version": 3
   },
   "file_extension": ".py",
   "mimetype": "text/x-python",
   "name": "python",
   "nbconvert_exporter": "python",
   "pygments_lexer": "ipython3",
   "version": "3.6.7"
  },
  "toc": {
   "base_numbering": "3.1",
   "nav_menu": {},
   "number_sections": true,
   "sideBar": true,
   "skip_h1_title": false,
   "title_cell": "Table of Contents",
   "title_sidebar": "Contents",
   "toc_cell": false,
   "toc_position": {},
   "toc_section_display": true,
   "toc_window_display": true
  },
  "varInspector": {
   "cols": {
    "lenName": 16,
    "lenType": 16,
    "lenVar": 40
   },
   "kernels_config": {
    "python": {
     "delete_cmd_postfix": "",
     "delete_cmd_prefix": "del ",
     "library": "var_list.py",
     "varRefreshCmd": "print(var_dic_list())"
    },
    "r": {
     "delete_cmd_postfix": ") ",
     "delete_cmd_prefix": "rm(",
     "library": "var_list.r",
     "varRefreshCmd": "cat(var_dic_list()) "
    }
   },
   "types_to_exclude": [
    "module",
    "function",
    "builtin_function_or_method",
    "instance",
    "_Feature"
   ],
   "window_display": false
  }
 },
 "nbformat": 4,
 "nbformat_minor": 1
}
