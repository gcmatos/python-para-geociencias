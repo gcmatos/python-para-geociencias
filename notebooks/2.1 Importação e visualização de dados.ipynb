{
 "cells": [
  {
   "cell_type": "markdown",
   "metadata": {},
   "source": [
    "[![Open In Colab](https://colab.research.google.com/assets/colab-badge.svg)](https://colab.research.google.com/github/gcmatos/python-para-geociencias/blob/master/notebooks/2.1%20Importação%20e%20visualização%20de%20dados.ipynb)\n",
    "\n",
    "Ctrl/Cmd + click para abrir em uma nova aba do navegador web e utilizar o Google Colab para rodar o tutorial."
   ]
  },
  {
   "cell_type": "markdown",
   "metadata": {
    "colab_type": "text",
    "id": "vI84YNbSJDXp"
   },
   "source": [
    "# Importação e visualização de dados\n",
    "\n",
    "__O que iremos aprender__\n",
    "- Carregar dados provenientes arquivos ou objetos de bibliotecas para análise\n",
    "- Controle de qualidade de dados importados\n",
    "- Visualizar dados tabulares\n",
    "- Visualizar dados geoespaciais"
   ]
  },
  {
   "cell_type": "markdown",
   "metadata": {
    "colab_type": "text",
    "id": "Y0Z4j1PmaICN"
   },
   "source": [
    "## Configuração de ambiente\n",
    "Instalaçao e importação dos pacotes Python para o tutorial sobre estruturas de dados."
   ]
  },
  {
   "cell_type": "markdown",
   "metadata": {
    "colab_type": "text",
    "id": "AzJnQUjEI4TB"
   },
   "source": [
    "### Instalação de dependências\n",
    "Comandos para Linux Ubuntu."
   ]
  },
  {
   "cell_type": "code",
   "execution_count": null,
   "metadata": {
    "colab": {},
    "colab_type": "code",
    "id": "hRR5FbZWjUYU"
   },
   "outputs": [],
   "source": [
    "# Instalar biblioteca para importar e exportar arquivos Excel\n",
    "!pip install xlrd\n",
    "!pip install openpyxl"
   ]
  },
  {
   "cell_type": "code",
   "execution_count": null,
   "metadata": {},
   "outputs": [],
   "source": [
    "# Instalar Pyproj\n",
    "!sudo apt-get install python-pyproj"
   ]
  },
  {
   "cell_type": "code",
   "execution_count": null,
   "metadata": {},
   "outputs": [],
   "source": [
    "# Instalar GeoPandas\n",
    "!pip install shapely fiona six geopandas"
   ]
  },
  {
   "cell_type": "code",
   "execution_count": null,
   "metadata": {
    "colab": {},
    "colab_type": "code",
    "id": "MmaW34gmVDjs"
   },
   "outputs": [],
   "source": [
    "# Instalação do Basemap\n",
    "!apt install proj-bin libproj-dev libgeos-dev\n",
    "!pip install https://github.com/matplotlib/basemap/archive/v1.1.0.tar.gz"
   ]
  },
  {
   "cell_type": "code",
   "execution_count": null,
   "metadata": {
    "colab": {},
    "colab_type": "code",
    "id": "-zBp3wJ13raG"
   },
   "outputs": [],
   "source": [
    "# Instalar mplstereonet para visualizar dados de orientação\n",
    "!pip install mplstereonet"
   ]
  },
  {
   "cell_type": "code",
   "execution_count": null,
   "metadata": {},
   "outputs": [],
   "source": [
    "# Instalar Pyproj\n",
    "!sudo apt-get install python-pyproj"
   ]
  },
  {
   "cell_type": "code",
   "execution_count": null,
   "metadata": {},
   "outputs": [],
   "source": [
    "# Instalar GeoPandas\n",
    "!pip install shapely fiona six geopandas"
   ]
  },
  {
   "cell_type": "code",
   "execution_count": null,
   "metadata": {
    "colab": {},
    "colab_type": "code",
    "id": "PO0enxb2Dh5Q"
   },
   "outputs": [],
   "source": [
    "# Instalar Cartopy (code snippet)\n",
    "!apt-get -qq install python-cartopy python3-cartopy"
   ]
  },
  {
   "cell_type": "code",
   "execution_count": null,
   "metadata": {
    "colab": {},
    "colab_type": "code",
    "id": "AXLrI30FAAfL"
   },
   "outputs": [],
   "source": [
    "# Instalar o Python Shapefile Library\n",
    "!pip install pyshp"
   ]
  },
  {
   "cell_type": "code",
   "execution_count": null,
   "metadata": {
    "colab": {},
    "colab_type": "code",
    "id": "8E6ycbqtEinc"
   },
   "outputs": [],
   "source": [
    "# Instalar biblioteca GDAL para importar arquivos TIFF\n",
    "!apt install gdal-bin python-gdal python3-gdal"
   ]
  },
  {
   "cell_type": "markdown",
   "metadata": {
    "colab_type": "text",
    "id": "fD-dqtYjMF0_"
   },
   "source": [
    "### Importar bibliotecas"
   ]
  },
  {
   "cell_type": "code",
   "execution_count": null,
   "metadata": {
    "colab": {},
    "colab_type": "code",
    "id": "lp4S990vDyaP"
   },
   "outputs": [],
   "source": [
    "# Importação de arquivos\n",
    "import numpy as np\n",
    "import pandas as pd\n",
    "import geopandas as gpd\n",
    "\n",
    "# Matplotlib em células de códigos\n",
    "%matplotlib inline\n",
    "\n",
    "# Gráficos\n",
    "import seaborn as sns\n",
    "\n",
    "import matplotlib.pyplot as plt\n",
    "# Imagens\n",
    "import matplotlib.image as mpimg\n",
    "# Stereonet\n",
    "# import mplstereonet"
   ]
  },
  {
   "cell_type": "code",
   "execution_count": null,
   "metadata": {
    "colab": {},
    "colab_type": "code",
    "id": "lp4S990vDyaP"
   },
   "outputs": [],
   "source": [
    "# Basemap\n",
    "from mpl_toolkits.basemap import Basemap"
   ]
  },
  {
   "cell_type": "code",
   "execution_count": null,
   "metadata": {
    "colab": {},
    "colab_type": "code",
    "id": "lp4S990vDyaP"
   },
   "outputs": [],
   "source": [
    "# Cartopy\n",
    "import cartopy\n",
    "import cartopy.crs as ccrs"
   ]
  },
  {
   "cell_type": "code",
   "execution_count": null,
   "metadata": {
    "colab": {},
    "colab_type": "code",
    "id": "lp4S990vDyaP"
   },
   "outputs": [],
   "source": [
    "# GDAL\n",
    "from osgeo import gdal"
   ]
  },
  {
   "cell_type": "code",
   "execution_count": 2,
   "metadata": {
    "colab": {},
    "colab_type": "code",
    "id": "lp4S990vDyaP"
   },
   "outputs": [],
   "source": [
    "# Ignorar alertas\n",
    "import warnings\n",
    "warnings.filterwarnings('ignore')"
   ]
  },
  {
   "cell_type": "code",
   "execution_count": null,
   "metadata": {
    "colab": {},
    "colab_type": "code",
    "id": "-JS7koDPDyaT"
   },
   "outputs": [],
   "source": [
    "# Matplotlib style\n",
    "plt.style.use('default')\n",
    "# plt.style.available"
   ]
  },
  {
   "cell_type": "code",
   "execution_count": null,
   "metadata": {
    "colab": {},
    "colab_type": "code",
    "id": "N-mTiZYLUGuW"
   },
   "outputs": [],
   "source": [
    "# Configuração para reproduzir números aleatórios\n",
    "np.random.seed(0)"
   ]
  },
  {
   "cell_type": "code",
   "execution_count": null,
   "metadata": {
    "colab": {},
    "colab_type": "code",
    "id": "OiM_k3yhvrPV"
   },
   "outputs": [],
   "source": [
    "# Ajustar a precisão do output de valores reais\n",
    "%precision 3"
   ]
  },
  {
   "cell_type": "markdown",
   "metadata": {
    "colab_type": "text",
    "id": "l_2nz75FLyMW"
   },
   "source": [
    "### Subir arquivos\n",
    "Os arquivos que serão utilizados neste tutorial são:\n",
    "- Arquivos texto (arquivo.csv, arquivo.txt)\n",
    "- Arquivo Excel (arquivo.xlsx)\n",
    "- Scripts Python (basic.py, contouring.py, stereonet_explanetion.py, stereonet_coordinate_systems.py, equal_area_equal_angle_comparison.py)\n",
    "- Imagem sísmica (seismic_section.png)\n",
    "- Modelo Digital de Elevação (dem.tiff)\n",
    "- Arquivos Shape da pasta 'shape_bacias_wgs1984'\n",
    "\n"
   ]
  },
  {
   "cell_type": "code",
   "execution_count": null,
   "metadata": {
    "colab": {},
    "colab_type": "code",
    "id": "1tUwPzEELmGh"
   },
   "outputs": [],
   "source": [
    "# Code snippet do Colab"
   ]
  },
  {
   "cell_type": "code",
   "execution_count": null,
   "metadata": {
    "colab": {},
    "colab_type": "code",
    "id": "Ol5xMdVzP11y"
   },
   "outputs": [],
   "source": [
    "# Listar arquivos no diretório de trabalho\n",
    "%ls"
   ]
  },
  {
   "cell_type": "markdown",
   "metadata": {
    "colab_type": "text",
    "id": "_2fVhgWKKuTg"
   },
   "source": [
    "## Importação de dados\n",
    "Neste curso daremos prioridade à biblioteca **`pandas`**, porém a importação de dados para análise em Python também pode ser feita com funções *built-in* ou com métodos **`numpy`**. Todas estas bibliotecas oferecem recursos para importação de dados tabulares, como arquivos com observações (linhas) e atributos (colunas), e dados não-estruturados como imagens e textos. \n",
    "\n",
    "A biblioteca `pandas`, que foi construida sobre a estrutura do `numpy`, possui a gama mais completa de ferramentas para importar, manipular e analisar dados rotulados tabulares e séries de tempo. Todo dado importado como estrutura `pandas`, pode ser manipulado com o auxílio dos inúmeros métodos disponíveis, como foi visto notebook [1.3 Estruturas de dados em Python](https://drive.google.com/open?id=1GiTFcq_jtfMsCsqa5-6TuDOsYxKDFmNI). Estes métodos contêm uma vasta documentação de referências, ajuda e totoriais, que é mantida e alimentada por uma comunidade internacional com milhares de colaboradores/desenvolvedores.\n",
    "\n",
    "A biblioteca `numpy` aceita estruturas pandas como Series e DatFrame, sendo utilizada principalmente no processamento de dados geofísicos, sensoriamento remoto e imagens. Numpy é muito utilizado em computação científica devido aos métodos matemáticos disponíveis para solucionar problemas numéricos tensoriais com alta performance. \n",
    "\n",
    "Os arquivos de entrada utilizados neste curso são:\n",
    "- Arquivos texto (.csv, .txt)\n",
    "- Planilhas Excel (.xlsx)\n",
    "- Arquivos georreferenciados (.shp)\n",
    "- Imagens (.png)\n"
   ]
  },
  {
   "cell_type": "markdown",
   "metadata": {
    "colab_type": "text",
    "id": "pRpocCyRGFey"
   },
   "source": [
    "### Arquivos em formato texto"
   ]
  },
  {
   "cell_type": "markdown",
   "metadata": {
    "colab_type": "text",
    "id": "wxNIIeA7GzuL"
   },
   "source": [
    "__Tabela com alguns dos métodos `pandas` para arquivos texto__\n",
    "\n",
    "Considerando:\n",
    "\n",
    "```python\n",
    "import pandas as pd\n",
    "```\n",
    "\n",
    "\n",
    "Método | Descrição\n",
    "--- | ---\n",
    " `pd.read_csv` | Carregar arquivo CSV com valores separados por vírgula `','`\n",
    " `pd.read_table` | Carregar arquivo TXT com valores separados por tabulação `'\\t'`\n",
    " `pd.read_excel` | Carregar arquivo Excel XLS ou XLSX\n",
    " \n",
    " "
   ]
  },
  {
   "cell_type": "markdown",
   "metadata": {
    "colab_type": "text",
    "id": "uEv1AZrkRZ6q"
   },
   "source": [
    "__Valores separados por vírgula (CSV)__"
   ]
  },
  {
   "cell_type": "code",
   "execution_count": null,
   "metadata": {
    "colab": {},
    "colab_type": "code",
    "id": "MVYl3Bxsc-7s"
   },
   "outputs": [],
   "source": [
    "# Previsualizar dados\n",
    "!cat arquivo.csv"
   ]
  },
  {
   "cell_type": "code",
   "execution_count": null,
   "metadata": {
    "colab": {},
    "colab_type": "code",
    "id": "TXvzfSkRc-7o"
   },
   "outputs": [],
   "source": [
    "# Ler arquivo e criar DataFrame\n",
    "df = pd.read_csv('arquivo.csv')\n",
    "# df = pd.read_csv('arquivo.csv', index_col=['key1', 'key2'])\n",
    "# df = pd.read_csv('arquivo.csv', \n",
    "#                  header=0, \n",
    "#                  names=['atributo1', 'atributo2', 'Indice', 'atributo3'], \n",
    "#                  index_col=['Indice'])\n",
    "df"
   ]
  },
  {
   "cell_type": "code",
   "execution_count": null,
   "metadata": {
    "colab": {},
    "colab_type": "code",
    "id": "mmJGuufsfJlJ"
   },
   "outputs": [],
   "source": [
    "# Converter para dicionário\n",
    "df.to_dict()"
   ]
  },
  {
   "cell_type": "code",
   "execution_count": null,
   "metadata": {
    "colab": {},
    "colab_type": "code",
    "id": "r4_c7B5nc-7m"
   },
   "outputs": [],
   "source": [
    "# Gravar arquivo local\n",
    "df.to_csv('arquivo_exportado.csv')\n",
    "# Checar gravação\n",
    "%ls"
   ]
  },
  {
   "cell_type": "code",
   "execution_count": null,
   "metadata": {
    "colab": {},
    "colab_type": "code",
    "id": "L790LuL6c-7j"
   },
   "outputs": [],
   "source": [
    "# Visualizar dado exportado\n",
    "!cat arquivo_exported.csv"
   ]
  },
  {
   "cell_type": "markdown",
   "metadata": {
    "colab_type": "text",
    "id": "voO2Blc8dI97"
   },
   "source": [
    "__Valores separados por tabulação (TXT)__"
   ]
  },
  {
   "cell_type": "code",
   "execution_count": null,
   "metadata": {
    "colab": {},
    "colab_type": "code",
    "id": "KzZvTT_jc-7g"
   },
   "outputs": [],
   "source": [
    "# Previsualizar dados\n",
    "!cat arquivo.txt"
   ]
  },
  {
   "cell_type": "code",
   "execution_count": null,
   "metadata": {
    "colab": {},
    "colab_type": "code",
    "id": "icvbHAbZc-7d"
   },
   "outputs": [],
   "source": [
    "# Ler arquivo e criar DataFrame\n",
    "# df = pd.read_table('arquivo.txt', sep='\\s')\n",
    "df = pd.read_table('arquivo.txt', sep='\\s+')\n",
    "df"
   ]
  },
  {
   "cell_type": "code",
   "execution_count": null,
   "metadata": {
    "colab": {},
    "colab_type": "code",
    "id": "MCUYquOZc-7b"
   },
   "outputs": [],
   "source": [
    "# Gravar arquivo local\n",
    "df.to_csv('arquivo_exported.txt', sep='\\t')\n",
    "# Checar gravação\n",
    "%ls"
   ]
  },
  {
   "cell_type": "code",
   "execution_count": null,
   "metadata": {
    "colab": {},
    "colab_type": "code",
    "id": "RwQXSi_2c-7X"
   },
   "outputs": [],
   "source": [
    "# Visualizar dado bruto\n",
    "!cat arquivo_exported.txt"
   ]
  },
  {
   "cell_type": "markdown",
   "metadata": {
    "colab_type": "text",
    "id": "6LaVUZ7cdOMd"
   },
   "source": [
    "### Planilhas Excel"
   ]
  },
  {
   "cell_type": "code",
   "execution_count": null,
   "metadata": {
    "colab": {},
    "colab_type": "code",
    "id": "hOTgoy71dXCW"
   },
   "outputs": [],
   "source": [
    "# Importar usando ExcelFile\n",
    "xlsx = pd.ExcelFile('arquivo.xlsx')\n",
    "# Imprimir os nomes das Sheets\n",
    "xlsx.sheet_names"
   ]
  },
  {
   "cell_type": "code",
   "execution_count": null,
   "metadata": {
    "colab": {},
    "colab_type": "code",
    "id": "pDJDIkIMdW_u"
   },
   "outputs": [],
   "source": [
    "# Criar DataFrame com método do ExcelFile\n",
    "df_sheet1 = xlsx.parse('Sheet1')\n",
    "df_sheet1"
   ]
  },
  {
   "cell_type": "code",
   "execution_count": null,
   "metadata": {
    "colab": {},
    "colab_type": "code",
    "id": "Zsg8N85rxH9U"
   },
   "outputs": [],
   "source": [
    "# Exportar arquivo em formato Excel\n",
    "writer = pd.ExcelWriter('sheet1.xlsx')\n",
    "df_sheet1.to_excel(writer, 'Sheet1')\n",
    "writer.save()\n",
    "%ls"
   ]
  },
  {
   "cell_type": "code",
   "execution_count": null,
   "metadata": {
    "colab": {},
    "colab_type": "code",
    "id": "JlBJSiHldXRd"
   },
   "outputs": [],
   "source": [
    "# Importar arquivo e criar DataFrame\n",
    "df_sheet2 = pd.read_excel('arquivo.xlsx', 'Sheet2')\n",
    "df_sheet2"
   ]
  },
  {
   "cell_type": "code",
   "execution_count": null,
   "metadata": {
    "colab": {},
    "colab_type": "code",
    "id": "Ue8U7qPSdXGU"
   },
   "outputs": [],
   "source": [
    "df_sheet2.to_excel('sheet2.xlsx')\n",
    "%ls"
   ]
  },
  {
   "cell_type": "markdown",
   "metadata": {
    "colab_type": "text",
    "id": "g4yXAqpuv59D"
   },
   "source": [
    "### Imagens\n",
    "Imagens são carregadas como **`ndarrays`** para serem visualizadas com matplotlib. O formato nativo da biblioteca matplotlib é o PNG. Se for preciso importar dados em outros formatos (JPG, TIFF) é necessário instalar bibliotecas extras como PIL e OpenCV."
   ]
  },
  {
   "cell_type": "code",
   "execution_count": null,
   "metadata": {
    "colab": {},
    "colab_type": "code",
    "id": "Bo4PGLhUvL12"
   },
   "outputs": [],
   "source": [
    "# Importar imagem PNG e transformar em ndarray\n",
    "# img = mpimg.imread('https://matplotlib.org/_images/stinkbug.png')\n",
    "img = mpimg.imread('seismic_section.png')\n",
    "img\n",
    "# img.shape"
   ]
  },
  {
   "cell_type": "markdown",
   "metadata": {},
   "source": [
    "### *Shapefiles*\n",
    "Importação de shapefiles deve ser feita com `GeoPandas`, pois esta biblioteca combina recursos `Pandas`, `Shapely` e `Fiona` para manipulção e `Matplotlib` para visualização."
   ]
  },
  {
   "cell_type": "markdown",
   "metadata": {},
   "source": [
    "__Importação de arquivos shape com GeoPandas__"
   ]
  },
  {
   "cell_type": "code",
   "execution_count": 3,
   "metadata": {},
   "outputs": [],
   "source": [
    "# Importação dados de shapefiles\n",
    "shape_bacias = gpd.read_file(\n",
    "    '../dados/shape_bacias_wgs1984/shape_bacias_wgs1984.shp')"
   ]
  },
  {
   "cell_type": "code",
   "execution_count": null,
   "metadata": {},
   "outputs": [],
   "source": [
    "# Verificar dados tabular\n",
    "shape_bacias.head()"
   ]
  },
  {
   "cell_type": "code",
   "execution_count": null,
   "metadata": {},
   "outputs": [],
   "source": [
    "# Verificar geometria\n",
    "shape_bacias.geometry[0] # Bacia de Irecê"
   ]
  },
  {
   "cell_type": "code",
   "execution_count": null,
   "metadata": {},
   "outputs": [],
   "source": [
    "# Verificar sistema de coordenadas\n",
    "shape_bacias.crs"
   ]
  },
  {
   "cell_type": "markdown",
   "metadata": {},
   "source": [
    "__Importação de dados de repositórios__"
   ]
  },
  {
   "cell_type": "code",
   "execution_count": 4,
   "metadata": {},
   "outputs": [],
   "source": [
    "# Importar dados do repositório datasets do GeoPandas\n",
    "world = gpd.read_file(gpd.datasets.get_path('naturalearth_lowres'))"
   ]
  },
  {
   "cell_type": "code",
   "execution_count": null,
   "metadata": {},
   "outputs": [],
   "source": [
    "world.head()"
   ]
  },
  {
   "cell_type": "code",
   "execution_count": null,
   "metadata": {},
   "outputs": [],
   "source": [
    "world.plot();"
   ]
  },
  {
   "cell_type": "code",
   "execution_count": null,
   "metadata": {},
   "outputs": [],
   "source": [
    "world.crs"
   ]
  },
  {
   "cell_type": "code",
   "execution_count": null,
   "metadata": {},
   "outputs": [],
   "source": [
    "gpd.datasets.available"
   ]
  },
  {
   "cell_type": "markdown",
   "metadata": {
    "colab_type": "text",
    "id": "zrmAwts7LV-5"
   },
   "source": [
    "## Visualização de dados tabulares"
   ]
  },
  {
   "cell_type": "markdown",
   "metadata": {
    "colab_type": "text",
    "id": "Z702Lzhbr-NP"
   },
   "source": [
    "### Matplotlib API\n",
    "Construir figuras com dados científicos em padrão de publicação e torná-las reproduzíveis são os objetivos da biblioteca Matplotlib.\n",
    "Figuras matplotlib são compostas por objetos que representam elementos estéticos e que podem ser customizados utilizando sintaxe Python."
   ]
  },
  {
   "cell_type": "markdown",
   "metadata": {
    "colab_type": "text",
    "id": "LLe9w3TvsC-g"
   },
   "source": [
    "![Matplotlib aesthetics](https://dz13w8afd47il.cloudfront.net/graphics/9781788295260/graphics/751f256f-8d1f-4001-a0b7-a318659c07e4.png)\n",
    "\n",
    "Figura ilustrando os principais elementos estéticos de um gráfico no Matplotlib.\n"
   ]
  },
  {
   "cell_type": "markdown",
   "metadata": {
    "colab_type": "text",
    "id": "raR9e6i5hjUT"
   },
   "source": [
    "### Figuras, *plot* e *subplot*"
   ]
  },
  {
   "cell_type": "code",
   "execution_count": null,
   "metadata": {
    "colab": {},
    "colab_type": "code",
    "id": "gJS27s0_fZg3"
   },
   "outputs": [],
   "source": [
    "# Criar figura\n",
    "plt.figure()\n",
    "# Nomear os eixos\n",
    "plt.xlabel('x')\n",
    "plt.ylabel('y')\n",
    "# Tïtulo do gráfico\n",
    "plt.title('Título')\n",
    "# Exibir gráfico\n",
    "plt.show()"
   ]
  },
  {
   "cell_type": "code",
   "execution_count": null,
   "metadata": {
    "colab": {},
    "colab_type": "code",
    "id": "Ms-K6UicDxvr"
   },
   "outputs": [],
   "source": [
    "fig = plt.figure()\n",
    "\n",
    "ax1 = fig.add_subplot(2, 2, 1)\n",
    "ax2 = fig.add_subplot(2, 2, 2)\n",
    "ax3 = fig.add_subplot(2, 2, 3)\n",
    "ax4 = fig.add_subplot(2, 2, 4)\n",
    "\n",
    "plt.show()"
   ]
  },
  {
   "cell_type": "code",
   "execution_count": null,
   "metadata": {
    "colab": {},
    "colab_type": "code",
    "id": "RnlsvPARjQBm"
   },
   "outputs": [],
   "source": [
    "# fig, axes = plt.subplots(2, 2)\n",
    "fig, axes = plt.subplots(2, 2, sharex=True, sharey=True)\n",
    "# fig.subplots_adjust(wspace=0, hspace=0)\n",
    "axes"
   ]
  },
  {
   "cell_type": "code",
   "execution_count": null,
   "metadata": {
    "colab": {},
    "colab_type": "code",
    "id": "rzTVfMWljRwI"
   },
   "outputs": [],
   "source": [
    "plt.close('all')"
   ]
  },
  {
   "cell_type": "markdown",
   "metadata": {
    "colab_type": "text",
    "id": "v_rgPTKYolbE"
   },
   "source": [
    "### Gráficos"
   ]
  },
  {
   "cell_type": "markdown",
   "metadata": {
    "colab_type": "text",
    "id": "WGTgUPK_kPQZ"
   },
   "source": [
    "__Linhas e pontos__"
   ]
  },
  {
   "cell_type": "code",
   "execution_count": null,
   "metadata": {
    "colab": {},
    "colab_type": "code",
    "id": "xyYkGSu0pM-o"
   },
   "outputs": [],
   "source": [
    "data = np.arange(10)\n",
    "# data\n",
    "\n",
    "# Matplotlib API\n",
    "plt.plot(data)\n",
    "plt.show()"
   ]
  },
  {
   "cell_type": "code",
   "execution_count": null,
   "metadata": {
    "colab": {},
    "colab_type": "code",
    "id": "xg7lXFf-nW1L"
   },
   "outputs": [],
   "source": [
    "data = np.cumsum(np.random.randn(1000, 1))\n",
    "# data\n",
    "# Matplotlib API\n",
    "plt.plot(data)\n",
    "plt.show()"
   ]
  },
  {
   "cell_type": "code",
   "execution_count": null,
   "metadata": {
    "colab": {},
    "colab_type": "code",
    "id": "TI-nnVz2niSk"
   },
   "outputs": [],
   "source": [
    "valores = np.random.randn(30).cumsum()\n",
    "\n",
    "# Matplotlib API\n",
    "# plt.plot(valores)\n",
    "# plt.plot(valores, '+')\n",
    "# plt.plot(valores, 'go--')\n",
    "plt.plot(valores, linestyle='--', color='g', marker='o')\n",
    "\n",
    "plt.show()"
   ]
  },
  {
   "cell_type": "code",
   "execution_count": null,
   "metadata": {
    "colab": {},
    "colab_type": "code",
    "id": "moX0wNvxpWHH"
   },
   "outputs": [],
   "source": [
    "# Matplotlib API\n",
    "fig = plt.figure()\n",
    "\n",
    "plt.plot(np.random.randn(500).cumsum(), 'k', label='one')\n",
    "plt.plot(np.random.randn(500).cumsum(), 'k--', label='two')\n",
    "plt.plot(np.random.randn(500).cumsum(), 'k.', label='three')\n",
    "\n",
    "plt.legend(loc='best')\n",
    "\n",
    "plt.show()"
   ]
  },
  {
   "cell_type": "code",
   "execution_count": null,
   "metadata": {
    "colab": {},
    "colab_type": "code",
    "id": "gCSTWjjTr4hb"
   },
   "outputs": [],
   "source": [
    "# Plotar gráfico com 3 variáveis com matplotlib API\n",
    "x = np.linspace(0, 2, 100)\n",
    "\n",
    "plt.plot(x, x, label='linear')\n",
    "plt.plot(x, x**2, label='ao quadrado')\n",
    "plt.plot(x, x**3, label='ao cubo')\n",
    "\n",
    "plt.xlabel('x')\n",
    "plt.ylabel('y')\n",
    "\n",
    "plt.title(\"Gráfico Simples\")\n",
    "\n",
    "plt.legend()\n",
    "\n",
    "plt.show()"
   ]
  },
  {
   "cell_type": "code",
   "execution_count": null,
   "metadata": {
    "colab": {},
    "colab_type": "code",
    "id": "4uF0tmn1x2OF"
   },
   "outputs": [],
   "source": [
    "plt.close('all')"
   ]
  },
  {
   "cell_type": "code",
   "execution_count": null,
   "metadata": {
    "colab": {},
    "colab_type": "code",
    "id": "-WmRdqTizZMa"
   },
   "outputs": [],
   "source": [
    "# Gráficos com pandas API\n",
    "\n",
    "valores = np.random.randn(10).cumsum()\n",
    "\n",
    "s = pd.Series(valores, index=np.arange(0, 100, 10))\n",
    "\n",
    "# s.plot();"
   ]
  },
  {
   "cell_type": "code",
   "execution_count": null,
   "metadata": {
    "colab": {},
    "colab_type": "code",
    "id": "y0k40jhox9c6"
   },
   "outputs": [],
   "source": [
    "# Gráficos com pandas API\n",
    "\n",
    "df = pd.DataFrame(np.random.randn(10, 4).cumsum(0),\n",
    "                  columns=['A', 'B', 'C', 'D'],\n",
    "                  index=np.arange(0, 100, 10))\n",
    "df.plot();"
   ]
  },
  {
   "cell_type": "code",
   "execution_count": null,
   "metadata": {
    "colab": {},
    "colab_type": "code",
    "id": "Oh182k7kzZJx"
   },
   "outputs": [],
   "source": [
    "values = np.random.randn(10, 4).cumsum(0)\n",
    "\n",
    "df = pd.DataFrame(values,\n",
    "                  columns=['A', 'B', 'C', 'D'],\n",
    "                  index=np.arange(0, 100, 10))\n",
    "df.plot();"
   ]
  },
  {
   "cell_type": "code",
   "execution_count": null,
   "metadata": {
    "colab": {},
    "colab_type": "code",
    "id": "hxBDaskKjGAL"
   },
   "outputs": [],
   "source": [
    "plt.close('all')"
   ]
  },
  {
   "cell_type": "markdown",
   "metadata": {
    "colab_type": "text",
    "id": "4EMz8WakkXYF"
   },
   "source": [
    "__Gráficos de correlação__"
   ]
  },
  {
   "cell_type": "code",
   "execution_count": null,
   "metadata": {
    "colab": {},
    "colab_type": "code",
    "id": "EuK20TkQoYy3"
   },
   "outputs": [],
   "source": [
    "# Importar Iris dataset usando Seaborn API\n",
    "\n",
    "df = sns.load_dataset('iris')\n",
    "df.head()"
   ]
  },
  {
   "cell_type": "code",
   "execution_count": null,
   "metadata": {
    "colab": {},
    "colab_type": "code",
    "id": "PkqBtCUI-P43"
   },
   "outputs": [],
   "source": [
    "# Plot x-y com Matplotlib API\n",
    "\n",
    "plt.plot('sepal_width', 'sepal_length', data=df)\n",
    "# plt.scatter('sepal_width', 'sepal_length', data=df)\n",
    "\n",
    "plt.show()"
   ]
  },
  {
   "cell_type": "code",
   "execution_count": null,
   "metadata": {
    "colab": {},
    "colab_type": "code",
    "id": "cZXiXSAXaHAc"
   },
   "outputs": [],
   "source": [
    "# Plot x-y com regressão linear com Seaborn API\n",
    "\n",
    "sns.regplot(x='sepal_width', y='sepal_length', data=df);\n",
    "# sns.regplot(x='sepal_width', y='sepal_length', data=df[df.species == 'setosa']);"
   ]
  },
  {
   "cell_type": "code",
   "execution_count": null,
   "metadata": {
    "colab": {},
    "colab_type": "code",
    "id": "tx4TXGc36oRk"
   },
   "outputs": [],
   "source": [
    "g = sns.pairplot(df, kind=\"reg\")"
   ]
  },
  {
   "cell_type": "markdown",
   "metadata": {
    "colab_type": "text",
    "id": "o9VvoCFskl2b"
   },
   "source": [
    "__Gráficos de distribuição__"
   ]
  },
  {
   "cell_type": "code",
   "execution_count": null,
   "metadata": {
    "colab": {},
    "colab_type": "code",
    "id": "3vj6acpv1ndv"
   },
   "outputs": [],
   "source": [
    "# Histograma com Matplotlib API\n",
    "\n",
    "plt.figure()\n",
    "\n",
    "plt.hist(np.random.randn(500))\n",
    "# plt.hist(np.random.randn(500))\n",
    "# plt.hist(np.random.randn(500))\n",
    "\n",
    "plt.show()"
   ]
  },
  {
   "cell_type": "code",
   "execution_count": null,
   "metadata": {
    "colab": {},
    "colab_type": "code",
    "id": "XI_-f3yXkovV"
   },
   "outputs": [],
   "source": [
    "# Subplots de histogramas com Matplotlib API\n",
    "fig, axes = plt.subplots(2, 2)\n",
    "\n",
    "axes[0, 0].hist(np.random.randn(500), bins=50, color='k', alpha=0.5)\n",
    "axes[0, 1].hist(np.random.randn(500), bins=50, color='k', alpha=0.5)\n",
    "axes[1, 0].hist(np.random.randn(500), bins=50, color='k', alpha=0.5)\n",
    "axes[1, 1].hist(np.random.randn(500), bins=50, color='k', alpha=0.5)\n",
    "\n",
    "plt.show()\n",
    "\n",
    "# Subplots de forma programática\n",
    "# for i in range(2):\n",
    "#     for j in range(2):\n",
    "#         axes[i, j].hist(np.random.randn(500), bins=50, color='k', alpha=0.5)\n",
    "\n",
    "# plt.show()"
   ]
  },
  {
   "cell_type": "code",
   "execution_count": null,
   "metadata": {
    "colab": {},
    "colab_type": "code",
    "id": "Nkqci7SP1_bt"
   },
   "outputs": [],
   "source": [
    "# Importar Iris dataset\n",
    "df = sns.load_dataset('iris')\n",
    "df.head()"
   ]
  },
  {
   "cell_type": "code",
   "execution_count": null,
   "metadata": {
    "colab": {},
    "colab_type": "code",
    "id": "ExnNnDz64xZx"
   },
   "outputs": [],
   "source": [
    "# Histograma usando pandas API\n",
    "df['sepal_length'].plot.hist();"
   ]
  },
  {
   "cell_type": "code",
   "execution_count": null,
   "metadata": {
    "colab": {},
    "colab_type": "code",
    "id": "1NHxF4Y13q8z"
   },
   "outputs": [],
   "source": [
    "# Histograma Seaborn API\n",
    "sns.distplot(df['sepal_length']);"
   ]
  },
  {
   "cell_type": "code",
   "execution_count": null,
   "metadata": {
    "colab": {},
    "colab_type": "code",
    "id": "5rcckvH_jHIo"
   },
   "outputs": [],
   "source": [
    "plt.close('all')"
   ]
  },
  {
   "cell_type": "code",
   "execution_count": null,
   "metadata": {
    "colab": {},
    "colab_type": "code",
    "id": "bcojhzdG-TLF"
   },
   "outputs": [],
   "source": [
    "# Distribuição por variáveis categóricas com Seaborn API\n",
    "sns.boxplot(x='sepal_length', y='species', data=df);\n",
    "# sns.violinplot(x='species', y='sepal_length', data=df);"
   ]
  },
  {
   "cell_type": "markdown",
   "metadata": {
    "colab_type": "text",
    "id": "htBXFJqFkUSR"
   },
   "source": [
    "__Gráficos de barras__"
   ]
  },
  {
   "cell_type": "code",
   "execution_count": null,
   "metadata": {
    "colab": {},
    "colab_type": "code",
    "id": "B_ZAOfrwFyAe"
   },
   "outputs": [],
   "source": [
    "s = pd.Series(np.random.rand(7), index=list('abcdefg'))\n",
    "s"
   ]
  },
  {
   "cell_type": "code",
   "execution_count": null,
   "metadata": {
    "colab": {},
    "colab_type": "code",
    "id": "x5xo9i3WFxm4"
   },
   "outputs": [],
   "source": [
    "\n",
    "# Ugly\n",
    "# s.plot.bar();\n",
    "\n",
    "# Good!\n",
    "s.sort_values().plot.barh(color='k', alpha=0.7);\n",
    "\n",
    "# Bad\n",
    "# s.plot.bar(color='k', alpha=0.7);"
   ]
  },
  {
   "cell_type": "code",
   "execution_count": null,
   "metadata": {
    "colab": {},
    "colab_type": "code",
    "id": "brKZoutXJh39"
   },
   "outputs": [],
   "source": [
    "df = pd.DataFrame(np.random.rand(6, 4),\n",
    "                  index=['one', 'two', 'three', 'four', 'five', 'six'],\n",
    "                  columns=pd.Index(['A', 'B', 'C', 'D'], name='Genus'))\n",
    "df"
   ]
  },
  {
   "cell_type": "code",
   "execution_count": null,
   "metadata": {
    "colab": {},
    "colab_type": "code",
    "id": "7pXptNd2Kde8"
   },
   "outputs": [],
   "source": [
    "# Gráficos de barras com pandas API\n",
    "\n",
    "# df.plot.bar();\n",
    "df.plot.barh(stacked=True);"
   ]
  },
  {
   "cell_type": "code",
   "execution_count": null,
   "metadata": {
    "colab": {},
    "colab_type": "code",
    "id": "GzkyouktKdcY"
   },
   "outputs": [],
   "source": [
    "# Importar Iris dataset\n",
    "\n",
    "df = sns.load_dataset('iris')\n",
    "df.head()"
   ]
  },
  {
   "cell_type": "code",
   "execution_count": null,
   "metadata": {
    "colab": {},
    "colab_type": "code",
    "id": "69BmKIrxSdIz"
   },
   "outputs": [],
   "source": [
    "sns.barplot(x='petal_width', y='species', data=df.dropna());"
   ]
  },
  {
   "cell_type": "code",
   "execution_count": null,
   "metadata": {
    "colab": {},
    "colab_type": "code",
    "id": "mJHVVodljIZn"
   },
   "outputs": [],
   "source": [
    "plt.close('all')"
   ]
  },
  {
   "cell_type": "markdown",
   "metadata": {
    "colab_type": "text",
    "id": "mL7byb68aMiH"
   },
   "source": [
    "__Múltiplas variáveis__"
   ]
  },
  {
   "cell_type": "code",
   "execution_count": null,
   "metadata": {
    "colab": {},
    "colab_type": "code",
    "id": "1JqkDFkXCOvS"
   },
   "outputs": [],
   "source": [
    "# Dashboard de análise com Matplotlib API\n",
    "\n",
    "df = sns.load_dataset('iris')\n",
    "\n",
    "fig = plt.figure()\n",
    "\n",
    "ax1 = fig.add_subplot(2, 2, 1)\n",
    "ax1.scatter(x='sepal_width', y='sepal_length', data=df)\n",
    "\n",
    "ax2 = fig.add_subplot(2, 2, 2)\n",
    "ax2.hist([df['sepal_width']])\n",
    "\n",
    "ax3 = fig.add_subplot(2, 2, 3)\n",
    "ax3.plot(df['sepal_width'])\n",
    "ax3.plot(df['sepal_length'])\n",
    "\n",
    "ax4 = fig.add_subplot(2, 2, 4)\n",
    "ax4.hist(df['sepal_length'])\n",
    "\n",
    "plt.show()"
   ]
  },
  {
   "cell_type": "code",
   "execution_count": null,
   "metadata": {
    "colab": {},
    "colab_type": "code",
    "id": "Btl3IgvpZQqv"
   },
   "outputs": [],
   "source": [
    "# Analisar múltiplas variáveis com Seaborn API\n",
    "sns.pairplot(df);"
   ]
  },
  {
   "cell_type": "code",
   "execution_count": null,
   "metadata": {
    "colab": {},
    "colab_type": "code",
    "id": "UISkb7NljJD-"
   },
   "outputs": [],
   "source": [
    "plt.close('all')"
   ]
  },
  {
   "cell_type": "markdown",
   "metadata": {
    "colab_type": "text",
    "id": "aaJeYogW8_X8"
   },
   "source": [
    "__*Stereonet* e rosetas__"
   ]
  },
  {
   "cell_type": "code",
   "execution_count": null,
   "metadata": {
    "colab": {},
    "colab_type": "code",
    "id": "B79kOTYA-gGg"
   },
   "outputs": [],
   "source": [
    "%run stereonet_explanation.py"
   ]
  },
  {
   "cell_type": "code",
   "execution_count": null,
   "metadata": {
    "colab": {},
    "colab_type": "code",
    "id": "E7YQv9sIXENv"
   },
   "outputs": [],
   "source": [
    "%run stereonet_coordinate_systems.py"
   ]
  },
  {
   "cell_type": "code",
   "execution_count": null,
   "metadata": {
    "colab": {},
    "colab_type": "code",
    "id": "AMlPOlNSD8k0"
   },
   "outputs": [],
   "source": [
    "%run equal_area_equal_angle_comparison.py"
   ]
  },
  {
   "cell_type": "code",
   "execution_count": null,
   "metadata": {
    "colab": {},
    "colab_type": "code",
    "id": "sbzlhO3Nkl8s"
   },
   "outputs": [],
   "source": [
    "%run basic.py"
   ]
  },
  {
   "cell_type": "code",
   "execution_count": null,
   "metadata": {
    "colab": {},
    "colab_type": "code",
    "id": "fSGahQfDELp9"
   },
   "outputs": [],
   "source": [
    "%run contouring.py"
   ]
  },
  {
   "cell_type": "code",
   "execution_count": null,
   "metadata": {
    "colab": {},
    "colab_type": "code",
    "id": "QPunIEZIKVYN"
   },
   "outputs": [],
   "source": [
    "\"\"\"\n",
    "Plots rose diagram from Geology and Python web site\n",
    "http://geologyandpython.com/structural_geology.html\n",
    "\"\"\"\n",
    "\n",
    "strikes = np.random.randint(0, 360, 50)\n",
    "\n",
    "#Calculate the number of directions (strikes) every 10° using numpy.histogram.\n",
    "bin_edges = np.arange(-5, 366, 10)\n",
    "number_of_strikes, bin_edges = np.histogram(strikes, bin_edges)\n",
    "#Sum the last value with the first value.\n",
    "number_of_strikes[0] += number_of_strikes[-1]\n",
    "#Sum the first half 0-180° with the second half 180-360° to achieve the \"mirrored behavior\" of Rose Diagrams.\n",
    "half = np.sum(np.split(number_of_strikes[:-1], 2), 0)\n",
    "two_halves = np.concatenate([half, half])\n",
    "\n",
    "#Plot rose diagram\n",
    "fig = plt.figure(figsize=(6,6))\n",
    "\n",
    "ax = fig.add_subplot(111, projection='polar')\n",
    "\n",
    "ax.bar(np.deg2rad(np.arange(0, 360, 10)), two_halves, \n",
    "       width=np.deg2rad(10), bottom=0.0, color='.6')\n",
    "ax.set_theta_zero_location('N')\n",
    "ax.set_theta_direction(-1)\n",
    "ax.set_thetagrids(np.arange(0, 360, 20), labels=np.arange(0, 360, 20))\n",
    "\n",
    "plt.show()\n"
   ]
  },
  {
   "cell_type": "code",
   "execution_count": null,
   "metadata": {
    "colab": {},
    "colab_type": "code",
    "id": "NitfHn8wErHr"
   },
   "outputs": [],
   "source": [
    "plt.close('all')"
   ]
  },
  {
   "cell_type": "markdown",
   "metadata": {
    "colab_type": "text",
    "id": "Nbcm2cYt_QQG"
   },
   "source": [
    "## Visualização geoespacial\n"
   ]
  },
  {
   "cell_type": "markdown",
   "metadata": {},
   "source": [
    "### GeoPandas"
   ]
  },
  {
   "cell_type": "markdown",
   "metadata": {},
   "source": [
    "__Plotar dados com o método `GeoPandas.plot()`__"
   ]
  },
  {
   "cell_type": "code",
   "execution_count": null,
   "metadata": {},
   "outputs": [],
   "source": [
    "world.plot()\n",
    "plt.show()"
   ]
  },
  {
   "cell_type": "code",
   "execution_count": null,
   "metadata": {},
   "outputs": [],
   "source": [
    "shape_bacias.plot()\n",
    "plt.show()"
   ]
  },
  {
   "cell_type": "markdown",
   "metadata": {},
   "source": [
    "__FIltrar dados para visualização__"
   ]
  },
  {
   "cell_type": "code",
   "execution_count": null,
   "metadata": {},
   "outputs": [],
   "source": [
    "# Criar shape por situação de bacia\n",
    "terrestres = shape_bacias[shape_bacias['SITUAÇÃO'] == 'Terrestre']\n",
    "terrestres.plot();"
   ]
  },
  {
   "cell_type": "code",
   "execution_count": 5,
   "metadata": {},
   "outputs": [
    {
     "data": {
      "image/png": "[encoded data removed]",
      "text/plain": [
       "<Figure size 432x288 with 1 Axes>"
      ]
     },
     "metadata": {
      "needs_background": "light"
     },
     "output_type": "display_data"
    }
   ],
   "source": [
    "# Criar shape de uma bacia e plotar\n",
    "araripe = shape_bacias[shape_bacias.NOME_BACIA == 'Bacia do Araripe']\n",
    "araripe.plot();"
   ]
  },
  {
   "cell_type": "markdown",
   "metadata": {},
   "source": [
    "__Plotar camadas em mapa__"
   ]
  },
  {
   "cell_type": "code",
   "execution_count": 6,
   "metadata": {},
   "outputs": [],
   "source": [
    "# Criar shape do Brasil\n",
    "brazil = world[world.name == 'Brazil']"
   ]
  },
  {
   "cell_type": "code",
   "execution_count": 6,
   "metadata": {},
   "outputs": [
    {
     "data": {
      "image/png": "[encoded data removed]",
      "text/plain": [
       "<Figure size 432x288 with 1 Axes>"
      ]
     },
     "metadata": {
      "needs_background": "light"
     },
     "output_type": "display_data"
    }
   ],
   "source": [
    "# Criar primeira camada\n",
    "ax = brazil.plot(color='white', edgecolor='black')\n",
    "# Sobrepor a segunda camada utilizando o Axes criado\n",
    "araripe.plot(ax=ax, color='red')\n",
    "plt.show()"
   ]
  },
  {
   "cell_type": "markdown",
   "metadata": {},
   "source": [
    "__Utilizar Subplots para arranjos de mapas__"
   ]
  },
  {
   "cell_type": "code",
   "execution_count": null,
   "metadata": {},
   "outputs": [],
   "source": [
    "fig = plt.figure(figsize=(10, 10))\n",
    "ax1 = fig.add_subplot(1, 2, 1)\n",
    "ax2 = fig.add_subplot(1, 2, 2)\n",
    "\n",
    "brazil = world[world.name == 'Brazil']\n",
    "brazil.plot(ax=ax1, color='white', edgecolor='black')\n",
    "\n",
    "araripe = shape_bacias[shape_bacias.NOME_BACIA == 'Bacia do Araripe']\n",
    "araripe.plot(ax=ax1)\n",
    "ax1.axis('off')\n",
    "\n",
    "araripe.plot(ax=ax2)\n",
    "ax2.set_title('Bacia do Araripe')\n",
    "\n",
    "plt.show()"
   ]
  },
  {
   "cell_type": "markdown",
   "metadata": {},
   "source": [
    "__Plotar atributos de shapes__"
   ]
  },
  {
   "cell_type": "code",
   "execution_count": null,
   "metadata": {},
   "outputs": [],
   "source": [
    "# Plotar pontos centróides das bacias\n",
    "ax = shape_bacias.centroid.plot(markersize=10, color='black', alpha=0.5)\n",
    "ax.axis('off')\n",
    "plt.show()"
   ]
  },
  {
   "cell_type": "code",
   "execution_count": null,
   "metadata": {},
   "outputs": [],
   "source": [
    "# Plotar atributos não espaciais\n",
    "shape_bacias.area.plot();"
   ]
  },
  {
   "cell_type": "markdown",
   "metadata": {},
   "source": [
    "__Conversão de atributos em variáveis__"
   ]
  },
  {
   "cell_type": "code",
   "execution_count": null,
   "metadata": {},
   "outputs": [],
   "source": [
    "shape_bacias['AREA'] = shape_bacias.area\n",
    "shape_bacias['centroid'] = shape_bacias.centroid"
   ]
  },
  {
   "cell_type": "code",
   "execution_count": null,
   "metadata": {},
   "outputs": [],
   "source": [
    "ax = world[world.name == 'Brazil'].plot(\n",
    "    color='lightgrey', linewidth=0.5, edgecolor='white')\n",
    "shape_bacias.plot(\n",
    "    ax=ax, column='AREA', markersize=15, alpha=0.5, cmap='hot', legend=True)\n",
    "ax.axis('off')\n",
    "ax.set_title('Áreas das bacias sedimentares do Brasil')\n",
    "plt.show()"
   ]
  },
  {
   "cell_type": "code",
   "execution_count": null,
   "metadata": {},
   "outputs": [],
   "source": [
    "ax = brazil.plot(color='lightgrey', linewidth=0.5, edgecolor='white')\n",
    "shape_bacias.centroid.plot(ax=ax, markersize=15, alpha=0.5, cmap='inferno')\n",
    "ax.axis('off')\n",
    "plt.show()"
   ]
  },
  {
   "cell_type": "markdown",
   "metadata": {},
   "source": [
    "__Projeções geoespaciais com GeoPandas__"
   ]
  },
  {
   "cell_type": "code",
   "execution_count": null,
   "metadata": {},
   "outputs": [],
   "source": [
    "# world.crs\n",
    "world = world.to_crs(epsg=4326)"
   ]
  },
  {
   "cell_type": "code",
   "execution_count": null,
   "metadata": {},
   "outputs": [],
   "source": [
    "ax = world.plot()\n",
    "ax.set_title(\"WGS84 (Lat/Lon)\");"
   ]
  },
  {
   "cell_type": "code",
   "execution_count": null,
   "metadata": {},
   "outputs": [],
   "source": [
    "world = world.to_crs(epsg=3395) # {'init': 'epsg:3395'}\n",
    "ax = world.plot()\n",
    "ax.set_title(\"Mercator\");"
   ]
  },
  {
   "cell_type": "code",
   "execution_count": null,
   "metadata": {},
   "outputs": [],
   "source": [
    "world = world[(world.name != \"Antarctica\")\n",
    "              & (world.name != \"Fr. S. Antarctic Lands\")]\n",
    "ax = world.plot()\n",
    "ax.set_title(\"Mercator\");"
   ]
  },
  {
   "cell_type": "markdown",
   "metadata": {
    "colab_type": "text",
    "id": "aWDU7GIoNb4d"
   },
   "source": [
    "### Cartopy"
   ]
  },
  {
   "cell_type": "markdown",
   "metadata": {},
   "source": [
    "__Projeções__"
   ]
  },
  {
   "cell_type": "code",
   "execution_count": null,
   "metadata": {},
   "outputs": [],
   "source": [
    "fig = plt.figure(figsize=(10, 20))\n",
    "\n",
    "ax1 = fig.add_subplot(1, 2, 1, projection=ccrs.PlateCarree())\n",
    "ax1.stock_img()\n",
    "\n",
    "ax2 = fig.add_subplot(1, 2, 2, projection=ccrs.Mollweide())\n",
    "ax2.stock_img()\n",
    "\n",
    "plt.show()"
   ]
  },
  {
   "cell_type": "markdown",
   "metadata": {},
   "source": [
    "__Editar aparência de um mapa__"
   ]
  },
  {
   "cell_type": "code",
   "execution_count": null,
   "metadata": {},
   "outputs": [],
   "source": [
    "from matplotlib.offsetbox import AnchoredText\n",
    "\n",
    "SOURCE = 'Natural Earth'\n",
    "LICENSE = 'public domain'\n",
    "\n",
    "text = AnchoredText(\n",
    "    r'$\\mathcircled{{c}}$ {}; license: {}'\n",
    "    ''.format(SOURCE, LICENSE),\n",
    "    loc=4,\n",
    "    prop={'size': 10},\n",
    "    frameon=True)\n",
    "\n",
    "fig = plt.figure(figsize=(10, 20))\n",
    "# Criar instancia Cartopy\n",
    "ax = fig.add_subplot(1, 1, 1, projection=ccrs.PlateCarree())\n",
    "# Adicionar raster de terreno\n",
    "ax.stock_img()\n",
    "# Plotar os contornos dos países com GeoPandas\n",
    "world.plot(ax=ax, facecolor='none', linewidth=0.5, edgecolor='black')\n",
    "ax.add_artist(text)\n",
    "plt.show()"
   ]
  },
  {
   "cell_type": "markdown",
   "metadata": {
    "colab_type": "text",
    "id": "bQ8LGqP9NhkH"
   },
   "source": [
    "### Basemap"
   ]
  },
  {
   "cell_type": "code",
   "execution_count": null,
   "metadata": {
    "colab": {},
    "colab_type": "code",
    "id": "lpfmC6Av_tYl"
   },
   "outputs": [],
   "source": [
    "\"\"\"\n",
    "Matplotlib Basemap Toolkit API\n",
    "\n",
    "Projeção: Mercator\n",
    "\n",
    "input: \n",
    "    projection = mnemonico da projeção, default='cyl' Cylindrical Equidistance\n",
    "    llcrnrlat, llcrnrlon = latitude of lower left, longitude of lower left\n",
    "    urcrnrlat, urcrnrlon = latitude of upper right, longitude of upper right\n",
    "    resolution='c' significa 'crude resolution' para contornos\n",
    "\n",
    "output: map\n",
    "\"\"\"\n",
    "\n",
    "# Criar instância (m) Basemap\n",
    "m = Basemap(projection='merc',llcrnrlat=-80, urcrnrlat=80, llcrnrlon=-180, \n",
    "            urcrnrlon=180, resolution='c')\n",
    "\n",
    "m.etopo()\n",
    "\n",
    "# Desenhar features\n",
    "m.drawcoastlines()\n",
    "\n",
    "# Desenhar paralelos e meridianos\n",
    "m.drawparallels(np.arange(-90., 91., 30.))\n",
    "m.drawmeridians(np.arange(-180., 181., 60.))\n",
    "m.drawmapboundary(fill_color='aqua')\n",
    "\n",
    "plt.title(\"Mercator Projection\")\n",
    "\n",
    "plt.show()"
   ]
  },
  {
   "cell_type": "code",
   "execution_count": null,
   "metadata": {
    "colab": {},
    "colab_type": "code",
    "id": "_QpmQ4kL_tSr"
   },
   "outputs": [],
   "source": [
    "# lon_0, lat_0 are the center point of the projection.\n",
    "# resolution = 'l' means use low resolution coastlines.\n",
    "m = Basemap(projection='ortho', lon_0=-51, lat_0=14, resolution='l')\n",
    "m.drawcoastlines()\n",
    "m.bluemarble()\n",
    "\n",
    "# draw parallels and meridians.\n",
    "m.drawparallels(np.arange(-90.,120.,30.), color='white')\n",
    "m.drawmeridians(np.arange(0.,420.,60.), color='white')\n",
    "m.drawmapboundary(fill_color='aqua')\n",
    "plt.title(\"Full Disk Orthographic Projection\")\n",
    "plt.show()"
   ]
  },
  {
   "cell_type": "markdown",
   "metadata": {
    "colab_type": "text",
    "id": "4ZfSJhDHRBb4"
   },
   "source": [
    "Para plotar gráficos com Basemap é necessário\n",
    "converter unidades (Long, Lat) em coordenadas UTM (x, y)\n",
    "\n",
    "sintaxe:\n",
    "```\n",
    "m(long, lat) = (x, y)\n",
    "```\n",
    "```\n",
    "m(x, y) = (long, lat)\n",
    "```\n",
    "\n",
    "input/output: Tuple"
   ]
  },
  {
   "cell_type": "code",
   "execution_count": null,
   "metadata": {
    "colab": {},
    "colab_type": "code",
    "id": "QlD32v_IMqt-"
   },
   "outputs": [],
   "source": [
    "m = Basemap(projection='aeqd', lon_0 = 10, lat_0 = 50)\n",
    "\n",
    "print(m(10, 50))\n",
    "# print(m(20015077.3712, 20015077.3712, inverse=True))"
   ]
  },
  {
   "cell_type": "code",
   "execution_count": null,
   "metadata": {
    "colab": {},
    "colab_type": "code",
    "id": "SNyFWnLQJC0N"
   },
   "outputs": [],
   "source": [
    "m = Basemap(projection='ortho', \n",
    "              lat_0=0, lon_0=0)\n",
    "\n",
    "m.drawmapboundary(fill_color='aqua')\n",
    "m.fillcontinents(color='coral', lake_color='aqua')\n",
    "m.drawcoastlines()\n",
    "\n",
    "lons = [0, 10, -20, -20]\n",
    "lats = [0, -10, 40, -20]\n",
    "\n",
    "x, y = m(lons, lats)\n",
    "\n",
    "m.scatter(x, y, marker='D', color='m')\n",
    "\n",
    "plt.show()"
   ]
  },
  {
   "cell_type": "code",
   "execution_count": null,
   "metadata": {
    "colab": {},
    "colab_type": "code",
    "id": "8i9Dj9Yvz1zf"
   },
   "outputs": [],
   "source": [
    "# Criar dados hipotéticos\n",
    "nlats = 73\n",
    "nlons = 145\n",
    "delta = 2. * np.pi / (nlons - 1)\n",
    "lats = (0.5 * np.pi - delta * np.indices((nlats, nlons))[0, :, :])\n",
    "lons = (delta * np.indices((nlats, nlons))[1, :, :])\n",
    "wave = 0.75 * (np.sin(2. * lats)**8 * np.cos(4. * lons))\n",
    "mean = 0.5 * np.cos(2. * lats) * ((np.sin(2. * lats))**2 + 2.)"
   ]
  },
  {
   "cell_type": "code",
   "execution_count": null,
   "metadata": {
    "colab": {},
    "colab_type": "code",
    "id": "znISjH4r_tQI"
   },
   "outputs": [],
   "source": [
    "fig = plt.figure(figsize=(10, 10))\n",
    "\n",
    "m = Basemap(width=7000000, height=10000000, \n",
    "            resolution='i', \n",
    "            projection='tmerc', \n",
    "            lat_0=-18., lon_0=-60.)\n",
    "\n",
    "m.shadedrelief()\n",
    "# m.bluemarble()\n",
    "# m.etopo()\n",
    "\n",
    "# compute native map projection coordinates of lat/lon grid.\n",
    "x, y = m(lons*180./np.pi, lats*180./np.pi)\n",
    "\n",
    "# Criar mapa de contorno\n",
    "cs = m.contour(x, y, wave + mean, 15, linewidths=1.5)\n",
    "cs = m.contourf(x, y, wave + mean, 15, linewidths=1.5, alpha=0.3)\n",
    "\n",
    "plt.show()"
   ]
  },
  {
   "cell_type": "code",
   "execution_count": null,
   "metadata": {
    "colab": {},
    "colab_type": "code",
    "id": "53drusrEDcvb"
   },
   "outputs": [],
   "source": [
    "# Importar DEM\n",
    "ds = gdal.Open(\"dem.tiff\")\n",
    "data = ds.ReadAsArray()\n",
    "\n",
    "# Plot\n",
    "fig = plt.figure(figsize=(10, 10))\n",
    "\n",
    "m = Basemap(projection='tmerc',\n",
    "            lat_0=0, lon_0=3,\n",
    "            llcrnrlon=1.819757266426611, \n",
    "            llcrnrlat=41.583851612359275, \n",
    "            urcrnrlon=1.841589961763497, \n",
    "            urcrnrlat=41.598674173123)\n",
    "\n",
    "x = np.linspace(0, m.urcrnrx, data.shape[1])\n",
    "y = np.linspace(0, m.urcrnry, data.shape[0])\n",
    "\n",
    "xx, yy = np.meshgrid(x, y)\n",
    "\n",
    "m.contour(xx, yy, data)\n",
    "\n",
    "# m.contourf(xx, yy, data)\n",
    "\n",
    "# m.pcolormesh(xx, yy, data)\n",
    "\n",
    "# cs = m.contour(xx, yy, data, range(400, 1500, 100), cmap = plt.cm.cubehelix)\n",
    "\n",
    "# plt.clabel(cs, inline=True, fmt='%1.0f', fontsize=12, colors='k')\n",
    "\n",
    "plt.show()\n"
   ]
  },
  {
   "cell_type": "code",
   "execution_count": null,
   "metadata": {
    "colab": {},
    "colab_type": "code",
    "id": "4Q1XDB_ymjBu"
   },
   "outputs": [],
   "source": [
    "data.ndim"
   ]
  },
  {
   "cell_type": "markdown",
   "metadata": {
    "colab_type": "text",
    "id": "g1QKiGazzFG8"
   },
   "source": [
    "## Visualização de imagens"
   ]
  },
  {
   "cell_type": "code",
   "execution_count": null,
   "metadata": {
    "colab": {},
    "colab_type": "code",
    "id": "zqL1f1YDwK84"
   },
   "outputs": [],
   "source": [
    "# Plotar imagem com matplotlib\n",
    "plt.figure()\n",
    "plt.imshow(img)\n",
    "plt.grid('off')"
   ]
  },
  {
   "cell_type": "code",
   "execution_count": null,
   "metadata": {
    "colab": {},
    "colab_type": "code",
    "id": "SjgSWTlsSr4Y"
   },
   "outputs": [],
   "source": [
    "# Plotar o histograma de intensidade de pixels\n",
    "plt.figure()\n",
    "plt.hist(img[:, :, 0].ravel(), bins=256, fc='r', alpha=0.6, label='RED')\n",
    "plt.hist(img[:, :, 1].ravel(), bins=256, fc='g', alpha=0.6, label='GREEN')\n",
    "plt.hist(img[:, :, 2].ravel(), bins=256, fc='b', alpha=0.6, label='BLUE')\n",
    "plt.title(\"Histograma de bandas R, G, B\")\n",
    "plt.legend();"
   ]
  },
  {
   "cell_type": "code",
   "execution_count": null,
   "metadata": {
    "colab": {},
    "colab_type": "code",
    "id": "hLOquU2sEdib"
   },
   "outputs": [],
   "source": [
    "# Plotar os mapas de pixels de cada banda RGB\n",
    "fig = plt.figure(figsize=(20, 20))\n",
    "\n",
    "ax1 = fig.add_subplot(3, 1, 1)\n",
    "ax1.imshow(img[:, :, 0], cmap='Reds')\n",
    "ax1.set_title('Banda RED')\n",
    "ax1.grid(False)\n",
    "\n",
    "ax2 = fig.add_subplot(3, 1, 2)\n",
    "ax2.imshow(img[:, : , 1], cmap='Greens')\n",
    "ax2.set_title('Banda GREEN')\n",
    "ax2.grid(False);\n",
    "\n",
    "ax3 = fig.add_subplot(3, 1, 3)\n",
    "ax3.imshow(img[:, : , 2], cmap='Blues')\n",
    "ax2.set_title('Banda BLUE')\n",
    "ax3.grid(False);"
   ]
  },
  {
   "cell_type": "code",
   "execution_count": null,
   "metadata": {
    "colab": {},
    "colab_type": "code",
    "id": "rGoGILTqwLCa"
   },
   "outputs": [],
   "source": [
    "# Plotar com diferentes colormaps\n",
    "fig = plt.figure()\n",
    "\n",
    "ax1 = fig.add_subplot(2, 1, 1)\n",
    "ax1.imshow(img[:, :, 0], cmap='hot')\n",
    "ax1.grid(False)\n",
    "\n",
    "ax2 = fig.add_subplot(2, 1, 2)\n",
    "ax2.imshow(img[:, : , 0], cmap='nipy_spectral')\n",
    "ax2.grid(False)\n",
    "plt.show()"
   ]
  },
  {
   "cell_type": "code",
   "execution_count": null,
   "metadata": {
    "colab": {},
    "colab_type": "code",
    "id": "6qjsVuvajLou"
   },
   "outputs": [],
   "source": [
    "plt.close('all')"
   ]
  },
  {
   "cell_type": "code",
   "execution_count": null,
   "metadata": {},
   "outputs": [],
   "source": []
  },
  {
   "cell_type": "code",
   "execution_count": null,
   "metadata": {},
   "outputs": [],
   "source": [
    "import contextily as ctx\n",
    "\n",
    "\n",
    "def add_basemap(ax, zoom, url=''):\n",
    "    xmin, xmax, ymin, ymax = ax.axis()\n",
    "    basemap, extent = ctx.bounds2img(\n",
    "        xmin, ymin, xmax, ymax, zoom=zoom, url=url)\n",
    "    ax.imshow(basemap, extent=extent, interpolation='bilinear')\n",
    "    # restore original x/y limits\n",
    "    ax.axis((xmin, xmax, ymin, ymax))"
   ]
  },
  {
   "cell_type": "code",
   "execution_count": null,
   "metadata": {},
   "outputs": [],
   "source": [
    "ax = araripe.plot(figsize=(10, 10), alpha=0.5, edgecolor='k')\n",
    "add_basemap(ax, zoom=10)"
   ]
  },
  {
   "cell_type": "code",
   "execution_count": null,
   "metadata": {},
   "outputs": [],
   "source": [
    "ax = araripe.plot(figsize=(10, 10), alpha=0.5, edgecolor='k')\n",
    "add_basemap(ax, zoom=11, url=ctx.sources.ST_TONER_LITE)\n",
    "ax.set_axis_off()"
   ]
  },
  {
   "cell_type": "code",
   "execution_count": null,
   "metadata": {},
   "outputs": [],
   "source": []
  },
  {
   "cell_type": "markdown",
   "metadata": {
    "colab_type": "text",
    "id": "T0Cq3-dqfA6_"
   },
   "source": [
    "__Referências__\n",
    "\n",
    "- [The Python Graph Gallery](https://python-graph-gallery.com/)\n",
    "- [Kaggle's Data Visualization Tutorial](https://www.kaggle.com/learn/data-visualisation)\n",
    "- [Fundamentals of Data Visualization eBook](https://serialmentor.com/dataviz/index.html)\n",
    "- [Matplotlib Tutorial](https://matplotlib.org/tutorials/index.html)\n",
    "- [Basemap Web page](https://matplotlib.org/basemap/)\n",
    "- [Basemap Tutorial](https://basemaptutorial.readthedocs.io/en/latest/index.html)\n",
    "- [Basemap Tutorial - GitHub](https://github.com/rveciana/BasemapTutorial)\n",
    "- [Cartopy Tutorial](https://github.com/SciTools/cartopy-tutorial)\n",
    "- [Geology and Python](http://geologyandpython.com/)\n",
    "\n"
   ]
  }
 ],
 "metadata": {
  "colab": {
   "name": "2.1 Importação e visualização de dados.ipynb",
   "provenance": [],
   "toc_visible": true,
   "version": "0.3.2"
  },
  "kernelspec": {
   "display_name": "py36",
   "language": "python",
   "name": "python36"
  },
  "language_info": {
   "codemirror_mode": {
    "name": "ipython",
    "version": 3
   },
   "file_extension": ".py",
   "mimetype": "text/x-python",
   "name": "python",
   "nbconvert_exporter": "python",
   "pygments_lexer": "ipython3",
   "version": "3.6.7"
  },
  "toc": {
   "base_numbering": "2.1",
   "nav_menu": {},
   "number_sections": true,
   "sideBar": true,
   "skip_h1_title": false,
   "title_cell": "Table of Contents",
   "title_sidebar": "Contents",
   "toc_cell": false,
   "toc_position": {
    "height": "calc(100% - 180px)",
    "left": "10px",
    "top": "150px",
    "width": "264.986px"
   },
   "toc_section_display": true,
   "toc_window_display": true
  },
  "varInspector": {
   "cols": {
    "lenName": 16,
    "lenType": 16,
    "lenVar": 40
   },
   "kernels_config": {
    "python": {
     "delete_cmd_postfix": "",
     "delete_cmd_prefix": "del ",
     "library": "var_list.py",
     "varRefreshCmd": "print(var_dic_list())"
    },
    "r": {
     "delete_cmd_postfix": ") ",
     "delete_cmd_prefix": "rm(",
     "library": "var_list.r",
     "varRefreshCmd": "cat(var_dic_list()) "
    }
   },
   "position": {
    "height": "180px",
    "left": "606px",
    "right": "20px",
    "top": "120px",
    "width": "375px"
   },
   "types_to_exclude": [
    "module",
    "function",
    "builtin_function_or_method",
    "instance",
    "_Feature"
   ],
   "window_display": false
  }
 },
 "nbformat": 4,
 "nbformat_minor": 1
}
